{
  "nbformat": 4,
  "nbformat_minor": 0,
  "metadata": {
    "colab": {
      "name": "타이타닉 모듈 및 데이터 가져오기",
      "provenance": [],
      "authorship_tag": "ABX9TyMyDU4sdUt6ysPaZqJWh0Rc"
    },
    "kernelspec": {
      "name": "python3",
      "display_name": "Python 3"
    },
    "language_info": {
      "name": "python"
    }
  },
  "cells": [
    {
      "cell_type": "markdown",
      "source": [
        "#### 주요 내용\n",
        "\n",
        "1. 데이터 가져오기\n",
        "\n",
        "- 복사 시 누락될 경우 Add Data를 통해 챌린지 데이터 가져오기\n",
        "\n",
        "2. 주요 모듈 import\n",
        "\n",
        "- 기본 모듈\n",
        "\n",
        "- 시각화 모듈\n",
        "\n",
        "- 알고리즘 모듈\n",
        "\n",
        "3. 보조 링크 파악\n",
        "\n",
        "- 각 종 외부 링크를 통해 추가 학습 가능\n",
        "\n",
        "4. cv를 데이터 프레임으로 전환\n",
        "\n",
        "- Csv파일을 판다스 데이터 프레임으로 전환"
      ],
      "metadata": {
        "id": "HikxDsWrkCHi"
      }
    },
    {
      "cell_type": "code",
      "source": [
        ""
      ],
      "metadata": {
        "id": "XiXK3iyxkE8z"
      },
      "execution_count": null,
      "outputs": []
    }
  ]
}