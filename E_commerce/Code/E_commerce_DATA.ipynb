{
  "cells": [
    {
      "cell_type": "markdown",
      "id": "d72683a5",
      "metadata": {
        "id": "d72683a5"
      },
      "source": [
        "About Dataset\n",
        "\n",
        "Context\n",
        "\n",
        "Typically e-commerce datasets are proprietary and consequently hard to find among publicly available data. However, The UCI Machine Learning Repository has made this dataset containing actual transactions from 2010 and 2011. The dataset is maintained on their site, where it can be found by the title \"Online Retail\".\n",
        "\n",
        "Content\n",
        "\n",
        "\"This is a transnational data set which contains all the transactions occurring between 01/12/2010 and 09/12/2011 for a UK-based and registered non-store online retail.The company mainly sells unique all-occasion gifts. Many customers of the company are wholesalers.\"\n",
        "\n",
        "\n",
        "Acknowledgements\n",
        "\n",
        "Per the UCI Machine Learning Repository, this data was made available by Dr Daqing Chen, Director: Public Analytics group. chend '@' lsbu.ac.uk, School of Engineering, London South Bank University, London SE1 0AA, UK.\n",
        "\n",
        "Image from stocksnap.io.\n",
        "\n",
        "Inspiration\n",
        "\n",
        "Analyses for this dataset could include time series, clustering, classification and more.\n",
        "\n",
        "https://www.kaggle.com/datasets/carrie1/ecommerce-data"
      ]
    },
    {
      "cell_type": "markdown",
      "id": "bf42259b",
      "metadata": {
        "id": "bf42259b"
      },
      "source": [
        "### 데이터\n",
        "\n",
        "제가 다뤄볼 이번 데이터는 1년 동안(2010.12.01~2011.12.09) 4천명 정도의 고객이 구매했던 데이터를 모아둔 E-commerce dataset입니다.\n",
        "\n",
        "새로운 고객과 기존 고객을 나누는 시도를 하려고 합니다."
      ]
    },
    {
      "cell_type": "markdown",
      "id": "c6263c5b",
      "metadata": {
        "id": "c6263c5b"
      },
      "source": [
        "### 목차\n",
        "\n",
        "#### 데이터 준비\n",
        "\n",
        "#### 데이터 속 변수들 탐색\n",
        "\n",
        "#### 상품 품목 관찰\n",
        "\n",
        "#### 고객 분류\n",
        "\n",
        "#### 고객 명시화\n",
        "\n",
        "#### 예측\n",
        "\n",
        "#### 결론 및 회고"
      ]
    },
    {
      "cell_type": "markdown",
      "id": "22aae9d1",
      "metadata": {
        "id": "22aae9d1"
      },
      "source": [
        "#### 필요한 라이브러리 설치"
      ]
    },
    {
      "cell_type": "code",
      "execution_count": null,
      "id": "7c2099c5",
      "metadata": {
        "collapsed": true,
        "id": "7c2099c5",
        "outputId": "5c7a7a9e-5d33-45b9-e381-4471d86e1569"
      },
      "outputs": [
        {
          "name": "stdout",
          "output_type": "stream",
          "text": [
            "Requirement already satisfied: pandas-profiling in /Users/krc/miniforge3/envs/krc/lib/python3.8/site-packages (3.1.0)\n",
            "Requirement already satisfied: pandas!=1.0.0,!=1.0.1,!=1.0.2,!=1.1.0,>=0.25.3 in /Users/krc/miniforge3/envs/krc/lib/python3.8/site-packages (from pandas-profiling) (1.4.1)\n",
            "Requirement already satisfied: joblib~=1.0.1 in /Users/krc/miniforge3/envs/krc/lib/python3.8/site-packages (from pandas-profiling) (1.0.1)\n",
            "Requirement already satisfied: missingno>=0.4.2 in /Users/krc/miniforge3/envs/krc/lib/python3.8/site-packages (from pandas-profiling) (0.5.1)\n",
            "Requirement already satisfied: matplotlib>=3.2.0 in /Users/krc/miniforge3/envs/krc/lib/python3.8/site-packages (from pandas-profiling) (3.5.1)\n",
            "Requirement already satisfied: tqdm>=4.48.2 in /Users/krc/.local/lib/python3.8/site-packages (from pandas-profiling) (4.64.0)\n",
            "Requirement already satisfied: phik>=0.11.1 in /Users/krc/miniforge3/envs/krc/lib/python3.8/site-packages (from pandas-profiling) (0.12.2)\n",
            "Requirement already satisfied: visions[type_image_path]==0.7.4 in /Users/krc/miniforge3/envs/krc/lib/python3.8/site-packages (from pandas-profiling) (0.7.4)\n",
            "Requirement already satisfied: pydantic>=1.8.1 in /Users/krc/miniforge3/envs/krc/lib/python3.8/site-packages (from pandas-profiling) (1.9.0)\n",
            "Requirement already satisfied: seaborn>=0.10.1 in /Users/krc/miniforge3/envs/krc/lib/python3.8/site-packages (from pandas-profiling) (0.11.2)\n",
            "Requirement already satisfied: multimethod>=1.4 in /Users/krc/miniforge3/envs/krc/lib/python3.8/site-packages (from pandas-profiling) (1.8)\n",
            "Requirement already satisfied: numpy>=1.16.0 in /Users/krc/miniforge3/envs/krc/lib/python3.8/site-packages (from pandas-profiling) (1.21.2)\n",
            "Requirement already satisfied: tangled-up-in-unicode==0.1.0 in /Users/krc/miniforge3/envs/krc/lib/python3.8/site-packages (from pandas-profiling) (0.1.0)\n",
            "Requirement already satisfied: PyYAML>=5.0.0 in /Users/krc/miniforge3/envs/krc/lib/python3.8/site-packages (from pandas-profiling) (6.0)\n",
            "Requirement already satisfied: htmlmin>=0.1.12 in /Users/krc/miniforge3/envs/krc/lib/python3.8/site-packages (from pandas-profiling) (0.1.12)\n",
            "Requirement already satisfied: scipy>=1.4.1 in /Users/krc/miniforge3/envs/krc/lib/python3.8/site-packages (from pandas-profiling) (1.7.3)\n",
            "Requirement already satisfied: jinja2>=2.11.1 in /Users/krc/miniforge3/envs/krc/lib/python3.8/site-packages (from pandas-profiling) (3.0.3)\n",
            "Requirement already satisfied: requests>=2.24.0 in /Users/krc/miniforge3/envs/krc/lib/python3.8/site-packages (from pandas-profiling) (2.27.1)\n",
            "Requirement already satisfied: markupsafe~=2.0.1 in /Users/krc/miniforge3/envs/krc/lib/python3.8/site-packages (from pandas-profiling) (2.0.1)\n",
            "Requirement already satisfied: networkx>=2.4 in /Users/krc/miniforge3/envs/krc/lib/python3.8/site-packages (from visions[type_image_path]==0.7.4->pandas-profiling) (2.8)\n",
            "Requirement already satisfied: attrs>=19.3.0 in /Users/krc/miniforge3/envs/krc/lib/python3.8/site-packages (from visions[type_image_path]==0.7.4->pandas-profiling) (21.4.0)\n",
            "Requirement already satisfied: Pillow in /Users/krc/miniforge3/envs/krc/lib/python3.8/site-packages (from visions[type_image_path]==0.7.4->pandas-profiling) (9.0.1)\n",
            "Requirement already satisfied: imagehash in /Users/krc/miniforge3/envs/krc/lib/python3.8/site-packages (from visions[type_image_path]==0.7.4->pandas-profiling) (4.2.1)\n",
            "Requirement already satisfied: cycler>=0.10 in /Users/krc/miniforge3/envs/krc/lib/python3.8/site-packages (from matplotlib>=3.2.0->pandas-profiling) (0.11.0)\n",
            "Requirement already satisfied: kiwisolver>=1.0.1 in /Users/krc/miniforge3/envs/krc/lib/python3.8/site-packages (from matplotlib>=3.2.0->pandas-profiling) (1.3.2)\n",
            "Requirement already satisfied: packaging>=20.0 in /Users/krc/miniforge3/envs/krc/lib/python3.8/site-packages (from matplotlib>=3.2.0->pandas-profiling) (21.3)\n",
            "Requirement already satisfied: pyparsing>=2.2.1 in /Users/krc/miniforge3/envs/krc/lib/python3.8/site-packages (from matplotlib>=3.2.0->pandas-profiling) (3.0.4)\n",
            "Requirement already satisfied: fonttools>=4.22.0 in /Users/krc/miniforge3/envs/krc/lib/python3.8/site-packages (from matplotlib>=3.2.0->pandas-profiling) (4.25.0)\n",
            "Requirement already satisfied: python-dateutil>=2.7 in /Users/krc/miniforge3/envs/krc/lib/python3.8/site-packages (from matplotlib>=3.2.0->pandas-profiling) (2.8.2)\n",
            "Requirement already satisfied: pytz>=2020.1 in /Users/krc/miniforge3/envs/krc/lib/python3.8/site-packages (from pandas!=1.0.0,!=1.0.1,!=1.0.2,!=1.1.0,>=0.25.3->pandas-profiling) (2021.3)\n",
            "Requirement already satisfied: typing-extensions>=3.7.4.3 in /Users/krc/miniforge3/envs/krc/lib/python3.8/site-packages (from pydantic>=1.8.1->pandas-profiling) (4.1.1)\n",
            "Requirement already satisfied: six>=1.5 in /Users/krc/miniforge3/envs/krc/lib/python3.8/site-packages (from python-dateutil>=2.7->matplotlib>=3.2.0->pandas-profiling) (1.16.0)\n",
            "Requirement already satisfied: certifi>=2017.4.17 in /Users/krc/miniforge3/envs/krc/lib/python3.8/site-packages (from requests>=2.24.0->pandas-profiling) (2021.10.8)\n",
            "Requirement already satisfied: charset-normalizer~=2.0.0 in /Users/krc/miniforge3/envs/krc/lib/python3.8/site-packages (from requests>=2.24.0->pandas-profiling) (2.0.12)\n",
            "Requirement already satisfied: urllib3<1.27,>=1.21.1 in /Users/krc/miniforge3/envs/krc/lib/python3.8/site-packages (from requests>=2.24.0->pandas-profiling) (1.26.9)\n",
            "Requirement already satisfied: idna<4,>=2.5 in /Users/krc/miniforge3/envs/krc/lib/python3.8/site-packages (from requests>=2.24.0->pandas-profiling) (3.3)\n",
            "Requirement already satisfied: PyWavelets in /Users/krc/miniforge3/envs/krc/lib/python3.8/site-packages (from imagehash->visions[type_image_path]==0.7.4->pandas-profiling) (1.3.0)\n"
          ]
        }
      ],
      "source": [
        "!pip install pandas-profiling"
      ]
    },
    {
      "cell_type": "code",
      "execution_count": null,
      "id": "e8886b34",
      "metadata": {
        "collapsed": true,
        "id": "e8886b34",
        "outputId": "43505f58-462a-41ce-ee14-4ccfd62ccd7b"
      },
      "outputs": [
        {
          "name": "stdout",
          "output_type": "stream",
          "text": [
            "Requirement already satisfied: missingno in /Users/krc/miniforge3/envs/krc/lib/python3.8/site-packages (0.5.1)\n",
            "Requirement already satisfied: numpy in /Users/krc/miniforge3/envs/krc/lib/python3.8/site-packages (from missingno) (1.21.2)\n",
            "Requirement already satisfied: matplotlib in /Users/krc/miniforge3/envs/krc/lib/python3.8/site-packages (from missingno) (3.5.1)\n",
            "Requirement already satisfied: scipy in /Users/krc/miniforge3/envs/krc/lib/python3.8/site-packages (from missingno) (1.7.3)\n",
            "Requirement already satisfied: seaborn in /Users/krc/miniforge3/envs/krc/lib/python3.8/site-packages (from missingno) (0.11.2)\n",
            "Requirement already satisfied: cycler>=0.10 in /Users/krc/miniforge3/envs/krc/lib/python3.8/site-packages (from matplotlib->missingno) (0.11.0)\n",
            "Requirement already satisfied: fonttools>=4.22.0 in /Users/krc/miniforge3/envs/krc/lib/python3.8/site-packages (from matplotlib->missingno) (4.25.0)\n",
            "Requirement already satisfied: kiwisolver>=1.0.1 in /Users/krc/miniforge3/envs/krc/lib/python3.8/site-packages (from matplotlib->missingno) (1.3.2)\n",
            "Requirement already satisfied: pillow>=6.2.0 in /Users/krc/miniforge3/envs/krc/lib/python3.8/site-packages (from matplotlib->missingno) (9.0.1)\n",
            "Requirement already satisfied: packaging>=20.0 in /Users/krc/miniforge3/envs/krc/lib/python3.8/site-packages (from matplotlib->missingno) (21.3)\n",
            "Requirement already satisfied: python-dateutil>=2.7 in /Users/krc/miniforge3/envs/krc/lib/python3.8/site-packages (from matplotlib->missingno) (2.8.2)\n",
            "Requirement already satisfied: pyparsing>=2.2.1 in /Users/krc/miniforge3/envs/krc/lib/python3.8/site-packages (from matplotlib->missingno) (3.0.4)\n",
            "Requirement already satisfied: six>=1.5 in /Users/krc/miniforge3/envs/krc/lib/python3.8/site-packages (from python-dateutil>=2.7->matplotlib->missingno) (1.16.0)\n",
            "Requirement already satisfied: pandas>=0.23 in /Users/krc/miniforge3/envs/krc/lib/python3.8/site-packages (from seaborn->missingno) (1.4.1)\n",
            "Requirement already satisfied: pytz>=2020.1 in /Users/krc/miniforge3/envs/krc/lib/python3.8/site-packages (from pandas>=0.23->seaborn->missingno) (2021.3)\n"
          ]
        }
      ],
      "source": [
        "!pip install missingno"
      ]
    },
    {
      "cell_type": "code",
      "execution_count": null,
      "id": "533b61c9",
      "metadata": {
        "collapsed": true,
        "id": "533b61c9",
        "outputId": "22dad98a-ebb6-4db1-ac44-a21cfa006cdc"
      },
      "outputs": [
        {
          "name": "stdout",
          "output_type": "stream",
          "text": [
            "Collecting nltk\n",
            "  Downloading nltk-3.7-py3-none-any.whl (1.5 MB)\n",
            "\u001b[K     |████████████████████████████████| 1.5 MB 10.8 MB/s eta 0:00:01\n",
            "\u001b[?25hCollecting click\n",
            "  Downloading click-8.1.2-py3-none-any.whl (96 kB)\n",
            "\u001b[K     |████████████████████████████████| 96 kB 11.0 MB/s eta 0:00:01\n",
            "\u001b[?25hCollecting regex>=2021.8.3\n",
            "  Downloading regex-2022.4.24-cp38-cp38-macosx_11_0_arm64.whl (281 kB)\n",
            "\u001b[K     |████████████████████████████████| 281 kB 16.7 MB/s eta 0:00:01\n",
            "\u001b[?25hRequirement already satisfied: joblib in /Users/krc/miniforge3/envs/krc/lib/python3.8/site-packages (from nltk) (1.1.0)\n",
            "Collecting tqdm\n",
            "  Downloading tqdm-4.64.0-py2.py3-none-any.whl (78 kB)\n",
            "\u001b[K     |████████████████████████████████| 78 kB 10.1 MB/s eta 0:00:01\n",
            "\u001b[?25hInstalling collected packages: tqdm, regex, click, nltk\n",
            "\u001b[33m  WARNING: The script tqdm is installed in '/Users/krc/.local/bin' which is not on PATH.\n",
            "  Consider adding this directory to PATH or, if you prefer to suppress this warning, use --no-warn-script-location.\u001b[0m\n",
            "\u001b[33m  WARNING: The script nltk is installed in '/Users/krc/.local/bin' which is not on PATH.\n",
            "  Consider adding this directory to PATH or, if you prefer to suppress this warning, use --no-warn-script-location.\u001b[0m\n",
            "Successfully installed click-8.1.2 nltk-3.7 regex-2022.4.24 tqdm-4.64.0\n"
          ]
        }
      ],
      "source": [
        "\n",
        "!pip install --user -U nltk\n",
        "\"\"\"\n",
        "ModuleNotFoundError: No module named 'nltk'에러로 인해서 설치 시도\n",
        "에러 해결\n",
        "\"\"\""
      ]
    },
    {
      "cell_type": "code",
      "execution_count": null,
      "id": "e9910971",
      "metadata": {
        "collapsed": true,
        "id": "e9910971",
        "outputId": "7035be3e-2e98-4c9d-f976-9286365144dd"
      },
      "outputs": [
        {
          "name": "stdout",
          "output_type": "stream",
          "text": [
            "Collecting wordcloud\n",
            "  Downloading wordcloud-1.8.1.tar.gz (220 kB)\n",
            "\u001b[K     |████████████████████████████████| 220 kB 10.9 MB/s eta 0:00:01\n",
            "\u001b[?25hRequirement already satisfied: numpy>=1.6.1 in /Users/krc/miniforge3/envs/krc/lib/python3.8/site-packages (from wordcloud) (1.21.2)\n",
            "Requirement already satisfied: pillow in /Users/krc/miniforge3/envs/krc/lib/python3.8/site-packages (from wordcloud) (9.0.1)\n",
            "Requirement already satisfied: matplotlib in /Users/krc/miniforge3/envs/krc/lib/python3.8/site-packages (from wordcloud) (3.5.1)\n",
            "Requirement already satisfied: kiwisolver>=1.0.1 in /Users/krc/miniforge3/envs/krc/lib/python3.8/site-packages (from matplotlib->wordcloud) (1.3.2)\n",
            "Requirement already satisfied: pyparsing>=2.2.1 in /Users/krc/miniforge3/envs/krc/lib/python3.8/site-packages (from matplotlib->wordcloud) (3.0.4)\n",
            "Requirement already satisfied: cycler>=0.10 in /Users/krc/miniforge3/envs/krc/lib/python3.8/site-packages (from matplotlib->wordcloud) (0.11.0)\n",
            "Requirement already satisfied: packaging>=20.0 in /Users/krc/miniforge3/envs/krc/lib/python3.8/site-packages (from matplotlib->wordcloud) (21.3)\n",
            "Requirement already satisfied: fonttools>=4.22.0 in /Users/krc/miniforge3/envs/krc/lib/python3.8/site-packages (from matplotlib->wordcloud) (4.25.0)\n",
            "Requirement already satisfied: python-dateutil>=2.7 in /Users/krc/miniforge3/envs/krc/lib/python3.8/site-packages (from matplotlib->wordcloud) (2.8.2)\n",
            "Requirement already satisfied: six>=1.5 in /Users/krc/miniforge3/envs/krc/lib/python3.8/site-packages (from python-dateutil>=2.7->matplotlib->wordcloud) (1.16.0)\n",
            "Building wheels for collected packages: wordcloud\n",
            "  Building wheel for wordcloud (setup.py) ... \u001b[?25ldone\n",
            "\u001b[?25h  Created wheel for wordcloud: filename=wordcloud-1.8.1-cp38-cp38-macosx_11_0_arm64.whl size=153430 sha256=152accae0b04ca5c1853d0f6b3566bb1bbfa85160abab6dba406667b9c2ed3e4\n",
            "  Stored in directory: /Users/krc/Library/Caches/pip/wheels/4d/3f/0d/a2ba9b7895c9f1be89018b3141c3df3d4f9c786c882ccfbc3b\n",
            "Successfully built wordcloud\n",
            "Installing collected packages: wordcloud\n",
            "Successfully installed wordcloud-1.8.1\n"
          ]
        }
      ],
      "source": [
        "\n",
        "\"\"\"ModuleNotFoundError: No module named 'wordcloud'에러 발생으로 인한 조치\"\"\"\n",
        "!pip install wordcloud"
      ]
    },
    {
      "cell_type": "code",
      "execution_count": null,
      "id": "46daa2e1",
      "metadata": {
        "collapsed": true,
        "id": "46daa2e1",
        "outputId": "22805557-076a-4377-b237-9e6166556de1"
      },
      "outputs": [
        {
          "name": "stdout",
          "output_type": "stream",
          "text": [
            "Collecting plotly\n",
            "  Downloading plotly-5.7.0-py2.py3-none-any.whl (28.8 MB)\n",
            "\u001b[K     |████████████████████████████████| 28.8 MB 11.6 MB/s eta 0:00:01\n",
            "\u001b[?25hRequirement already satisfied: six in /Users/krc/miniforge3/envs/krc/lib/python3.8/site-packages (from plotly) (1.16.0)\n",
            "Collecting tenacity>=6.2.0\n",
            "  Downloading tenacity-8.0.1-py3-none-any.whl (24 kB)\n",
            "Installing collected packages: tenacity, plotly\n",
            "Successfully installed plotly-5.7.0 tenacity-8.0.1\n"
          ]
        }
      ],
      "source": [
        "\"\"\"ModuleNotFoundError: No module named 'plotly'에러 발생으로 인한 조치\"\"\"\n",
        "!pip install plotly"
      ]
    },
    {
      "cell_type": "code",
      "execution_count": null,
      "id": "c7c242cf",
      "metadata": {
        "id": "c7c242cf"
      },
      "outputs": [],
      "source": [
        "#필요한 라이브러리 호출\n",
        "\n",
        "import pandas as pd\n",
        "import numpy as np\n",
        "import matplotlib.pyplot as plt\n",
        "import seaborn as sns\n",
        "import datetime, nltk, warnings\n",
        "import matplotlib.cm as cm\n",
        "import itertools\n",
        "import warnings\n",
        "#current version of seaborn generates a bunch of warning\n",
        "warnings.filterwarnings(\"ignore\")\n",
        "sns.set_style('whitegrid')\n",
        "\n",
        "import missingno as msno\n",
        "import pandas_profiling\n",
        "\n",
        "import gc\n",
        "import datetime\n",
        "from pathlib import Path\n"
      ]
    },
    {
      "cell_type": "code",
      "execution_count": null,
      "id": "5ac0084d",
      "metadata": {
        "id": "5ac0084d"
      },
      "outputs": [],
      "source": [
        "#사이킷런 패키지 호출\n",
        "\n",
        "from sklearn.preprocessing import StandardScaler\n",
        "from sklearn.cluster import KMeans\n",
        "from sklearn.metrics import silhouette_samples, silhouette_score\n",
        "from sklearn import preprocessing, model_selection, metrics, feature_selection\n",
        "from sklearn.model_selection import GridSearchCV, learning_curve\n",
        "from sklearn.svm import SVC\n",
        "from sklearn.metrics import confusion_matrix\n",
        "from sklearn import neighbors, linear_model, svm, tree, ensemble\n",
        "from sklearn.ensemble import AdaBoostClassifier\n",
        "from sklearn.decomposition import PCA\n"
      ]
    },
    {
      "cell_type": "code",
      "execution_count": null,
      "id": "aad021ce",
      "metadata": {
        "scrolled": true,
        "id": "aad021ce",
        "outputId": "c7e5a147-4dc6-402b-eacf-a96288e4db13"
      },
      "outputs": [
        {
          "data": {
            "text/html": [
              "        <script type=\"text/javascript\">\n",
              "        window.PlotlyConfig = {MathJaxConfig: 'local'};\n",
              "        if (window.MathJax) {MathJax.Hub.Config({SVG: {font: \"STIX-Web\"}});}\n",
              "        if (typeof require !== 'undefined') {\n",
              "        require.undef(\"plotly\");\n",
              "        requirejs.config({\n",
              "            paths: {\n",
              "                'plotly': ['https://cdn.plot.ly/plotly-2.11.1.min']\n",
              "            }\n",
              "        });\n",
              "        require(['plotly'], function(Plotly) {\n",
              "            window._Plotly = Plotly;\n",
              "        });\n",
              "        }\n",
              "        </script>\n",
              "        "
            ]
          },
          "metadata": {},
          "output_type": "display_data"
        }
      ],
      "source": [
        "#wordcloud: 문서의 키워드, 개념 등을 직관적으로 파악할 수 있도록 핵심 단어를 시각화하는 기법\n",
        "#IPython:\n",
        "#plotly \n",
        "#호출\n",
        "\n",
        "from wordcloud import WordCloud, STOPWORDS\n",
        "from IPython.display import display, HTML\n",
        "import plotly.graph_objs as go\n",
        "from plotly.offline import init_notebook_mode,iplot\n",
        "init_notebook_mode(connected=True)\n",
        "plt.rcParams[\"patch.force_edgecolor\"] = True\n",
        "plt.style.use('fivethirtyeight')\n",
        "#mpl.rc('patch', edgecolor = 'dimgray', linewidth=1)\n",
        "%matplotlib inline\n",
        "color = sns.color_palette()"
      ]
    },
    {
      "cell_type": "markdown",
      "id": "bd176a0a",
      "metadata": {
        "id": "bd176a0a"
      },
      "source": [
        "#### 데이터 준비\n",
        "\n",
        "데이터를 호출합니다.\n",
        "\n",
        "데이터 파일이 깨지는 것을 방지하기 위해서 encoding를 시도합니다.\n",
        "\n",
        "ID는 숫자보단 문자열이기에 문자열로 데이터 타입 유형을 변경할 것입니다.\n",
        "\n",
        "데이터의 결측치 값과 비율을 확인합니다."
      ]
    },
    {
      "cell_type": "code",
      "execution_count": null,
      "id": "95b3fc6c",
      "metadata": {
        "id": "95b3fc6c",
        "outputId": "d6debf6c-a1b0-4ff3-beec-ef969204cdd7"
      },
      "outputs": [
        {
          "name": "stdout",
          "output_type": "stream",
          "text": [
            "Dataframe dimensions: (541909, 8)\n"
          ]
        },
        {
          "data": {
            "text/html": [
              "<div>\n",
              "<style scoped>\n",
              "    .dataframe tbody tr th:only-of-type {\n",
              "        vertical-align: middle;\n",
              "    }\n",
              "\n",
              "    .dataframe tbody tr th {\n",
              "        vertical-align: top;\n",
              "    }\n",
              "\n",
              "    .dataframe thead th {\n",
              "        text-align: right;\n",
              "    }\n",
              "</style>\n",
              "<table border=\"1\" class=\"dataframe\">\n",
              "  <thead>\n",
              "    <tr style=\"text-align: right;\">\n",
              "      <th></th>\n",
              "      <th>InvoiceNo</th>\n",
              "      <th>StockCode</th>\n",
              "      <th>Description</th>\n",
              "      <th>Quantity</th>\n",
              "      <th>InvoiceDate</th>\n",
              "      <th>UnitPrice</th>\n",
              "      <th>CustomerID</th>\n",
              "      <th>Country</th>\n",
              "    </tr>\n",
              "  </thead>\n",
              "  <tbody>\n",
              "    <tr>\n",
              "      <th>0</th>\n",
              "      <td>536365</td>\n",
              "      <td>85123A</td>\n",
              "      <td>WHITE HANGING HEART T-LIGHT HOLDER</td>\n",
              "      <td>6</td>\n",
              "      <td>12/1/2010 8:26</td>\n",
              "      <td>2.55</td>\n",
              "      <td>17850</td>\n",
              "      <td>United Kingdom</td>\n",
              "    </tr>\n",
              "    <tr>\n",
              "      <th>1</th>\n",
              "      <td>536365</td>\n",
              "      <td>71053</td>\n",
              "      <td>WHITE METAL LANTERN</td>\n",
              "      <td>6</td>\n",
              "      <td>12/1/2010 8:26</td>\n",
              "      <td>3.39</td>\n",
              "      <td>17850</td>\n",
              "      <td>United Kingdom</td>\n",
              "    </tr>\n",
              "    <tr>\n",
              "      <th>2</th>\n",
              "      <td>536365</td>\n",
              "      <td>84406B</td>\n",
              "      <td>CREAM CUPID HEARTS COAT HANGER</td>\n",
              "      <td>8</td>\n",
              "      <td>12/1/2010 8:26</td>\n",
              "      <td>2.75</td>\n",
              "      <td>17850</td>\n",
              "      <td>United Kingdom</td>\n",
              "    </tr>\n",
              "    <tr>\n",
              "      <th>3</th>\n",
              "      <td>536365</td>\n",
              "      <td>84029G</td>\n",
              "      <td>KNITTED UNION FLAG HOT WATER BOTTLE</td>\n",
              "      <td>6</td>\n",
              "      <td>12/1/2010 8:26</td>\n",
              "      <td>3.39</td>\n",
              "      <td>17850</td>\n",
              "      <td>United Kingdom</td>\n",
              "    </tr>\n",
              "    <tr>\n",
              "      <th>4</th>\n",
              "      <td>536365</td>\n",
              "      <td>84029E</td>\n",
              "      <td>RED WOOLLY HOTTIE WHITE HEART.</td>\n",
              "      <td>6</td>\n",
              "      <td>12/1/2010 8:26</td>\n",
              "      <td>3.39</td>\n",
              "      <td>17850</td>\n",
              "      <td>United Kingdom</td>\n",
              "    </tr>\n",
              "  </tbody>\n",
              "</table>\n",
              "</div>"
            ],
            "text/plain": [
              "  InvoiceNo StockCode                          Description  Quantity  \\\n",
              "0    536365    85123A   WHITE HANGING HEART T-LIGHT HOLDER         6   \n",
              "1    536365     71053                  WHITE METAL LANTERN         6   \n",
              "2    536365    84406B       CREAM CUPID HEARTS COAT HANGER         8   \n",
              "3    536365    84029G  KNITTED UNION FLAG HOT WATER BOTTLE         6   \n",
              "4    536365    84029E       RED WOOLLY HOTTIE WHITE HEART.         6   \n",
              "\n",
              "      InvoiceDate  UnitPrice CustomerID         Country  \n",
              "0  12/1/2010 8:26       2.55      17850  United Kingdom  \n",
              "1  12/1/2010 8:26       3.39      17850  United Kingdom  \n",
              "2  12/1/2010 8:26       2.75      17850  United Kingdom  \n",
              "3  12/1/2010 8:26       3.39      17850  United Kingdom  \n",
              "4  12/1/2010 8:26       3.39      17850  United Kingdom  "
            ]
          },
          "execution_count": 7,
          "metadata": {},
          "output_type": "execute_result"
        }
      ],
      "source": [
        "data = pd.read_csv('../Downloads/data.csv',encoding='ISO-8859-1',\n",
        "                   dtype={'CustomerID': str, 'InvoiceID':str})\n",
        "\n",
        "print('Dataframe dimensions:', data.shape)\n",
        "\n",
        "data.head()\n",
        "#InvoiceDate의 시간대를 보기가 불편함으로 변경을 해야할 것 같습니다."
      ]
    },
    {
      "cell_type": "code",
      "execution_count": null,
      "id": "3c7deff5",
      "metadata": {
        "id": "3c7deff5",
        "outputId": "e8b35267-ae3d-47b8-cb47-c46190b6d743"
      },
      "outputs": [
        {
          "data": {
            "text/html": [
              "<div>\n",
              "<style scoped>\n",
              "    .dataframe tbody tr th:only-of-type {\n",
              "        vertical-align: middle;\n",
              "    }\n",
              "\n",
              "    .dataframe tbody tr th {\n",
              "        vertical-align: top;\n",
              "    }\n",
              "\n",
              "    .dataframe thead th {\n",
              "        text-align: right;\n",
              "    }\n",
              "</style>\n",
              "<table border=\"1\" class=\"dataframe\">\n",
              "  <thead>\n",
              "    <tr style=\"text-align: right;\">\n",
              "      <th></th>\n",
              "      <th>InvoiceNo</th>\n",
              "      <th>StockCode</th>\n",
              "      <th>Description</th>\n",
              "      <th>Quantity</th>\n",
              "      <th>InvoiceDate</th>\n",
              "      <th>UnitPrice</th>\n",
              "      <th>CustomerID</th>\n",
              "      <th>Country</th>\n",
              "    </tr>\n",
              "  </thead>\n",
              "  <tbody>\n",
              "    <tr>\n",
              "      <th>0</th>\n",
              "      <td>536365</td>\n",
              "      <td>85123A</td>\n",
              "      <td>WHITE HANGING HEART T-LIGHT HOLDER</td>\n",
              "      <td>6</td>\n",
              "      <td>2010-12-01 08:26:00</td>\n",
              "      <td>2.55</td>\n",
              "      <td>17850</td>\n",
              "      <td>United Kingdom</td>\n",
              "    </tr>\n",
              "    <tr>\n",
              "      <th>1</th>\n",
              "      <td>536365</td>\n",
              "      <td>71053</td>\n",
              "      <td>WHITE METAL LANTERN</td>\n",
              "      <td>6</td>\n",
              "      <td>2010-12-01 08:26:00</td>\n",
              "      <td>3.39</td>\n",
              "      <td>17850</td>\n",
              "      <td>United Kingdom</td>\n",
              "    </tr>\n",
              "    <tr>\n",
              "      <th>2</th>\n",
              "      <td>536365</td>\n",
              "      <td>84406B</td>\n",
              "      <td>CREAM CUPID HEARTS COAT HANGER</td>\n",
              "      <td>8</td>\n",
              "      <td>2010-12-01 08:26:00</td>\n",
              "      <td>2.75</td>\n",
              "      <td>17850</td>\n",
              "      <td>United Kingdom</td>\n",
              "    </tr>\n",
              "    <tr>\n",
              "      <th>3</th>\n",
              "      <td>536365</td>\n",
              "      <td>84029G</td>\n",
              "      <td>KNITTED UNION FLAG HOT WATER BOTTLE</td>\n",
              "      <td>6</td>\n",
              "      <td>2010-12-01 08:26:00</td>\n",
              "      <td>3.39</td>\n",
              "      <td>17850</td>\n",
              "      <td>United Kingdom</td>\n",
              "    </tr>\n",
              "    <tr>\n",
              "      <th>4</th>\n",
              "      <td>536365</td>\n",
              "      <td>84029E</td>\n",
              "      <td>RED WOOLLY HOTTIE WHITE HEART.</td>\n",
              "      <td>6</td>\n",
              "      <td>2010-12-01 08:26:00</td>\n",
              "      <td>3.39</td>\n",
              "      <td>17850</td>\n",
              "      <td>United Kingdom</td>\n",
              "    </tr>\n",
              "  </tbody>\n",
              "</table>\n",
              "</div>"
            ],
            "text/plain": [
              "  InvoiceNo StockCode                          Description  Quantity  \\\n",
              "0    536365    85123A   WHITE HANGING HEART T-LIGHT HOLDER         6   \n",
              "1    536365     71053                  WHITE METAL LANTERN         6   \n",
              "2    536365    84406B       CREAM CUPID HEARTS COAT HANGER         8   \n",
              "3    536365    84029G  KNITTED UNION FLAG HOT WATER BOTTLE         6   \n",
              "4    536365    84029E       RED WOOLLY HOTTIE WHITE HEART.         6   \n",
              "\n",
              "          InvoiceDate  UnitPrice CustomerID         Country  \n",
              "0 2010-12-01 08:26:00       2.55      17850  United Kingdom  \n",
              "1 2010-12-01 08:26:00       3.39      17850  United Kingdom  \n",
              "2 2010-12-01 08:26:00       2.75      17850  United Kingdom  \n",
              "3 2010-12-01 08:26:00       3.39      17850  United Kingdom  \n",
              "4 2010-12-01 08:26:00       3.39      17850  United Kingdom  "
            ]
          },
          "execution_count": 8,
          "metadata": {},
          "output_type": "execute_result"
        }
      ],
      "source": [
        "data['InvoiceDate'] = pd.to_datetime(data['InvoiceDate']) #시간대 보기 편하게하기\n",
        "data.head()\n"
      ]
    },
    {
      "cell_type": "code",
      "execution_count": null,
      "id": "277cfdc8",
      "metadata": {
        "id": "277cfdc8",
        "outputId": "91605380-7dea-4993-ea02-cff2cde36176"
      },
      "outputs": [
        {
          "name": "stdout",
          "output_type": "stream",
          "text": [
            "<class 'pandas.core.frame.DataFrame'>\n",
            "RangeIndex: 541909 entries, 0 to 541908\n",
            "Data columns (total 8 columns):\n",
            " #   Column       Non-Null Count   Dtype         \n",
            "---  ------       --------------   -----         \n",
            " 0   InvoiceNo    541909 non-null  object        \n",
            " 1   StockCode    541909 non-null  object        \n",
            " 2   Description  540455 non-null  object        \n",
            " 3   Quantity     541909 non-null  int64         \n",
            " 4   InvoiceDate  541909 non-null  datetime64[ns]\n",
            " 5   UnitPrice    541909 non-null  float64       \n",
            " 6   CustomerID   406829 non-null  object        \n",
            " 7   Country      541909 non-null  object        \n",
            "dtypes: datetime64[ns](1), float64(1), int64(1), object(5)\n",
            "memory usage: 33.1+ MB\n"
          ]
        }
      ],
      "source": [
        "#데이터 타입 확인\n",
        "\n",
        "data.info()"
      ]
    },
    {
      "cell_type": "code",
      "execution_count": null,
      "id": "638a2f92",
      "metadata": {
        "id": "638a2f92",
        "outputId": "4a1fa118-cfa7-4bb7-8a1e-7f01455c629c"
      },
      "outputs": [
        {
          "data": {
            "text/plain": [
              "CustomerID     135080\n",
              "Description      1454\n",
              "InvoiceNo           0\n",
              "StockCode           0\n",
              "Quantity            0\n",
              "InvoiceDate         0\n",
              "UnitPrice           0\n",
              "Country             0\n",
              "dtype: int64"
            ]
          },
          "execution_count": 12,
          "metadata": {},
          "output_type": "execute_result"
        }
      ],
      "source": [
        "#결측치 확인\n",
        "data.isnull().sum().sort_values(ascending=False)"
      ]
    },
    {
      "cell_type": "code",
      "execution_count": null,
      "id": "2d044a92",
      "metadata": {
        "id": "2d044a92",
        "outputId": "05ec410d-fd2d-48f4-a612-307c7d7aa1ed"
      },
      "outputs": [
        {
          "data": {
            "text/html": [
              "<div>\n",
              "<style scoped>\n",
              "    .dataframe tbody tr th:only-of-type {\n",
              "        vertical-align: middle;\n",
              "    }\n",
              "\n",
              "    .dataframe tbody tr th {\n",
              "        vertical-align: top;\n",
              "    }\n",
              "\n",
              "    .dataframe thead th {\n",
              "        text-align: right;\n",
              "    }\n",
              "</style>\n",
              "<table border=\"1\" class=\"dataframe\">\n",
              "  <thead>\n",
              "    <tr style=\"text-align: right;\">\n",
              "      <th></th>\n",
              "      <th>InvoiceNo</th>\n",
              "      <th>StockCode</th>\n",
              "      <th>Description</th>\n",
              "      <th>Quantity</th>\n",
              "      <th>InvoiceDate</th>\n",
              "      <th>UnitPrice</th>\n",
              "      <th>CustomerID</th>\n",
              "      <th>Country</th>\n",
              "    </tr>\n",
              "  </thead>\n",
              "  <tbody>\n",
              "    <tr>\n",
              "      <th>column type</th>\n",
              "      <td>object</td>\n",
              "      <td>object</td>\n",
              "      <td>object</td>\n",
              "      <td>int64</td>\n",
              "      <td>datetime64[ns]</td>\n",
              "      <td>float64</td>\n",
              "      <td>object</td>\n",
              "      <td>object</td>\n",
              "    </tr>\n",
              "    <tr>\n",
              "      <th>null values(nb)</th>\n",
              "      <td>0</td>\n",
              "      <td>0</td>\n",
              "      <td>1454</td>\n",
              "      <td>0</td>\n",
              "      <td>0</td>\n",
              "      <td>0</td>\n",
              "      <td>135080</td>\n",
              "      <td>0</td>\n",
              "    </tr>\n",
              "    <tr>\n",
              "      <th>null values (%)</th>\n",
              "      <td>0.0</td>\n",
              "      <td>0.0</td>\n",
              "      <td>0.268311</td>\n",
              "      <td>0.0</td>\n",
              "      <td>0.0</td>\n",
              "      <td>0.0</td>\n",
              "      <td>24.926694</td>\n",
              "      <td>0.0</td>\n",
              "    </tr>\n",
              "  </tbody>\n",
              "</table>\n",
              "</div>"
            ],
            "text/plain": [
              "                InvoiceNo StockCode Description Quantity     InvoiceDate  \\\n",
              "column type        object    object      object    int64  datetime64[ns]   \n",
              "null values(nb)         0         0        1454        0               0   \n",
              "null values (%)       0.0       0.0    0.268311      0.0             0.0   \n",
              "\n",
              "                UnitPrice CustomerID Country  \n",
              "column type       float64     object  object  \n",
              "null values(nb)         0     135080       0  \n",
              "null values (%)       0.0  24.926694     0.0  "
            ]
          },
          "metadata": {},
          "output_type": "display_data"
        },
        {
          "data": {
            "text/html": [
              "<div>\n",
              "<style scoped>\n",
              "    .dataframe tbody tr th:only-of-type {\n",
              "        vertical-align: middle;\n",
              "    }\n",
              "\n",
              "    .dataframe tbody tr th {\n",
              "        vertical-align: top;\n",
              "    }\n",
              "\n",
              "    .dataframe thead th {\n",
              "        text-align: right;\n",
              "    }\n",
              "</style>\n",
              "<table border=\"1\" class=\"dataframe\">\n",
              "  <thead>\n",
              "    <tr style=\"text-align: right;\">\n",
              "      <th></th>\n",
              "      <th>InvoiceNo</th>\n",
              "      <th>StockCode</th>\n",
              "      <th>Description</th>\n",
              "      <th>Quantity</th>\n",
              "      <th>InvoiceDate</th>\n",
              "      <th>UnitPrice</th>\n",
              "      <th>CustomerID</th>\n",
              "      <th>Country</th>\n",
              "    </tr>\n",
              "  </thead>\n",
              "  <tbody>\n",
              "    <tr>\n",
              "      <th>0</th>\n",
              "      <td>536365</td>\n",
              "      <td>85123A</td>\n",
              "      <td>WHITE HANGING HEART T-LIGHT HOLDER</td>\n",
              "      <td>6</td>\n",
              "      <td>2010-12-01 08:26:00</td>\n",
              "      <td>2.55</td>\n",
              "      <td>17850</td>\n",
              "      <td>United Kingdom</td>\n",
              "    </tr>\n",
              "    <tr>\n",
              "      <th>1</th>\n",
              "      <td>536365</td>\n",
              "      <td>71053</td>\n",
              "      <td>WHITE METAL LANTERN</td>\n",
              "      <td>6</td>\n",
              "      <td>2010-12-01 08:26:00</td>\n",
              "      <td>3.39</td>\n",
              "      <td>17850</td>\n",
              "      <td>United Kingdom</td>\n",
              "    </tr>\n",
              "    <tr>\n",
              "      <th>2</th>\n",
              "      <td>536365</td>\n",
              "      <td>84406B</td>\n",
              "      <td>CREAM CUPID HEARTS COAT HANGER</td>\n",
              "      <td>8</td>\n",
              "      <td>2010-12-01 08:26:00</td>\n",
              "      <td>2.75</td>\n",
              "      <td>17850</td>\n",
              "      <td>United Kingdom</td>\n",
              "    </tr>\n",
              "    <tr>\n",
              "      <th>3</th>\n",
              "      <td>536365</td>\n",
              "      <td>84029G</td>\n",
              "      <td>KNITTED UNION FLAG HOT WATER BOTTLE</td>\n",
              "      <td>6</td>\n",
              "      <td>2010-12-01 08:26:00</td>\n",
              "      <td>3.39</td>\n",
              "      <td>17850</td>\n",
              "      <td>United Kingdom</td>\n",
              "    </tr>\n",
              "    <tr>\n",
              "      <th>4</th>\n",
              "      <td>536365</td>\n",
              "      <td>84029E</td>\n",
              "      <td>RED WOOLLY HOTTIE WHITE HEART.</td>\n",
              "      <td>6</td>\n",
              "      <td>2010-12-01 08:26:00</td>\n",
              "      <td>3.39</td>\n",
              "      <td>17850</td>\n",
              "      <td>United Kingdom</td>\n",
              "    </tr>\n",
              "  </tbody>\n",
              "</table>\n",
              "</div>"
            ],
            "text/plain": [
              "  InvoiceNo StockCode                          Description  Quantity  \\\n",
              "0    536365    85123A   WHITE HANGING HEART T-LIGHT HOLDER         6   \n",
              "1    536365     71053                  WHITE METAL LANTERN         6   \n",
              "2    536365    84406B       CREAM CUPID HEARTS COAT HANGER         8   \n",
              "3    536365    84029G  KNITTED UNION FLAG HOT WATER BOTTLE         6   \n",
              "4    536365    84029E       RED WOOLLY HOTTIE WHITE HEART.         6   \n",
              "\n",
              "          InvoiceDate  UnitPrice CustomerID         Country  \n",
              "0 2010-12-01 08:26:00       2.55      17850  United Kingdom  \n",
              "1 2010-12-01 08:26:00       3.39      17850  United Kingdom  \n",
              "2 2010-12-01 08:26:00       2.75      17850  United Kingdom  \n",
              "3 2010-12-01 08:26:00       3.39      17850  United Kingdom  \n",
              "4 2010-12-01 08:26:00       3.39      17850  United Kingdom  "
            ]
          },
          "metadata": {},
          "output_type": "display_data"
        }
      ],
      "source": [
        "#칼럼별 결측치 수는 파악이 되었으나 비율을 알고 싶습니다.\n",
        "#추가적으로 dataframe형식으로 결측치 값과 비율을 출력해보겠습니다.\n",
        "\n",
        "raw_info = pd.DataFrame(data.dtypes).T.rename(index={0:'column type'})\n",
        "raw_info = raw_info.append(pd.DataFrame(data.isnull().sum()).T.rename(index={0:'null values(nb)'}))\n",
        "raw_info = raw_info.append(pd.DataFrame(data.isnull().sum()/data.shape[0]*100).T.rename(index={0:'null values (%)'}))\n",
        "\n",
        "display(raw_info)\n",
        "display(data[:5])"
      ]
    },
    {
      "cell_type": "markdown",
      "id": "96e3b55e",
      "metadata": {
        "id": "96e3b55e"
      },
      "source": [
        "결측치는 Description 과 CustomerID 두 개가 있습니다.\n",
        "실제 비율을 보니 Description은 작지만 CustomerID는 약25%정도로 결측치가 많은 데이터이므로 삭제를 진행할 것입니다."
      ]
    },
    {
      "cell_type": "code",
      "execution_count": null,
      "id": "af977e68",
      "metadata": {
        "id": "af977e68"
      },
      "outputs": [],
      "source": [
        ""
      ]
    }
  ],
  "metadata": {
    "kernelspec": {
      "display_name": "Python 3 (ipykernel)",
      "language": "python",
      "name": "python3"
    },
    "language_info": {
      "codemirror_mode": {
        "name": "ipython",
        "version": 3
      },
      "file_extension": ".py",
      "mimetype": "text/x-python",
      "name": "python",
      "nbconvert_exporter": "python",
      "pygments_lexer": "ipython3",
      "version": "3.8.13"
    },
    "colab": {
      "name": "E_commerce_DATA.ipynb",
      "provenance": []
    }
  },
  "nbformat": 4,
  "nbformat_minor": 5
}