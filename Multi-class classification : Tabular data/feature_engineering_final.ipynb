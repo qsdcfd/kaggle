{
  "nbformat": 4,
  "nbformat_minor": 0,
  "metadata": {
    "colab": {
      "name": "feature engineering_final",
      "provenance": [],
      "authorship_tag": "ABX9TyOH05e6vCM5zVhzwRLhCf0O",
      "include_colab_link": true
    },
    "kernelspec": {
      "name": "python3",
      "display_name": "Python 3"
    },
    "language_info": {
      "name": "python"
    }
  },
  "cells": [
    {
      "cell_type": "markdown",
      "metadata": {
        "id": "view-in-github",
        "colab_type": "text"
      },
      "source": [
        "<a href=\"https://colab.research.google.com/github/qsdcfd/kaggle/blob/TIL/Multi-class%20classification%20%3A%20Tabular%20data/feature_engineering_final.ipynb\" target=\"_parent\"><img src=\"https://colab.research.google.com/assets/colab-badge.svg\" alt=\"Open In Colab\"/></a>"
      ]
    },
    {
      "cell_type": "markdown",
      "source": [
        "### Problem and Data Explanation\n",
        "\n",
        "- Supervised: 훈련데이터 with label\n",
        "\n",
        "- Multi-class classification: Labels with 4 discrete values class\n",
        "\n",
        "<br>\n",
        "\n",
        "#### Objective\n",
        "\n",
        "- household level 예측\n",
        "\n",
        "- 1: extrme poverty\n",
        "\n",
        "- 2: moderate poverty\n",
        "\n",
        "- 3: vulnerable households\n",
        "\n",
        "- 4: non vulnerable households\n",
        "\n",
        "\n",
        "<br>\n",
        "\n",
        "#### Metric: Macro F1 score\n",
        "\n",
        "*standard\n",
        "\n",
        "F1 = 2* (precision*recall) /(precision + recall)\n",
        "\n",
        "*Multi-class\n",
        "\n",
        "Macro F1 = (F1 Class 1 + F1 Class2 + F1 Class 3 + F1 Class 4) /4\n",
        "\n",
        "\"\"\"\n",
        "from sklearn.metrics import f1_score\n",
        "f1_score(y_true, y_predicted, average = 'macro`)\n",
        "\"\"\""
      ],
      "metadata": {
        "id": "4iXNxd6MQCYU"
      }
    },
    {
      "cell_type": "markdown",
      "source": [
        "---\n"
      ],
      "metadata": {
        "id": "ewmBfUZORVMX"
      }
    },
    {
      "cell_type": "markdown",
      "source": [
        "### Road Data and Look at Summary Information"
      ],
      "metadata": {
        "id": "4gyYzxZSRXbT"
      }
    },
    {
      "cell_type": "code",
      "execution_count": 1,
      "metadata": {
        "id": "SBSbeEDTPw9q"
      },
      "outputs": [],
      "source": [
        "#imports\n",
        "\n",
        "##Data manipulation\n",
        "\n",
        "import pandas as pd\n",
        "import numpy as np\n",
        "\n",
        "#Visualization\n",
        "\n",
        "import matplotlib.pyplot as plt\n",
        "import seaborn as sns\n",
        "\n",
        "#Set a few plotting defaults\n",
        "%matplotlib inline\n",
        "plt.style.use('fivethirtyeight')\n",
        "plt.rcParams['font.size'] = 18\n",
        "plt.rcParams['patch.edgecolor'] = 'k'"
      ]
    },
    {
      "cell_type": "code",
      "source": [
        "pd.options.display.max_columns = 159\n",
        "\n",
        "#read in data\n",
        "train = pd.read_csv('./train.csv')\n",
        "test = pd.read_csv('./test.csv')"
      ],
      "metadata": {
        "id": "rTz_FDy4R7sx"
      },
      "execution_count": 2,
      "outputs": []
    },
    {
      "cell_type": "code",
      "source": [
        "train.head()"
      ],
      "metadata": {
        "colab": {
          "base_uri": "https://localhost:8080/",
          "height": 270
        },
        "id": "lCEyygaSSO7L",
        "outputId": "384c64a9-5dbb-43bf-9df2-8aa7b68224f4"
      },
      "execution_count": 3,
      "outputs": [
        {
          "output_type": "execute_result",
          "data": {
            "text/plain": [
              "             Id      v2a1  hacdor  rooms  hacapo  v14a  refrig  v18q  v18q1  \\\n",
              "0  ID_279628684  190000.0       0      3       0     1       1     0    NaN   \n",
              "1  ID_f29eb3ddd  135000.0       0      4       0     1       1     1    1.0   \n",
              "2  ID_68de51c94       NaN       0      8       0     1       1     0    NaN   \n",
              "3  ID_d671db89c  180000.0       0      5       0     1       1     1    1.0   \n",
              "4  ID_d56d6f5f5  180000.0       0      5       0     1       1     1    1.0   \n",
              "\n",
              "   r4h1  r4h2  r4h3  r4m1  r4m2  r4m3  r4t1  r4t2  r4t3  tamhog  tamviv  \\\n",
              "0     0     1     1     0     0     0     0     1     1       1       1   \n",
              "1     0     1     1     0     0     0     0     1     1       1       1   \n",
              "2     0     0     0     0     1     1     0     1     1       1       1   \n",
              "3     0     2     2     1     1     2     1     3     4       4       4   \n",
              "4     0     2     2     1     1     2     1     3     4       4       4   \n",
              "\n",
              "   escolari  rez_esc  hhsize  paredblolad  paredzocalo  paredpreb  pareddes  \\\n",
              "0        10      NaN       1            1            0          0         0   \n",
              "1        12      NaN       1            0            0          0         0   \n",
              "2        11      NaN       1            0            0          0         0   \n",
              "3         9      1.0       4            1            0          0         0   \n",
              "4        11      NaN       4            1            0          0         0   \n",
              "\n",
              "   paredmad  paredzinc  paredfibras  paredother  pisomoscer  pisocemento  \\\n",
              "0         0          0            0           0           1            0   \n",
              "1         1          0            0           0           0            0   \n",
              "2         1          0            0           0           1            0   \n",
              "3         0          0            0           0           1            0   \n",
              "4         0          0            0           0           1            0   \n",
              "\n",
              "   pisoother  pisonatur  pisonotiene  pisomadera  techozinc  techoentrepiso  \\\n",
              "0          0          0            0           0          0               1   \n",
              "1          0          0            0           1          1               0   \n",
              "2          0          0            0           0          1               0   \n",
              "3          0          0            0           0          1               0   \n",
              "4          0          0            0           0          1               0   \n",
              "\n",
              "   techocane  techootro  cielorazo  abastaguadentro  abastaguafuera  \\\n",
              "0          0          0          1                1               0   \n",
              "1          0          0          1                1               0   \n",
              "2          0          0          1                1               0   \n",
              "3          0          0          1                1               0   \n",
              "4          0          0          1                1               0   \n",
              "\n",
              "   abastaguano  public  planpri  noelec  coopele  sanitario1  sanitario2  \\\n",
              "0            0       1        0       0        0           0           1   \n",
              "1            0       1        0       0        0           0           1   \n",
              "2            0       1        0       0        0           0           1   \n",
              "3            0       1        0       0        0           0           1   \n",
              "4            0       1        0       0        0           0           1   \n",
              "\n",
              "   sanitario3  sanitario5  sanitario6  energcocinar1  energcocinar2  \\\n",
              "0           0           0           0              0              0   \n",
              "1           0           0           0              0              1   \n",
              "2           0           0           0              0              1   \n",
              "3           0           0           0              0              1   \n",
              "4           0           0           0              0              1   \n",
              "\n",
              "   energcocinar3  energcocinar4  elimbasu1  elimbasu2  elimbasu3  elimbasu4  \\\n",
              "0              1              0          1          0          0          0   \n",
              "1              0              0          1          0          0          0   \n",
              "2              0              0          1          0          0          0   \n",
              "3              0              0          1          0          0          0   \n",
              "4              0              0          1          0          0          0   \n",
              "\n",
              "   elimbasu5  elimbasu6  epared1  epared2  epared3  etecho1  etecho2  etecho3  \\\n",
              "0          0          0        0        1        0        1        0        0   \n",
              "1          0          0        0        1        0        0        1        0   \n",
              "2          0          0        0        1        0        0        0        1   \n",
              "3          0          0        0        0        1        0        0        1   \n",
              "4          0          0        0        0        1        0        0        1   \n",
              "\n",
              "   eviv1  eviv2  eviv3  dis  male  female  estadocivil1  estadocivil2  \\\n",
              "0      1      0      0    0     1       0             0           0.0   \n",
              "1      0      1      0    0     1       0             0           0.0   \n",
              "2      0      0      1    1     0       1             0           0.0   \n",
              "3      0      0      1    0     1       0             0           0.0   \n",
              "4      0      0      1    0     0       1             0           1.0   \n",
              "\n",
              "   estadocivil3  estadocivil4  estadocivil5  estadocivil6  estadocivil7  \\\n",
              "0           0.0           1.0           0.0           0.0           0.0   \n",
              "1           0.0           1.0           0.0           0.0           0.0   \n",
              "2           0.0           0.0           0.0           1.0           0.0   \n",
              "3           0.0           0.0           0.0           0.0           1.0   \n",
              "4           0.0           0.0           0.0           0.0           0.0   \n",
              "\n",
              "   parentesco1  parentesco2  parentesco3  parentesco4  parentesco5  \\\n",
              "0          1.0          0.0          0.0          0.0          0.0   \n",
              "1          1.0          0.0          0.0          0.0          0.0   \n",
              "2          1.0          0.0          0.0          0.0          0.0   \n",
              "3          0.0          0.0          1.0          0.0          0.0   \n",
              "4          0.0          1.0          0.0          0.0          0.0   \n",
              "\n",
              "   parentesco6  parentesco7  parentesco8  parentesco9  parentesco10  \\\n",
              "0          0.0          0.0          0.0          0.0           0.0   \n",
              "1          0.0          0.0          0.0          0.0           0.0   \n",
              "2          0.0          0.0          0.0          0.0           0.0   \n",
              "3          0.0          0.0          0.0          0.0           0.0   \n",
              "4          0.0          0.0          0.0          0.0           0.0   \n",
              "\n",
              "   parentesco11  parentesco12    idhogar  hogar_nin  hogar_adul  hogar_mayor  \\\n",
              "0           0.0           0.0  21eb7fcc1        0.0         1.0          0.0   \n",
              "1           0.0           0.0  0e5d7a658        0.0         1.0          1.0   \n",
              "2           0.0           0.0  2c7317ea8        0.0         1.0          1.0   \n",
              "3           0.0           0.0  2b58d945f        2.0         2.0          0.0   \n",
              "4           0.0           0.0  2b58d945f        2.0         2.0          0.0   \n",
              "\n",
              "   hogar_total dependency edjefe edjefa  meaneduc  instlevel1  instlevel2  \\\n",
              "0          1.0         no     10     no      10.0         0.0         0.0   \n",
              "1          1.0          8     12     no      12.0         0.0         0.0   \n",
              "2          1.0          8     no     11      11.0         0.0         0.0   \n",
              "3          4.0        yes     11     no      11.0         0.0         0.0   \n",
              "4          4.0        yes     11     no      11.0         0.0         0.0   \n",
              "\n",
              "   instlevel3  instlevel4  instlevel5  instlevel6  instlevel7  instlevel8  \\\n",
              "0         0.0         1.0         0.0         0.0         0.0         0.0   \n",
              "1         0.0         0.0         0.0         0.0         0.0         1.0   \n",
              "2         0.0         0.0         1.0         0.0         0.0         0.0   \n",
              "3         0.0         1.0         0.0         0.0         0.0         0.0   \n",
              "4         0.0         0.0         1.0         0.0         0.0         0.0   \n",
              "\n",
              "   instlevel9  bedrooms  overcrowding  tipovivi1  tipovivi2  tipovivi3  \\\n",
              "0         0.0       1.0      1.000000        0.0        0.0        1.0   \n",
              "1         0.0       1.0      1.000000        0.0        0.0        1.0   \n",
              "2         0.0       2.0      0.500000        1.0        0.0        0.0   \n",
              "3         0.0       3.0      1.333333        0.0        0.0        1.0   \n",
              "4         0.0       3.0      1.333333        0.0        0.0        1.0   \n",
              "\n",
              "   tipovivi4  tipovivi5  computer  television  mobilephone  qmobilephone  \\\n",
              "0        0.0        0.0       0.0         0.0          1.0           1.0   \n",
              "1        0.0        0.0       0.0         0.0          1.0           1.0   \n",
              "2        0.0        0.0       0.0         0.0          0.0           0.0   \n",
              "3        0.0        0.0       0.0         0.0          1.0           3.0   \n",
              "4        0.0        0.0       0.0         0.0          1.0           3.0   \n",
              "\n",
              "   lugar1  lugar2  lugar3  lugar4  lugar5  lugar6  area1  area2   age  \\\n",
              "0     1.0     0.0     0.0     0.0     0.0     0.0    1.0    0.0  43.0   \n",
              "1     1.0     0.0     0.0     0.0     0.0     0.0    1.0    0.0  67.0   \n",
              "2     1.0     0.0     0.0     0.0     0.0     0.0    1.0    0.0  92.0   \n",
              "3     1.0     0.0     0.0     0.0     0.0     0.0    1.0    0.0  17.0   \n",
              "4     1.0     0.0     0.0     0.0     0.0     0.0    1.0    0.0  37.0   \n",
              "\n",
              "   SQBescolari  SQBage  SQBhogar_total  SQBedjefe  SQBhogar_nin  \\\n",
              "0        100.0  1849.0             1.0      100.0           0.0   \n",
              "1        144.0  4489.0             1.0      144.0           0.0   \n",
              "2        121.0  8464.0             1.0        0.0           0.0   \n",
              "3         81.0   289.0            16.0      121.0           4.0   \n",
              "4        121.0  1369.0            16.0      121.0           4.0   \n",
              "\n",
              "   SQBovercrowding  SQBdependency  SQBmeaned   agesq  Target  \n",
              "0         1.000000            0.0      100.0  1849.0     4.0  \n",
              "1         1.000000           64.0      144.0  4489.0     4.0  \n",
              "2         0.250000           64.0      121.0  8464.0     4.0  \n",
              "3         1.777778            1.0      121.0   289.0     4.0  \n",
              "4         1.777778            1.0      121.0  1369.0     4.0  "
            ],
            "text/html": [
              "\n",
              "  <div id=\"df-4034bfd6-6776-4869-83a3-007d43a80420\">\n",
              "    <div class=\"colab-df-container\">\n",
              "      <div>\n",
              "<style scoped>\n",
              "    .dataframe tbody tr th:only-of-type {\n",
              "        vertical-align: middle;\n",
              "    }\n",
              "\n",
              "    .dataframe tbody tr th {\n",
              "        vertical-align: top;\n",
              "    }\n",
              "\n",
              "    .dataframe thead th {\n",
              "        text-align: right;\n",
              "    }\n",
              "</style>\n",
              "<table border=\"1\" class=\"dataframe\">\n",
              "  <thead>\n",
              "    <tr style=\"text-align: right;\">\n",
              "      <th></th>\n",
              "      <th>Id</th>\n",
              "      <th>v2a1</th>\n",
              "      <th>hacdor</th>\n",
              "      <th>rooms</th>\n",
              "      <th>hacapo</th>\n",
              "      <th>v14a</th>\n",
              "      <th>refrig</th>\n",
              "      <th>v18q</th>\n",
              "      <th>v18q1</th>\n",
              "      <th>r4h1</th>\n",
              "      <th>r4h2</th>\n",
              "      <th>r4h3</th>\n",
              "      <th>r4m1</th>\n",
              "      <th>r4m2</th>\n",
              "      <th>r4m3</th>\n",
              "      <th>r4t1</th>\n",
              "      <th>r4t2</th>\n",
              "      <th>r4t3</th>\n",
              "      <th>tamhog</th>\n",
              "      <th>tamviv</th>\n",
              "      <th>escolari</th>\n",
              "      <th>rez_esc</th>\n",
              "      <th>hhsize</th>\n",
              "      <th>paredblolad</th>\n",
              "      <th>paredzocalo</th>\n",
              "      <th>paredpreb</th>\n",
              "      <th>pareddes</th>\n",
              "      <th>paredmad</th>\n",
              "      <th>paredzinc</th>\n",
              "      <th>paredfibras</th>\n",
              "      <th>paredother</th>\n",
              "      <th>pisomoscer</th>\n",
              "      <th>pisocemento</th>\n",
              "      <th>pisoother</th>\n",
              "      <th>pisonatur</th>\n",
              "      <th>pisonotiene</th>\n",
              "      <th>pisomadera</th>\n",
              "      <th>techozinc</th>\n",
              "      <th>techoentrepiso</th>\n",
              "      <th>techocane</th>\n",
              "      <th>techootro</th>\n",
              "      <th>cielorazo</th>\n",
              "      <th>abastaguadentro</th>\n",
              "      <th>abastaguafuera</th>\n",
              "      <th>abastaguano</th>\n",
              "      <th>public</th>\n",
              "      <th>planpri</th>\n",
              "      <th>noelec</th>\n",
              "      <th>coopele</th>\n",
              "      <th>sanitario1</th>\n",
              "      <th>sanitario2</th>\n",
              "      <th>sanitario3</th>\n",
              "      <th>sanitario5</th>\n",
              "      <th>sanitario6</th>\n",
              "      <th>energcocinar1</th>\n",
              "      <th>energcocinar2</th>\n",
              "      <th>energcocinar3</th>\n",
              "      <th>energcocinar4</th>\n",
              "      <th>elimbasu1</th>\n",
              "      <th>elimbasu2</th>\n",
              "      <th>elimbasu3</th>\n",
              "      <th>elimbasu4</th>\n",
              "      <th>elimbasu5</th>\n",
              "      <th>elimbasu6</th>\n",
              "      <th>epared1</th>\n",
              "      <th>epared2</th>\n",
              "      <th>epared3</th>\n",
              "      <th>etecho1</th>\n",
              "      <th>etecho2</th>\n",
              "      <th>etecho3</th>\n",
              "      <th>eviv1</th>\n",
              "      <th>eviv2</th>\n",
              "      <th>eviv3</th>\n",
              "      <th>dis</th>\n",
              "      <th>male</th>\n",
              "      <th>female</th>\n",
              "      <th>estadocivil1</th>\n",
              "      <th>estadocivil2</th>\n",
              "      <th>estadocivil3</th>\n",
              "      <th>estadocivil4</th>\n",
              "      <th>estadocivil5</th>\n",
              "      <th>estadocivil6</th>\n",
              "      <th>estadocivil7</th>\n",
              "      <th>parentesco1</th>\n",
              "      <th>parentesco2</th>\n",
              "      <th>parentesco3</th>\n",
              "      <th>parentesco4</th>\n",
              "      <th>parentesco5</th>\n",
              "      <th>parentesco6</th>\n",
              "      <th>parentesco7</th>\n",
              "      <th>parentesco8</th>\n",
              "      <th>parentesco9</th>\n",
              "      <th>parentesco10</th>\n",
              "      <th>parentesco11</th>\n",
              "      <th>parentesco12</th>\n",
              "      <th>idhogar</th>\n",
              "      <th>hogar_nin</th>\n",
              "      <th>hogar_adul</th>\n",
              "      <th>hogar_mayor</th>\n",
              "      <th>hogar_total</th>\n",
              "      <th>dependency</th>\n",
              "      <th>edjefe</th>\n",
              "      <th>edjefa</th>\n",
              "      <th>meaneduc</th>\n",
              "      <th>instlevel1</th>\n",
              "      <th>instlevel2</th>\n",
              "      <th>instlevel3</th>\n",
              "      <th>instlevel4</th>\n",
              "      <th>instlevel5</th>\n",
              "      <th>instlevel6</th>\n",
              "      <th>instlevel7</th>\n",
              "      <th>instlevel8</th>\n",
              "      <th>instlevel9</th>\n",
              "      <th>bedrooms</th>\n",
              "      <th>overcrowding</th>\n",
              "      <th>tipovivi1</th>\n",
              "      <th>tipovivi2</th>\n",
              "      <th>tipovivi3</th>\n",
              "      <th>tipovivi4</th>\n",
              "      <th>tipovivi5</th>\n",
              "      <th>computer</th>\n",
              "      <th>television</th>\n",
              "      <th>mobilephone</th>\n",
              "      <th>qmobilephone</th>\n",
              "      <th>lugar1</th>\n",
              "      <th>lugar2</th>\n",
              "      <th>lugar3</th>\n",
              "      <th>lugar4</th>\n",
              "      <th>lugar5</th>\n",
              "      <th>lugar6</th>\n",
              "      <th>area1</th>\n",
              "      <th>area2</th>\n",
              "      <th>age</th>\n",
              "      <th>SQBescolari</th>\n",
              "      <th>SQBage</th>\n",
              "      <th>SQBhogar_total</th>\n",
              "      <th>SQBedjefe</th>\n",
              "      <th>SQBhogar_nin</th>\n",
              "      <th>SQBovercrowding</th>\n",
              "      <th>SQBdependency</th>\n",
              "      <th>SQBmeaned</th>\n",
              "      <th>agesq</th>\n",
              "      <th>Target</th>\n",
              "    </tr>\n",
              "  </thead>\n",
              "  <tbody>\n",
              "    <tr>\n",
              "      <th>0</th>\n",
              "      <td>ID_279628684</td>\n",
              "      <td>190000.0</td>\n",
              "      <td>0</td>\n",
              "      <td>3</td>\n",
              "      <td>0</td>\n",
              "      <td>1</td>\n",
              "      <td>1</td>\n",
              "      <td>0</td>\n",
              "      <td>NaN</td>\n",
              "      <td>0</td>\n",
              "      <td>1</td>\n",
              "      <td>1</td>\n",
              "      <td>0</td>\n",
              "      <td>0</td>\n",
              "      <td>0</td>\n",
              "      <td>0</td>\n",
              "      <td>1</td>\n",
              "      <td>1</td>\n",
              "      <td>1</td>\n",
              "      <td>1</td>\n",
              "      <td>10</td>\n",
              "      <td>NaN</td>\n",
              "      <td>1</td>\n",
              "      <td>1</td>\n",
              "      <td>0</td>\n",
              "      <td>0</td>\n",
              "      <td>0</td>\n",
              "      <td>0</td>\n",
              "      <td>0</td>\n",
              "      <td>0</td>\n",
              "      <td>0</td>\n",
              "      <td>1</td>\n",
              "      <td>0</td>\n",
              "      <td>0</td>\n",
              "      <td>0</td>\n",
              "      <td>0</td>\n",
              "      <td>0</td>\n",
              "      <td>0</td>\n",
              "      <td>1</td>\n",
              "      <td>0</td>\n",
              "      <td>0</td>\n",
              "      <td>1</td>\n",
              "      <td>1</td>\n",
              "      <td>0</td>\n",
              "      <td>0</td>\n",
              "      <td>1</td>\n",
              "      <td>0</td>\n",
              "      <td>0</td>\n",
              "      <td>0</td>\n",
              "      <td>0</td>\n",
              "      <td>1</td>\n",
              "      <td>0</td>\n",
              "      <td>0</td>\n",
              "      <td>0</td>\n",
              "      <td>0</td>\n",
              "      <td>0</td>\n",
              "      <td>1</td>\n",
              "      <td>0</td>\n",
              "      <td>1</td>\n",
              "      <td>0</td>\n",
              "      <td>0</td>\n",
              "      <td>0</td>\n",
              "      <td>0</td>\n",
              "      <td>0</td>\n",
              "      <td>0</td>\n",
              "      <td>1</td>\n",
              "      <td>0</td>\n",
              "      <td>1</td>\n",
              "      <td>0</td>\n",
              "      <td>0</td>\n",
              "      <td>1</td>\n",
              "      <td>0</td>\n",
              "      <td>0</td>\n",
              "      <td>0</td>\n",
              "      <td>1</td>\n",
              "      <td>0</td>\n",
              "      <td>0</td>\n",
              "      <td>0.0</td>\n",
              "      <td>0.0</td>\n",
              "      <td>1.0</td>\n",
              "      <td>0.0</td>\n",
              "      <td>0.0</td>\n",
              "      <td>0.0</td>\n",
              "      <td>1.0</td>\n",
              "      <td>0.0</td>\n",
              "      <td>0.0</td>\n",
              "      <td>0.0</td>\n",
              "      <td>0.0</td>\n",
              "      <td>0.0</td>\n",
              "      <td>0.0</td>\n",
              "      <td>0.0</td>\n",
              "      <td>0.0</td>\n",
              "      <td>0.0</td>\n",
              "      <td>0.0</td>\n",
              "      <td>0.0</td>\n",
              "      <td>21eb7fcc1</td>\n",
              "      <td>0.0</td>\n",
              "      <td>1.0</td>\n",
              "      <td>0.0</td>\n",
              "      <td>1.0</td>\n",
              "      <td>no</td>\n",
              "      <td>10</td>\n",
              "      <td>no</td>\n",
              "      <td>10.0</td>\n",
              "      <td>0.0</td>\n",
              "      <td>0.0</td>\n",
              "      <td>0.0</td>\n",
              "      <td>1.0</td>\n",
              "      <td>0.0</td>\n",
              "      <td>0.0</td>\n",
              "      <td>0.0</td>\n",
              "      <td>0.0</td>\n",
              "      <td>0.0</td>\n",
              "      <td>1.0</td>\n",
              "      <td>1.000000</td>\n",
              "      <td>0.0</td>\n",
              "      <td>0.0</td>\n",
              "      <td>1.0</td>\n",
              "      <td>0.0</td>\n",
              "      <td>0.0</td>\n",
              "      <td>0.0</td>\n",
              "      <td>0.0</td>\n",
              "      <td>1.0</td>\n",
              "      <td>1.0</td>\n",
              "      <td>1.0</td>\n",
              "      <td>0.0</td>\n",
              "      <td>0.0</td>\n",
              "      <td>0.0</td>\n",
              "      <td>0.0</td>\n",
              "      <td>0.0</td>\n",
              "      <td>1.0</td>\n",
              "      <td>0.0</td>\n",
              "      <td>43.0</td>\n",
              "      <td>100.0</td>\n",
              "      <td>1849.0</td>\n",
              "      <td>1.0</td>\n",
              "      <td>100.0</td>\n",
              "      <td>0.0</td>\n",
              "      <td>1.000000</td>\n",
              "      <td>0.0</td>\n",
              "      <td>100.0</td>\n",
              "      <td>1849.0</td>\n",
              "      <td>4.0</td>\n",
              "    </tr>\n",
              "    <tr>\n",
              "      <th>1</th>\n",
              "      <td>ID_f29eb3ddd</td>\n",
              "      <td>135000.0</td>\n",
              "      <td>0</td>\n",
              "      <td>4</td>\n",
              "      <td>0</td>\n",
              "      <td>1</td>\n",
              "      <td>1</td>\n",
              "      <td>1</td>\n",
              "      <td>1.0</td>\n",
              "      <td>0</td>\n",
              "      <td>1</td>\n",
              "      <td>1</td>\n",
              "      <td>0</td>\n",
              "      <td>0</td>\n",
              "      <td>0</td>\n",
              "      <td>0</td>\n",
              "      <td>1</td>\n",
              "      <td>1</td>\n",
              "      <td>1</td>\n",
              "      <td>1</td>\n",
              "      <td>12</td>\n",
              "      <td>NaN</td>\n",
              "      <td>1</td>\n",
              "      <td>0</td>\n",
              "      <td>0</td>\n",
              "      <td>0</td>\n",
              "      <td>0</td>\n",
              "      <td>1</td>\n",
              "      <td>0</td>\n",
              "      <td>0</td>\n",
              "      <td>0</td>\n",
              "      <td>0</td>\n",
              "      <td>0</td>\n",
              "      <td>0</td>\n",
              "      <td>0</td>\n",
              "      <td>0</td>\n",
              "      <td>1</td>\n",
              "      <td>1</td>\n",
              "      <td>0</td>\n",
              "      <td>0</td>\n",
              "      <td>0</td>\n",
              "      <td>1</td>\n",
              "      <td>1</td>\n",
              "      <td>0</td>\n",
              "      <td>0</td>\n",
              "      <td>1</td>\n",
              "      <td>0</td>\n",
              "      <td>0</td>\n",
              "      <td>0</td>\n",
              "      <td>0</td>\n",
              "      <td>1</td>\n",
              "      <td>0</td>\n",
              "      <td>0</td>\n",
              "      <td>0</td>\n",
              "      <td>0</td>\n",
              "      <td>1</td>\n",
              "      <td>0</td>\n",
              "      <td>0</td>\n",
              "      <td>1</td>\n",
              "      <td>0</td>\n",
              "      <td>0</td>\n",
              "      <td>0</td>\n",
              "      <td>0</td>\n",
              "      <td>0</td>\n",
              "      <td>0</td>\n",
              "      <td>1</td>\n",
              "      <td>0</td>\n",
              "      <td>0</td>\n",
              "      <td>1</td>\n",
              "      <td>0</td>\n",
              "      <td>0</td>\n",
              "      <td>1</td>\n",
              "      <td>0</td>\n",
              "      <td>0</td>\n",
              "      <td>1</td>\n",
              "      <td>0</td>\n",
              "      <td>0</td>\n",
              "      <td>0.0</td>\n",
              "      <td>0.0</td>\n",
              "      <td>1.0</td>\n",
              "      <td>0.0</td>\n",
              "      <td>0.0</td>\n",
              "      <td>0.0</td>\n",
              "      <td>1.0</td>\n",
              "      <td>0.0</td>\n",
              "      <td>0.0</td>\n",
              "      <td>0.0</td>\n",
              "      <td>0.0</td>\n",
              "      <td>0.0</td>\n",
              "      <td>0.0</td>\n",
              "      <td>0.0</td>\n",
              "      <td>0.0</td>\n",
              "      <td>0.0</td>\n",
              "      <td>0.0</td>\n",
              "      <td>0.0</td>\n",
              "      <td>0e5d7a658</td>\n",
              "      <td>0.0</td>\n",
              "      <td>1.0</td>\n",
              "      <td>1.0</td>\n",
              "      <td>1.0</td>\n",
              "      <td>8</td>\n",
              "      <td>12</td>\n",
              "      <td>no</td>\n",
              "      <td>12.0</td>\n",
              "      <td>0.0</td>\n",
              "      <td>0.0</td>\n",
              "      <td>0.0</td>\n",
              "      <td>0.0</td>\n",
              "      <td>0.0</td>\n",
              "      <td>0.0</td>\n",
              "      <td>0.0</td>\n",
              "      <td>1.0</td>\n",
              "      <td>0.0</td>\n",
              "      <td>1.0</td>\n",
              "      <td>1.000000</td>\n",
              "      <td>0.0</td>\n",
              "      <td>0.0</td>\n",
              "      <td>1.0</td>\n",
              "      <td>0.0</td>\n",
              "      <td>0.0</td>\n",
              "      <td>0.0</td>\n",
              "      <td>0.0</td>\n",
              "      <td>1.0</td>\n",
              "      <td>1.0</td>\n",
              "      <td>1.0</td>\n",
              "      <td>0.0</td>\n",
              "      <td>0.0</td>\n",
              "      <td>0.0</td>\n",
              "      <td>0.0</td>\n",
              "      <td>0.0</td>\n",
              "      <td>1.0</td>\n",
              "      <td>0.0</td>\n",
              "      <td>67.0</td>\n",
              "      <td>144.0</td>\n",
              "      <td>4489.0</td>\n",
              "      <td>1.0</td>\n",
              "      <td>144.0</td>\n",
              "      <td>0.0</td>\n",
              "      <td>1.000000</td>\n",
              "      <td>64.0</td>\n",
              "      <td>144.0</td>\n",
              "      <td>4489.0</td>\n",
              "      <td>4.0</td>\n",
              "    </tr>\n",
              "    <tr>\n",
              "      <th>2</th>\n",
              "      <td>ID_68de51c94</td>\n",
              "      <td>NaN</td>\n",
              "      <td>0</td>\n",
              "      <td>8</td>\n",
              "      <td>0</td>\n",
              "      <td>1</td>\n",
              "      <td>1</td>\n",
              "      <td>0</td>\n",
              "      <td>NaN</td>\n",
              "      <td>0</td>\n",
              "      <td>0</td>\n",
              "      <td>0</td>\n",
              "      <td>0</td>\n",
              "      <td>1</td>\n",
              "      <td>1</td>\n",
              "      <td>0</td>\n",
              "      <td>1</td>\n",
              "      <td>1</td>\n",
              "      <td>1</td>\n",
              "      <td>1</td>\n",
              "      <td>11</td>\n",
              "      <td>NaN</td>\n",
              "      <td>1</td>\n",
              "      <td>0</td>\n",
              "      <td>0</td>\n",
              "      <td>0</td>\n",
              "      <td>0</td>\n",
              "      <td>1</td>\n",
              "      <td>0</td>\n",
              "      <td>0</td>\n",
              "      <td>0</td>\n",
              "      <td>1</td>\n",
              "      <td>0</td>\n",
              "      <td>0</td>\n",
              "      <td>0</td>\n",
              "      <td>0</td>\n",
              "      <td>0</td>\n",
              "      <td>1</td>\n",
              "      <td>0</td>\n",
              "      <td>0</td>\n",
              "      <td>0</td>\n",
              "      <td>1</td>\n",
              "      <td>1</td>\n",
              "      <td>0</td>\n",
              "      <td>0</td>\n",
              "      <td>1</td>\n",
              "      <td>0</td>\n",
              "      <td>0</td>\n",
              "      <td>0</td>\n",
              "      <td>0</td>\n",
              "      <td>1</td>\n",
              "      <td>0</td>\n",
              "      <td>0</td>\n",
              "      <td>0</td>\n",
              "      <td>0</td>\n",
              "      <td>1</td>\n",
              "      <td>0</td>\n",
              "      <td>0</td>\n",
              "      <td>1</td>\n",
              "      <td>0</td>\n",
              "      <td>0</td>\n",
              "      <td>0</td>\n",
              "      <td>0</td>\n",
              "      <td>0</td>\n",
              "      <td>0</td>\n",
              "      <td>1</td>\n",
              "      <td>0</td>\n",
              "      <td>0</td>\n",
              "      <td>0</td>\n",
              "      <td>1</td>\n",
              "      <td>0</td>\n",
              "      <td>0</td>\n",
              "      <td>1</td>\n",
              "      <td>1</td>\n",
              "      <td>0</td>\n",
              "      <td>1</td>\n",
              "      <td>0</td>\n",
              "      <td>0.0</td>\n",
              "      <td>0.0</td>\n",
              "      <td>0.0</td>\n",
              "      <td>0.0</td>\n",
              "      <td>1.0</td>\n",
              "      <td>0.0</td>\n",
              "      <td>1.0</td>\n",
              "      <td>0.0</td>\n",
              "      <td>0.0</td>\n",
              "      <td>0.0</td>\n",
              "      <td>0.0</td>\n",
              "      <td>0.0</td>\n",
              "      <td>0.0</td>\n",
              "      <td>0.0</td>\n",
              "      <td>0.0</td>\n",
              "      <td>0.0</td>\n",
              "      <td>0.0</td>\n",
              "      <td>0.0</td>\n",
              "      <td>2c7317ea8</td>\n",
              "      <td>0.0</td>\n",
              "      <td>1.0</td>\n",
              "      <td>1.0</td>\n",
              "      <td>1.0</td>\n",
              "      <td>8</td>\n",
              "      <td>no</td>\n",
              "      <td>11</td>\n",
              "      <td>11.0</td>\n",
              "      <td>0.0</td>\n",
              "      <td>0.0</td>\n",
              "      <td>0.0</td>\n",
              "      <td>0.0</td>\n",
              "      <td>1.0</td>\n",
              "      <td>0.0</td>\n",
              "      <td>0.0</td>\n",
              "      <td>0.0</td>\n",
              "      <td>0.0</td>\n",
              "      <td>2.0</td>\n",
              "      <td>0.500000</td>\n",
              "      <td>1.0</td>\n",
              "      <td>0.0</td>\n",
              "      <td>0.0</td>\n",
              "      <td>0.0</td>\n",
              "      <td>0.0</td>\n",
              "      <td>0.0</td>\n",
              "      <td>0.0</td>\n",
              "      <td>0.0</td>\n",
              "      <td>0.0</td>\n",
              "      <td>1.0</td>\n",
              "      <td>0.0</td>\n",
              "      <td>0.0</td>\n",
              "      <td>0.0</td>\n",
              "      <td>0.0</td>\n",
              "      <td>0.0</td>\n",
              "      <td>1.0</td>\n",
              "      <td>0.0</td>\n",
              "      <td>92.0</td>\n",
              "      <td>121.0</td>\n",
              "      <td>8464.0</td>\n",
              "      <td>1.0</td>\n",
              "      <td>0.0</td>\n",
              "      <td>0.0</td>\n",
              "      <td>0.250000</td>\n",
              "      <td>64.0</td>\n",
              "      <td>121.0</td>\n",
              "      <td>8464.0</td>\n",
              "      <td>4.0</td>\n",
              "    </tr>\n",
              "    <tr>\n",
              "      <th>3</th>\n",
              "      <td>ID_d671db89c</td>\n",
              "      <td>180000.0</td>\n",
              "      <td>0</td>\n",
              "      <td>5</td>\n",
              "      <td>0</td>\n",
              "      <td>1</td>\n",
              "      <td>1</td>\n",
              "      <td>1</td>\n",
              "      <td>1.0</td>\n",
              "      <td>0</td>\n",
              "      <td>2</td>\n",
              "      <td>2</td>\n",
              "      <td>1</td>\n",
              "      <td>1</td>\n",
              "      <td>2</td>\n",
              "      <td>1</td>\n",
              "      <td>3</td>\n",
              "      <td>4</td>\n",
              "      <td>4</td>\n",
              "      <td>4</td>\n",
              "      <td>9</td>\n",
              "      <td>1.0</td>\n",
              "      <td>4</td>\n",
              "      <td>1</td>\n",
              "      <td>0</td>\n",
              "      <td>0</td>\n",
              "      <td>0</td>\n",
              "      <td>0</td>\n",
              "      <td>0</td>\n",
              "      <td>0</td>\n",
              "      <td>0</td>\n",
              "      <td>1</td>\n",
              "      <td>0</td>\n",
              "      <td>0</td>\n",
              "      <td>0</td>\n",
              "      <td>0</td>\n",
              "      <td>0</td>\n",
              "      <td>1</td>\n",
              "      <td>0</td>\n",
              "      <td>0</td>\n",
              "      <td>0</td>\n",
              "      <td>1</td>\n",
              "      <td>1</td>\n",
              "      <td>0</td>\n",
              "      <td>0</td>\n",
              "      <td>1</td>\n",
              "      <td>0</td>\n",
              "      <td>0</td>\n",
              "      <td>0</td>\n",
              "      <td>0</td>\n",
              "      <td>1</td>\n",
              "      <td>0</td>\n",
              "      <td>0</td>\n",
              "      <td>0</td>\n",
              "      <td>0</td>\n",
              "      <td>1</td>\n",
              "      <td>0</td>\n",
              "      <td>0</td>\n",
              "      <td>1</td>\n",
              "      <td>0</td>\n",
              "      <td>0</td>\n",
              "      <td>0</td>\n",
              "      <td>0</td>\n",
              "      <td>0</td>\n",
              "      <td>0</td>\n",
              "      <td>0</td>\n",
              "      <td>1</td>\n",
              "      <td>0</td>\n",
              "      <td>0</td>\n",
              "      <td>1</td>\n",
              "      <td>0</td>\n",
              "      <td>0</td>\n",
              "      <td>1</td>\n",
              "      <td>0</td>\n",
              "      <td>1</td>\n",
              "      <td>0</td>\n",
              "      <td>0</td>\n",
              "      <td>0.0</td>\n",
              "      <td>0.0</td>\n",
              "      <td>0.0</td>\n",
              "      <td>0.0</td>\n",
              "      <td>0.0</td>\n",
              "      <td>1.0</td>\n",
              "      <td>0.0</td>\n",
              "      <td>0.0</td>\n",
              "      <td>1.0</td>\n",
              "      <td>0.0</td>\n",
              "      <td>0.0</td>\n",
              "      <td>0.0</td>\n",
              "      <td>0.0</td>\n",
              "      <td>0.0</td>\n",
              "      <td>0.0</td>\n",
              "      <td>0.0</td>\n",
              "      <td>0.0</td>\n",
              "      <td>0.0</td>\n",
              "      <td>2b58d945f</td>\n",
              "      <td>2.0</td>\n",
              "      <td>2.0</td>\n",
              "      <td>0.0</td>\n",
              "      <td>4.0</td>\n",
              "      <td>yes</td>\n",
              "      <td>11</td>\n",
              "      <td>no</td>\n",
              "      <td>11.0</td>\n",
              "      <td>0.0</td>\n",
              "      <td>0.0</td>\n",
              "      <td>0.0</td>\n",
              "      <td>1.0</td>\n",
              "      <td>0.0</td>\n",
              "      <td>0.0</td>\n",
              "      <td>0.0</td>\n",
              "      <td>0.0</td>\n",
              "      <td>0.0</td>\n",
              "      <td>3.0</td>\n",
              "      <td>1.333333</td>\n",
              "      <td>0.0</td>\n",
              "      <td>0.0</td>\n",
              "      <td>1.0</td>\n",
              "      <td>0.0</td>\n",
              "      <td>0.0</td>\n",
              "      <td>0.0</td>\n",
              "      <td>0.0</td>\n",
              "      <td>1.0</td>\n",
              "      <td>3.0</td>\n",
              "      <td>1.0</td>\n",
              "      <td>0.0</td>\n",
              "      <td>0.0</td>\n",
              "      <td>0.0</td>\n",
              "      <td>0.0</td>\n",
              "      <td>0.0</td>\n",
              "      <td>1.0</td>\n",
              "      <td>0.0</td>\n",
              "      <td>17.0</td>\n",
              "      <td>81.0</td>\n",
              "      <td>289.0</td>\n",
              "      <td>16.0</td>\n",
              "      <td>121.0</td>\n",
              "      <td>4.0</td>\n",
              "      <td>1.777778</td>\n",
              "      <td>1.0</td>\n",
              "      <td>121.0</td>\n",
              "      <td>289.0</td>\n",
              "      <td>4.0</td>\n",
              "    </tr>\n",
              "    <tr>\n",
              "      <th>4</th>\n",
              "      <td>ID_d56d6f5f5</td>\n",
              "      <td>180000.0</td>\n",
              "      <td>0</td>\n",
              "      <td>5</td>\n",
              "      <td>0</td>\n",
              "      <td>1</td>\n",
              "      <td>1</td>\n",
              "      <td>1</td>\n",
              "      <td>1.0</td>\n",
              "      <td>0</td>\n",
              "      <td>2</td>\n",
              "      <td>2</td>\n",
              "      <td>1</td>\n",
              "      <td>1</td>\n",
              "      <td>2</td>\n",
              "      <td>1</td>\n",
              "      <td>3</td>\n",
              "      <td>4</td>\n",
              "      <td>4</td>\n",
              "      <td>4</td>\n",
              "      <td>11</td>\n",
              "      <td>NaN</td>\n",
              "      <td>4</td>\n",
              "      <td>1</td>\n",
              "      <td>0</td>\n",
              "      <td>0</td>\n",
              "      <td>0</td>\n",
              "      <td>0</td>\n",
              "      <td>0</td>\n",
              "      <td>0</td>\n",
              "      <td>0</td>\n",
              "      <td>1</td>\n",
              "      <td>0</td>\n",
              "      <td>0</td>\n",
              "      <td>0</td>\n",
              "      <td>0</td>\n",
              "      <td>0</td>\n",
              "      <td>1</td>\n",
              "      <td>0</td>\n",
              "      <td>0</td>\n",
              "      <td>0</td>\n",
              "      <td>1</td>\n",
              "      <td>1</td>\n",
              "      <td>0</td>\n",
              "      <td>0</td>\n",
              "      <td>1</td>\n",
              "      <td>0</td>\n",
              "      <td>0</td>\n",
              "      <td>0</td>\n",
              "      <td>0</td>\n",
              "      <td>1</td>\n",
              "      <td>0</td>\n",
              "      <td>0</td>\n",
              "      <td>0</td>\n",
              "      <td>0</td>\n",
              "      <td>1</td>\n",
              "      <td>0</td>\n",
              "      <td>0</td>\n",
              "      <td>1</td>\n",
              "      <td>0</td>\n",
              "      <td>0</td>\n",
              "      <td>0</td>\n",
              "      <td>0</td>\n",
              "      <td>0</td>\n",
              "      <td>0</td>\n",
              "      <td>0</td>\n",
              "      <td>1</td>\n",
              "      <td>0</td>\n",
              "      <td>0</td>\n",
              "      <td>1</td>\n",
              "      <td>0</td>\n",
              "      <td>0</td>\n",
              "      <td>1</td>\n",
              "      <td>0</td>\n",
              "      <td>0</td>\n",
              "      <td>1</td>\n",
              "      <td>0</td>\n",
              "      <td>1.0</td>\n",
              "      <td>0.0</td>\n",
              "      <td>0.0</td>\n",
              "      <td>0.0</td>\n",
              "      <td>0.0</td>\n",
              "      <td>0.0</td>\n",
              "      <td>0.0</td>\n",
              "      <td>1.0</td>\n",
              "      <td>0.0</td>\n",
              "      <td>0.0</td>\n",
              "      <td>0.0</td>\n",
              "      <td>0.0</td>\n",
              "      <td>0.0</td>\n",
              "      <td>0.0</td>\n",
              "      <td>0.0</td>\n",
              "      <td>0.0</td>\n",
              "      <td>0.0</td>\n",
              "      <td>0.0</td>\n",
              "      <td>2b58d945f</td>\n",
              "      <td>2.0</td>\n",
              "      <td>2.0</td>\n",
              "      <td>0.0</td>\n",
              "      <td>4.0</td>\n",
              "      <td>yes</td>\n",
              "      <td>11</td>\n",
              "      <td>no</td>\n",
              "      <td>11.0</td>\n",
              "      <td>0.0</td>\n",
              "      <td>0.0</td>\n",
              "      <td>0.0</td>\n",
              "      <td>0.0</td>\n",
              "      <td>1.0</td>\n",
              "      <td>0.0</td>\n",
              "      <td>0.0</td>\n",
              "      <td>0.0</td>\n",
              "      <td>0.0</td>\n",
              "      <td>3.0</td>\n",
              "      <td>1.333333</td>\n",
              "      <td>0.0</td>\n",
              "      <td>0.0</td>\n",
              "      <td>1.0</td>\n",
              "      <td>0.0</td>\n",
              "      <td>0.0</td>\n",
              "      <td>0.0</td>\n",
              "      <td>0.0</td>\n",
              "      <td>1.0</td>\n",
              "      <td>3.0</td>\n",
              "      <td>1.0</td>\n",
              "      <td>0.0</td>\n",
              "      <td>0.0</td>\n",
              "      <td>0.0</td>\n",
              "      <td>0.0</td>\n",
              "      <td>0.0</td>\n",
              "      <td>1.0</td>\n",
              "      <td>0.0</td>\n",
              "      <td>37.0</td>\n",
              "      <td>121.0</td>\n",
              "      <td>1369.0</td>\n",
              "      <td>16.0</td>\n",
              "      <td>121.0</td>\n",
              "      <td>4.0</td>\n",
              "      <td>1.777778</td>\n",
              "      <td>1.0</td>\n",
              "      <td>121.0</td>\n",
              "      <td>1369.0</td>\n",
              "      <td>4.0</td>\n",
              "    </tr>\n",
              "  </tbody>\n",
              "</table>\n",
              "</div>\n",
              "      <button class=\"colab-df-convert\" onclick=\"convertToInteractive('df-4034bfd6-6776-4869-83a3-007d43a80420')\"\n",
              "              title=\"Convert this dataframe to an interactive table.\"\n",
              "              style=\"display:none;\">\n",
              "        \n",
              "  <svg xmlns=\"http://www.w3.org/2000/svg\" height=\"24px\"viewBox=\"0 0 24 24\"\n",
              "       width=\"24px\">\n",
              "    <path d=\"M0 0h24v24H0V0z\" fill=\"none\"/>\n",
              "    <path d=\"M18.56 5.44l.94 2.06.94-2.06 2.06-.94-2.06-.94-.94-2.06-.94 2.06-2.06.94zm-11 1L8.5 8.5l.94-2.06 2.06-.94-2.06-.94L8.5 2.5l-.94 2.06-2.06.94zm10 10l.94 2.06.94-2.06 2.06-.94-2.06-.94-.94-2.06-.94 2.06-2.06.94z\"/><path d=\"M17.41 7.96l-1.37-1.37c-.4-.4-.92-.59-1.43-.59-.52 0-1.04.2-1.43.59L10.3 9.45l-7.72 7.72c-.78.78-.78 2.05 0 2.83L4 21.41c.39.39.9.59 1.41.59.51 0 1.02-.2 1.41-.59l7.78-7.78 2.81-2.81c.8-.78.8-2.07 0-2.86zM5.41 20L4 18.59l7.72-7.72 1.47 1.35L5.41 20z\"/>\n",
              "  </svg>\n",
              "      </button>\n",
              "      \n",
              "  <style>\n",
              "    .colab-df-container {\n",
              "      display:flex;\n",
              "      flex-wrap:wrap;\n",
              "      gap: 12px;\n",
              "    }\n",
              "\n",
              "    .colab-df-convert {\n",
              "      background-color: #E8F0FE;\n",
              "      border: none;\n",
              "      border-radius: 50%;\n",
              "      cursor: pointer;\n",
              "      display: none;\n",
              "      fill: #1967D2;\n",
              "      height: 32px;\n",
              "      padding: 0 0 0 0;\n",
              "      width: 32px;\n",
              "    }\n",
              "\n",
              "    .colab-df-convert:hover {\n",
              "      background-color: #E2EBFA;\n",
              "      box-shadow: 0px 1px 2px rgba(60, 64, 67, 0.3), 0px 1px 3px 1px rgba(60, 64, 67, 0.15);\n",
              "      fill: #174EA6;\n",
              "    }\n",
              "\n",
              "    [theme=dark] .colab-df-convert {\n",
              "      background-color: #3B4455;\n",
              "      fill: #D2E3FC;\n",
              "    }\n",
              "\n",
              "    [theme=dark] .colab-df-convert:hover {\n",
              "      background-color: #434B5C;\n",
              "      box-shadow: 0px 1px 3px 1px rgba(0, 0, 0, 0.15);\n",
              "      filter: drop-shadow(0px 1px 2px rgba(0, 0, 0, 0.3));\n",
              "      fill: #FFFFFF;\n",
              "    }\n",
              "  </style>\n",
              "\n",
              "      <script>\n",
              "        const buttonEl =\n",
              "          document.querySelector('#df-4034bfd6-6776-4869-83a3-007d43a80420 button.colab-df-convert');\n",
              "        buttonEl.style.display =\n",
              "          google.colab.kernel.accessAllowed ? 'block' : 'none';\n",
              "\n",
              "        async function convertToInteractive(key) {\n",
              "          const element = document.querySelector('#df-4034bfd6-6776-4869-83a3-007d43a80420');\n",
              "          const dataTable =\n",
              "            await google.colab.kernel.invokeFunction('convertToInteractive',\n",
              "                                                     [key], {});\n",
              "          if (!dataTable) return;\n",
              "\n",
              "          const docLinkHtml = 'Like what you see? Visit the ' +\n",
              "            '<a target=\"_blank\" href=https://colab.research.google.com/notebooks/data_table.ipynb>data table notebook</a>'\n",
              "            + ' to learn more about interactive tables.';\n",
              "          element.innerHTML = '';\n",
              "          dataTable['output_type'] = 'display_data';\n",
              "          await google.colab.output.renderOutput(dataTable, element);\n",
              "          const docLink = document.createElement('div');\n",
              "          docLink.innerHTML = docLinkHtml;\n",
              "          element.appendChild(docLink);\n",
              "        }\n",
              "      </script>\n",
              "    </div>\n",
              "  </div>\n",
              "  "
            ]
          },
          "metadata": {},
          "execution_count": 3
        }
      ]
    },
    {
      "cell_type": "code",
      "source": [
        "train.info()"
      ],
      "metadata": {
        "colab": {
          "base_uri": "https://localhost:8080/"
        },
        "id": "_kXqEf9tSW5S",
        "outputId": "efc8b133-16a1-4a5c-96d5-3f8dac8027bd"
      },
      "execution_count": 4,
      "outputs": [
        {
          "output_type": "stream",
          "name": "stdout",
          "text": [
            "<class 'pandas.core.frame.DataFrame'>\n",
            "RangeIndex: 6156 entries, 0 to 6155\n",
            "Columns: 143 entries, Id to Target\n",
            "dtypes: float64(65), int64(73), object(5)\n",
            "memory usage: 6.7+ MB\n"
          ]
        }
      ]
    },
    {
      "cell_type": "code",
      "source": [
        "test.info()"
      ],
      "metadata": {
        "colab": {
          "base_uri": "https://localhost:8080/"
        },
        "id": "U5LgQnBHSXz4",
        "outputId": "6599b7e0-5b5f-452d-f52a-319f97620f85"
      },
      "execution_count": 5,
      "outputs": [
        {
          "output_type": "stream",
          "name": "stdout",
          "text": [
            "<class 'pandas.core.frame.DataFrame'>\n",
            "RangeIndex: 6179 entries, 0 to 6178\n",
            "Columns: 142 entries, Id to agesq\n",
            "dtypes: float64(28), int64(109), object(5)\n",
            "memory usage: 6.7+ MB\n"
          ]
        }
      ]
    },
    {
      "cell_type": "code",
      "source": [
        "#integer columns\n",
        "\n",
        "train.select_dtypes(np.int64).nunique().value_counts().sort_index().plot.bar(color='blue',\n",
        "                                                                             figsize = (8,6),\n",
        "                                                                             edgecolor='k', linewidth=2)\n",
        "plt.xlabel('Number of Unique Values');\n",
        "plt.ylabel('Count');\n",
        "plt.title('Count of Unique Values in Integer Columns')"
      ],
      "metadata": {
        "colab": {
          "base_uri": "https://localhost:8080/",
          "height": 425
        },
        "id": "pl6mNA4ySYor",
        "outputId": "ea4be2ff-764b-48a7-f67b-fc3e995d53bf"
      },
      "execution_count": 6,
      "outputs": [
        {
          "output_type": "execute_result",
          "data": {
            "text/plain": [
              "Text(0.5, 1.0, 'Count of Unique Values in Integer Columns')"
            ]
          },
          "metadata": {},
          "execution_count": 6
        },
        {
          "output_type": "display_data",
          "data": {
            "text/plain": [
              "<Figure size 576x432 with 1 Axes>"
            ],
            "image/png": "[encoded data removed]"
          },
          "metadata": {
            "needs_background": "light"
          }
        }
      ]
    },
    {
      "cell_type": "code",
      "source": [
        "#Float columns는 연속형 변수이기에 OrderDict를 mapping하여 색깔을 숫자로 변경\n",
        "#키값이 같은 order을 갖는다.: Python dictionary랑 다름\n",
        "\n",
        "from collections import OrderedDict\n",
        "\n",
        "plt.figure(figsize = (20,16))\n",
        "plt.style.use('fivethirtyeight')\n",
        "\n",
        "#Color mapping\n",
        "colors = OrderedDict({1:'red', 2:'orange', 3:'blue', 4:'green'})\n",
        "poverty_mapping = OrderedDict({1:'extreme', 2:'moderate', 3:'vulnerable', 4:'non vulnerable'})\n",
        "\n",
        "#iterate through the float columns\n",
        "\n",
        "for i, col in enumerate(train.select_dtypes('float')):\n",
        "    ax = plt.subplot(4,2, i+1)\n",
        "    #Iterate through the poverty leves\n",
        "    for poverty_level, color in colors.items():\n",
        "        #Plot each poverty level as a separate line\n",
        "        sns.kdeplot(train.loc[train['Target']== poverty_level,col].dropna(),\n",
        "                    ax = ax, color = color, label = poverty_mapping[poverty_level])\n",
        "    plt.title(f'{col.capitalize()} Distribution');\n",
        "    plt.xlabel(f'{col}');\n",
        "    plt.ylabel('Density')\n",
        "plt.subplots_adjust(top=2)\n",
        "\n",
        "\"\"\"\n",
        "representing the average education of the adults in the household \n",
        "appears to be related to the poverty level: \n",
        "a higher average adult education leads to higher values of the target \n",
        "which are less severe levels of poverty\n",
        "\"\"\""
      ],
      "metadata": {
        "colab": {
          "base_uri": "https://localhost:8080/",
          "height": 867
        },
        "id": "lPVxPjRhTj61",
        "outputId": "207a9fb2-86f6-4308-8d08-504dba9c066a"
      },
      "execution_count": 7,
      "outputs": [
        {
          "output_type": "error",
          "ename": "ValueError",
          "evalue": "ignored",
          "traceback": [
            "\u001b[0;31m---------------------------------------------------------------------------\u001b[0m",
            "\u001b[0;31mValueError\u001b[0m                                Traceback (most recent call last)",
            "\u001b[0;32m<ipython-input-7-9d9d854ccee3>\u001b[0m in \u001b[0;36m<module>\u001b[0;34m()\u001b[0m\n\u001b[1;32m     14\u001b[0m \u001b[0;34m\u001b[0m\u001b[0m\n\u001b[1;32m     15\u001b[0m \u001b[0;32mfor\u001b[0m \u001b[0mi\u001b[0m\u001b[0;34m,\u001b[0m \u001b[0mcol\u001b[0m \u001b[0;32min\u001b[0m \u001b[0menumerate\u001b[0m\u001b[0;34m(\u001b[0m\u001b[0mtrain\u001b[0m\u001b[0;34m.\u001b[0m\u001b[0mselect_dtypes\u001b[0m\u001b[0;34m(\u001b[0m\u001b[0;34m'float'\u001b[0m\u001b[0;34m)\u001b[0m\u001b[0;34m)\u001b[0m\u001b[0;34m:\u001b[0m\u001b[0;34m\u001b[0m\u001b[0;34m\u001b[0m\u001b[0m\n\u001b[0;32m---> 16\u001b[0;31m     \u001b[0max\u001b[0m \u001b[0;34m=\u001b[0m \u001b[0mplt\u001b[0m\u001b[0;34m.\u001b[0m\u001b[0msubplot\u001b[0m\u001b[0;34m(\u001b[0m\u001b[0;36m4\u001b[0m\u001b[0;34m,\u001b[0m\u001b[0;36m2\u001b[0m\u001b[0;34m,\u001b[0m \u001b[0mi\u001b[0m\u001b[0;34m+\u001b[0m\u001b[0;36m1\u001b[0m\u001b[0;34m)\u001b[0m\u001b[0;34m\u001b[0m\u001b[0;34m\u001b[0m\u001b[0m\n\u001b[0m\u001b[1;32m     17\u001b[0m     \u001b[0;31m#Iterate through the poverty leves\u001b[0m\u001b[0;34m\u001b[0m\u001b[0;34m\u001b[0m\u001b[0;34m\u001b[0m\u001b[0m\n\u001b[1;32m     18\u001b[0m     \u001b[0;32mfor\u001b[0m \u001b[0mpoverty_level\u001b[0m\u001b[0;34m,\u001b[0m \u001b[0mcolor\u001b[0m \u001b[0;32min\u001b[0m \u001b[0mcolors\u001b[0m\u001b[0;34m.\u001b[0m\u001b[0mitems\u001b[0m\u001b[0;34m(\u001b[0m\u001b[0;34m)\u001b[0m\u001b[0;34m:\u001b[0m\u001b[0;34m\u001b[0m\u001b[0;34m\u001b[0m\u001b[0m\n",
            "\u001b[0;32m/usr/local/lib/python3.7/dist-packages/matplotlib/pyplot.py\u001b[0m in \u001b[0;36msubplot\u001b[0;34m(*args, **kwargs)\u001b[0m\n\u001b[1;32m   1028\u001b[0m \u001b[0;34m\u001b[0m\u001b[0m\n\u001b[1;32m   1029\u001b[0m     \u001b[0mfig\u001b[0m \u001b[0;34m=\u001b[0m \u001b[0mgcf\u001b[0m\u001b[0;34m(\u001b[0m\u001b[0;34m)\u001b[0m\u001b[0;34m\u001b[0m\u001b[0;34m\u001b[0m\u001b[0m\n\u001b[0;32m-> 1030\u001b[0;31m     \u001b[0ma\u001b[0m \u001b[0;34m=\u001b[0m \u001b[0mfig\u001b[0m\u001b[0;34m.\u001b[0m\u001b[0madd_subplot\u001b[0m\u001b[0;34m(\u001b[0m\u001b[0;34m*\u001b[0m\u001b[0margs\u001b[0m\u001b[0;34m,\u001b[0m \u001b[0;34m**\u001b[0m\u001b[0mkwargs\u001b[0m\u001b[0;34m)\u001b[0m\u001b[0;34m\u001b[0m\u001b[0;34m\u001b[0m\u001b[0m\n\u001b[0m\u001b[1;32m   1031\u001b[0m     \u001b[0mbbox\u001b[0m \u001b[0;34m=\u001b[0m \u001b[0ma\u001b[0m\u001b[0;34m.\u001b[0m\u001b[0mbbox\u001b[0m\u001b[0;34m\u001b[0m\u001b[0;34m\u001b[0m\u001b[0m\n\u001b[1;32m   1032\u001b[0m     \u001b[0mbyebye\u001b[0m \u001b[0;34m=\u001b[0m \u001b[0;34m[\u001b[0m\u001b[0;34m]\u001b[0m\u001b[0;34m\u001b[0m\u001b[0;34m\u001b[0m\u001b[0m\n",
            "\u001b[0;32m/usr/local/lib/python3.7/dist-packages/matplotlib/figure.py\u001b[0m in \u001b[0;36madd_subplot\u001b[0;34m(self, *args, **kwargs)\u001b[0m\n\u001b[1;32m   1417\u001b[0m                     \u001b[0mself\u001b[0m\u001b[0;34m.\u001b[0m\u001b[0m_axstack\u001b[0m\u001b[0;34m.\u001b[0m\u001b[0mremove\u001b[0m\u001b[0;34m(\u001b[0m\u001b[0max\u001b[0m\u001b[0;34m)\u001b[0m\u001b[0;34m\u001b[0m\u001b[0;34m\u001b[0m\u001b[0m\n\u001b[1;32m   1418\u001b[0m \u001b[0;34m\u001b[0m\u001b[0m\n\u001b[0;32m-> 1419\u001b[0;31m             \u001b[0ma\u001b[0m \u001b[0;34m=\u001b[0m \u001b[0msubplot_class_factory\u001b[0m\u001b[0;34m(\u001b[0m\u001b[0mprojection_class\u001b[0m\u001b[0;34m)\u001b[0m\u001b[0;34m(\u001b[0m\u001b[0mself\u001b[0m\u001b[0;34m,\u001b[0m \u001b[0;34m*\u001b[0m\u001b[0margs\u001b[0m\u001b[0;34m,\u001b[0m \u001b[0;34m**\u001b[0m\u001b[0mkwargs\u001b[0m\u001b[0;34m)\u001b[0m\u001b[0;34m\u001b[0m\u001b[0;34m\u001b[0m\u001b[0m\n\u001b[0m\u001b[1;32m   1420\u001b[0m \u001b[0;34m\u001b[0m\u001b[0m\n\u001b[1;32m   1421\u001b[0m         \u001b[0;32mreturn\u001b[0m \u001b[0mself\u001b[0m\u001b[0;34m.\u001b[0m\u001b[0m_add_axes_internal\u001b[0m\u001b[0;34m(\u001b[0m\u001b[0mkey\u001b[0m\u001b[0;34m,\u001b[0m \u001b[0ma\u001b[0m\u001b[0;34m)\u001b[0m\u001b[0;34m\u001b[0m\u001b[0;34m\u001b[0m\u001b[0m\n",
            "\u001b[0;32m/usr/local/lib/python3.7/dist-packages/matplotlib/axes/_subplots.py\u001b[0m in \u001b[0;36m__init__\u001b[0;34m(self, fig, *args, **kwargs)\u001b[0m\n\u001b[1;32m     64\u001b[0m                 \u001b[0;32mif\u001b[0m \u001b[0mnum\u001b[0m \u001b[0;34m<\u001b[0m \u001b[0;36m1\u001b[0m \u001b[0;32mor\u001b[0m \u001b[0mnum\u001b[0m \u001b[0;34m>\u001b[0m \u001b[0mrows\u001b[0m\u001b[0;34m*\u001b[0m\u001b[0mcols\u001b[0m\u001b[0;34m:\u001b[0m\u001b[0;34m\u001b[0m\u001b[0;34m\u001b[0m\u001b[0m\n\u001b[1;32m     65\u001b[0m                     raise ValueError(\n\u001b[0;32m---> 66\u001b[0;31m                         f\"num must be 1 <= num <= {rows*cols}, not {num}\")\n\u001b[0m\u001b[1;32m     67\u001b[0m                 self._subplotspec = GridSpec(\n\u001b[1;32m     68\u001b[0m                         rows, cols, figure=self.figure)[int(num) - 1]\n",
            "\u001b[0;31mValueError\u001b[0m: num must be 1 <= num <= 8, not 9"
          ]
        },
        {
          "output_type": "display_data",
          "data": {
            "text/plain": [
              "<Figure size 1440x1152 with 8 Axes>"
            ],
            "image/png": "[encoded data removed]"
          },
          "metadata": {
            "needs_background": "light"
          }
        }
      ]
    },
    {
      "cell_type": "code",
      "source": [
        "#Object Columns\n",
        "train.select_dtypes('object').head()"
      ],
      "metadata": {
        "id": "FV4Myr3PVwi9"
      },
      "execution_count": null,
      "outputs": []
    },
    {
      "cell_type": "code",
      "source": [
        "#머신러닝을 위해서 고유값인 id 와 idhogar말고는 숫치화\n",
        "#yes:1, no:0\n",
        "\n",
        "mapping = {\"yes\":1, \"no\":0}\n",
        "\n",
        "#Apply same operation to both train and test\n",
        "\n",
        "for df in [train, test]:\n",
        "    #Fill in the values with the correct mapping\n",
        "    df['dependency'] = df['dependency'].replace(mapping).astype(np.float64)\n",
        "    df['edjefa'] = df['edjefa'].replace(mapping).astype(np.float64)\n",
        "    df['edjefe'] = df['edjefe'].replace(mapping).astype(np.float64)\n",
        "\n",
        "train[['dependency', 'edjefa', 'edjefe']].describe()"
      ],
      "metadata": {
        "id": "eLZq-X5PVXkF"
      },
      "execution_count": null,
      "outputs": []
    },
    {
      "cell_type": "code",
      "source": [
        "plt.figure(figsize = (16, 12))\n",
        "\n",
        "# Iterate through the float columns\n",
        "for i, col in enumerate(['dependency', 'edjefa', 'edjefe']):\n",
        "    ax = plt.subplot(3, 1, i + 1)\n",
        "    # Iterate through the poverty levels\n",
        "    for poverty_level, color in colors.items():\n",
        "        # Plot each poverty level as a separate line\n",
        "        sns.kdeplot(train.loc[train['Target'] == poverty_level, col].dropna(), \n",
        "                    ax = ax, color = color, label = poverty_mapping[poverty_level])\n",
        "        \n",
        "    plt.title(f'{col.capitalize()} Distribution'); plt.xlabel(f'{col}'); plt.ylabel('Density')\n",
        "\n",
        "plt.subplots_adjust(top = 2)"
      ],
      "metadata": {
        "id": "bluT3NveXUxV"
      },
      "execution_count": null,
      "outputs": []
    },
    {
      "cell_type": "code",
      "source": [
        "#Add null Target column to test\n",
        "test['Target'] = np.nan\n",
        "data = train.append(test, ignore_index = True)"
      ],
      "metadata": {
        "id": "EjPTLOjFYXGr"
      },
      "execution_count": null,
      "outputs": []
    },
    {
      "cell_type": "markdown",
      "source": [
        "#### Exploring Label Distribution"
      ],
      "metadata": {
        "id": "hT1wGt8PYvR1"
      }
    },
    {
      "cell_type": "code",
      "source": [
        "#heads of household\n",
        "heads = data.loc[data['parentesco1']==1].copy()\n",
        "\n",
        "#Labels for training\n",
        "\n",
        "train_labels = data.loc[(data['Target'].notnull())&(data['parentesco1'] ==1), ['Target', 'idhogar']]\n",
        "\n",
        "#value counts of target\n",
        "label_counts = train_labels['Target'].value_counts().sort_index()\n",
        "\n",
        "#Bar plot occurrences of each label\n",
        "label_counts.plot.bar(figsize=(8,6),\n",
        "                      color = colors.values(),\n",
        "                      edgecolor = 'k', linewidth =2 )\n",
        "\n",
        "#Formatting\n",
        "plt.xlabel('Poverty Level');\n",
        "plt.ylabel('Count');\n",
        "plt.xticks([x-1 for x in poverty_mapping.keys()],\n",
        "           list(poverty_mapping.values()), rotation = 60)\n",
        "plt.title('Poverty Level Breakdown');\n",
        "label_counts\n"
      ],
      "metadata": {
        "id": "int1J01JYq3x"
      },
      "execution_count": null,
      "outputs": []
    },
    {
      "cell_type": "markdown",
      "source": [
        "### Addressing wrong labels\n",
        "\n"
      ],
      "metadata": {
        "id": "T_rfZZ1xaKeP"
      }
    },
    {
      "cell_type": "code",
      "source": [
        "#Identify Errors\n",
        "## Groupby the household and figure out the number of unique values\n",
        "all_equal = train.groupby('idhogar')['Target'].apply(lambda x: x.nunique() == 1)\n",
        "\n",
        "# Households where targets are not all equal\n",
        "not_equal = all_equal[all_equal != True]\n",
        "print('There are {} households where the family members do not all have the same target.'.format(len(not_equal)))"
      ],
      "metadata": {
        "id": "RznDPpKGYwHd"
      },
      "execution_count": null,
      "outputs": []
    },
    {
      "cell_type": "code",
      "source": [
        "train[train['idhogar'] == not_equal.index[0]][['idhogar', 'parentesco1', 'Target']]"
      ],
      "metadata": {
        "id": "lCHz9uQBYwJR"
      },
      "execution_count": null,
      "outputs": []
    },
    {
      "cell_type": "code",
      "source": [
        "#families without heads of household\n",
        "\n",
        "households_leader = train.groupby('idhogar')['parentesco1'].sum()\n",
        "\n",
        "##Find households without a head\n",
        "households_no_head = train.loc[train['idhogar'].isin(households_leader[households_leader ==0].index),:]\n",
        "\n",
        "print('There are {} households without a head.'.format(households_no_head['idhogar'].nunique()))"
      ],
      "metadata": {
        "id": "J24AfWmnYwLF"
      },
      "execution_count": null,
      "outputs": []
    },
    {
      "cell_type": "code",
      "source": [
        "# Find households without a head and where labels are different\n",
        "households_no_head_equal = households_no_head.groupby('idhogar')['Target'].apply(lambda x: x.nunique() == 1)\n",
        "print('{} Households with no head have different labels.'.format(sum(households_no_head_equal == False)))"
      ],
      "metadata": {
        "id": "Zh5_BbYaYwNK"
      },
      "execution_count": null,
      "outputs": []
    },
    {
      "cell_type": "code",
      "source": [
        "#Correct Errors\n",
        "##Iterate through each household\n",
        "\n",
        "for household in not_equal.index:\n",
        "    #Find the correct label(for the head of household)\n",
        "    true_target = int(train[(train['idhogar'] == household) & (train['parentesco1'] == 1.0)]['Target'])\n",
        "    #Set the correct label for all members in the household\n",
        "    train.loc[train['idhogar'] == household, 'Target'] = true_target\n",
        "\n",
        "#Groupby the household and figure out the number of unique values\n",
        "all_equal = train.groupby('idhogar')['Target'].apply(lambda x: x.nunique() ==1)\n",
        "\n",
        "#Households where targets are not all equal\n",
        "not_equal = all_equal[all_equal != True]\n",
        "\n",
        "#Households where targets are not all equal\n",
        "print('The are {} households where the family members do not all have the same target.'.format(len(not_equal)))"
      ],
      "metadata": {
        "id": "pzz4Dki0cOR1"
      },
      "execution_count": null,
      "outputs": []
    },
    {
      "cell_type": "markdown",
      "source": [
        "## Missing Variables\n"
      ],
      "metadata": {
        "id": "DnpoQ_Uro6Bs"
      }
    },
    {
      "cell_type": "code",
      "source": [
        "#number of missing in each column\n",
        "missing = pd.DataFrame(data.isnull().sum()).rename(columns = {0: 'total'})\n",
        "\n",
        "#Create a percentage missing\n",
        "missing['percent'] = missing['total'] / len(data)\n",
        "missing.sort_values('percent', ascending = False).head(10).drop('Target')"
      ],
      "metadata": {
        "id": "xML2IC6CcOl7"
      },
      "execution_count": null,
      "outputs": []
    },
    {
      "cell_type": "code",
      "source": [
        "def plot_value_counts(df, col, heads_only = False):\n",
        "    \"\"\"\n",
        "    Plot value counts of a column, optionally with only the heads of household\n",
        "\n",
        "    \"\"\"\n",
        "    #Select heads of household\n",
        "    if heads_only:\n",
        "        df = df.loc[df['parentesco'] == 1].copy()\n",
        "\n",
        "    plt.figure(figsize=(8,6))\n",
        "    df[col].value_counts().sort_index().plot.bar(color = 'blue',\n",
        "                                                 edgecolor='k',\n",
        "                                                 linewidth=2)\n",
        "    plt.xlabel(f'{col}');\n",
        "    plt.title(f'{col} Value Counts');\n",
        "    plt.ylabel('Count')\n",
        "    plt.show();"
      ],
      "metadata": {
        "id": "fW35WXVecOoO"
      },
      "execution_count": null,
      "outputs": []
    },
    {
      "cell_type": "code",
      "source": [
        "plot_value_counts(heads, 'v18q1')"
      ],
      "metadata": {
        "id": "86ncEHVOcOqD"
      },
      "execution_count": null,
      "outputs": []
    },
    {
      "cell_type": "code",
      "source": [
        "heads.groupby('v18q')['v18q1'].apply(lambda x:x.isnull().sum())"
      ],
      "metadata": {
        "id": "joPxIpnAcOr4"
      },
      "execution_count": null,
      "outputs": []
    },
    {
      "cell_type": "code",
      "source": [
        "data['v18q1'] = data['v18q1'].fillna(0)"
      ],
      "metadata": {
        "id": "0_UYPwOjqFyy"
      },
      "execution_count": null,
      "outputs": []
    },
    {
      "cell_type": "code",
      "source": [
        "\n",
        "# Variables indicating home ownership\n",
        "own_variables = [x for x in data if x.startswith('tipo')]\n",
        "\n",
        "\n",
        "# Plot of the home ownership variables for home missing rent payments\n",
        "data.loc[data['v2a1'].isnull(), own_variables].sum().plot.bar(figsize = (10, 8),\n",
        "                                                                        color = 'green',\n",
        "                                                              edgecolor = 'k', linewidth = 2);\n",
        "plt.xticks([0, 1, 2, 3, 4],\n",
        "           ['Owns and Paid Off', 'Owns and Paying', 'Rented', 'Precarious', 'Other'],\n",
        "          rotation = 60)\n",
        "plt.title('Home Ownership Status for Households Missing Rent Payments', size = 18);"
      ],
      "metadata": {
        "id": "vKmgclu4qORi"
      },
      "execution_count": null,
      "outputs": []
    },
    {
      "cell_type": "code",
      "source": [
        "data.loc[(data['tipovivi1'] ==1), 'v2a1'] = 0\n",
        "#Create missing rent payment column\n",
        "data['v2a1-missing'] = data['v2a1'].isnull()\n",
        "\n",
        "data['v2a1-missing'].value_counts()"
      ],
      "metadata": {
        "id": "09cUkZ1-rHjl"
      },
      "execution_count": null,
      "outputs": []
    },
    {
      "cell_type": "code",
      "source": [
        "data.loc[data['rez_esc'].notnull()]['age'].describe()"
      ],
      "metadata": {
        "id": "85UVUpxvreJe"
      },
      "execution_count": null,
      "outputs": []
    },
    {
      "cell_type": "code",
      "source": [
        "data.loc[data['rez_esc'].isnull()]['age'].describe()"
      ],
      "metadata": {
        "id": "_gOzn0Hkrfr5"
      },
      "execution_count": null,
      "outputs": []
    },
    {
      "cell_type": "code",
      "source": [
        "# If individual is over 19 or younger than 7 and missing years behind, set it to 0\n",
        "data.loc[((data['age'] > 19) | (data['age'] < 7)) & (data['rez_esc'].isnull()), 'rez_esc'] = 0\n",
        "\n",
        "# Add a flag for those between 7 and 19 with a missing value\n",
        "data['rez_esc-missing'] = data['rez_esc'].isnull()"
      ],
      "metadata": {
        "id": "_0zTlMgSrfvd"
      },
      "execution_count": null,
      "outputs": []
    },
    {
      "cell_type": "code",
      "source": [
        "data.loc[data['rez_esc'] > 5, 'rez_esc'] = 5"
      ],
      "metadata": {
        "id": "Yy9GIw1prfxX"
      },
      "execution_count": null,
      "outputs": []
    },
    {
      "cell_type": "markdown",
      "source": [
        "### Plot Two Categorical Variables"
      ],
      "metadata": {
        "id": "r2-60XzEsawi"
      }
    },
    {
      "cell_type": "code",
      "source": [
        "def plot_categoricals(x, y, data, annotate = True):\n",
        "    \"\"\"Plot counts of two categoricals.\n",
        "    Size is raw count for each grouping.\n",
        "    Percentages are for a given value of y.\"\"\"\n",
        "    \n",
        "    # Raw counts \n",
        "    raw_counts = pd.DataFrame(data.groupby(y)[x].value_counts(normalize = False))\n",
        "    raw_counts = raw_counts.rename(columns = {x: 'raw_count'})\n",
        "    \n",
        "    # Calculate counts for each group of x and y\n",
        "    counts = pd.DataFrame(data.groupby(y)[x].value_counts(normalize = True))\n",
        "    \n",
        "    # Rename the column and reset the index\n",
        "    counts = counts.rename(columns = {x: 'normalized_count'}).reset_index()\n",
        "    counts['percent'] = 100 * counts['normalized_count']\n",
        "    \n",
        "    # Add the raw count\n",
        "    counts['raw_count'] = list(raw_counts['raw_count'])\n",
        "    \n",
        "    plt.figure(figsize = (14, 10))\n",
        "    # Scatter plot sized by percent\n",
        "    plt.scatter(counts[x], counts[y], edgecolor = 'k', color = 'lightgreen',\n",
        "                s = 100 * np.sqrt(counts['raw_count']), marker = 'o',\n",
        "                alpha = 0.6, linewidth = 1.5)\n",
        "    \n",
        "    if annotate:\n",
        "        # Annotate the plot with text\n",
        "        for i, row in counts.iterrows():\n",
        "            # Put text with appropriate offsets\n",
        "            plt.annotate(xy = (row[x] - (1 / counts[x].nunique()), \n",
        "                               row[y] - (0.15 / counts[y].nunique())),\n",
        "                         color = 'navy',\n",
        "                         s = f\"{round(row['percent'], 1)}%\")\n",
        "        \n",
        "    # Set tick marks\n",
        "    plt.yticks(counts[y].unique())\n",
        "    plt.xticks(counts[x].unique())\n",
        "    \n",
        "    # Transform min and max to evenly space in square root domain\n",
        "    sqr_min = int(np.sqrt(raw_counts['raw_count'].min()))\n",
        "    sqr_max = int(np.sqrt(raw_counts['raw_count'].max()))\n",
        "    \n",
        "    # 5 sizes for legend\n",
        "    msizes = list(range(sqr_min, sqr_max,\n",
        "                        int(( sqr_max - sqr_min) / 5)))\n",
        "    markers = []\n",
        "    \n",
        "    # Markers for legend\n",
        "    for size in msizes:\n",
        "        markers.append(plt.scatter([], [], s = 100 * size, \n",
        "                                   label = f'{int(round(np.square(size) / 100) * 100)}', \n",
        "                                   color = 'lightgreen',\n",
        "                                   alpha = 0.6, edgecolor = 'k', linewidth = 1.5))\n",
        "        \n",
        "    # Legend and formatting\n",
        "    plt.legend(handles = markers, title = 'Counts',\n",
        "               labelspacing = 3, handletextpad = 2,\n",
        "               fontsize = 16,\n",
        "               loc = (1.10, 0.19))\n",
        "    \n",
        "    plt.annotate(f'* Size represents raw count while % is for a given y value.',\n",
        "                 xy = (0, 1), xycoords = 'figure points', size = 10)\n",
        "    \n",
        "    # Adjust axes limits\n",
        "    plt.xlim((counts[x].min() - (6 / counts[x].nunique()), \n",
        "              counts[x].max() + (6 / counts[x].nunique())))\n",
        "    plt.ylim((counts[y].min() - (4 / counts[y].nunique()), \n",
        "              counts[y].max() + (4 / counts[y].nunique())))\n",
        "    plt.grid(None)\n",
        "    plt.xlabel(f\"{x}\"); plt.ylabel(f\"{y}\"); plt.title(f\"{y} vs {x}\");\n"
      ],
      "metadata": {
        "id": "aR6tMlejrf1i"
      },
      "execution_count": null,
      "outputs": []
    },
    {
      "cell_type": "code",
      "source": [
        "plot_categoricals('rez_esc', 'Target', data);"
      ],
      "metadata": {
        "id": "oTDhKgbPrf3j"
      },
      "execution_count": null,
      "outputs": []
    },
    {
      "cell_type": "code",
      "source": [
        "plot_categoricals('escolari', 'Target', data, annotate=False)"
      ],
      "metadata": {
        "id": "ppJRJ7csrf6u"
      },
      "execution_count": null,
      "outputs": []
    },
    {
      "cell_type": "code",
      "source": [
        "plot_value_counts(data[(data['rez_esc-missing'] ==1)], 'Target')"
      ],
      "metadata": {
        "id": "H2K0cb-muWCJ"
      },
      "execution_count": null,
      "outputs": []
    },
    {
      "cell_type": "code",
      "source": [
        "plot_value_counts(data[(data['v2a1-missing'] == 1)], \n",
        "                  'Target')"
      ],
      "metadata": {
        "id": "AP1qb5WbuWEc"
      },
      "execution_count": null,
      "outputs": []
    },
    {
      "cell_type": "markdown",
      "source": [
        "### Feature Engineering\n",
        "\n",
        "- Automated feature engineering in Feature tools\n"
      ],
      "metadata": {
        "id": "6w75-X-3zhrr"
      }
    },
    {
      "cell_type": "markdown",
      "source": [
        "\n",
        "#### Column Definitions\n",
        "\n",
        "Ordinal variables can use statistical aggregations\n",
        "\n",
        "Boolean variables can also be aggregated but with fewer stats\n",
        "\n",
        "<br>\n",
        "\n",
        "**Individual Variables: these are characteristics of each individual rather than the household**\n",
        "\n",
        "- Boolean: Yes or No (0 or 1)\n",
        "- Ordered Discrete: Integers with an ordering\n",
        "\n",
        "<br>\n",
        "\n",
        "**Household variables**\n",
        "\n",
        "   - Boolean: Yes or No\n",
        "   - Ordered Discrete: Integers with an ordering\n",
        "   - Continuous numeric\n",
        "\n",
        "**Squared Variables: derived from squaring variables in the data**\n",
        "\n",
        "**Id variables: identifies the data and should not be used as features**\n",
        "\n"
      ],
      "metadata": {
        "id": "TDc4F7Hr0B9c"
      }
    },
    {
      "cell_type": "code",
      "source": [
        "id_ = ['Id', 'idhogar', 'Target']\n"
      ],
      "metadata": {
        "id": "ZvH8JTRduWGj"
      },
      "execution_count": null,
      "outputs": []
    },
    {
      "cell_type": "code",
      "source": [
        "ind_bool = ['v18q', 'dis', 'male', 'female', 'estadocivil1', 'estadocivil2', 'estadocivil3', \n",
        "            'estadocivil4', 'estadocivil5', 'estadocivil6', 'estadocivil7', \n",
        "            'parentesco1', 'parentesco2',  'parentesco3', 'parentesco4', 'parentesco5', \n",
        "            'parentesco6', 'parentesco7', 'parentesco8',  'parentesco9', 'parentesco10', \n",
        "            'parentesco11', 'parentesco12', 'instlevel1', 'instlevel2', 'instlevel3', \n",
        "            'instlevel4', 'instlevel5', 'instlevel6', 'instlevel7', 'instlevel8', \n",
        "            'instlevel9', 'mobilephone', 'rez_esc-missing']\n",
        "\n",
        "ind_ordered = ['rez_esc', 'escolari', 'age']\n"
      ],
      "metadata": {
        "id": "cp4hCzuVuWKA"
      },
      "execution_count": null,
      "outputs": []
    },
    {
      "cell_type": "code",
      "source": [
        "\n",
        "hh_bool = ['hacdor', 'hacapo', 'v14a', 'refrig', 'paredblolad', 'paredzocalo', \n",
        "           'paredpreb','pisocemento', 'pareddes', 'paredmad',\n",
        "           'paredzinc', 'paredfibras', 'paredother', 'pisomoscer', 'pisoother', \n",
        "           'pisonatur', 'pisonotiene', 'pisomadera',\n",
        "           'techozinc', 'techoentrepiso', 'techocane', 'techootro', 'cielorazo', \n",
        "           'abastaguadentro', 'abastaguafuera', 'abastaguano',\n",
        "            'public', 'planpri', 'noelec', 'coopele', 'sanitario1', \n",
        "           'sanitario2', 'sanitario3', 'sanitario5',   'sanitario6',\n",
        "           'energcocinar1', 'energcocinar2', 'energcocinar3', 'energcocinar4', \n",
        "           'elimbasu1', 'elimbasu2', 'elimbasu3', 'elimbasu4', \n",
        "           'elimbasu5', 'elimbasu6', 'epared1', 'epared2', 'epared3',\n",
        "           'etecho1', 'etecho2', 'etecho3', 'eviv1', 'eviv2', 'eviv3', \n",
        "           'tipovivi1', 'tipovivi2', 'tipovivi3', 'tipovivi4', 'tipovivi5', \n",
        "           'computer', 'television', 'lugar1', 'lugar2', 'lugar3',\n",
        "           'lugar4', 'lugar5', 'lugar6', 'area1', 'area2', 'v2a1-missing']\n"
      ],
      "metadata": {
        "id": "e1vx-wRruWMA"
      },
      "execution_count": null,
      "outputs": []
    },
    {
      "cell_type": "code",
      "source": [
        "hh_ordered = [ 'rooms', 'r4h1', 'r4h2', 'r4h3', 'r4m1','r4m2','r4m3', 'r4t1',  'r4t2', \n",
        "              'r4t3', 'v18q1', 'tamhog','tamviv','hhsize','hogar_nin',\n",
        "              'hogar_adul','hogar_mayor','hogar_total',  'bedrooms', 'qmobilephone']\n",
        "\n",
        "hh_cont = ['v2a1', 'dependency', 'edjefe', 'edjefa', 'meaneduc', 'overcrowding']\n",
        "sqr_ = ['SQBescolari', 'SQBage', 'SQBhogar_total', 'SQBedjefe', \n",
        "        'SQBhogar_nin', 'SQBovercrowding', 'SQBdependency', 'SQBmeaned', 'agesq']"
      ],
      "metadata": {
        "id": "pobt5NL7uWNg"
      },
      "execution_count": null,
      "outputs": []
    },
    {
      "cell_type": "code",
      "source": [
        "x = ind_bool + ind_ordered + id_ + hh_bool + hh_ordered + hh_cont + sqr_\n",
        "\n",
        "from collections import Counter\n",
        "\n",
        "print('There are no repeats: ', np.all(np.array(list(Counter(x).values()))== 1))\n",
        "print('We covered every variable: ', len(x) == data.shape[1])"
      ],
      "metadata": {
        "id": "myibRTXWuWPV"
      },
      "execution_count": null,
      "outputs": []
    },
    {
      "cell_type": "markdown",
      "source": [
        "Squared Variables"
      ],
      "metadata": {
        "id": "CBBS8xQl1oo9"
      }
    },
    {
      "cell_type": "code",
      "source": [
        "sns.lmplot('age', 'SQBage', data = data, fit_reg=False);\n",
        "plt.title('Squared Age versus Age');"
      ],
      "metadata": {
        "id": "9YnsRLb2uWRA"
      },
      "execution_count": null,
      "outputs": []
    },
    {
      "cell_type": "code",
      "source": [
        "#Remove squared variables: 영향력이 강해서 지운다.\n",
        "\n",
        "data= data.drop(columns = sqr_)\n",
        "data.shape"
      ],
      "metadata": {
        "id": "B8pKzJjg17Qk"
      },
      "execution_count": null,
      "outputs": []
    },
    {
      "cell_type": "code",
      "source": [
        "#Household level variable\n",
        "\n",
        "heads = data.loc[data['parentesco1'] == 1, :]\n",
        "heads = heads[id_ + hh_bool + hh_cont + hh_ordered]\n",
        "heads.shape"
      ],
      "metadata": {
        "id": "SMbtRfRG2Crn"
      },
      "execution_count": null,
      "outputs": []
    },
    {
      "cell_type": "code",
      "source": [
        "#Redundant Household Variables\n",
        "corr_matrix = heads.corr()\n",
        "\n",
        "#Select upper triangle of correlation martix\n",
        "upper = corr_matrix.where(np.triu(np.ones(corr_matrix.shape),k=1).astype(np.bool))\n",
        "\n",
        "#Find index of feature columns with correlation greater than 0.95\n",
        "\n",
        "to_drop = [column for column in upper.columns if any(abs(upper[column]) >0.95)]\n",
        "to_drop"
      ],
      "metadata": {
        "id": "m77MJMMs2FGr"
      },
      "execution_count": null,
      "outputs": []
    },
    {
      "cell_type": "code",
      "source": [
        "corr_matrix.loc[corr_matrix['tamhog'].abs()>0.9, corr_matrix['tamhog'].abs()>0.9]"
      ],
      "metadata": {
        "id": "m1UqRDhE2FLr"
      },
      "execution_count": null,
      "outputs": []
    },
    {
      "cell_type": "code",
      "source": [
        "sns.heatmap(corr_matrix.loc[corr_matrix['tamhog'].abs() > 0.9, corr_matrix['tamhog'].abs() > 0.9],\n",
        "            annot=True, cmap = plt.cm.autumn_r, fmt='.3f');"
      ],
      "metadata": {
        "id": "cgFLWaIq2FOI"
      },
      "execution_count": null,
      "outputs": []
    },
    {
      "cell_type": "code",
      "source": [
        "heads = heads.drop(columns = ['tamhog', 'hogar_total', 'r4t3'])"
      ],
      "metadata": {
        "id": "uZNMGwMZ2FPw"
      },
      "execution_count": null,
      "outputs": []
    },
    {
      "cell_type": "code",
      "source": [
        "sns.lmplot('tamviv','hhsize', data, fit_reg=False, size=8);\n",
        "plt.title('Householdsize vs number of persons living in the household')"
      ],
      "metadata": {
        "id": "C2cLm8-i2FT6"
      },
      "execution_count": null,
      "outputs": []
    },
    {
      "cell_type": "code",
      "source": [
        "heads['hhsize-diff'] = heads['tamviv'] - heads['hhsize']\n",
        "plot_categoricals('hhsize-diff', 'Target', heads)"
      ],
      "metadata": {
        "id": "hAi9KWH-2FV0"
      },
      "execution_count": null,
      "outputs": []
    },
    {
      "cell_type": "code",
      "source": [
        "corr_matrix.loc[corr_matrix['coopele'].abs() > 0.9, corr_matrix['coopele'].abs()>0.9]"
      ],
      "metadata": {
        "id": "iQjlIFkB2FZK"
      },
      "execution_count": null,
      "outputs": []
    },
    {
      "cell_type": "markdown",
      "source": [
        "#### Creating Ordinal Variable\n",
        "\n",
        "\n",
        "0: No electricity\n",
        "\n",
        "1: Electricity from cooperative\n",
        "\n",
        "2: Electricity from CNFL, ICA, ESPH/JASEC\n",
        "\n",
        "3: Electricity from private plant"
      ],
      "metadata": {
        "id": "68-B2F_g4lH4"
      }
    },
    {
      "cell_type": "code",
      "source": [
        "elec = []\n",
        "\n",
        "#Assign values\n",
        "\n",
        "for i,row in heads.iterrows():\n",
        "    if row['noelec'] ==1:\n",
        "        elec.append(0)\n",
        "    elif row['coopele'] ==1:\n",
        "        elec.append(1)\n",
        "    elif row['public'] ==1:\n",
        "        elec.append(2)\n",
        "    elif row['planpri'] ==1:\n",
        "        elec.append(3)\n",
        "    else:\n",
        "        elec.append(np.nan)"
      ],
      "metadata": {
        "id": "MVi7cWHq5Hxp"
      },
      "execution_count": null,
      "outputs": []
    },
    {
      "cell_type": "code",
      "source": [
        "#Record the new variable and missing flag\n",
        "heads['elec'] = elec\n",
        "heads['elec-missing'] = heads['elec'].isnull()\n",
        "\n",
        "#Remove the electricity columns\n",
        "\n"
      ],
      "metadata": {
        "id": "7QCIqfmc5iSV"
      },
      "execution_count": null,
      "outputs": []
    },
    {
      "cell_type": "code",
      "source": [
        "plot_categoricals('elec', 'Target', heads)"
      ],
      "metadata": {
        "id": "EVuQKXpG5iUQ"
      },
      "execution_count": null,
      "outputs": []
    },
    {
      "cell_type": "code",
      "source": [
        "heads = heads.drop(columns = 'area2')\n",
        "heads.groupby('area1')['Target'].value_counts(normalize=True)"
      ],
      "metadata": {
        "id": "ciRqbamw5iWK"
      },
      "execution_count": null,
      "outputs": []
    },
    {
      "cell_type": "code",
      "source": [
        "#Wall ordinal variable\n",
        "heads['walls'] = np.argmax(np.array(heads[['epared1', 'epared2', 'epared3']]),axis=1)\n",
        "plot_categoricals('walls', 'Target', heads)"
      ],
      "metadata": {
        "id": "eQd4QENl5iYM"
      },
      "execution_count": null,
      "outputs": []
    },
    {
      "cell_type": "code",
      "source": [
        "# Roof ordinal variable\n",
        "heads['roof'] = np.argmax(np.array(heads[['etecho1', 'etecho2', 'etecho3']]),\n",
        "                           axis = 1)\n",
        "heads = heads.drop(columns = ['etecho1', 'etecho2', 'etecho3'])\n",
        "\n",
        "# Floor ordinal variable\n",
        "heads['floor'] = np.argmax(np.array(heads[['eviv1', 'eviv2', 'eviv3']]),\n",
        "                           axis = 1)\n",
        "# heads = heads.drop(columns = ['eviv1', 'eviv2', 'eviv3'])"
      ],
      "metadata": {
        "id": "cSGgZrSV5iZ9"
      },
      "execution_count": null,
      "outputs": []
    },
    {
      "cell_type": "markdown",
      "source": [
        "#### Feature Construcion\n",
        "\n",
        "추가적인 매핑작업\n",
        "\n",
        "전체 데이터에서 새로운 특징을 창조\n",
        "\n",
        "\n"
      ],
      "metadata": {
        "id": "2qPDkdK-OkpL"
      }
    },
    {
      "cell_type": "code",
      "source": [
        "#create new feature\n",
        "heads['walls+roof+floor'] = heads['walls'] + heads['roof'] + heads['floor']\n",
        "\n",
        "plot_categoricals('walls+roof+floor', 'Target', heads, annotate=False)"
      ],
      "metadata": {
        "id": "lnQ0ppKdPGVX"
      },
      "execution_count": null,
      "outputs": []
    },
    {
      "cell_type": "code",
      "source": [
        "counts = pd.DataFrame(heads.groupby(['walls+roof+floor'])['Target'].value_counts(normalize = True)).rename(columns = {'Target': 'Normalized Count'}).reset_index()\n",
        "counts.head()"
      ],
      "metadata": {
        "id": "IEsUGS3PPU_m"
      },
      "execution_count": null,
      "outputs": []
    },
    {
      "cell_type": "code",
      "source": [
        "# No toilet, no electricity, no floor, no water service, no ceiling\n",
        "heads['warning'] = 1 * (heads['sanitario1'] + \n",
        "                         (heads['elec'] == 0) + \n",
        "                         heads['pisonotiene'] + \n",
        "                         heads['abastaguano'] + \n",
        "                         (heads['cielorazo'] == 0))"
      ],
      "metadata": {
        "id": "9S7RRpu2RME6"
      },
      "execution_count": null,
      "outputs": []
    },
    {
      "cell_type": "code",
      "source": [
        "plt.figure(figsize=(10,6))\n",
        "sns.violinplot(x = 'warning', y ='Target', data= heads);\n",
        "plt.title('Target vs Warning Variable');"
      ],
      "metadata": {
        "id": "on7coIBXRMHN"
      },
      "execution_count": null,
      "outputs": []
    },
    {
      "cell_type": "code",
      "source": [
        "plot_categoricals('warning', 'Target', data= heads)"
      ],
      "metadata": {
        "id": "weCUhoCLRMJJ"
      },
      "execution_count": null,
      "outputs": []
    },
    {
      "cell_type": "code",
      "source": [
        "# Owns a refrigerator, computer, tablet, and television\n",
        "heads['bonus'] = 1 * (heads['refrig'] + \n",
        "                      heads['computer'] + \n",
        "                      (heads['v18q1'] > 0) + \n",
        "                      heads['television'])\n",
        "\n",
        "sns.violinplot('bonus', 'Target', data = heads,\n",
        "                figsize = (10, 6));\n",
        "plt.title('Target vs Bonus Variable');"
      ],
      "metadata": {
        "id": "z-VkAnADRMLm"
      },
      "execution_count": null,
      "outputs": []
    },
    {
      "cell_type": "markdown",
      "source": [
        "#### Per Capita Features\n"
      ],
      "metadata": {
        "id": "BjqtxhYISwhr"
      }
    },
    {
      "cell_type": "code",
      "source": [
        "heads['phones-per-capita'] = heads['qmobilephone'] / heads['tamviv']\n",
        "heads['tabletes-per-capita'] = heads['v18q1'] / heads['tamviv']\n",
        "heads['rooms-per-capita'] = heads['rooms'] / heads['tamviv']\n",
        "heads['rent-per-capita'] = heads['v2a1'] / heads['tamviv'] "
      ],
      "metadata": {
        "id": "sGfJKOZdSttk"
      },
      "execution_count": null,
      "outputs": []
    },
    {
      "cell_type": "markdown",
      "source": [
        "#### Exploring Household Variables\n",
        "\n",
        "**Measuring Relationships**\n",
        "\n",
        "- The Pearson Correlation: from -1 to 1 measuring the linear relationship between two variables\n",
        "\n",
        "- The Spearman Correlation: from -1 to 1 measuring the monotonic relationship between two variables"
      ],
      "metadata": {
        "id": "llan68dqTQ6R"
      }
    },
    {
      "cell_type": "code",
      "source": [
        "from scipy.stats import spearmanr"
      ],
      "metadata": {
        "id": "GKT7YZP8StwS"
      },
      "execution_count": null,
      "outputs": []
    },
    {
      "cell_type": "code",
      "source": [
        "def plot_corrs(x,y):\n",
        "    \"\"\"\n",
        "    plot data and show the spearman and pearson correlation.\n",
        "    \"\"\"\n",
        "    #Calculate correlations\n",
        "    spr = spearmanr(x,y).correlation\n",
        "    pcr = np.corrcoef(x,y)[0,1]\n",
        "\n",
        "    #Scatter plot\n",
        "    data = pd.DataFrame({'x':x, 'y':y})\n",
        "    plt.figure(figsize=(6,4))\n",
        "    sns.regplot('x','y',data=data, fit_reg=False);\n",
        "    plt.title(f'Spearman: {round(spr,2)}); Pearson: {round(pcr,2)}');"
      ],
      "metadata": {
        "id": "uuuawH8CStyh"
      },
      "execution_count": null,
      "outputs": []
    },
    {
      "cell_type": "code",
      "source": [
        "x = np.array(range(100))\n",
        "y = x**2\n",
        "\n",
        "plot_corrs(x,y)"
      ],
      "metadata": {
        "id": "A8HlrrW7St0_"
      },
      "execution_count": null,
      "outputs": []
    },
    {
      "cell_type": "code",
      "source": [
        "x = np.array([1, 1, 1, 2, 3, 3, 4, 4, 4, 5, 5, 6, 7, 8, 8, 9, 9, 9])\n",
        "y = np.array([1, 2, 1, 1, 1, 1, 2, 2, 2, 2, 1, 3, 3, 2, 4, 2, 2, 4])\n",
        "\n",
        "plot_corrs(x, y)"
      ],
      "metadata": {
        "id": "Ge0k7L3ZSt3Y"
      },
      "execution_count": null,
      "outputs": []
    },
    {
      "cell_type": "code",
      "source": [
        "x = np.array(range(-19, 20))\n",
        "y = 2 * np.sin(x)\n",
        "\n",
        "plot_corrs(x, y)"
      ],
      "metadata": {
        "id": "l33Ifu_TUxdW"
      },
      "execution_count": null,
      "outputs": []
    },
    {
      "cell_type": "code",
      "source": [
        "# Use only training data\n",
        "train_heads = heads.loc[heads['Target'].notnull(), :].copy()\n",
        "\n",
        "pcorrs = pd.DataFrame(train_heads.corr()['Target'].sort_values()).rename(columns = {'Target': 'pcorr'}).reset_index()\n",
        "pcorrs = pcorrs.rename(columns = {'index': 'feature'})\n",
        "\n",
        "print('Most negatively correlated variables:')\n",
        "print(pcorrs.head())\n",
        "\n",
        "print('\\nMost positively correlated variables:')\n",
        "print(pcorrs.dropna().tail())"
      ],
      "metadata": {
        "id": "iD0eXbzgSt5d"
      },
      "execution_count": null,
      "outputs": []
    },
    {
      "cell_type": "code",
      "source": [
        "# data와 target의 관계가 poor realtionship이므로 스피어만 상관계수 이용\n",
        "\n",
        "import warnings\n",
        "warnings.filterwarnings('ignore', category = RuntimeWarning)\n",
        "\n",
        "feats = []\n",
        "scorr = []\n",
        "pvalues = []\n",
        "\n",
        "# Iterate through each column\n",
        "for c in heads:\n",
        "    # Only valid for numbers\n",
        "    if heads[c].dtype != 'object':\n",
        "        feats.append(c)\n",
        "        \n",
        "        # Calculate spearman correlation\n",
        "        scorr.append(spearmanr(train_heads[c], train_heads['Target']).correlation)\n",
        "        pvalues.append(spearmanr(train_heads[c], train_heads['Target']).pvalue)\n",
        "\n",
        "scorrs = pd.DataFrame({'feature': feats, 'scorr': scorr, 'pvalue': pvalues}).sort_values('scorr')\n"
      ],
      "metadata": {
        "id": "q6CGcABzU4sl"
      },
      "execution_count": null,
      "outputs": []
    },
    {
      "cell_type": "code",
      "source": [
        " print('Most negative Spearmn correlations:')\n",
        " print(scorrs.head())\n",
        " print('\\nMost positive Spearman correlations:')\n",
        " print(scorrs.dropna().tail())"
      ],
      "metadata": {
        "id": "v9_Wfs8pU4vq"
      },
      "execution_count": null,
      "outputs": []
    },
    {
      "cell_type": "code",
      "source": [
        "corrs = pcorrs.merge(scorrs, on='feature')\n",
        "corrs['diff'] = corrs['pcorr'] - corrs['scorr']\n",
        "corrs.sort_values('diff').head()"
      ],
      "metadata": {
        "id": "NpGsUkyeU4zp"
      },
      "execution_count": null,
      "outputs": []
    },
    {
      "cell_type": "code",
      "source": [
        "corrs.sort_values('diff').dropna().tail()"
      ],
      "metadata": {
        "id": "Q7eBsKTHU42E"
      },
      "execution_count": null,
      "outputs": []
    },
    {
      "cell_type": "code",
      "source": [
        "sns.lmplot('dependency', 'Target'. fit_reg = True, data= train_heads, x_jitter=0.05, y_jitter=0.05);\n",
        "plt.title(('Target vs Dependency');)"
      ],
      "metadata": {
        "id": "1hUwPKWGU44k"
      },
      "execution_count": null,
      "outputs": []
    },
    {
      "cell_type": "code",
      "source": [
        "sns.lmplot('rooms-per-capita', 'Target', fit_reg = True, data = train_heads, x_jitter=0.05, y_jitter=0.05);\n",
        "plt.title('Target vs Rooms Per Capita');"
      ],
      "metadata": {
        "id": "r8h3CJVNdGUf"
      },
      "execution_count": null,
      "outputs": []
    },
    {
      "cell_type": "markdown",
      "source": [
        "#### Correlation Heatmap"
      ],
      "metadata": {
        "id": "6gY6E6dzdUs5"
      }
    },
    {
      "cell_type": "code",
      "source": [
        "variables = ['Target', 'dependency', 'warning', 'walls+roof+floor', 'meaneduc',\n",
        "             'floor', 'r4m1', 'overcrowding']\n",
        "\n",
        "# Calculate the correlations\n",
        "corr_mat = train_heads[variables].corr().round(2)\n",
        "\n",
        "# Draw a correlation heatmap\n",
        "plt.rcParams['font.size'] = 18\n",
        "plt.figure(figsize = (12, 12))\n",
        "sns.heatmap(corr_mat, vmin = -0.5, vmax = 0.8, center = 0, \n",
        "            cmap = plt.cm.RdYlGn_r, annot = True);\n"
      ],
      "metadata": {
        "id": "bgLMWRsCdGWe"
      },
      "execution_count": null,
      "outputs": []
    },
    {
      "cell_type": "markdown",
      "source": [
        "#### Features Plot"
      ],
      "metadata": {
        "id": "YEb0DDbqeHVs"
      }
    },
    {
      "cell_type": "code",
      "source": [
        "import warnings\n",
        "warnings.filterwarnings('ignore')\n",
        "\n",
        "#copy the data for plotting\n",
        "plot_data = train_heads[['Target', 'dependency', 'walls+roof+floor','meaneduc', 'overcrowding']]\n",
        "\n",
        "\n",
        "#Create the pairgrid object\n",
        "grid = sns.PairGrid(data = plot_data, size = 4, diag_sharey=False,\n",
        "                    hue = 'Target', hue_order = [4, 3, 2, 1], \n",
        "                    vars = [x for x in list(plot_data.columns) if x != 'Target'])\n",
        "\n",
        "\n",
        "#Upper is a scatte plot\n",
        "grid.map_upper(plt.scatter, alpha = 0.8, s=20)\n",
        "\n",
        "#Diagonal is a histogram\n",
        "grid.map_diag(sns.kdeplot)\n",
        "\n",
        "#Bottom is density plot\n",
        "grid.map_lower(sns.kdeplot, cmap = plt.cm.OrRd_r);\n",
        "grid = grid.add_legend()\n",
        "plt.suptitle('Feature Plots Colored By Target', size=32, y=1.05);\n"
      ],
      "metadata": {
        "id": "_b3xYXVQdGYU"
      },
      "execution_count": null,
      "outputs": []
    },
    {
      "cell_type": "code",
      "source": [
        "\n"
      ],
      "metadata": {
        "id": "SpQRcaxvdGaA"
      },
      "execution_count": null,
      "outputs": []
    },
    {
      "cell_type": "code",
      "source": [
        ""
      ],
      "metadata": {
        "id": "zx3srsn4dGbt"
      },
      "execution_count": null,
      "outputs": []
    },
    {
      "cell_type": "code",
      "source": [
        ""
      ],
      "metadata": {
        "id": "B-Q-At2odGd_"
      },
      "execution_count": null,
      "outputs": []
    },
    {
      "cell_type": "code",
      "source": [
        ""
      ],
      "metadata": {
        "id": "hh4leyOfdGhO"
      },
      "execution_count": null,
      "outputs": []
    },
    {
      "cell_type": "code",
      "source": [
        ""
      ],
      "metadata": {
        "id": "q26ZCueFdGpq"
      },
      "execution_count": null,
      "outputs": []
    }
  ]
}