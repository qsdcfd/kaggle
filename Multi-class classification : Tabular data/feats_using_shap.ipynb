{
  "nbformat": 4,
  "nbformat_minor": 0,
  "metadata": {
    "colab": {
      "name": "feats using shap",
      "provenance": [],
      "authorship_tag": "ABX9TyPSXVxbxGbN6T/BDyBhvTMG"
    },
    "kernelspec": {
      "name": "python3",
      "display_name": "Python 3"
    },
    "language_info": {
      "name": "python"
    }
  },
  "cells": [
    {
      "cell_type": "markdown",
      "source": [
        "### 라이브러리 호출\n"
      ],
      "metadata": {
        "id": "RHypq9JkwLuJ"
      }
    },
    {
      "cell_type": "code",
      "execution_count": 1,
      "metadata": {
        "id": "h0JPLhgqucqF"
      },
      "outputs": [],
      "source": [
        "import pandas as pd\n",
        "import numpy as np\n",
        "\n",
        "import seaborn as sns\n",
        "import matplotlib.pyplot as plt\n",
        "\n",
        "sns.set(font_scale=2.2)\n",
        "plt.style.use('seaborn')\n"
      ]
    },
    {
      "cell_type": "code",
      "source": [
        "from sklearn.preprocessing import LabelEncoder, MinMaxScaler,StandardScaler, OneHotEncoder\n",
        "from sklearn.metrics import f1_score\n",
        "import itertools\n",
        "import lightgbm as lgb\n",
        "import xgboost as xgb\n",
        "from xgboost import XGBClassifier\n",
        "import shap #모델 출력의 변화에 대한 변수의 책임을 나타낸다.(중요한 변수 추출)\n",
        "from tqdm import tqdm #작업진행사항 표시\n",
        "import featuretools as ft #데이터를 머신러닝 준비 상태로 만든다\n",
        "import warnings\n",
        "warnings.filterwarnings(\"ignore\")\n",
        "import time"
      ],
      "metadata": {
        "colab": {
          "base_uri": "https://localhost:8080/"
        },
        "id": "87ZAiMNUuuF8",
        "outputId": "13d23557-fd38-482a-c3a1-f5a788baa347"
      },
      "execution_count": 5,
      "outputs": [
        {
          "output_type": "stream",
          "name": "stderr",
          "text": [
            "Woodwork may not support Python 3.7 in next non-bugfix release.\n",
            "Featuretools may not support Python 3.7 in next non-bugfix release.\n"
          ]
        }
      ]
    },
    {
      "cell_type": "code",
      "source": [
        "! pip install shap"
      ],
      "metadata": {
        "id": "4aidq2ryv4-n"
      },
      "execution_count": null,
      "outputs": []
    },
    {
      "cell_type": "code",
      "source": [
        "!pip install featuretools"
      ],
      "metadata": {
        "id": "rEAUfX1lv65r"
      },
      "execution_count": null,
      "outputs": []
    },
    {
      "cell_type": "code",
      "source": [
        ""
      ],
      "metadata": {
        "id": "UqQHbJddv9RZ"
      },
      "execution_count": null,
      "outputs": []
    },
    {
      "cell_type": "markdown",
      "source": [
        "### Load dataset"
      ],
      "metadata": {
        "id": "B0KJkrwmwOug"
      }
    },
    {
      "cell_type": "code",
      "source": [
        "df_train = pd.read_csv('/content/train.csv')\n",
        "df_test = pd.read_csv('/content/test.csv')"
      ],
      "metadata": {
        "id": "af_0Y1m7wQ23"
      },
      "execution_count": 6,
      "outputs": []
    },
    {
      "cell_type": "code",
      "source": [
        "print('df_train shape:', df_train.shape, '  ', 'df_test shape: ', df_test.shape)"
      ],
      "metadata": {
        "colab": {
          "base_uri": "https://localhost:8080/"
        },
        "id": "i5Fc0blIwUvc",
        "outputId": "a0f7f780-dfce-4361-addb-19d558b1da6f"
      },
      "execution_count": 7,
      "outputs": [
        {
          "output_type": "stream",
          "name": "stdout",
          "text": [
            "df_train shape: (9557, 143)    df_test shape:  (23856, 142)\n"
          ]
        }
      ]
    },
    {
      "cell_type": "markdown",
      "source": [
        "#### Make a description"
      ],
      "metadata": {
        "id": "A5QDS05NxGjX"
      }
    },
    {
      "cell_type": "code",
      "source": [
        "description = [\n",
        "(\"v2a1\",\" Monthly rent payment\"),\n",
        "(\"hacdor\",\" =1 Overcrowding by bedrooms\"),\n",
        "(\"rooms\",\"  number of all rooms in the house\"),\n",
        "(\"hacapo\",\" =1 Overcrowding by rooms\"),\n",
        "(\"v14a\",\" =1 has toilet in the household\"),\n",
        "(\"refrig\",\" =1 if the household has refrigerator\"),\n",
        "(\"v18q\",\" owns a tablet\"),\n",
        "(\"v18q1\",\" number of tablets household owns\"),\n",
        "(\"r4h1\",\" Males younger than 12 years of age\"),\n",
        "(\"r4h2\",\" Males 12 years of age and older\"),\n",
        "(\"r4h3\",\" Total males in the household\"),\n",
        "(\"r4m1\",\" Females younger than 12 years of age\"),\n",
        "(\"r4m2\",\" Females 12 years of age and older\"),\n",
        "(\"r4m3\",\" Total females in the household\"),\n",
        "(\"r4t1\",\" persons younger than 12 years of age\"),\n",
        "(\"r4t2\",\" persons 12 years of age and older\"),\n",
        "(\"r4t3\",\" Total persons in the household\"),\n",
        "(\"tamhog\",\" size of the household\"),\n",
        "(\"tamviv\",\" number of persons living in the household\"),\n",
        "(\"escolari\",\" years of schooling\"),\n",
        "(\"rez_esc\",\" Years behind in school\"),\n",
        "(\"hhsize\",\" household size\"),\n",
        "(\"paredblolad\",\" =1 if predominant material on the outside wall is block or brick\"),\n",
        "(\"paredzocalo\",\" =1 if predominant material on the outside wall is socket (wood, zinc or absbesto\"),\n",
        "(\"paredpreb\",\" =1 if predominant material on the outside wall is prefabricated or cement\"),\n",
        "(\"pareddes\",\" =1 if predominant material on the outside wall is waste material\"),\n",
        "(\"paredmad\",\" =1 if predominant material on the outside wall is wood\"),\n",
        "(\"paredzinc\",\" =1 if predominant material on the outside wall is zink\"),\n",
        "(\"paredfibras\",\" =1 if predominant material on the outside wall is natural fibers\"),\n",
        "(\"paredother\",\" =1 if predominant material on the outside wall is other\"),\n",
        "(\"pisomoscer\",\" =1 if predominant material on the floor is mosaic ceramic   terrazo\"),\n",
        "(\"pisocemento\",\" =1 if predominant material on the floor is cement\"),\n",
        "(\"pisoother\",\" =1 if predominant material on the floor is other\"),\n",
        "(\"pisonatur\",\" =1 if predominant material on the floor is  natural material\"),\n",
        "(\"pisonotiene\",\" =1 if no floor at the household\"),\n",
        "(\"pisomadera\",\" =1 if predominant material on the floor is wood\"),\n",
        "(\"techozinc\",\" =1 if predominant material on the roof is metal foil or zink\"),\n",
        "(\"paredfibras\",\" =1 if predominant material on the outside wall is natural fibers\"),\n",
        "(\"paredother\",\" =1 if predominant material on the outside wall is other\"),\n",
        "(\"pisomoscer\",\" =1 if predominant material on the floor is mosaic ceramic   terrazo\"),\n",
        "(\"pisocemento\",\" =1 if predominant material on the floor is cement\"),\n",
        "(\"pisoother\",\" =1 if predominant material on the floor is other\"),\n",
        "(\"pisonatur\",\" =1 if predominant material on the floor is  natural material\"),\n",
        "(\"pisonotiene\",\" =1 if no floor at the household\"),\n",
        "(\"pisomadera\",\" =1 if predominant material on the floor is wood\"),\n",
        "(\"techozinc\",\" =1 if predominant material on the roof is metal foil or zink\"),\n",
        "(\"techoentrepiso\",\" =1 if predominant material on the roof is fiber cement,   mezzanine \"),\n",
        "(\"techocane\",\" =1 if predominant material on the roof is natural fibers\"),\n",
        "(\"techootro\",\" =1 if predominant material on the roof is other\"),\n",
        "(\"cielorazo\",\" =1 if the house has ceiling\"),\n",
        "(\"abastaguadentro\",\" =1 if water provision inside the dwelling\"),\n",
        "(\"abastaguafuera\",\" =1 if water provision outside the dwelling\"),\n",
        "(\"abastaguano\",\" =1 if no water provision\"),\n",
        "(\"public\",\" =1 electricity from CNFL,  ICE, ESPH/JASEC\"),\n",
        "(\"planpri\",\" =1 electricity from private plant\"),\n",
        "(\"noelec\",\" =1 no electricity in the dwelling\"),\n",
        "(\"coopele\",\" =1 electricity from cooperative\"),\n",
        "(\"sanitario1\",\" =1 no toilet in the dwelling\"),\n",
        "(\"sanitario2\",\" =1 toilet connected to sewer or cesspool\"),\n",
        "(\"sanitario3\",\" =1 toilet connected to  septic tank\"),\n",
        "(\"sanitario5\",\" =1 toilet connected to black hole or letrine\"),\n",
        "(\"sanitario6\",\" =1 toilet connected to other system\"),\n",
        "(\"energcocinar1\",\" =1 no main source of energy used for cooking (no kitchen)\"),\n",
        "(\"energcocinar2\",\" =1 main source of energy used for cooking electricity\"),\n",
        "(\"energcocinar3\",\" =1 main source of energy used for cooking gas\"),\n",
        "(\"energcocinar4\",\" =1 main source of energy used for cooking wood charcoal\"),\n",
        "(\"elimbasu1\",\" =1 if rubbish disposal mainly by tanker truck\"),\n",
        "(\"elimbasu2\",\" =1 if rubbish disposal mainly by botan hollow or buried\"),\n",
        "(\"elimbasu3\",\" =1 if rubbish disposal mainly by burning\"),\n",
        "(\"elimbasu4\",\" =1 if rubbish disposal mainly by throwing in an unoccupied space\"),\n",
        "(\"elimbasu5\",\" =1 if rubbish disposal mainly by throwing in river,   creek or sea\"),\n",
        "(\"elimbasu6\",\" =1 if rubbish disposal mainly other\"),\n",
        "(\"epared1\",\" =1 if walls are bad\"),\n",
        "(\"epared2\",\" =1 if walls are regular\"),\n",
        "(\"epared3\",\" =1 if walls are good\"),\n",
        "(\"etecho1\",\" =1 if roof are bad\"),\n",
        "(\"etecho2\",\" =1 if roof are regular\"),\n",
        "(\"etecho3\",\" =1 if roof are good\"),\n",
        "(\"eviv1\",\" =1 if floor are bad\"),\n",
        "(\"eviv2\",\" =1 if floor are regular\"),\n",
        "(\"eviv3\",\" =1 if floor are good\"),\n",
        "(\"dis\",\" =1 if disable person\"),\n",
        "(\"male\",\" =1 if male\"),\n",
        "(\"female\",\" =1 if female\"),\n",
        "(\"estadocivil1\",\" =1 if less than 10 years old\"),\n",
        "(\"estadocivil2\",\" =1 if free or coupled uunion\"),\n",
        "(\"estadocivil3\",\" =1 if married\"),\n",
        "(\"estadocivil4\",\" =1 if divorced\"),\n",
        "(\"estadocivil5\",\" =1 if separated\"),\n",
        "(\"estadocivil6\",\" =1 if widow/er\"),\n",
        "(\"estadocivil7\",\" =1 if single\"),\n",
        "(\"parentesco1\",\" =1 if household head\"),\n",
        "(\"parentesco2\",\" =1 if spouse/partner\"),\n",
        "(\"parentesco3\",\" =1 if son/doughter\"),\n",
        "(\"parentesco4\",\" =1 if stepson/doughter\"),\n",
        "(\"parentesco5\",\" =1 if son/doughter in law\"),\n",
        "(\"parentesco6\",\" =1 if grandson/doughter\"),\n",
        "(\"parentesco7\",\" =1 if mother/father\"),\n",
        "(\"parentesco8\",\" =1 if father/mother in law\"),\n",
        "(\"parentesco9\",\" =1 if brother/sister\"),\n",
        "(\"parentesco10\",\" =1 if brother/sister in law\"),\n",
        "(\"parentesco11\",\" =1 if other family member\"),\n",
        "(\"parentesco12\",\" =1 if other non family member\"),\n",
        "(\"idhogar\",\" Household level identifier\"),\n",
        "(\"hogar_nin\",\" Number of children 0 to 19 in household\"),\n",
        "(\"hogar_adul\",\" Number of adults in household\"),\n",
        "(\"hogar_mayor\",\" # of individuals 65+ in the household\"),\n",
        "(\"hogar_total\",\" # of total individuals in the household\"),\n",
        "(\"dependency\",\" Dependency rate\"),\n",
        "(\"edjefe\",\" years of education of male head of household\"),\n",
        "(\"edjefa\",\" years of education of female head of household\"),\n",
        "(\"meaneduc\",\"average years of education for adults (18+)\"),\n",
        "(\"instlevel1\",\" =1 no level of education\"),\n",
        "(\"instlevel2\",\" =1 incomplete primary\"),\n",
        "(\"instlevel3\",\" =1 complete primary\"),\n",
        "(\"instlevel4\",\" =1 incomplete academic secondary level\"),\n",
        "(\"instlevel5\",\" =1 complete academic secondary level\"),\n",
        "(\"instlevel6\",\" =1 incomplete technical secondary level\"),\n",
        "(\"instlevel7\",\" =1 complete technical secondary level\"),\n",
        "(\"instlevel8\",\" =1 undergraduate and higher education\"),\n",
        "(\"instlevel9\",\" =1 postgraduate higher education\"),\n",
        "(\"bedrooms\",\" number of bedrooms\"),\n",
        "(\"overcrowding\",\" # persons per room\"),\n",
        "(\"tipovivi1\",\" =1 own and fully paid house\"),\n",
        "(\"tipovivi2\",\" =1 own,   paying in installments\"),\n",
        "(\"tipovivi3\",\" =1 rented\"),\n",
        "(\"tipovivi4\",\" =1 precarious\"),\n",
        "(\"tipovivi5\",\" =1 other(assigned\"),\n",
        "(\"computer\",\" =1 if the household has notebook or desktop computer,   borrowed)\"),\n",
        "(\"television\",\" =1 if the household has TV\"),\n",
        "(\"mobilephone\",\" =1 if mobile phone\"),\n",
        "(\"qmobilephone\",\" # of mobile phones\"),\n",
        "(\"lugar1\",\" =1 region Central\"),\n",
        "(\"lugar2\",\" =1 region Chorotega\"),\n",
        "(\"lugar3\",\" =1 region PacÃƒÂ­fico central\"),\n",
        "(\"lugar4\",\" =1 region Brunca\"),\n",
        "(\"lugar5\",\" =1 region Huetar AtlÃƒÂ¡ntica\"),\n",
        "(\"lugar6\",\" =1 region Huetar Norte\"),\n",
        "(\"area1\",\" =1 zona urbana\"),\n",
        "(\"area2\",\" =2 zona rural\"),\n",
        "(\"age\",\" Age in years\"),\n",
        "(\"SQBescolari\",\" escolari squared\"),\n",
        "(\"SQBage\",\" age squared\"),\n",
        "(\"SQBhogar_total\",\" hogar_total squared\"),\n",
        "(\"SQBedjefe\",\" edjefe squared\"),\n",
        "(\"SQBhogar_nin\",\" hogar_nin squared\"),\n",
        "(\"SQBovercrowding\",\" overcrowding squared\"),\n",
        "(\"SQBdependency\",\" dependency squared\"),\n",
        "(\"SQBmeaned\",\" meaned squared\"),\n",
        "(\"agesq\",\" Age squared\"),]\n",
        "\n",
        "description = pd.DataFrame(description, columns=['varname', 'description'])\n",
        "description"
      ],
      "metadata": {
        "colab": {
          "base_uri": "https://localhost:8080/",
          "height": 424
        },
        "id": "ATueYWdJwcaj",
        "outputId": "f46288b7-b8c1-4209-8f81-853f6c5cbb1c"
      },
      "execution_count": 8,
      "outputs": [
        {
          "output_type": "execute_result",
          "data": {
            "text/plain": [
              "             varname                         description\n",
              "0               v2a1                Monthly rent payment\n",
              "1             hacdor         =1 Overcrowding by bedrooms\n",
              "2              rooms    number of all rooms in the house\n",
              "3             hacapo            =1 Overcrowding by rooms\n",
              "4               v14a      =1 has toilet in the household\n",
              "..               ...                                 ...\n",
              "145     SQBhogar_nin                   hogar_nin squared\n",
              "146  SQBovercrowding                overcrowding squared\n",
              "147    SQBdependency                  dependency squared\n",
              "148        SQBmeaned                      meaned squared\n",
              "149            agesq                         Age squared\n",
              "\n",
              "[150 rows x 2 columns]"
            ],
            "text/html": [
              "\n",
              "  <div id=\"df-fe4b3e70-1a76-4b11-af92-2b395b95dfdc\">\n",
              "    <div class=\"colab-df-container\">\n",
              "      <div>\n",
              "<style scoped>\n",
              "    .dataframe tbody tr th:only-of-type {\n",
              "        vertical-align: middle;\n",
              "    }\n",
              "\n",
              "    .dataframe tbody tr th {\n",
              "        vertical-align: top;\n",
              "    }\n",
              "\n",
              "    .dataframe thead th {\n",
              "        text-align: right;\n",
              "    }\n",
              "</style>\n",
              "<table border=\"1\" class=\"dataframe\">\n",
              "  <thead>\n",
              "    <tr style=\"text-align: right;\">\n",
              "      <th></th>\n",
              "      <th>varname</th>\n",
              "      <th>description</th>\n",
              "    </tr>\n",
              "  </thead>\n",
              "  <tbody>\n",
              "    <tr>\n",
              "      <th>0</th>\n",
              "      <td>v2a1</td>\n",
              "      <td>Monthly rent payment</td>\n",
              "    </tr>\n",
              "    <tr>\n",
              "      <th>1</th>\n",
              "      <td>hacdor</td>\n",
              "      <td>=1 Overcrowding by bedrooms</td>\n",
              "    </tr>\n",
              "    <tr>\n",
              "      <th>2</th>\n",
              "      <td>rooms</td>\n",
              "      <td>number of all rooms in the house</td>\n",
              "    </tr>\n",
              "    <tr>\n",
              "      <th>3</th>\n",
              "      <td>hacapo</td>\n",
              "      <td>=1 Overcrowding by rooms</td>\n",
              "    </tr>\n",
              "    <tr>\n",
              "      <th>4</th>\n",
              "      <td>v14a</td>\n",
              "      <td>=1 has toilet in the household</td>\n",
              "    </tr>\n",
              "    <tr>\n",
              "      <th>...</th>\n",
              "      <td>...</td>\n",
              "      <td>...</td>\n",
              "    </tr>\n",
              "    <tr>\n",
              "      <th>145</th>\n",
              "      <td>SQBhogar_nin</td>\n",
              "      <td>hogar_nin squared</td>\n",
              "    </tr>\n",
              "    <tr>\n",
              "      <th>146</th>\n",
              "      <td>SQBovercrowding</td>\n",
              "      <td>overcrowding squared</td>\n",
              "    </tr>\n",
              "    <tr>\n",
              "      <th>147</th>\n",
              "      <td>SQBdependency</td>\n",
              "      <td>dependency squared</td>\n",
              "    </tr>\n",
              "    <tr>\n",
              "      <th>148</th>\n",
              "      <td>SQBmeaned</td>\n",
              "      <td>meaned squared</td>\n",
              "    </tr>\n",
              "    <tr>\n",
              "      <th>149</th>\n",
              "      <td>agesq</td>\n",
              "      <td>Age squared</td>\n",
              "    </tr>\n",
              "  </tbody>\n",
              "</table>\n",
              "<p>150 rows × 2 columns</p>\n",
              "</div>\n",
              "      <button class=\"colab-df-convert\" onclick=\"convertToInteractive('df-fe4b3e70-1a76-4b11-af92-2b395b95dfdc')\"\n",
              "              title=\"Convert this dataframe to an interactive table.\"\n",
              "              style=\"display:none;\">\n",
              "        \n",
              "  <svg xmlns=\"http://www.w3.org/2000/svg\" height=\"24px\"viewBox=\"0 0 24 24\"\n",
              "       width=\"24px\">\n",
              "    <path d=\"M0 0h24v24H0V0z\" fill=\"none\"/>\n",
              "    <path d=\"M18.56 5.44l.94 2.06.94-2.06 2.06-.94-2.06-.94-.94-2.06-.94 2.06-2.06.94zm-11 1L8.5 8.5l.94-2.06 2.06-.94-2.06-.94L8.5 2.5l-.94 2.06-2.06.94zm10 10l.94 2.06.94-2.06 2.06-.94-2.06-.94-.94-2.06-.94 2.06-2.06.94z\"/><path d=\"M17.41 7.96l-1.37-1.37c-.4-.4-.92-.59-1.43-.59-.52 0-1.04.2-1.43.59L10.3 9.45l-7.72 7.72c-.78.78-.78 2.05 0 2.83L4 21.41c.39.39.9.59 1.41.59.51 0 1.02-.2 1.41-.59l7.78-7.78 2.81-2.81c.8-.78.8-2.07 0-2.86zM5.41 20L4 18.59l7.72-7.72 1.47 1.35L5.41 20z\"/>\n",
              "  </svg>\n",
              "      </button>\n",
              "      \n",
              "  <style>\n",
              "    .colab-df-container {\n",
              "      display:flex;\n",
              "      flex-wrap:wrap;\n",
              "      gap: 12px;\n",
              "    }\n",
              "\n",
              "    .colab-df-convert {\n",
              "      background-color: #E8F0FE;\n",
              "      border: none;\n",
              "      border-radius: 50%;\n",
              "      cursor: pointer;\n",
              "      display: none;\n",
              "      fill: #1967D2;\n",
              "      height: 32px;\n",
              "      padding: 0 0 0 0;\n",
              "      width: 32px;\n",
              "    }\n",
              "\n",
              "    .colab-df-convert:hover {\n",
              "      background-color: #E2EBFA;\n",
              "      box-shadow: 0px 1px 2px rgba(60, 64, 67, 0.3), 0px 1px 3px 1px rgba(60, 64, 67, 0.15);\n",
              "      fill: #174EA6;\n",
              "    }\n",
              "\n",
              "    [theme=dark] .colab-df-convert {\n",
              "      background-color: #3B4455;\n",
              "      fill: #D2E3FC;\n",
              "    }\n",
              "\n",
              "    [theme=dark] .colab-df-convert:hover {\n",
              "      background-color: #434B5C;\n",
              "      box-shadow: 0px 1px 3px 1px rgba(0, 0, 0, 0.15);\n",
              "      filter: drop-shadow(0px 1px 2px rgba(0, 0, 0, 0.3));\n",
              "      fill: #FFFFFF;\n",
              "    }\n",
              "  </style>\n",
              "\n",
              "      <script>\n",
              "        const buttonEl =\n",
              "          document.querySelector('#df-fe4b3e70-1a76-4b11-af92-2b395b95dfdc button.colab-df-convert');\n",
              "        buttonEl.style.display =\n",
              "          google.colab.kernel.accessAllowed ? 'block' : 'none';\n",
              "\n",
              "        async function convertToInteractive(key) {\n",
              "          const element = document.querySelector('#df-fe4b3e70-1a76-4b11-af92-2b395b95dfdc');\n",
              "          const dataTable =\n",
              "            await google.colab.kernel.invokeFunction('convertToInteractive',\n",
              "                                                     [key], {});\n",
              "          if (!dataTable) return;\n",
              "\n",
              "          const docLinkHtml = 'Like what you see? Visit the ' +\n",
              "            '<a target=\"_blank\" href=https://colab.research.google.com/notebooks/data_table.ipynb>data table notebook</a>'\n",
              "            + ' to learn more about interactive tables.';\n",
              "          element.innerHTML = '';\n",
              "          dataTable['output_type'] = 'display_data';\n",
              "          await google.colab.output.renderOutput(dataTable, element);\n",
              "          const docLink = document.createElement('div');\n",
              "          docLink.innerHTML = docLinkHtml;\n",
              "          element.appendChild(docLink);\n",
              "        }\n",
              "      </script>\n",
              "    </div>\n",
              "  </div>\n",
              "  "
            ]
          },
          "metadata": {},
          "execution_count": 8
        }
      ]
    },
    {
      "cell_type": "markdown",
      "source": [
        "#### Check null data"
      ],
      "metadata": {
        "id": "TuadUh5Fw_KZ"
      }
    },
    {
      "cell_type": "code",
      "source": [
        "total= df_train.isnull().sum().sort_values(ascending=False)\n",
        "percent = 100 * (df_train.isnull().sum() / df_train.isnull().count()).sort_values(ascending=False)\n",
        "missing_df =  pd.concat([total, percent], axis=1, keys=['Total', 'Percent'])\n",
        "\n",
        "missing_df.head(20)"
      ],
      "metadata": {
        "colab": {
          "base_uri": "https://localhost:8080/",
          "height": 677
        },
        "id": "LuOQE-UNxMSA",
        "outputId": "dd3b27dd-d438-4025-c0c9-7dc13f625331"
      },
      "execution_count": 9,
      "outputs": [
        {
          "output_type": "execute_result",
          "data": {
            "text/plain": [
              "              Total    Percent\n",
              "rez_esc        7928  82.954902\n",
              "v18q1          7342  76.823271\n",
              "v2a1           6860  71.779847\n",
              "SQBmeaned         5   0.052318\n",
              "meaneduc          5   0.052318\n",
              "Id                0   0.000000\n",
              "hogar_adul        0   0.000000\n",
              "parentesco10      0   0.000000\n",
              "parentesco11      0   0.000000\n",
              "parentesco12      0   0.000000\n",
              "idhogar           0   0.000000\n",
              "hogar_nin         0   0.000000\n",
              "dependency        0   0.000000\n",
              "hogar_mayor       0   0.000000\n",
              "hogar_total       0   0.000000\n",
              "edjefe            0   0.000000\n",
              "edjefa            0   0.000000\n",
              "instlevel1        0   0.000000\n",
              "instlevel2        0   0.000000\n",
              "parentesco9       0   0.000000"
            ],
            "text/html": [
              "\n",
              "  <div id=\"df-2d7ccbc0-f869-4002-81af-c05c05452f14\">\n",
              "    <div class=\"colab-df-container\">\n",
              "      <div>\n",
              "<style scoped>\n",
              "    .dataframe tbody tr th:only-of-type {\n",
              "        vertical-align: middle;\n",
              "    }\n",
              "\n",
              "    .dataframe tbody tr th {\n",
              "        vertical-align: top;\n",
              "    }\n",
              "\n",
              "    .dataframe thead th {\n",
              "        text-align: right;\n",
              "    }\n",
              "</style>\n",
              "<table border=\"1\" class=\"dataframe\">\n",
              "  <thead>\n",
              "    <tr style=\"text-align: right;\">\n",
              "      <th></th>\n",
              "      <th>Total</th>\n",
              "      <th>Percent</th>\n",
              "    </tr>\n",
              "  </thead>\n",
              "  <tbody>\n",
              "    <tr>\n",
              "      <th>rez_esc</th>\n",
              "      <td>7928</td>\n",
              "      <td>82.954902</td>\n",
              "    </tr>\n",
              "    <tr>\n",
              "      <th>v18q1</th>\n",
              "      <td>7342</td>\n",
              "      <td>76.823271</td>\n",
              "    </tr>\n",
              "    <tr>\n",
              "      <th>v2a1</th>\n",
              "      <td>6860</td>\n",
              "      <td>71.779847</td>\n",
              "    </tr>\n",
              "    <tr>\n",
              "      <th>SQBmeaned</th>\n",
              "      <td>5</td>\n",
              "      <td>0.052318</td>\n",
              "    </tr>\n",
              "    <tr>\n",
              "      <th>meaneduc</th>\n",
              "      <td>5</td>\n",
              "      <td>0.052318</td>\n",
              "    </tr>\n",
              "    <tr>\n",
              "      <th>Id</th>\n",
              "      <td>0</td>\n",
              "      <td>0.000000</td>\n",
              "    </tr>\n",
              "    <tr>\n",
              "      <th>hogar_adul</th>\n",
              "      <td>0</td>\n",
              "      <td>0.000000</td>\n",
              "    </tr>\n",
              "    <tr>\n",
              "      <th>parentesco10</th>\n",
              "      <td>0</td>\n",
              "      <td>0.000000</td>\n",
              "    </tr>\n",
              "    <tr>\n",
              "      <th>parentesco11</th>\n",
              "      <td>0</td>\n",
              "      <td>0.000000</td>\n",
              "    </tr>\n",
              "    <tr>\n",
              "      <th>parentesco12</th>\n",
              "      <td>0</td>\n",
              "      <td>0.000000</td>\n",
              "    </tr>\n",
              "    <tr>\n",
              "      <th>idhogar</th>\n",
              "      <td>0</td>\n",
              "      <td>0.000000</td>\n",
              "    </tr>\n",
              "    <tr>\n",
              "      <th>hogar_nin</th>\n",
              "      <td>0</td>\n",
              "      <td>0.000000</td>\n",
              "    </tr>\n",
              "    <tr>\n",
              "      <th>dependency</th>\n",
              "      <td>0</td>\n",
              "      <td>0.000000</td>\n",
              "    </tr>\n",
              "    <tr>\n",
              "      <th>hogar_mayor</th>\n",
              "      <td>0</td>\n",
              "      <td>0.000000</td>\n",
              "    </tr>\n",
              "    <tr>\n",
              "      <th>hogar_total</th>\n",
              "      <td>0</td>\n",
              "      <td>0.000000</td>\n",
              "    </tr>\n",
              "    <tr>\n",
              "      <th>edjefe</th>\n",
              "      <td>0</td>\n",
              "      <td>0.000000</td>\n",
              "    </tr>\n",
              "    <tr>\n",
              "      <th>edjefa</th>\n",
              "      <td>0</td>\n",
              "      <td>0.000000</td>\n",
              "    </tr>\n",
              "    <tr>\n",
              "      <th>instlevel1</th>\n",
              "      <td>0</td>\n",
              "      <td>0.000000</td>\n",
              "    </tr>\n",
              "    <tr>\n",
              "      <th>instlevel2</th>\n",
              "      <td>0</td>\n",
              "      <td>0.000000</td>\n",
              "    </tr>\n",
              "    <tr>\n",
              "      <th>parentesco9</th>\n",
              "      <td>0</td>\n",
              "      <td>0.000000</td>\n",
              "    </tr>\n",
              "  </tbody>\n",
              "</table>\n",
              "</div>\n",
              "      <button class=\"colab-df-convert\" onclick=\"convertToInteractive('df-2d7ccbc0-f869-4002-81af-c05c05452f14')\"\n",
              "              title=\"Convert this dataframe to an interactive table.\"\n",
              "              style=\"display:none;\">\n",
              "        \n",
              "  <svg xmlns=\"http://www.w3.org/2000/svg\" height=\"24px\"viewBox=\"0 0 24 24\"\n",
              "       width=\"24px\">\n",
              "    <path d=\"M0 0h24v24H0V0z\" fill=\"none\"/>\n",
              "    <path d=\"M18.56 5.44l.94 2.06.94-2.06 2.06-.94-2.06-.94-.94-2.06-.94 2.06-2.06.94zm-11 1L8.5 8.5l.94-2.06 2.06-.94-2.06-.94L8.5 2.5l-.94 2.06-2.06.94zm10 10l.94 2.06.94-2.06 2.06-.94-2.06-.94-.94-2.06-.94 2.06-2.06.94z\"/><path d=\"M17.41 7.96l-1.37-1.37c-.4-.4-.92-.59-1.43-.59-.52 0-1.04.2-1.43.59L10.3 9.45l-7.72 7.72c-.78.78-.78 2.05 0 2.83L4 21.41c.39.39.9.59 1.41.59.51 0 1.02-.2 1.41-.59l7.78-7.78 2.81-2.81c.8-.78.8-2.07 0-2.86zM5.41 20L4 18.59l7.72-7.72 1.47 1.35L5.41 20z\"/>\n",
              "  </svg>\n",
              "      </button>\n",
              "      \n",
              "  <style>\n",
              "    .colab-df-container {\n",
              "      display:flex;\n",
              "      flex-wrap:wrap;\n",
              "      gap: 12px;\n",
              "    }\n",
              "\n",
              "    .colab-df-convert {\n",
              "      background-color: #E8F0FE;\n",
              "      border: none;\n",
              "      border-radius: 50%;\n",
              "      cursor: pointer;\n",
              "      display: none;\n",
              "      fill: #1967D2;\n",
              "      height: 32px;\n",
              "      padding: 0 0 0 0;\n",
              "      width: 32px;\n",
              "    }\n",
              "\n",
              "    .colab-df-convert:hover {\n",
              "      background-color: #E2EBFA;\n",
              "      box-shadow: 0px 1px 2px rgba(60, 64, 67, 0.3), 0px 1px 3px 1px rgba(60, 64, 67, 0.15);\n",
              "      fill: #174EA6;\n",
              "    }\n",
              "\n",
              "    [theme=dark] .colab-df-convert {\n",
              "      background-color: #3B4455;\n",
              "      fill: #D2E3FC;\n",
              "    }\n",
              "\n",
              "    [theme=dark] .colab-df-convert:hover {\n",
              "      background-color: #434B5C;\n",
              "      box-shadow: 0px 1px 3px 1px rgba(0, 0, 0, 0.15);\n",
              "      filter: drop-shadow(0px 1px 2px rgba(0, 0, 0, 0.3));\n",
              "      fill: #FFFFFF;\n",
              "    }\n",
              "  </style>\n",
              "\n",
              "      <script>\n",
              "        const buttonEl =\n",
              "          document.querySelector('#df-2d7ccbc0-f869-4002-81af-c05c05452f14 button.colab-df-convert');\n",
              "        buttonEl.style.display =\n",
              "          google.colab.kernel.accessAllowed ? 'block' : 'none';\n",
              "\n",
              "        async function convertToInteractive(key) {\n",
              "          const element = document.querySelector('#df-2d7ccbc0-f869-4002-81af-c05c05452f14');\n",
              "          const dataTable =\n",
              "            await google.colab.kernel.invokeFunction('convertToInteractive',\n",
              "                                                     [key], {});\n",
              "          if (!dataTable) return;\n",
              "\n",
              "          const docLinkHtml = 'Like what you see? Visit the ' +\n",
              "            '<a target=\"_blank\" href=https://colab.research.google.com/notebooks/data_table.ipynb>data table notebook</a>'\n",
              "            + ' to learn more about interactive tables.';\n",
              "          element.innerHTML = '';\n",
              "          dataTable['output_type'] = 'display_data';\n",
              "          await google.colab.output.renderOutput(dataTable, element);\n",
              "          const docLink = document.createElement('div');\n",
              "          docLink.innerHTML = docLinkHtml;\n",
              "          element.appendChild(docLink);\n",
              "        }\n",
              "      </script>\n",
              "    </div>\n",
              "  </div>\n",
              "  "
            ]
          },
          "metadata": {},
          "execution_count": 9
        }
      ]
    },
    {
      "cell_type": "code",
      "source": [
        "#filling missing values\n",
        "\n",
        "# if education is \"yes\" and person is head of household, fill with escolari\n",
        "df_train.loc[(df_train['edjefa'] == \"yes\") & (df_train['parentesco1'] == 1), \"edjefa\"] = df_train.loc[(df_train['edjefa'] == \"yes\") & (df_train['parentesco1'] == 1), \"escolari\"]\n",
        "df_train.loc[(df_train['edjefe'] == \"yes\") & (df_train['parentesco1'] == 1), \"edjefe\"] = df_train.loc[(df_train['edjefe'] == \"yes\") & (df_train['parentesco1'] == 1), \"escolari\"]\n",
        "\n",
        "\n",
        "df_test.loc[(df_test['edjefa'] == \"yes\") & (df_test['parentesco1'] == 1), \"edjefa\"] = df_test.loc[(df_test['edjefa'] == \"yes\") & (df_test['parentesco1'] == 1), \"escolari\"]\n",
        "df_test.loc[(df_test['edjefe'] == \"yes\") & (df_test['parentesco1'] == 1), \"edjefe\"] = df_test.loc[(df_test['edjefe'] == \"yes\") & (df_test['parentesco1'] == 1), \"escolari\"]\n",
        "\n",
        "\n",
        "# this field is supposed to be interaction between gender and escolari, but it isn't clear what \"yes\" means, let's fill it with 4\n",
        "df_train.loc[df_train['edjefa'] == \"yes\", \"edjefa\"] = 4\n",
        "df_train.loc[df_train['edjefe'] == \"yes\", \"edjefe\"] = 4\n",
        "\n",
        "df_test.loc[df_test['edjefa'] == \"yes\", \"edjefa\"] = 4\n",
        "df_test.loc[df_test['edjefe'] == \"yes\", \"edjefe\"] = 4\n",
        "\n",
        "# create feature with max education of either head of household\n",
        "df_train['edjef'] = np.max(df_train[['edjefa','edjefe']], axis=1)\n",
        "df_test['edjef'] = np.max(df_test[['edjefa','edjefe']], axis=1)\n",
        "\n",
        "# fix some inconsistencies in the data - some rows indicate both that the household does and does not have a toilet, \n",
        "# if there is no water we'll assume they do not\n",
        "df_train.loc[(df_train.v14a ==  1) & (df_train.sanitario1 ==  1) & (df_train.abastaguano == 0), \"v14a\"] = 0\n",
        "df_train.loc[(df_train.v14a ==  1) & (df_train.sanitario1 ==  1) & (df_train.abastaguano == 0), \"sanitario1\"] = 0\n",
        "\n",
        "df_test.loc[(df_test.v14a ==  1) & (df_test.sanitario1 ==  1) & (df_test.abastaguano == 0), \"v14a\"] = 0\n",
        "df_test.loc[(df_test.v14a ==  1) & (df_test.sanitario1 ==  1) & (df_test.abastaguano == 0), \"sanitario1\"] = 0\n",
        "\n",
        "#rez_esz, SQBmeaned\n",
        "#rez_esc : Years behind in school -> filled with 0\n",
        "#SQBmeaned : square of the mean years of education of adults (>=18) in the household agesq, Age squared -> same with rez_esc -> filled with 0\n",
        "\n",
        "df_train['rez_esc'].fillna(0, inplace=True)\n",
        "df_test['rez_esc'].fillna(0, inplace=True)\n",
        "df_train['SQBmeaned'].fillna(0, inplace=True)\n",
        "df_test['SQBmeaned'].fillna(0, inplace=True)\n",
        "\n",
        "\n",
        "\n",
        "\n",
        "\n"
      ],
      "metadata": {
        "id": "RcqciYNvxq7o"
      },
      "execution_count": 10,
      "outputs": []
    },
    {
      "cell_type": "code",
      "source": [
        "\n",
        "#rez_esz, SQBmeaned\n",
        "#rez_esc : Years behind in school -> filled with 0\n",
        "#SQBmeaned : square of the mean years of education of adults (>=18) in the household agesq, Age squared -> same with rez_esc -> filled with 0\n",
        "\n",
        "df_train['rez_esc'].fillna(0, inplace=True)\n",
        "df_test['rez_esc'].fillna(0, inplace=True)\n",
        "df_train['SQBmeaned'].fillna(0, inplace=True)\n",
        "df_test['SQBmeaned'].fillna(0, inplace=True)"
      ],
      "metadata": {
        "id": "v03kExmXyHAV"
      },
      "execution_count": 11,
      "outputs": []
    },
    {
      "cell_type": "code",
      "source": [
        "#meaneduc: average years of education for adults (18+) -> filled with 0\n",
        "df_train['meaneduc'].fillna(0, inplace=True)\n",
        "df_test['meaneduc'].fillna(0, inplace=True)"
      ],
      "metadata": {
        "id": "_Qc0BiA8x9GO"
      },
      "execution_count": 12,
      "outputs": []
    },
    {
      "cell_type": "code",
      "source": [
        "#v18q1: number of tablets household owns -> if v18q(Do you own a tablet?) == 1, there are some values. If not, only NaN values in v18q1. See below 3 cells.\n",
        "df_train['v18q'].value_counts()"
      ],
      "metadata": {
        "colab": {
          "base_uri": "https://localhost:8080/"
        },
        "id": "g2_8xAuuyJcn",
        "outputId": "19b58207-ab73-48a2-b226-a5e4643e4fc3"
      },
      "execution_count": 13,
      "outputs": [
        {
          "output_type": "execute_result",
          "data": {
            "text/plain": [
              "0    7342\n",
              "1    2215\n",
              "Name: v18q, dtype: int64"
            ]
          },
          "metadata": {},
          "execution_count": 13
        }
      ]
    },
    {
      "cell_type": "code",
      "source": [
        "df_train.loc[df_train['v18q'] == 1, 'v18q1'].value_counts()\n",
        "\n"
      ],
      "metadata": {
        "colab": {
          "base_uri": "https://localhost:8080/"
        },
        "id": "EkGKUnzayJ0x",
        "outputId": "753d45b7-5e79-4fa1-89ca-30a1d5772bea"
      },
      "execution_count": 14,
      "outputs": [
        {
          "output_type": "execute_result",
          "data": {
            "text/plain": [
              "1.0    1586\n",
              "2.0     444\n",
              "3.0     129\n",
              "4.0      37\n",
              "5.0      13\n",
              "6.0       6\n",
              "Name: v18q1, dtype: int64"
            ]
          },
          "metadata": {},
          "execution_count": 14
        }
      ]
    },
    {
      "cell_type": "code",
      "source": [
        "df_train.loc[df_train['v18q'] == 0, 'v18q1'].value_counts()\n"
      ],
      "metadata": {
        "colab": {
          "base_uri": "https://localhost:8080/"
        },
        "id": "pUA2femfyJ3I",
        "outputId": "4f1efe57-f310-4df4-8001-2c9644c316cc"
      },
      "execution_count": 15,
      "outputs": [
        {
          "output_type": "execute_result",
          "data": {
            "text/plain": [
              "Series([], Name: v18q1, dtype: int64)"
            ]
          },
          "metadata": {},
          "execution_count": 15
        }
      ]
    },
    {
      "cell_type": "code",
      "source": [
        "df_train['v18q1'].fillna(0, inplace=True)\n",
        "df_test['v18q1'].fillna(0, inplace=True)"
      ],
      "metadata": {
        "id": "bZaOcWVWyJ5o"
      },
      "execution_count": 16,
      "outputs": []
    },
    {
      "cell_type": "code",
      "source": [
        "df_train['tipovivi3'].value_counts()\n"
      ],
      "metadata": {
        "colab": {
          "base_uri": "https://localhost:8080/"
        },
        "id": "l2hhd7y2yJ71",
        "outputId": "d322cdb3-dc80-4619-8a93-f9317a84272e"
      },
      "execution_count": 17,
      "outputs": [
        {
          "output_type": "execute_result",
          "data": {
            "text/plain": [
              "0    7821\n",
              "1    1736\n",
              "Name: tipovivi3, dtype: int64"
            ]
          },
          "metadata": {},
          "execution_count": 17
        }
      ]
    },
    {
      "cell_type": "code",
      "source": [
        "sns.kdeplot(df_train.loc[df_train['tipovivi3'] == 1, 'v2a1'], label='Monthly rent payment of household(rented=1)')\n",
        "sns.kdeplot(df_train.loc[df_train['tipovivi3'] == 0, 'v2a1'], label='Monthly rent payment of household(rented=0)')\n",
        "plt.xscale('log')\n",
        "plt.show()"
      ],
      "metadata": {
        "colab": {
          "base_uri": "https://localhost:8080/",
          "height": 294
        },
        "id": "sd7d1-7yyJ90",
        "outputId": "48efd5bd-7ca8-401a-8edc-b5020c4cd4db"
      },
      "execution_count": 18,
      "outputs": [
        {
          "output_type": "display_data",
          "data": {
            "text/plain": [
              "<Figure size 432x288 with 1 Axes>"
            ],
            "image/png": "[encoded data removed]"
          },
          "metadata": {
            "needs_background": "light"
          }
        }
      ]
    },
    {
      "cell_type": "code",
      "source": [
        "df_train['v2a1'].fillna(0, inplace=True)\n",
        "df_test['v2a1'].fillna(0, inplace=True)"
      ],
      "metadata": {
        "id": "zjdQLv72yUbh"
      },
      "execution_count": 19,
      "outputs": []
    },
    {
      "cell_type": "code",
      "source": [
        "total = df_train.isnull().sum().sort_values(ascending=False)\n",
        "percent = 100 * (df_train.isnull().sum() / df_train.isnull().count()).sort_values(ascending=False)\n",
        "missing_df = pd.concat([total, percent], axis=1, keys=['Total', 'Percent'])\n",
        "\n",
        "missing_df.head(20)"
      ],
      "metadata": {
        "colab": {
          "base_uri": "https://localhost:8080/",
          "height": 677
        },
        "id": "g35ah_EPyXn2",
        "outputId": "4f00da6b-dda1-4eb3-a707-2d465a10adb9"
      },
      "execution_count": 20,
      "outputs": [
        {
          "output_type": "execute_result",
          "data": {
            "text/plain": [
              "              Total  Percent\n",
              "edjef          9557    100.0\n",
              "v2a1              0      0.0\n",
              "parentesco10      0      0.0\n",
              "parentesco11      0      0.0\n",
              "parentesco12      0      0.0\n",
              "idhogar           0      0.0\n",
              "hogar_nin         0      0.0\n",
              "hogar_adul        0      0.0\n",
              "hogar_mayor       0      0.0\n",
              "hogar_total       0      0.0\n",
              "dependency        0      0.0\n",
              "edjefe            0      0.0\n",
              "edjefa            0      0.0\n",
              "meaneduc          0      0.0\n",
              "instlevel1        0      0.0\n",
              "instlevel2        0      0.0\n",
              "instlevel3        0      0.0\n",
              "parentesco9       0      0.0\n",
              "parentesco8       0      0.0\n",
              "parentesco7       0      0.0"
            ],
            "text/html": [
              "\n",
              "  <div id=\"df-6577cba9-9925-484b-b53d-8aa552a87008\">\n",
              "    <div class=\"colab-df-container\">\n",
              "      <div>\n",
              "<style scoped>\n",
              "    .dataframe tbody tr th:only-of-type {\n",
              "        vertical-align: middle;\n",
              "    }\n",
              "\n",
              "    .dataframe tbody tr th {\n",
              "        vertical-align: top;\n",
              "    }\n",
              "\n",
              "    .dataframe thead th {\n",
              "        text-align: right;\n",
              "    }\n",
              "</style>\n",
              "<table border=\"1\" class=\"dataframe\">\n",
              "  <thead>\n",
              "    <tr style=\"text-align: right;\">\n",
              "      <th></th>\n",
              "      <th>Total</th>\n",
              "      <th>Percent</th>\n",
              "    </tr>\n",
              "  </thead>\n",
              "  <tbody>\n",
              "    <tr>\n",
              "      <th>edjef</th>\n",
              "      <td>9557</td>\n",
              "      <td>100.0</td>\n",
              "    </tr>\n",
              "    <tr>\n",
              "      <th>v2a1</th>\n",
              "      <td>0</td>\n",
              "      <td>0.0</td>\n",
              "    </tr>\n",
              "    <tr>\n",
              "      <th>parentesco10</th>\n",
              "      <td>0</td>\n",
              "      <td>0.0</td>\n",
              "    </tr>\n",
              "    <tr>\n",
              "      <th>parentesco11</th>\n",
              "      <td>0</td>\n",
              "      <td>0.0</td>\n",
              "    </tr>\n",
              "    <tr>\n",
              "      <th>parentesco12</th>\n",
              "      <td>0</td>\n",
              "      <td>0.0</td>\n",
              "    </tr>\n",
              "    <tr>\n",
              "      <th>idhogar</th>\n",
              "      <td>0</td>\n",
              "      <td>0.0</td>\n",
              "    </tr>\n",
              "    <tr>\n",
              "      <th>hogar_nin</th>\n",
              "      <td>0</td>\n",
              "      <td>0.0</td>\n",
              "    </tr>\n",
              "    <tr>\n",
              "      <th>hogar_adul</th>\n",
              "      <td>0</td>\n",
              "      <td>0.0</td>\n",
              "    </tr>\n",
              "    <tr>\n",
              "      <th>hogar_mayor</th>\n",
              "      <td>0</td>\n",
              "      <td>0.0</td>\n",
              "    </tr>\n",
              "    <tr>\n",
              "      <th>hogar_total</th>\n",
              "      <td>0</td>\n",
              "      <td>0.0</td>\n",
              "    </tr>\n",
              "    <tr>\n",
              "      <th>dependency</th>\n",
              "      <td>0</td>\n",
              "      <td>0.0</td>\n",
              "    </tr>\n",
              "    <tr>\n",
              "      <th>edjefe</th>\n",
              "      <td>0</td>\n",
              "      <td>0.0</td>\n",
              "    </tr>\n",
              "    <tr>\n",
              "      <th>edjefa</th>\n",
              "      <td>0</td>\n",
              "      <td>0.0</td>\n",
              "    </tr>\n",
              "    <tr>\n",
              "      <th>meaneduc</th>\n",
              "      <td>0</td>\n",
              "      <td>0.0</td>\n",
              "    </tr>\n",
              "    <tr>\n",
              "      <th>instlevel1</th>\n",
              "      <td>0</td>\n",
              "      <td>0.0</td>\n",
              "    </tr>\n",
              "    <tr>\n",
              "      <th>instlevel2</th>\n",
              "      <td>0</td>\n",
              "      <td>0.0</td>\n",
              "    </tr>\n",
              "    <tr>\n",
              "      <th>instlevel3</th>\n",
              "      <td>0</td>\n",
              "      <td>0.0</td>\n",
              "    </tr>\n",
              "    <tr>\n",
              "      <th>parentesco9</th>\n",
              "      <td>0</td>\n",
              "      <td>0.0</td>\n",
              "    </tr>\n",
              "    <tr>\n",
              "      <th>parentesco8</th>\n",
              "      <td>0</td>\n",
              "      <td>0.0</td>\n",
              "    </tr>\n",
              "    <tr>\n",
              "      <th>parentesco7</th>\n",
              "      <td>0</td>\n",
              "      <td>0.0</td>\n",
              "    </tr>\n",
              "  </tbody>\n",
              "</table>\n",
              "</div>\n",
              "      <button class=\"colab-df-convert\" onclick=\"convertToInteractive('df-6577cba9-9925-484b-b53d-8aa552a87008')\"\n",
              "              title=\"Convert this dataframe to an interactive table.\"\n",
              "              style=\"display:none;\">\n",
              "        \n",
              "  <svg xmlns=\"http://www.w3.org/2000/svg\" height=\"24px\"viewBox=\"0 0 24 24\"\n",
              "       width=\"24px\">\n",
              "    <path d=\"M0 0h24v24H0V0z\" fill=\"none\"/>\n",
              "    <path d=\"M18.56 5.44l.94 2.06.94-2.06 2.06-.94-2.06-.94-.94-2.06-.94 2.06-2.06.94zm-11 1L8.5 8.5l.94-2.06 2.06-.94-2.06-.94L8.5 2.5l-.94 2.06-2.06.94zm10 10l.94 2.06.94-2.06 2.06-.94-2.06-.94-.94-2.06-.94 2.06-2.06.94z\"/><path d=\"M17.41 7.96l-1.37-1.37c-.4-.4-.92-.59-1.43-.59-.52 0-1.04.2-1.43.59L10.3 9.45l-7.72 7.72c-.78.78-.78 2.05 0 2.83L4 21.41c.39.39.9.59 1.41.59.51 0 1.02-.2 1.41-.59l7.78-7.78 2.81-2.81c.8-.78.8-2.07 0-2.86zM5.41 20L4 18.59l7.72-7.72 1.47 1.35L5.41 20z\"/>\n",
              "  </svg>\n",
              "      </button>\n",
              "      \n",
              "  <style>\n",
              "    .colab-df-container {\n",
              "      display:flex;\n",
              "      flex-wrap:wrap;\n",
              "      gap: 12px;\n",
              "    }\n",
              "\n",
              "    .colab-df-convert {\n",
              "      background-color: #E8F0FE;\n",
              "      border: none;\n",
              "      border-radius: 50%;\n",
              "      cursor: pointer;\n",
              "      display: none;\n",
              "      fill: #1967D2;\n",
              "      height: 32px;\n",
              "      padding: 0 0 0 0;\n",
              "      width: 32px;\n",
              "    }\n",
              "\n",
              "    .colab-df-convert:hover {\n",
              "      background-color: #E2EBFA;\n",
              "      box-shadow: 0px 1px 2px rgba(60, 64, 67, 0.3), 0px 1px 3px 1px rgba(60, 64, 67, 0.15);\n",
              "      fill: #174EA6;\n",
              "    }\n",
              "\n",
              "    [theme=dark] .colab-df-convert {\n",
              "      background-color: #3B4455;\n",
              "      fill: #D2E3FC;\n",
              "    }\n",
              "\n",
              "    [theme=dark] .colab-df-convert:hover {\n",
              "      background-color: #434B5C;\n",
              "      box-shadow: 0px 1px 3px 1px rgba(0, 0, 0, 0.15);\n",
              "      filter: drop-shadow(0px 1px 2px rgba(0, 0, 0, 0.3));\n",
              "      fill: #FFFFFF;\n",
              "    }\n",
              "  </style>\n",
              "\n",
              "      <script>\n",
              "        const buttonEl =\n",
              "          document.querySelector('#df-6577cba9-9925-484b-b53d-8aa552a87008 button.colab-df-convert');\n",
              "        buttonEl.style.display =\n",
              "          google.colab.kernel.accessAllowed ? 'block' : 'none';\n",
              "\n",
              "        async function convertToInteractive(key) {\n",
              "          const element = document.querySelector('#df-6577cba9-9925-484b-b53d-8aa552a87008');\n",
              "          const dataTable =\n",
              "            await google.colab.kernel.invokeFunction('convertToInteractive',\n",
              "                                                     [key], {});\n",
              "          if (!dataTable) return;\n",
              "\n",
              "          const docLinkHtml = 'Like what you see? Visit the ' +\n",
              "            '<a target=\"_blank\" href=https://colab.research.google.com/notebooks/data_table.ipynb>data table notebook</a>'\n",
              "            + ' to learn more about interactive tables.';\n",
              "          element.innerHTML = '';\n",
              "          dataTable['output_type'] = 'display_data';\n",
              "          await google.colab.output.renderOutput(dataTable, element);\n",
              "          const docLink = document.createElement('div');\n",
              "          docLink.innerHTML = docLinkHtml;\n",
              "          element.appendChild(docLink);\n",
              "        }\n",
              "      </script>\n",
              "    </div>\n",
              "  </div>\n",
              "  "
            ]
          },
          "metadata": {},
          "execution_count": 20
        }
      ]
    },
    {
      "cell_type": "code",
      "source": [
        "\n",
        "df_train['v2a1'].fillna(0, inplace=True)\n",
        "df_test['v2a1'].fillna(0, inplace=True)\n",
        "total = df_train.isnull().sum().sort_values(ascending=False)\n",
        "percent = 100 * (df_train.isnull().sum() / df_train.isnull().count()).sort_values(ascending=False)\n",
        "missing_df = pd.concat([total, percent], axis=1, keys=['Total', 'Percent'])\n",
        "missing_df.head(20)\n"
      ],
      "metadata": {
        "colab": {
          "base_uri": "https://localhost:8080/",
          "height": 677
        },
        "id": "Cka1YbM8yaId",
        "outputId": "78c0905f-b9b8-484c-f37e-c5cdbe8a7c1c"
      },
      "execution_count": 22,
      "outputs": [
        {
          "output_type": "execute_result",
          "data": {
            "text/plain": [
              "              Total  Percent\n",
              "edjef          9557    100.0\n",
              "v2a1              0      0.0\n",
              "parentesco10      0      0.0\n",
              "parentesco11      0      0.0\n",
              "parentesco12      0      0.0\n",
              "idhogar           0      0.0\n",
              "hogar_nin         0      0.0\n",
              "hogar_adul        0      0.0\n",
              "hogar_mayor       0      0.0\n",
              "hogar_total       0      0.0\n",
              "dependency        0      0.0\n",
              "edjefe            0      0.0\n",
              "edjefa            0      0.0\n",
              "meaneduc          0      0.0\n",
              "instlevel1        0      0.0\n",
              "instlevel2        0      0.0\n",
              "instlevel3        0      0.0\n",
              "parentesco9       0      0.0\n",
              "parentesco8       0      0.0\n",
              "parentesco7       0      0.0"
            ],
            "text/html": [
              "\n",
              "  <div id=\"df-8db70a17-c97d-4237-a170-f7965149a1e8\">\n",
              "    <div class=\"colab-df-container\">\n",
              "      <div>\n",
              "<style scoped>\n",
              "    .dataframe tbody tr th:only-of-type {\n",
              "        vertical-align: middle;\n",
              "    }\n",
              "\n",
              "    .dataframe tbody tr th {\n",
              "        vertical-align: top;\n",
              "    }\n",
              "\n",
              "    .dataframe thead th {\n",
              "        text-align: right;\n",
              "    }\n",
              "</style>\n",
              "<table border=\"1\" class=\"dataframe\">\n",
              "  <thead>\n",
              "    <tr style=\"text-align: right;\">\n",
              "      <th></th>\n",
              "      <th>Total</th>\n",
              "      <th>Percent</th>\n",
              "    </tr>\n",
              "  </thead>\n",
              "  <tbody>\n",
              "    <tr>\n",
              "      <th>edjef</th>\n",
              "      <td>9557</td>\n",
              "      <td>100.0</td>\n",
              "    </tr>\n",
              "    <tr>\n",
              "      <th>v2a1</th>\n",
              "      <td>0</td>\n",
              "      <td>0.0</td>\n",
              "    </tr>\n",
              "    <tr>\n",
              "      <th>parentesco10</th>\n",
              "      <td>0</td>\n",
              "      <td>0.0</td>\n",
              "    </tr>\n",
              "    <tr>\n",
              "      <th>parentesco11</th>\n",
              "      <td>0</td>\n",
              "      <td>0.0</td>\n",
              "    </tr>\n",
              "    <tr>\n",
              "      <th>parentesco12</th>\n",
              "      <td>0</td>\n",
              "      <td>0.0</td>\n",
              "    </tr>\n",
              "    <tr>\n",
              "      <th>idhogar</th>\n",
              "      <td>0</td>\n",
              "      <td>0.0</td>\n",
              "    </tr>\n",
              "    <tr>\n",
              "      <th>hogar_nin</th>\n",
              "      <td>0</td>\n",
              "      <td>0.0</td>\n",
              "    </tr>\n",
              "    <tr>\n",
              "      <th>hogar_adul</th>\n",
              "      <td>0</td>\n",
              "      <td>0.0</td>\n",
              "    </tr>\n",
              "    <tr>\n",
              "      <th>hogar_mayor</th>\n",
              "      <td>0</td>\n",
              "      <td>0.0</td>\n",
              "    </tr>\n",
              "    <tr>\n",
              "      <th>hogar_total</th>\n",
              "      <td>0</td>\n",
              "      <td>0.0</td>\n",
              "    </tr>\n",
              "    <tr>\n",
              "      <th>dependency</th>\n",
              "      <td>0</td>\n",
              "      <td>0.0</td>\n",
              "    </tr>\n",
              "    <tr>\n",
              "      <th>edjefe</th>\n",
              "      <td>0</td>\n",
              "      <td>0.0</td>\n",
              "    </tr>\n",
              "    <tr>\n",
              "      <th>edjefa</th>\n",
              "      <td>0</td>\n",
              "      <td>0.0</td>\n",
              "    </tr>\n",
              "    <tr>\n",
              "      <th>meaneduc</th>\n",
              "      <td>0</td>\n",
              "      <td>0.0</td>\n",
              "    </tr>\n",
              "    <tr>\n",
              "      <th>instlevel1</th>\n",
              "      <td>0</td>\n",
              "      <td>0.0</td>\n",
              "    </tr>\n",
              "    <tr>\n",
              "      <th>instlevel2</th>\n",
              "      <td>0</td>\n",
              "      <td>0.0</td>\n",
              "    </tr>\n",
              "    <tr>\n",
              "      <th>instlevel3</th>\n",
              "      <td>0</td>\n",
              "      <td>0.0</td>\n",
              "    </tr>\n",
              "    <tr>\n",
              "      <th>parentesco9</th>\n",
              "      <td>0</td>\n",
              "      <td>0.0</td>\n",
              "    </tr>\n",
              "    <tr>\n",
              "      <th>parentesco8</th>\n",
              "      <td>0</td>\n",
              "      <td>0.0</td>\n",
              "    </tr>\n",
              "    <tr>\n",
              "      <th>parentesco7</th>\n",
              "      <td>0</td>\n",
              "      <td>0.0</td>\n",
              "    </tr>\n",
              "  </tbody>\n",
              "</table>\n",
              "</div>\n",
              "      <button class=\"colab-df-convert\" onclick=\"convertToInteractive('df-8db70a17-c97d-4237-a170-f7965149a1e8')\"\n",
              "              title=\"Convert this dataframe to an interactive table.\"\n",
              "              style=\"display:none;\">\n",
              "        \n",
              "  <svg xmlns=\"http://www.w3.org/2000/svg\" height=\"24px\"viewBox=\"0 0 24 24\"\n",
              "       width=\"24px\">\n",
              "    <path d=\"M0 0h24v24H0V0z\" fill=\"none\"/>\n",
              "    <path d=\"M18.56 5.44l.94 2.06.94-2.06 2.06-.94-2.06-.94-.94-2.06-.94 2.06-2.06.94zm-11 1L8.5 8.5l.94-2.06 2.06-.94-2.06-.94L8.5 2.5l-.94 2.06-2.06.94zm10 10l.94 2.06.94-2.06 2.06-.94-2.06-.94-.94-2.06-.94 2.06-2.06.94z\"/><path d=\"M17.41 7.96l-1.37-1.37c-.4-.4-.92-.59-1.43-.59-.52 0-1.04.2-1.43.59L10.3 9.45l-7.72 7.72c-.78.78-.78 2.05 0 2.83L4 21.41c.39.39.9.59 1.41.59.51 0 1.02-.2 1.41-.59l7.78-7.78 2.81-2.81c.8-.78.8-2.07 0-2.86zM5.41 20L4 18.59l7.72-7.72 1.47 1.35L5.41 20z\"/>\n",
              "  </svg>\n",
              "      </button>\n",
              "      \n",
              "  <style>\n",
              "    .colab-df-container {\n",
              "      display:flex;\n",
              "      flex-wrap:wrap;\n",
              "      gap: 12px;\n",
              "    }\n",
              "\n",
              "    .colab-df-convert {\n",
              "      background-color: #E8F0FE;\n",
              "      border: none;\n",
              "      border-radius: 50%;\n",
              "      cursor: pointer;\n",
              "      display: none;\n",
              "      fill: #1967D2;\n",
              "      height: 32px;\n",
              "      padding: 0 0 0 0;\n",
              "      width: 32px;\n",
              "    }\n",
              "\n",
              "    .colab-df-convert:hover {\n",
              "      background-color: #E2EBFA;\n",
              "      box-shadow: 0px 1px 2px rgba(60, 64, 67, 0.3), 0px 1px 3px 1px rgba(60, 64, 67, 0.15);\n",
              "      fill: #174EA6;\n",
              "    }\n",
              "\n",
              "    [theme=dark] .colab-df-convert {\n",
              "      background-color: #3B4455;\n",
              "      fill: #D2E3FC;\n",
              "    }\n",
              "\n",
              "    [theme=dark] .colab-df-convert:hover {\n",
              "      background-color: #434B5C;\n",
              "      box-shadow: 0px 1px 3px 1px rgba(0, 0, 0, 0.15);\n",
              "      filter: drop-shadow(0px 1px 2px rgba(0, 0, 0, 0.3));\n",
              "      fill: #FFFFFF;\n",
              "    }\n",
              "  </style>\n",
              "\n",
              "      <script>\n",
              "        const buttonEl =\n",
              "          document.querySelector('#df-8db70a17-c97d-4237-a170-f7965149a1e8 button.colab-df-convert');\n",
              "        buttonEl.style.display =\n",
              "          google.colab.kernel.accessAllowed ? 'block' : 'none';\n",
              "\n",
              "        async function convertToInteractive(key) {\n",
              "          const element = document.querySelector('#df-8db70a17-c97d-4237-a170-f7965149a1e8');\n",
              "          const dataTable =\n",
              "            await google.colab.kernel.invokeFunction('convertToInteractive',\n",
              "                                                     [key], {});\n",
              "          if (!dataTable) return;\n",
              "\n",
              "          const docLinkHtml = 'Like what you see? Visit the ' +\n",
              "            '<a target=\"_blank\" href=https://colab.research.google.com/notebooks/data_table.ipynb>data table notebook</a>'\n",
              "            + ' to learn more about interactive tables.';\n",
              "          element.innerHTML = '';\n",
              "          dataTable['output_type'] = 'display_data';\n",
              "          await google.colab.output.renderOutput(dataTable, element);\n",
              "          const docLink = document.createElement('div');\n",
              "          docLink.innerHTML = docLinkHtml;\n",
              "          element.appendChild(docLink);\n",
              "        }\n",
              "      </script>\n",
              "    </div>\n",
              "  </div>\n",
              "  "
            ]
          },
          "metadata": {},
          "execution_count": 22
        }
      ]
    },
    {
      "cell_type": "code",
      "source": [
        ""
      ],
      "metadata": {
        "id": "bEo3aFq6ycnd"
      },
      "execution_count": null,
      "outputs": []
    },
    {
      "cell_type": "markdown",
      "source": [
        "### Feature engineering\n"
      ],
      "metadata": {
        "id": "dLHB-dp-ylFt"
      }
    },
    {
      "cell_type": "markdown",
      "source": [
        "#### Object features"
      ],
      "metadata": {
        "id": "YaAiN-jLynoS"
      }
    },
    {
      "cell_type": "code",
      "source": [
        "features_object = [col for col in df_train.columns if df_train[col].dtype == 'object']"
      ],
      "metadata": {
        "id": "B_mb9J-kymkT"
      },
      "execution_count": 24,
      "outputs": []
    },
    {
      "cell_type": "code",
      "source": [
        "features_object"
      ],
      "metadata": {
        "colab": {
          "base_uri": "https://localhost:8080/"
        },
        "id": "mHeO3tFqyyUi",
        "outputId": "27269607-31f1-4a6e-e1a0-f97038d74e11"
      },
      "execution_count": 25,
      "outputs": [
        {
          "output_type": "execute_result",
          "data": {
            "text/plain": [
              "['Id', 'idhogar', 'dependency', 'edjefe', 'edjefa']"
            ]
          },
          "metadata": {},
          "execution_count": 25
        }
      ]
    },
    {
      "cell_type": "code",
      "source": [
        "# some dependencies are Na, fill those with the square root of the square\n",
        "df_train['dependency'] = np.sqrt(df_train['SQBdependency'])\n",
        "df_test['dependency'] = np.sqrt(df_test['SQBdependency'])"
      ],
      "metadata": {
        "id": "9IQI1zaMy1VY"
      },
      "execution_count": 26,
      "outputs": []
    },
    {
      "cell_type": "code",
      "source": [
        "def replace_edjefe(x):\n",
        "    if x == 'yes':\n",
        "        return 1\n",
        "    elif x == 'no':\n",
        "        return 0\n",
        "    else:\n",
        "        return x\n",
        "\n",
        "df_train['edjefe'] = df_train['edjefe'].apply(replace_edjefe).astype(float)\n",
        "df_test['edjefe'] = df_test['edjefe'].apply(replace_edjefe).astype(float)"
      ],
      "metadata": {
        "id": "IRCs7dV_y5-O"
      },
      "execution_count": 27,
      "outputs": []
    },
    {
      "cell_type": "code",
      "source": [
        "def replace_edjefa(x):\n",
        "    if x == 'yes':\n",
        "        return 1\n",
        "    elif x == 'no':\n",
        "        return 0\n",
        "    else:\n",
        "        return x\n",
        "\n",
        "df_train['edjefa'] = df_train['edjefa'].apply(replace_edjefa).astype(float)\n",
        "df_test['edjefa'] = df_test['edjefa'].apply(replace_edjefa).astype(float)"
      ],
      "metadata": {
        "id": "vwKN2_CHy6eJ"
      },
      "execution_count": 28,
      "outputs": []
    },
    {
      "cell_type": "code",
      "source": [
        "# create feature with max education of either head of household\n",
        "df_train['edjef'] = np.max(df_train[['edjefa','edjefe']], axis=1)\n",
        "df_test['edjef'] = np.max(df_test[['edjefa','edjefe']], axis=1)"
      ],
      "metadata": {
        "id": "jALs8_3Ey6gm"
      },
      "execution_count": 29,
      "outputs": []
    },
    {
      "cell_type": "code",
      "source": [
        "df_train['roof_waste_material'] = np.nan\n",
        "df_test['roof_waste_material'] = np.nan\n",
        "df_train['electricity_other'] = np.nan\n",
        "df_test['electricity_other'] = np.nan\n",
        "\n",
        "def fill_roof_exception(x):\n",
        "    if (x['techozinc'] == 0) and (x['techoentrepiso'] == 0) and (x['techocane'] == 0) and (x['techootro'] == 0):\n",
        "        return 1\n",
        "    else:\n",
        "        return 0\n",
        "    \n",
        "def fill_no_electricity(x):\n",
        "    if (x['public'] == 0) and (x['planpri'] == 0) and (x['noelec'] == 0) and (x['coopele'] == 0):\n",
        "        return 1\n",
        "    else:\n",
        "        return 0\n",
        "\n",
        "df_train['roof_waste_material'] = df_train.apply(lambda x : fill_roof_exception(x),axis=1)\n",
        "df_test['roof_waste_material'] = df_test.apply(lambda x : fill_roof_exception(x),axis=1)\n",
        "df_train['electricity_other'] = df_train.apply(lambda x : fill_no_electricity(x),axis=1)\n",
        "df_test['electricity_other'] = df_test.apply(lambda x : fill_no_electricity(x),axis=1)"
      ],
      "metadata": {
        "id": "AILGzLYMy6iq"
      },
      "execution_count": 30,
      "outputs": []
    },
    {
      "cell_type": "code",
      "source": [
        "#Extract cat features\n",
        "binary_cat_features = [col for col in df_train.columns if df_train[col].value_counts().shape[0] == 2]"
      ],
      "metadata": {
        "id": "vfjgMYgUy6lB"
      },
      "execution_count": 31,
      "outputs": []
    },
    {
      "cell_type": "code",
      "source": [
        ""
      ],
      "metadata": {
        "id": "gkpCHhFAy6nR"
      },
      "execution_count": null,
      "outputs": []
    },
    {
      "cell_type": "markdown",
      "source": [
        "#### Make new features using continuous feature"
      ],
      "metadata": {
        "id": "96Klr3zVza2c"
      }
    },
    {
      "cell_type": "code",
      "source": [
        "continuous_features = [col for col in df_train.columns if col not in binary_cat_features]\n",
        "continuous_features = [col for col in continuous_features if col not in features_object]\n",
        "continuous_features = [col for col in continuous_features if col not in ['Id', 'Target', 'idhogar']]"
      ],
      "metadata": {
        "id": "W35wb-OWy6pE"
      },
      "execution_count": 32,
      "outputs": []
    },
    {
      "cell_type": "code",
      "source": [
        "print('There are {} continuous features'.format(len(continuous_features)))\n",
        "for col in continuous_features:\n",
        "    print('{}: {}'.format(col, description.loc[description['varname'] == col, 'description'].values))"
      ],
      "metadata": {
        "colab": {
          "base_uri": "https://localhost:8080/"
        },
        "id": "fAT8embSy6ro",
        "outputId": "abe4e8d7-b579-4f38-b483-a0a8fee528dd"
      },
      "execution_count": 33,
      "outputs": [
        {
          "output_type": "stream",
          "name": "stdout",
          "text": [
            "There are 37 continuous features\n",
            "v2a1: [' Monthly rent payment']\n",
            "rooms: ['  number of all rooms in the house']\n",
            "v18q1: [' number of tablets household owns']\n",
            "r4h1: [' Males younger than 12 years of age']\n",
            "r4h2: [' Males 12 years of age and older']\n",
            "r4h3: [' Total males in the household']\n",
            "r4m1: [' Females younger than 12 years of age']\n",
            "r4m2: [' Females 12 years of age and older']\n",
            "r4m3: [' Total females in the household']\n",
            "r4t1: [' persons younger than 12 years of age']\n",
            "r4t2: [' persons 12 years of age and older']\n",
            "r4t3: [' Total persons in the household']\n",
            "tamhog: [' size of the household']\n",
            "tamviv: [' number of persons living in the household']\n",
            "escolari: [' years of schooling']\n",
            "rez_esc: [' Years behind in school']\n",
            "hhsize: [' household size']\n",
            "elimbasu5: [' =1 if rubbish disposal mainly by throwing in river,   creek or sea']\n",
            "hogar_nin: [' Number of children 0 to 19 in household']\n",
            "hogar_adul: [' Number of adults in household']\n",
            "hogar_mayor: [' # of individuals 65+ in the household']\n",
            "hogar_total: [' # of total individuals in the household']\n",
            "meaneduc: ['average years of education for adults (18+)']\n",
            "bedrooms: [' number of bedrooms']\n",
            "overcrowding: [' # persons per room']\n",
            "qmobilephone: [' # of mobile phones']\n",
            "age: [' Age in years']\n",
            "SQBescolari: [' escolari squared']\n",
            "SQBage: [' age squared']\n",
            "SQBhogar_total: [' hogar_total squared']\n",
            "SQBedjefe: [' edjefe squared']\n",
            "SQBhogar_nin: [' hogar_nin squared']\n",
            "SQBovercrowding: [' overcrowding squared']\n",
            "SQBdependency: [' dependency squared']\n",
            "SQBmeaned: [' meaned squared']\n",
            "agesq: [' Age squared']\n",
            "edjef: []\n"
          ]
        }
      ]
    },
    {
      "cell_type": "code",
      "source": [
        "df_train['edjef'].value_counts()\n"
      ],
      "metadata": {
        "colab": {
          "base_uri": "https://localhost:8080/"
        },
        "id": "4ookudBrzfs1",
        "outputId": "fbd37f7e-9dcb-4f9b-b564-f05e331fb398"
      },
      "execution_count": 34,
      "outputs": [
        {
          "output_type": "execute_result",
          "data": {
            "text/plain": [
              "6.0     2792\n",
              "11.0    1150\n",
              "9.0      723\n",
              "8.0      474\n",
              "15.0     473\n",
              "3.0      459\n",
              "0.0      435\n",
              "7.0      413\n",
              "4.0      400\n",
              "5.0      398\n",
              "14.0     328\n",
              "17.0     278\n",
              "2.0      278\n",
              "16.0     247\n",
              "10.0     207\n",
              "12.0     185\n",
              "13.0     155\n",
              "1.0       65\n",
              "21.0      48\n",
              "18.0      22\n",
              "19.0      18\n",
              "20.0       9\n",
              "Name: edjef, dtype: int64"
            ]
          },
          "metadata": {},
          "execution_count": 34
        }
      ]
    },
    {
      "cell_type": "code",
      "source": [
        "df_train['adult'] = df_train['hogar_adul'] - df_train['hogar_mayor']\n",
        "df_train['dependency_count'] = df_train['hogar_nin'] + df_train['hogar_mayor']\n",
        "df_train['dependency'] = df_train['dependency_count'] / df_train['adult']\n",
        "df_train['child_percent'] = df_train['hogar_nin'] / df_train['hogar_total']\n",
        "df_train['elder_percent'] = df_train['hogar_mayor'] / df_train['hogar_total']\n",
        "df_train['adult_percent'] = df_train['hogar_adul'] / df_train['hogar_total']\n",
        "df_train['males_younger_12_years_percent'] = df_train['r4h1'] / df_train['hogar_total']\n",
        "df_train['males_older_12_years_percent'] = df_train['r4h2'] / df_train['hogar_total']\n",
        "df_train['males_percent'] = df_train['r4h3'] / df_train['hogar_total']\n",
        "df_train['females_younger_12_years_percent'] = df_train['r4m1'] / df_train['hogar_total']\n",
        "df_train['females_older_12_years_percent'] = df_train['r4m2'] / df_train['hogar_total']\n",
        "df_train['females_percent'] = df_train['r4m3'] / df_train['hogar_total']\n",
        "df_train['persons_younger_12_years_percent'] = df_train['r4t1'] / df_train['hogar_total']\n",
        "df_train['persons_older_12_years_percent'] = df_train['r4t2'] / df_train['hogar_total']\n",
        "df_train['persons_percent'] = df_train['r4t3'] / df_train['hogar_total']"
      ],
      "metadata": {
        "id": "eUYazaOlzgEJ"
      },
      "execution_count": 35,
      "outputs": []
    },
    {
      "cell_type": "code",
      "source": [
        "df_test['adult'] = df_test['hogar_adul'] - df_test['hogar_mayor']\n",
        "df_test['dependency_count'] = df_test['hogar_nin'] + df_test['hogar_mayor']\n",
        "df_test['dependency'] = df_test['dependency_count'] / df_test['adult']\n",
        "df_test['child_percent'] = df_test['hogar_nin'] / df_test['hogar_total']\n",
        "df_test['elder_percent'] = df_test['hogar_mayor'] / df_test['hogar_total']\n",
        "df_test['adult_percent'] = df_test['hogar_adul'] / df_test['hogar_total']\n",
        "df_test['males_younger_12_years_percent'] = df_test['r4h1'] / df_test['hogar_total']\n",
        "df_test['males_older_12_years_percent'] = df_test['r4h2'] / df_test['hogar_total']\n",
        "df_test['males_percent'] = df_test['r4h3'] / df_test['hogar_total']\n",
        "df_test['females_younger_12_years_percent'] = df_test['r4m1'] / df_test['hogar_total']\n",
        "df_test['females_older_12_years_percent'] = df_test['r4m2'] / df_test['hogar_total']\n",
        "df_test['females_percent'] = df_test['r4m3'] / df_test['hogar_total']\n",
        "df_test['persons_younger_12_years_percent'] = df_test['r4t1'] / df_test['hogar_total']\n",
        "df_test['persons_older_12_years_percent'] = df_test['r4t2'] / df_test['hogar_total']\n",
        "df_test['persons_percent'] = df_test['r4t3'] / df_test['hogar_total']"
      ],
      "metadata": {
        "id": "nKciPUCXzgIX"
      },
      "execution_count": 36,
      "outputs": []
    },
    {
      "cell_type": "code",
      "source": [
        "df_train['males_younger_12_years_in_household_size'] = df_train['r4h1'] / df_train['hhsize']\n",
        "df_train['males_older_12_years_in_household_size'] = df_train['r4h2'] / df_train['hhsize']\n",
        "df_train['males_in_household_size'] = df_train['r4h3'] / df_train['hhsize']\n",
        "df_train['females_younger_12_years_in_household_size'] = df_train['r4m1'] / df_train['hhsize']\n",
        "df_train['females_older_12_years_in_household_size'] = df_train['r4m2'] / df_train['hhsize']\n",
        "df_train['females_in_household_size'] = df_train['r4m3'] / df_train['hogar_total']\n",
        "df_train['persons_younger_12_years_in_household_size'] = df_train['r4t1'] / df_train['hhsize']\n",
        "df_train['persons_older_12_years_in_household_size'] = df_train['r4t2'] / df_train['hhsize']\n",
        "df_train['persons_in_household_size'] = df_train['r4t3'] / df_train['hhsize']"
      ],
      "metadata": {
        "id": "5p3oBx4zzgK6"
      },
      "execution_count": 37,
      "outputs": []
    },
    {
      "cell_type": "code",
      "source": [
        "df_test['males_younger_12_years_in_household_size'] = df_test['r4h1'] / df_test['hhsize']\n",
        "df_test['males_older_12_years_in_household_size'] = df_test['r4h2'] / df_test['hhsize']\n",
        "df_test['males_in_household_size'] = df_test['r4h3'] / df_test['hhsize']\n",
        "df_test['females_younger_12_years_in_household_size'] = df_test['r4m1'] / df_test['hhsize']\n",
        "df_test['females_older_12_years_in_household_size'] = df_test['r4m2'] / df_test['hhsize']\n",
        "df_test['females_in_household_size'] = df_test['r4m3'] / df_test['hogar_total']\n",
        "df_test['persons_younger_12_years_in_household_size'] = df_test['r4t1'] / df_test['hhsize']\n",
        "df_test['persons_older_12_years_in_household_size'] = df_test['r4t2'] / df_test['hhsize']\n",
        "df_test['persons_in_household_size'] = df_test['r4t3'] / df_test['hhsize']"
      ],
      "metadata": {
        "id": "Ce4bzXB9zgOv"
      },
      "execution_count": 38,
      "outputs": []
    },
    {
      "cell_type": "code",
      "source": [
        "df_train['overcrowding_room_and_bedroom'] = (df_train['hacdor'] + df_train['hacapo'])/2\n",
        "df_test['overcrowding_room_and_bedroom'] = (df_test['hacdor'] + df_test['hacapo'])/2\n",
        "df_train['escolari_age'] = df_train['escolari']/df_train['age']\n",
        "df_test['escolari_age'] = df_test['escolari']/df_test['age']\n",
        "\n",
        "df_train['age_12_19'] = df_train['hogar_nin'] - df_train['r4t1']\n",
        "df_test['age_12_19'] = df_test['hogar_nin'] - df_test['r4t1']  "
      ],
      "metadata": {
        "id": "f7lZS6T_zsbm"
      },
      "execution_count": 39,
      "outputs": []
    },
    {
      "cell_type": "code",
      "source": [
        "df_train['phones-per-capita'] = df_train['qmobilephone'] / df_train['tamviv']\n",
        "df_train['tablets-per-capita'] = df_train['v18q1'] / df_train['tamviv']\n",
        "df_train['rooms-per-capita'] = df_train['rooms'] / df_train['tamviv']\n",
        "df_train['rent-per-capita'] = df_train['v2a1'] / df_train['tamviv']\n",
        "df_test['phones-per-capita'] = df_test['qmobilephone'] / df_test['tamviv']\n",
        "df_test['tablets-per-capita'] = df_test['v18q1'] / df_test['tamviv']\n",
        "df_test['rooms-per-capita'] = df_test['rooms'] / df_test['tamviv']\n",
        "df_test['rent-per-capita'] = df_test['v2a1'] / df_test['tamviv']"
      ],
      "metadata": {
        "id": "bs9NTWQxzsgh"
      },
      "execution_count": 40,
      "outputs": []
    },
    {
      "cell_type": "code",
      "source": [
        "(df_train['hogar_total'] == df_train['r4t3']).sum()\n"
      ],
      "metadata": {
        "colab": {
          "base_uri": "https://localhost:8080/"
        },
        "id": "awu_tjyXzslL",
        "outputId": "dfb7a71e-5b34-4343-b5dd-a2d8d59c97c7"
      },
      "execution_count": 41,
      "outputs": [
        {
          "output_type": "execute_result",
          "data": {
            "text/plain": [
              "9509"
            ]
          },
          "metadata": {},
          "execution_count": 41
        }
      ]
    },
    {
      "cell_type": "code",
      "source": [
        "#Rent per family features\n",
        "family_size_features = ['adult', 'hogar_adul', 'hogar_mayor', 'hogar_nin', 'hogar_total', 'r4h1', \n",
        "                        'r4h2', 'r4h3', 'r4m1', 'r4m2', 'r4m3', 'r4t1', 'r4t2', 'r4t3', 'hhsize']\n",
        "new_feats = []\n",
        "for col in family_size_features:\n",
        "    new_col_name = 'new_{}_per_{}'.format('v2a1', col)\n",
        "    new_feats.append(new_col_name)\n",
        "    df_train[new_col_name] = df_train['v2a1'] / df_train[col]\n",
        "    df_test[new_col_name] = df_test['v2a1'] / df_test[col]"
      ],
      "metadata": {
        "id": "7Rs9DeOVzgX0"
      },
      "execution_count": 42,
      "outputs": []
    },
    {
      "cell_type": "code",
      "source": [
        "for col in new_feats:\n",
        "    df_train[col].replace([np.inf], np.nan, inplace=True)\n",
        "    df_train[col].fillna(0, inplace=True)\n",
        "    \n",
        "    df_test[col].replace([np.inf], np.nan, inplace=True)\n",
        "    df_test[col].fillna(0, inplace=True)"
      ],
      "metadata": {
        "id": "u7E3A777zgaD"
      },
      "execution_count": 43,
      "outputs": []
    },
    {
      "cell_type": "code",
      "source": [
        "#Room per family featutres\n",
        "\n",
        "new_feats = []\n",
        "for col in family_size_features:\n",
        "    new_col_name = 'new_{}_per_{}'.format('rooms', col)\n",
        "    new_feats.append(new_col_name)\n",
        "    df_train[new_col_name] = df_train['rooms'] / df_train[col]\n",
        "    df_test[new_col_name] = df_test['rooms'] / df_test[col]\n",
        "\n",
        "for col in new_feats:\n",
        "    df_train[col].replace([np.inf], np.nan, inplace=True)\n",
        "    df_train[col].fillna(0, inplace=True)\n",
        "    \n",
        "    df_test[col].replace([np.inf], np.nan, inplace=True)\n",
        "    df_test[col].fillna(0, inplace=True)"
      ],
      "metadata": {
        "id": "M-Eohysaz6lu"
      },
      "execution_count": 44,
      "outputs": []
    },
    {
      "cell_type": "code",
      "source": [
        "#BedRoom per family features\n",
        "new_feats = []\n",
        "for col in family_size_features:\n",
        "    new_col_name = 'new_{}_per_{}'.format('bedrooms', col)\n",
        "    new_feats.append(new_col_name)\n",
        "    df_train[new_col_name] = df_train['bedrooms'] / df_train[col]\n",
        "    df_test[new_col_name] = df_test['bedrooms'] / df_test[col]\n",
        "\n",
        "for col in new_feats:\n",
        "    df_train[col].replace([np.inf], np.nan, inplace=True)\n",
        "    df_train[col].fillna(0, inplace=True)\n",
        "    \n",
        "    df_test[col].replace([np.inf], np.nan, inplace=True)\n",
        "    df_test[col].fillna(0, inplace=True)\n",
        "print(df_train.shape, df_test.shape) # To check the same number of features between train and test (target is there in train)\n",
        "\n",
        "\n",
        "\n"
      ],
      "metadata": {
        "colab": {
          "base_uri": "https://localhost:8080/"
        },
        "id": "fTPbh6rOz-LJ",
        "outputId": "2936d72e-b661-4cf7-a777-181cca512671"
      },
      "execution_count": 45,
      "outputs": [
        {
          "output_type": "stream",
          "name": "stdout",
          "text": [
            "(9557, 221) (23856, 220)\n"
          ]
        }
      ]
    },
    {
      "cell_type": "code",
      "source": [
        "#Tabulet per family features\n",
        "new_feats = []\n",
        "for col in family_size_features:\n",
        "    new_col_name = 'new_{}_per_{}'.format('v18q1', col)\n",
        "    new_feats.append(new_col_name)\n",
        "    df_train[new_col_name] = df_train['v18q1'] / df_train[col]\n",
        "    df_test[new_col_name] = df_test['v18q1'] / df_test[col]\n",
        "\n",
        "for col in new_feats:\n",
        "    df_train[col].replace([np.inf], np.nan, inplace=True)\n",
        "    df_train[col].fillna(0, inplace=True)\n",
        "    \n",
        "    df_test[col].replace([np.inf], np.nan, inplace=True)\n",
        "    df_test[col].fillna(0, inplace=True)\n"
      ],
      "metadata": {
        "id": "ifhn1oCx0E40"
      },
      "execution_count": 46,
      "outputs": []
    },
    {
      "cell_type": "code",
      "source": [
        "#phone per family features\n",
        "new_feats = []\n",
        "for col in family_size_features:\n",
        "    new_col_name = 'new_{}_per_{}'.format('qmobilephone', col)\n",
        "    new_feats.append(new_col_name)\n",
        "    df_train[new_col_name] = df_train['qmobilephone'] / df_train[col]\n",
        "    df_test[new_col_name] = df_test['qmobilephone'] / df_test[col]\n",
        "\n",
        "for col in new_feats:\n",
        "    df_train[col].replace([np.inf], np.nan, inplace=True)\n",
        "    df_train[col].fillna(0, inplace=True)\n",
        "    \n",
        "    df_test[col].replace([np.inf], np.nan, inplace=True)\n",
        "    df_test[col].fillna(0, inplace=True)"
      ],
      "metadata": {
        "id": "JNDBHH9j0E7Q"
      },
      "execution_count": 48,
      "outputs": []
    },
    {
      "cell_type": "code",
      "source": [
        "#rez_esc(Years behind in school) per family features\n",
        "new_feats = []\n",
        "for col in family_size_features:\n",
        "    new_col_name = 'new_{}_per_{}'.format('rez_esc', col)\n",
        "    new_feats.append(new_col_name)\n",
        "    df_train[new_col_name] = df_train['rez_esc'] / df_train[col]\n",
        "    df_test[new_col_name] = df_test['rez_esc'] / df_test[col]\n",
        "\n",
        "for col in new_feats:\n",
        "    df_train[col].replace([np.inf], np.nan, inplace=True)\n",
        "    df_train[col].fillna(0, inplace=True)\n",
        "    \n",
        "    df_test[col].replace([np.inf], np.nan, inplace=True)\n",
        "    df_test[col].fillna(0, inplace=True)\n",
        "df_train['rez_esc_age'] = df_train['rez_esc'] / df_train['age']\n",
        "df_train['rez_esc_escolari'] = df_train['rez_esc'] / df_train['escolari']\n",
        "\n",
        "df_test['rez_esc_age'] = df_test['rez_esc'] / df_test['age']\n",
        "df_test['rez_esc_escolari'] = df_test['rez_esc'] / df_test['escolari']\n"
      ],
      "metadata": {
        "id": "k0XSsr1a0E9b"
      },
      "execution_count": 50,
      "outputs": []
    },
    {
      "cell_type": "code",
      "source": [
        "#Rich features\n",
        "df_train['tabulet_x_qmobilephone'] = df_train['v18q1'] * df_train['qmobilephone']\n",
        "df_test['tabulet_x_qmobilephone'] = df_test['v18q1'] * df_test['qmobilephone']"
      ],
      "metadata": {
        "id": "Hj07fKT40FBZ"
      },
      "execution_count": 51,
      "outputs": []
    },
    {
      "cell_type": "code",
      "source": [
        "# wall and roof\n",
        "for col1 in ['epared1', 'epared2', 'epared3']:\n",
        "    for col2 in ['etecho1', 'etecho2', 'etecho3']:\n",
        "        new_col_name = 'new_{}_x_{}'.format(col1, col2)\n",
        "        df_train[new_col_name] = df_train[col1] * df_train[col2]\n",
        "        df_test[new_col_name] = df_test[col1] * df_test[col2]\n",
        "        \n",
        "# wall and floor\n",
        "for col1 in ['epared1', 'epared2', 'epared3']:\n",
        "    for col2 in ['eviv1', 'eviv2', 'eviv3']:\n",
        "        new_col_name = 'new_{}_x_{}'.format(col1, col2)\n",
        "        df_train[new_col_name] = df_train[col1] * df_train[col2]\n",
        "        df_test[new_col_name] = df_test[col1] * df_test[col2]\n",
        "\n",
        "# roof and floor\n",
        "for col1 in ['etecho1', 'etecho2', 'etecho3']:\n",
        "    for col2 in ['eviv1', 'eviv2', 'eviv3']:\n",
        "        new_col_name = 'new_{}_x_{}'.format(col1, col2)\n",
        "        df_train[new_col_name] = df_train[col1] * df_train[col2]\n",
        "        df_test[new_col_name] = df_test[col1] * df_test[col2]"
      ],
      "metadata": {
        "id": "4o2pVlIW0FDt"
      },
      "execution_count": 52,
      "outputs": []
    },
    {
      "cell_type": "code",
      "source": [
        "for col1 in ['epared1', 'epared2', 'epared3']:\n",
        "    for col2 in ['etecho1', 'etecho2', 'etecho3']:\n",
        "        for col3 in ['eviv1', 'eviv2', 'eviv3']:\n",
        "            new_col_name = 'new_{}_x_{}_x_{}'.format(col1, col2, col3)\n",
        "            df_train[new_col_name] = df_train[col1] * df_train[col2] * df_train[col3]\n",
        "            df_test[new_col_name] = df_test[col1] * df_test[col2] * df_train[col3]\n",
        "print(df_train.shape, df_test.shape)"
      ],
      "metadata": {
        "colab": {
          "base_uri": "https://localhost:8080/"
        },
        "id": "7A7PWCi40FNG",
        "outputId": "0860e93f-b971-4e93-aa41-717021ee4c4a"
      },
      "execution_count": 53,
      "outputs": [
        {
          "output_type": "stream",
          "name": "stdout",
          "text": [
            "(9557, 323) (23856, 322)\n"
          ]
        }
      ]
    },
    {
      "cell_type": "code",
      "source": [
        "for col1 in ['public', 'planpri', 'noelec', 'coopele']:\n",
        "    for col2 in ['energcocinar1', 'energcocinar2', 'energcocinar3', 'energcocinar4']:\n",
        "        new_col_name = 'new_{}_x_{}'.format(col1, col2)\n",
        "        df_train[new_col_name] = df_train[col1] * df_train[col2]\n",
        "        df_test[new_col_name] = df_test[col1] * df_test[col2]"
      ],
      "metadata": {
        "id": "tyl1vLi80FPf"
      },
      "execution_count": 54,
      "outputs": []
    },
    {
      "cell_type": "code",
      "source": [
        "for col1 in ['sanitario1', 'sanitario2', 'sanitario3', 'sanitario5', 'sanitario6']:\n",
        "    for col2 in ['elimbasu1', 'elimbasu2', 'elimbasu3', 'elimbasu4', 'elimbasu5', 'elimbasu6']:\n",
        "        new_col_name = 'new_{}_x_{}'.format(col1, col2)\n",
        "        df_train[new_col_name] = df_train[col1] * df_train[col2]\n",
        "        df_test[new_col_name] = df_test[col1] * df_test[col2]"
      ],
      "metadata": {
        "id": "Rwf0gFXj0FSP"
      },
      "execution_count": 55,
      "outputs": []
    },
    {
      "cell_type": "code",
      "source": [
        "for col1 in ['abastaguadentro', 'abastaguafuera', 'abastaguano']:\n",
        "    for col2 in ['sanitario1', 'sanitario2', 'sanitario3', 'sanitario5', 'sanitario6']:\n",
        "        new_col_name = 'new_{}_x_{}'.format(col1, col2)\n",
        "        df_train[new_col_name] = df_train[col1] * df_train[col2]\n",
        "        df_test[new_col_name] = df_test[col1] * df_test[col2]\n",
        "print(df_train.shape, df_test.shape)"
      ],
      "metadata": {
        "colab": {
          "base_uri": "https://localhost:8080/"
        },
        "id": "DX_rOwAY0FUn",
        "outputId": "fdeedfb4-6dfa-4e39-e60f-978670bf7bfe"
      },
      "execution_count": 56,
      "outputs": [
        {
          "output_type": "stream",
          "name": "stdout",
          "text": [
            "(9557, 384) (23856, 383)\n"
          ]
        }
      ]
    },
    {
      "cell_type": "code",
      "source": [
        "for col1 in ['area1', 'area2']:\n",
        "    for col2 in ['instlevel1', 'instlevel2', 'instlevel3', 'instlevel4', 'instlevel5', 'instlevel6', 'instlevel7', 'instlevel8', 'instlevel9']:\n",
        "        new_col_name = 'new_{}_x_{}'.format(col1, col2)\n",
        "        df_train[new_col_name] = df_train[col1] * df_train[col2]\n",
        "        df_test[new_col_name] = df_test[col1] * df_test[col2]"
      ],
      "metadata": {
        "id": "iO3c0bSc0FXF"
      },
      "execution_count": 57,
      "outputs": []
    },
    {
      "cell_type": "code",
      "source": [
        "for col1 in ['lugar1', 'lugar2', 'lugar3', 'lugar4', 'lugar5', 'lugar6']:\n",
        "    for col2 in ['instlevel1', 'instlevel2', 'instlevel3', 'instlevel4', 'instlevel5', 'instlevel6', 'instlevel7', 'instlevel8', 'instlevel9']:\n",
        "        new_col_name = 'new_{}_x_{}'.format(col1, col2)\n",
        "        df_train[new_col_name] = df_train[col1] * df_train[col2]\n",
        "        df_test[new_col_name] = df_test[col1] * df_test[col2]\n",
        "print(df_train.shape, df_test.shape)"
      ],
      "metadata": {
        "colab": {
          "base_uri": "https://localhost:8080/"
        },
        "id": "mNVrwgJs0Fbc",
        "outputId": "eebf72bd-54c1-4588-bd52-c16d988b51b6"
      },
      "execution_count": 58,
      "outputs": [
        {
          "output_type": "stream",
          "name": "stdout",
          "text": [
            "(9557, 456) (23856, 455)\n"
          ]
        }
      ]
    },
    {
      "cell_type": "code",
      "source": [
        "df_train['electronics'] = df_train['computer'] * df_train['mobilephone'] * df_train['television'] * df_train['v18q'] * df_train['refrig']\n",
        "df_test['electronics'] = df_test['computer'] * df_test['mobilephone'] * df_test['television'] * df_test['v18q'] * df_test['refrig']\n",
        "\n",
        "df_train['no_appliances'] = df_train['refrig'] + df_train['computer'] + df_train['television'] + df_train['mobilephone']\n",
        "df_test['no_appliances'] = df_test['refrig'] + df_test['computer'] + df_test['television'] + df_test['mobilephone']\n"
      ],
      "metadata": {
        "id": "EJutSi6m0FeB"
      },
      "execution_count": 59,
      "outputs": []
    },
    {
      "cell_type": "code",
      "source": [
        "for col1 in ['paredblolad', 'paredzocalo', 'paredpreb', 'pareddes', 'paredmad', 'paredzinc', 'paredfibras', 'paredother']:\n",
        "    for col2 in ['pisomoscer', 'pisocemento', 'pisoother', 'pisonatur', 'pisonotiene', 'pisomadera']:\n",
        "        new_col_name = 'new_{}_x_{}'.format(col1, col2)\n",
        "        df_train[new_col_name] = df_train[col1] * df_train[col2]\n",
        "        df_test[new_col_name] = df_test[col1] * df_test[col2]\n",
        "\n",
        "for col1 in ['pisomoscer', 'pisocemento', 'pisoother', 'pisonatur', 'pisonotiene', 'pisomadera']:\n",
        "    for col1 in ['techozinc', 'techoentrepiso', 'techocane', 'techootro']:\n",
        "        new_col_name = 'new_{}_x_{}'.format(col1, col2)\n",
        "        df_train[new_col_name] = df_train[col1] * df_train[col2]\n",
        "        df_test[new_col_name] = df_test[col1] * df_test[col2]\n",
        "        \n",
        "for col1 in ['paredblolad', 'paredzocalo', 'paredpreb', 'pareddes', 'paredmad', 'paredzinc', 'paredfibras', 'paredother']:\n",
        "    for col2 in ['techozinc', 'techoentrepiso', 'techocane', 'techootro']:\n",
        "        new_col_name = 'new_{}_x_{}'.format(col1, col2)\n",
        "        df_train[new_col_name] = df_train[col1] * df_train[col2]\n",
        "        df_test[new_col_name] = df_test[col1] * df_test[col2] \n",
        "for col1 in ['paredblolad', 'paredzocalo', 'paredpreb', 'pareddes', 'paredmad', 'paredzinc', 'paredfibras', 'paredother']:\n",
        "    for col2 in ['pisomoscer', 'pisocemento', 'pisoother', 'pisonatur', 'pisonotiene', 'pisomadera']:\n",
        "        for col3 in ['techozinc', 'techoentrepiso', 'techocane', 'techootro']:\n",
        "            new_col_name = 'new_{}_x_{}_x_{}'.format(col1, col2, col3)\n",
        "            df_train[new_col_name] = df_train[col1] * df_train[col2] * df_train[col3]\n",
        "            df_test[new_col_name] = df_test[col1] * df_test[col2] * df_train[col3]\n",
        "print(df_train.shape, df_test.shape)"
      ],
      "metadata": {
        "colab": {
          "base_uri": "https://localhost:8080/"
        },
        "id": "B1VAkW9P0CWy",
        "outputId": "3ae5a44b-d580-4900-e4c9-cfe3d558b4b4"
      },
      "execution_count": 61,
      "outputs": [
        {
          "output_type": "stream",
          "name": "stdout",
          "text": [
            "(9557, 734) (23856, 733)\n"
          ]
        }
      ]
    },
    {
      "cell_type": "code",
      "source": [
        "cols_with_only_one_value = []\n",
        "for col in df_train.columns:\n",
        "    if col == 'Target':\n",
        "        continue\n",
        "    if df_train[col].value_counts().shape[0] == 1 or df_test[col].value_counts().shape[0] == 1:\n",
        "        print(col)\n",
        "        cols_with_only_one_value.append(col)"
      ],
      "metadata": {
        "id": "HmFmKcQ20po2"
      },
      "execution_count": null,
      "outputs": []
    },
    {
      "cell_type": "code",
      "source": [
        "df_train.drop(cols_with_only_one_value, axis=1, inplace=True)\n",
        "df_test.drop(cols_with_only_one_value, axis=1, inplace=True)"
      ],
      "metadata": {
        "id": "B_GFgeBT0yPH"
      },
      "execution_count": 63,
      "outputs": []
    },
    {
      "cell_type": "code",
      "source": [
        "cols_train = np.array(sorted([col for col in df_train.columns if col != 'Target']))\n",
        "cols_test = np.array(sorted(df_test.columns))\n",
        "(cols_train == cols_test).sum() == len(cols_train)"
      ],
      "metadata": {
        "colab": {
          "base_uri": "https://localhost:8080/"
        },
        "id": "KAEHQzsN02AE",
        "outputId": "b76c00a1-67bf-4f24-d7b0-65d0d19f40ab"
      },
      "execution_count": 64,
      "outputs": [
        {
          "output_type": "execute_result",
          "data": {
            "text/plain": [
              "True"
            ]
          },
          "metadata": {},
          "execution_count": 64
        }
      ]
    },
    {
      "cell_type": "code",
      "source": [
        ""
      ],
      "metadata": {
        "id": "eoDQlDj502CY"
      },
      "execution_count": null,
      "outputs": []
    },
    {
      "cell_type": "markdown",
      "source": [
        "#### Aggregation for family features"
      ],
      "metadata": {
        "id": "wboYSlAr0-LJ"
      }
    },
    {
      "cell_type": "code",
      "source": [
        "def max_min(x):\n",
        "    return x.max() - x.min()"
      ],
      "metadata": {
        "id": "cJc1N_lf02Eo"
      },
      "execution_count": 65,
      "outputs": []
    },
    {
      "cell_type": "code",
      "source": [
        "agg_train = pd.DataFrame()\n",
        "agg_test = pd.DataFrame()\n",
        "\n",
        "for item in tqdm(family_size_features):\n",
        "    for i, function in enumerate(['mean','std','min','max','sum', 'count', max_min]):\n",
        "        group_train = df_train[item].groupby(df_train['idhogar']).agg(function)\n",
        "        group_test = df_test[item].groupby(df_test['idhogar']).agg(function)\n",
        "        if i == 6:\n",
        "            new_col = item + '_new_' + 'max_min'\n",
        "        else:\n",
        "            new_col = item + '_new_' + function\n",
        "        agg_train[new_col] = group_train\n",
        "        agg_test[new_col] = group_test\n",
        "\n",
        "print('new aggregate train set has {} rows, and {} features'.format(agg_train.shape[0], agg_train.shape[1]))\n",
        "print('new aggregate test set has {} rows, and {} features'.format(agg_test.shape[0], agg_test.shape[1]))"
      ],
      "metadata": {
        "colab": {
          "base_uri": "https://localhost:8080/"
        },
        "id": "dQQ46Qh802HA",
        "outputId": "13d18f18-1cf3-4e6c-f673-331dc6a099e4"
      },
      "execution_count": 66,
      "outputs": [
        {
          "output_type": "stream",
          "name": "stderr",
          "text": [
            "100%|██████████| 15/15 [00:12<00:00,  1.16it/s]"
          ]
        },
        {
          "output_type": "stream",
          "name": "stdout",
          "text": [
            "new aggregate train set has 2988 rows, and 105 features\n",
            "new aggregate test set has 7352 rows, and 105 features\n"
          ]
        },
        {
          "output_type": "stream",
          "name": "stderr",
          "text": [
            "\n"
          ]
        }
      ]
    },
    {
      "cell_type": "code",
      "source": [
        "aggr_list = ['rez_esc', 'dis', 'male', 'female', \n",
        "                  'estadocivil1', 'estadocivil2', 'estadocivil3', 'estadocivil4', 'estadocivil5', 'estadocivil6', 'estadocivil7', \n",
        "                  'parentesco2', 'parentesco3', 'parentesco4', 'parentesco5', 'parentesco6', 'parentesco7', 'parentesco8', 'parentesco9', 'parentesco10', \n",
        "                  'parentesco11', 'parentesco12',\n",
        "                  'instlevel1', 'instlevel2', 'instlevel3', 'instlevel4', 'instlevel5', 'instlevel6', 'instlevel7', 'instlevel8', 'instlevel9',\n",
        "                 'epared1', 'epared2', 'epared3', 'etecho1', 'etecho2', 'etecho3', 'eviv1', 'eviv2', 'eviv3', 'refrig', 'television', 'mobilephone',\n",
        "            'area1', 'area2', 'v18q', 'edjef']\n"
      ],
      "metadata": {
        "id": "NOYiZk4702JX"
      },
      "execution_count": 67,
      "outputs": []
    },
    {
      "cell_type": "code",
      "source": [
        "for item in tqdm(aggr_list):\n",
        "    for function in ['count', 'sum']:\n",
        "        group_train = df_train[item].groupby(df_train['idhogar']).agg(function)\n",
        "        group_test = df_test[item].groupby(df_test['idhogar']).agg(function)\n",
        "        new_col = item + '_new1_' + function\n",
        "        agg_train[new_col] = group_train\n",
        "        agg_test[new_col] = group_test\n",
        "print('new aggregate train set has {} rows, and {} features'.format(agg_train.shape[0], agg_train.shape[1]))\n",
        "print('new aggregate test set has {} rows, and {} features'.format(agg_test.shape[0], agg_test.shape[1]))"
      ],
      "metadata": {
        "colab": {
          "base_uri": "https://localhost:8080/"
        },
        "id": "6E2FHLYt02Lw",
        "outputId": "1aa1c28b-0b6d-4a27-9964-198ad150fd46"
      },
      "execution_count": 68,
      "outputs": [
        {
          "output_type": "stream",
          "name": "stderr",
          "text": [
            "100%|██████████| 47/47 [00:01<00:00, 26.44it/s]"
          ]
        },
        {
          "output_type": "stream",
          "name": "stdout",
          "text": [
            "new aggregate train set has 2988 rows, and 199 features\n",
            "new aggregate test set has 7352 rows, and 199 features\n"
          ]
        },
        {
          "output_type": "stream",
          "name": "stderr",
          "text": [
            "\n"
          ]
        }
      ]
    },
    {
      "cell_type": "code",
      "source": [
        "aggr_list = ['escolari', 'age', 'escolari_age', 'dependency', 'bedrooms', 'overcrowding', 'rooms', 'qmobilephone', 'v18q1']\n",
        "\n",
        "for item in tqdm(aggr_list):\n",
        "    for function in ['mean','std','min','max','sum', 'count', max_min]:\n",
        "        group_train = df_train[item].groupby(df_train['idhogar']).agg(function)\n",
        "        group_test = df_test[item].groupby(df_test['idhogar']).agg(function)\n",
        "        if i == 6:\n",
        "            new_col = item + '_new2_' + 'max_min'\n",
        "        else:\n",
        "            new_col = item + '_new2_' + function\n",
        "        agg_train[new_col] = group_train\n",
        "        agg_test[new_col] = group_test\n",
        "\n",
        "print('new aggregate train set has {} rows, and {} features'.format(agg_train.shape[0], agg_train.shape[1]))\n",
        "print('new aggregate test set has {} rows, and {} features'.format(agg_test.shape[0], agg_test.shape[1]))"
      ],
      "metadata": {
        "colab": {
          "base_uri": "https://localhost:8080/"
        },
        "id": "nU4rsSI-02N7",
        "outputId": "453abf57-a41b-490e-992b-b6f9288c2f8f"
      },
      "execution_count": 69,
      "outputs": [
        {
          "output_type": "stream",
          "name": "stderr",
          "text": [
            "100%|██████████| 9/9 [00:07<00:00,  1.17it/s]"
          ]
        },
        {
          "output_type": "stream",
          "name": "stdout",
          "text": [
            "new aggregate train set has 2988 rows, and 208 features\n",
            "new aggregate test set has 7352 rows, and 208 features\n"
          ]
        },
        {
          "output_type": "stream",
          "name": "stderr",
          "text": [
            "\n"
          ]
        }
      ]
    },
    {
      "cell_type": "code",
      "source": [
        "agg_test = agg_test.reset_index()\n",
        "agg_train = agg_train.reset_index()\n",
        "\n",
        "train_agg = pd.merge(df_train, agg_train, on='idhogar')\n",
        "test = pd.merge(df_test, agg_test, on='idhogar')\n",
        "\n",
        "#fill all na as 0\n",
        "train_agg.fillna(value=0, inplace=True)\n",
        "test.fillna(value=0, inplace=True)\n",
        "\n",
        "print('train shape:', train_agg.shape, 'test shape:', test.shape)"
      ],
      "metadata": {
        "colab": {
          "base_uri": "https://localhost:8080/"
        },
        "id": "FvJpKz8D1L7f",
        "outputId": "cacd176d-3c02-4a3a-f11d-f7ea7b70c143"
      },
      "execution_count": 70,
      "outputs": [
        {
          "output_type": "stream",
          "name": "stdout",
          "text": [
            "train shape: (9557, 725) test shape: (23856, 724)\n"
          ]
        }
      ]
    },
    {
      "cell_type": "code",
      "source": [
        "aggr_list = ['rez_esc', 'dis', 'male', 'female', \n",
        "                  'estadocivil1', 'estadocivil2', 'estadocivil3', 'estadocivil4', 'estadocivil5', 'estadocivil6', 'estadocivil7', \n",
        "                  'parentesco2', 'parentesco3', 'parentesco4', 'parentesco5', 'parentesco6', 'parentesco7', 'parentesco8', 'parentesco9', 'parentesco10', \n",
        "                  'parentesco11', 'parentesco12',\n",
        "                  'instlevel1', 'instlevel2', 'instlevel3', 'instlevel4', 'instlevel5', 'instlevel6', 'instlevel7', 'instlevel8', 'instlevel9',\n",
        "                 'epared1', 'epared2', 'epared3', 'etecho1', 'etecho2', 'etecho3', 'eviv1', 'eviv2', 'eviv3', 'refrig', 'television', 'mobilephone',\n",
        "            'area1', 'area2', 'v18q', 'edjef']\n",
        "\n",
        "for lugar in ['lugar1', 'lugar2', 'lugar3', 'lugar4', 'lugar5', 'lugar6']:\n",
        "    group_train = df_train[[lugar, 'idhogar'] + aggr_list].groupby([lugar, 'idhogar']).sum().reset_index()\n",
        "    group_train.columns = [lugar, 'idhogar'] + ['new3_{}_idhogar_{}'.format(lugar, col) for col in group_train][2:]\n",
        "\n",
        "    group_test = df_test[[lugar, 'idhogar'] + aggr_list].groupby([lugar, 'idhogar']).sum().reset_index()\n",
        "    group_test.columns = [lugar, 'idhogar'] + ['new3_{}_idhogar_{}'.format(lugar, col) for col in group_test][2:]\n",
        "\n",
        "    train_agg = pd.merge(train_agg, group_train, on=[lugar, 'idhogar'])\n",
        "    test = pd.merge(test, group_test, on=[lugar, 'idhogar'])\n",
        "    \n",
        "print('train shape:', train_agg.shape, 'test shape:', test.shape)\n",
        "\n"
      ],
      "metadata": {
        "colab": {
          "base_uri": "https://localhost:8080/"
        },
        "id": "g8de5VQB1NzP",
        "outputId": "143ea1b9-bddf-4051-da14-48380a8f70ba"
      },
      "execution_count": 71,
      "outputs": [
        {
          "output_type": "stream",
          "name": "stdout",
          "text": [
            "train shape: (9557, 1007) test shape: (23856, 1006)\n"
          ]
        }
      ]
    },
    {
      "cell_type": "code",
      "source": [
        "aggr_list = ['rez_esc', 'dis', 'male', 'female', \n",
        "                  'estadocivil1', 'estadocivil2', 'estadocivil3', 'estadocivil4', 'estadocivil5', 'estadocivil6', 'estadocivil7', \n",
        "                  'parentesco2', 'parentesco3', 'parentesco4', 'parentesco5', 'parentesco6', 'parentesco7', 'parentesco8', 'parentesco9', 'parentesco10', \n",
        "                  'parentesco11', 'parentesco12',\n",
        "                  'instlevel1', 'instlevel2', 'instlevel3', 'instlevel4', 'instlevel5', 'instlevel6', 'instlevel7', 'instlevel8', 'instlevel9',\n",
        "                 'epared1', 'epared2', 'epared3', 'etecho1', 'etecho2', 'etecho3', 'eviv1', 'eviv2', 'eviv3', 'refrig', 'television', 'mobilephone',\n",
        "            'area1', 'area2', 'v18q', 'edjef']"
      ],
      "metadata": {
        "id": "py1YrKgY1N13"
      },
      "execution_count": 72,
      "outputs": []
    },
    {
      "cell_type": "code",
      "source": [
        "for lugar in ['lugar1', 'lugar2', 'lugar3', 'lugar4', 'lugar5', 'lugar6']:\n",
        "    group_train = df_train[[lugar, 'idhogar'] + aggr_list].groupby([lugar, 'idhogar']).sum().reset_index()\n",
        "    group_train.columns = [lugar, 'idhogar'] + ['new4_{}_idhogar_{}'.format(lugar, col) for col in group_train][2:]\n",
        "\n",
        "    group_test = df_test[[lugar, 'idhogar'] + aggr_list].groupby([lugar, 'idhogar']).sum().reset_index()\n",
        "    group_test.columns = [lugar, 'idhogar'] + ['new4_{}_idhogar_{}'.format(lugar, col) for col in group_test][2:]\n",
        "\n",
        "    train_agg = pd.merge(train_agg, group_train, on=[lugar, 'idhogar'])\n",
        "    test = pd.merge(test, group_test, on=[lugar, 'idhogar'])\n",
        "    \n",
        "print('train shape:', train_agg.shape, 'test shape:', test.shape)"
      ],
      "metadata": {
        "colab": {
          "base_uri": "https://localhost:8080/"
        },
        "id": "apNvd0km1N4b",
        "outputId": "572f5988-26c1-4b01-e926-19e9808afd54"
      },
      "execution_count": 74,
      "outputs": [
        {
          "output_type": "stream",
          "name": "stdout",
          "text": [
            "train shape: (9557, 1289) test shape: (23856, 1288)\n"
          ]
        }
      ]
    },
    {
      "cell_type": "code",
      "source": [
        "cols_nums = ['age', 'meaneduc', 'dependency', \n",
        "             'hogar_nin', 'hogar_adul', 'hogar_mayor', 'hogar_total',\n",
        "             'bedrooms', 'overcrowding']\n",
        "\n",
        "for function in tqdm(['mean','std','min','max','sum', 'count', max_min]):\n",
        "    for lugar in ['lugar1', 'lugar2', 'lugar3', 'lugar4', 'lugar5', 'lugar6']:\n",
        "        group_train = df_train[[lugar, 'idhogar'] + aggr_list].groupby([lugar, 'idhogar']).agg(function).reset_index()\n",
        "        group_train.columns = [lugar, 'idhogar'] + ['new5_{}_idhogar_{}_{}'.format(lugar, col, function) for col in group_train][2:]\n",
        "\n",
        "        group_test = df_test[[lugar, 'idhogar'] + aggr_list].groupby([lugar, 'idhogar']).agg(function).reset_index()\n",
        "        group_test.columns = [lugar, 'idhogar'] + ['new5_{}_idhogar_{}_{}'.format(lugar, col, function) for col in group_test][2:]\n",
        "\n",
        "        train_agg = pd.merge(train_agg, group_train, on=[lugar, 'idhogar'])\n",
        "        test = pd.merge(test, group_test, on=[lugar, 'idhogar'])\n",
        "        \n",
        "print('train shape:', train_agg.shape, 'test shape:', test.shape)"
      ],
      "metadata": {
        "colab": {
          "base_uri": "https://localhost:8080/"
        },
        "id": "siS7RTqd1N7z",
        "outputId": "825c314a-780d-44af-aa8c-ce2d0a869584"
      },
      "execution_count": 75,
      "outputs": [
        {
          "output_type": "stream",
          "name": "stderr",
          "text": [
            "100%|██████████| 7/7 [03:05<00:00, 26.54s/it]"
          ]
        },
        {
          "output_type": "stream",
          "name": "stdout",
          "text": [
            "train shape: (9557, 3263) test shape: (23856, 3262)\n"
          ]
        },
        {
          "output_type": "stream",
          "name": "stderr",
          "text": [
            "\n"
          ]
        }
      ]
    },
    {
      "cell_type": "code",
      "source": [
        "train = train_agg.query('parentesco1==1')\n",
        "train['dependency'].replace(np.inf, 0, inplace=True)\n",
        "test['dependency'].replace(np.inf, 0, inplace=True)\n",
        "submission = test[['Id']]\n",
        "\n",
        "#Remove useless feature to reduce dimension\n",
        "train.drop(columns=['idhogar','Id', 'agesq', 'hogar_adul', 'SQBescolari', 'SQBage', 'SQBhogar_total', 'SQBedjefe', 'SQBhogar_nin', 'SQBovercrowding', 'SQBdependency', 'SQBmeaned'], inplace=True)\n",
        "test.drop(columns=['idhogar','Id',  'agesq', 'hogar_adul', 'SQBescolari', 'SQBage', 'SQBhogar_total', 'SQBedjefe', 'SQBhogar_nin', 'SQBovercrowding', 'SQBdependency', 'SQBmeaned'], inplace=True)\n",
        "\n",
        "correlation = train.corr()\n",
        "correlation = correlation['Target'].sort_values(ascending=False)"
      ],
      "metadata": {
        "id": "KiFwXSI81N_c"
      },
      "execution_count": 76,
      "outputs": []
    },
    {
      "cell_type": "code",
      "source": [
        "print('final_data size', train.shape, test.shape)\n"
      ],
      "metadata": {
        "id": "1o9fSVvz1OCS"
      },
      "execution_count": null,
      "outputs": []
    },
    {
      "cell_type": "code",
      "source": [
        "print(f'The most 20 positive feature: \\n{correlation.head(40)}')"
      ],
      "metadata": {
        "id": "9jSna4eC1hzG"
      },
      "execution_count": null,
      "outputs": []
    },
    {
      "cell_type": "code",
      "source": [
        "print(f'The most 20 negative feature: \\n{correlation.tail(20)}')"
      ],
      "metadata": {
        "id": "-oc9Kd_O1h1-"
      },
      "execution_count": null,
      "outputs": []
    },
    {
      "cell_type": "code",
      "source": [
        ""
      ],
      "metadata": {
        "id": "BuzNyv4B1h4q"
      },
      "execution_count": null,
      "outputs": []
    },
    {
      "cell_type": "markdown",
      "source": [
        "#### Feature selection using shap"
      ],
      "metadata": {
        "id": "S_WDxDer2IEi"
      }
    },
    {
      "cell_type": "code",
      "source": [
        "binary_cat_features = [col for col in train.columns if train[col].value_counts().shape[0] ==2]\n",
        "object_features = ['edjefe', 'edjefa']\n",
        "\n",
        "categorical_feats = binary_cat_features + object_features"
      ],
      "metadata": {
        "id": "U2R4Dnty1h7c"
      },
      "execution_count": 77,
      "outputs": []
    },
    {
      "cell_type": "code",
      "source": [
        "def evaluate_macroF1_lgb(truth, predictions):\n",
        "    pre_labels = predictions.reshape(len(np.unique(truth)), -1).argmax(axis=0)\n",
        "    f1 = f1_score(truth, pred_labels, average='macro')\n",
        "    return ('macroF1',f1,True)"
      ],
      "metadata": {
        "id": "yj65R6TO2zhz"
      },
      "execution_count": 78,
      "outputs": []
    },
    {
      "cell_type": "code",
      "source": [
        "y =train['Target']\n",
        "train.drop(columns=['Target'], inplace=True)"
      ],
      "metadata": {
        "id": "a6RROs4a2zkw"
      },
      "execution_count": 79,
      "outputs": []
    },
    {
      "cell_type": "code",
      "source": [
        "def print_execution_time(start):\n",
        "    end = time.time()\n",
        "    hours, rem = divmod(end-start, 3600)\n",
        "    minutes, seconds = divmod(rem, 60)\n",
        "    print('*'*20, \"Execution ended in {:0>2}h {:0>2}m {:05.2f}s\".format(int(hours),int(minutes),seconds), '*'*20)"
      ],
      "metadata": {
        "id": "-vSfjUJX2zpM"
      },
      "execution_count": 80,
      "outputs": []
    },
    {
      "cell_type": "code",
      "source": [
        "import sklearn.model_selection\n",
        "sklearn.model_selection.KFold"
      ],
      "metadata": {
        "colab": {
          "base_uri": "https://localhost:8080/"
        },
        "id": "YYD8cSPG5g6A",
        "outputId": "ce4421d9-2808-43f3-d9b9-726b4cb1525c"
      },
      "execution_count": 83,
      "outputs": [
        {
          "output_type": "execute_result",
          "data": {
            "text/plain": [
              "sklearn.model_selection._split.KFold"
            ]
          },
          "metadata": {},
          "execution_count": 83
        }
      ]
    },
    {
      "cell_type": "code",
      "source": [
        "def extract_good_features_using_shap_LGB(params, SEED):\n",
        "    clf = lgb.LGBMClassifier(objective='multiclass',\n",
        "                             random_state=1989,\n",
        "                             max_depth=params['max_depth'], \n",
        "                             learning_rate=params['learning_rate'],  \n",
        "                             silent=True, \n",
        "                             metric='multi_logloss',\n",
        "                             n_jobs=-1, n_estimators=10000, \n",
        "                             class_weight='balanced',\n",
        "                             colsample_bytree = params['colsample_bytree'], \n",
        "                             min_split_gain= params['min_split_gain'], \n",
        "                             bagging_freq = params['bagging_freq'],\n",
        "                             min_child_weight=params['min_child_weight'],\n",
        "                             num_leaves = params['num_leaves'], \n",
        "                             subsample = params['subsample'],\n",
        "                             reg_alpha= params['reg_alpha'],\n",
        "                             reg_lambda= params['reg_lambda'],\n",
        "                             num_class=len(np.unique(y)),\n",
        "                             bagging_seed=SEED,\n",
        "                             seed=SEED,\n",
        "                            )\n",
        "\n",
        "    kfold = 5\n",
        "    kf = StratifiedKFold(n_splits=kfold, shuffle=True)\n",
        "    feat_importance_df  = pd.DataFrame()\n",
        "\n",
        "    for i, (train_index, test_index) in enumerate(kf.split(train, y)):\n",
        "        print('='*30, '{} of {} folds'.format(i+1, kfold), '='*30)\n",
        "        start = time.time()\n",
        "        X_train, X_val = train.iloc[train_index], train.iloc[test_index]\n",
        "        y_train, y_val = y.iloc[train_index], y.iloc[test_index]\n",
        "        clf.fit(X_train, y_train, eval_set=[(X_train, y_train), (X_val, y_val)], eval_metric=evaluate_macroF1_lgb, categorical_feature=categorical_feats,\n",
        "                early_stopping_rounds=500, verbose=500)\n",
        "        shap_values = shap.TreeExplainer(clf.booster_).shap_values(X_train)\n",
        "        fold_importance_df  = pd.DataFrame()\n",
        "        fold_importance_df['feature'] = X_train.columns\n",
        "        fold_importance_df['shap_values'] = abs(np.array(shap_values)[:, :].mean(1).mean(0))\n",
        "        fold_importance_df['feat_imp'] = clf.feature_importances_\n",
        "        feat_importance_df = pd.concat([feat_importance_df, fold_importance_df])\n",
        "        print_execution_time(start)\n",
        "\n",
        "    feat_importance_df_shap = feat_importance_df.groupby('feature').mean().sort_values('shap_values', ascending=False).reset_index()\n",
        "#     feat_importance_df_shap['shap_cumsum'] = feat_importance_df_shap['shap_values'].cumsum() / feat_importance_df_shap['shap_values'].sum()\n",
        "#     good_features = feat_importance_df_shap.loc[feat_importance_df_shap['shap_cumsum'] < 0.999].feature\n",
        "    return feat_importance_df_shap"
      ],
      "metadata": {
        "id": "vEG_Q1j15KIO"
      },
      "execution_count": 84,
      "outputs": []
    },
    {
      "cell_type": "code",
      "source": [
        "total_shap_df  = pd.DataFrame()\n",
        "NUM_ITERATIONS = 50\n",
        "for SEED in range(NUM_ITERATIONS):\n",
        "    print('#'*40, '{} of {} iterations'.format(SEED+1, NUM_ITERATIONS), '#' * 40)\n",
        "    params = {'max_depth': np.random.choice([5, 6, 7, 8, 10, 12, -1]),\n",
        "             'learning_rate': np.random.rand() * 0.02,\n",
        "              'colsample_bytree': np.random.rand() * (1 - 0.5) + 0.5,\n",
        "              'subsample': np.random.rand() * (1 - 0.5) + 0.5,\n",
        "              'min_split_gain': np.random.rand() * 0.2,\n",
        "              'num_leaves': np.random.choice([32, 48, 64]),\n",
        "              'reg_alpha': np.random.rand() * 2,\n",
        "              'reg_lambda': np.random.rand() *2,\n",
        "              'bagging_freq': np.random.randint(4) +1,\n",
        "              'min_child_weight': np.random.randint(100) + 20\n",
        "             }\n",
        "    temp_shap_df = extract_good_features_using_shap_LGB(params, SEED)\n",
        "    total_shap_df = pd.concat([total_shap_df, temp_shap_df])\n"
      ],
      "metadata": {
        "id": "C_EkmXlB2ztJ"
      },
      "execution_count": null,
      "outputs": []
    },
    {
      "cell_type": "code",
      "source": [
        "shap_sorted_df = total_shap_df.groupby('feature').mean().sort_values('shap_values', ascending=False).reset_index()\n",
        "feat_imp_sorted_df = total_shap_df.groupby('feature').mean().sort_values('feat_imp', ascending=False).reset_index()\n",
        "features_top_shap = shap_sorted_df['feature'][:500]\n",
        "features_top_feat_imp = feat_imp_sorted_df['feature'][:500]\n",
        "top_features = pd.Series(features_top_shap.tolist() + features_top_feat_imp.tolist())\n",
        "top_features = top_features.unique()"
      ],
      "metadata": {
        "id": "0XRaxVr12zxH"
      },
      "execution_count": 85,
      "outputs": []
    },
    {
      "cell_type": "code",
      "source": [
        ""
      ],
      "metadata": {
        "id": "7G7tfBVt5qsq"
      },
      "execution_count": null,
      "outputs": []
    },
    {
      "cell_type": "markdown",
      "source": [
        "### Model development"
      ],
      "metadata": {
        "id": "wnTH8q875sm7"
      }
    },
    {
      "cell_type": "code",
      "source": [
        "new_train = train[top_features].copy()\n",
        "new_test = test[top_features].copy()\n",
        "print('new_train shape:', new_train.shape, 'new_test shape:', new_test.shape)"
      ],
      "metadata": {
        "id": "lZI-lA7B5qxx"
      },
      "execution_count": null,
      "outputs": []
    },
    {
      "cell_type": "code",
      "source": [
        "new_categorical_feats = [col for col in top_features if col in categorical_feats]\n"
      ],
      "metadata": {
        "id": "KVRr8GfY5q3N"
      },
      "execution_count": null,
      "outputs": []
    },
    {
      "cell_type": "code",
      "source": [
        "def LGB_OOF(params, categorical_feats, N_FOLDs, SEED=1989):\n",
        "    clf = lgb.LGBMClassifier(objective='multiclass',\n",
        "                             random_state=1989,\n",
        "                             max_depth=params['max_depth'], \n",
        "                             learning_rate=params['learning_rate'],  \n",
        "                             silent=True, \n",
        "                             metric='multi_logloss',\n",
        "                             n_jobs=-1, n_estimators=10000, \n",
        "                             class_weight='balanced',\n",
        "                             colsample_bytree = params['colsample_bytree'], \n",
        "                             min_split_gain= params['min_split_gain'], \n",
        "                             bagging_freq = params['bagging_freq'],\n",
        "                             min_child_weight=params['min_child_weight'],\n",
        "                             num_leaves = params['num_leaves'], \n",
        "                             subsample = params['subsample'],\n",
        "                             reg_alpha= params['reg_alpha'],\n",
        "                             reg_lambda= params['reg_lambda'],\n",
        "                             num_class=len(np.unique(y)),\n",
        "                             bagging_seed=SEED,\n",
        "                             seed=SEED,\n",
        "                            )\n",
        "\n",
        "    kfold = 10\n",
        "    kf = StratifiedKFold(n_splits=kfold, shuffle=True)\n",
        "    feat_importance_df  = pd.DataFrame()\n",
        "    predicts_result = []\n",
        "\n",
        "    for i, (train_index, test_index) in enumerate(kf.split(new_train, y)):\n",
        "        print('='*30, '{} of {} folds'.format(i+1, kfold), '='*30)\n",
        "        start = time.time()\n",
        "        X_train, X_val = new_train.iloc[train_index], new_train.iloc[test_index]\n",
        "        y_train, y_val = y.iloc[train_index], y.iloc[test_index]\n",
        "        clf.fit(X_train, y_train, eval_set=[(X_train, y_train), (X_val, y_val)], eval_metric=evaluate_macroF1_lgb,categorical_feature=new_categorical_feats,\n",
        "                early_stopping_rounds=500, verbose=500)\n",
        "        shap_values = shap.TreeExplainer(clf.booster_).shap_values(X_train)\n",
        "        fold_importance_df  = pd.DataFrame()\n",
        "        fold_importance_df['feature'] = X_train.columns\n",
        "        fold_importance_df['shap_values'] = abs(np.array(shap_values)[:, :].mean(1).mean(0))\n",
        "        fold_importance_df['feat_imp'] = clf.feature_importances_\n",
        "        feat_importance_df = pd.concat([feat_importance_df, fold_importance_df])\n",
        "        predicts_result.append(clf.predict(new_test))\n",
        "        print_execution_time(start)\n",
        "    return predicts_result, feat_importance_df"
      ],
      "metadata": {
        "id": "Mg9bqIr_5q7x"
      },
      "execution_count": null,
      "outputs": []
    },
    {
      "cell_type": "code",
      "source": [
        "params = {'max_depth': 6,\n",
        "         'learning_rate': 0.002,\n",
        "          'colsample_bytree': 0.8,\n",
        "          'subsample': 0.8,\n",
        "          'min_split_gain': 0.02,\n",
        "          'num_leaves': 48,\n",
        "          'reg_alpha': 0.04,\n",
        "          'reg_lambda': 0.073,\n",
        "          'bagging_freq': 2,\n",
        "          'min_child_weight': 40\n",
        "         }\n",
        "\n",
        "N_Folds = 20\n",
        "SEED = 1989\n",
        "predicts_result, feat_importance_df = LGB_OOF(params, new_categorical_feats, N_Folds, SEED=1989)"
      ],
      "metadata": {
        "id": "YdBXDq007BJt"
      },
      "execution_count": null,
      "outputs": []
    },
    {
      "cell_type": "code",
      "source": [
        "fig, ax = plt.subplots(1, 2, figsize=(20, 20))\n",
        "feat_importance_df_shap = feat_importance_df.groupby('feature').mean().sort_values('shap_values', ascending=False).reset_index()\n",
        "\n",
        "num_features = 50\n",
        "sns.barplot(x=feat_importance_df_shap.shap_values[:num_features], y=feat_importance_df_shap.feature[:num_features], ax=ax[0])\n",
        "ax[0].set_title('Feature importance based on shap values')\n",
        "\n",
        "feat_importance_df = feat_importance_df.groupby('feature').mean().sort_values('feat_imp', ascending=False).reset_index()\n",
        "\n",
        "num_features = 50\n",
        "sns.barplot(x=feat_importance_df.shap_values[:num_features], y=feat_importance_df.feature[:num_features], ax=ax[1])\n",
        "ax[1].set_title('Feaure importance based on feature importance from lgbm')\n",
        "plt.show()"
      ],
      "metadata": {
        "id": "uEG-YDgP7EUL"
      },
      "execution_count": null,
      "outputs": []
    },
    {
      "cell_type": "code",
      "source": [
        "submission['Target'] = np.array(predicts_result).mean(axis=0).round().astype(int)\n",
        "submission.to_csv('submission_with_new_feature_set.csv', index = False)"
      ],
      "metadata": {
        "id": "6yZX3BHP7F74"
      },
      "execution_count": null,
      "outputs": []
    },
    {
      "cell_type": "markdown",
      "source": [
        "#### Randomized search"
      ],
      "metadata": {
        "id": "NmTKaksg7GFy"
      }
    },
    {
      "cell_type": "code",
      "source": [
        "optimized_param = None\n",
        "lowest_cv = 1000\n",
        "total_iteration = 100\n",
        "for i in range(total_iteration):\n",
        "    print('-'*20, 'For {} of {} iterations'.format(i+1, total_iteration), '-'*20)\n",
        "    learning_rate = np.random.rand() * 0.02\n",
        "    n_folds = 3\n",
        "\n",
        "    num_class = len(np.unique(y))\n",
        "\n",
        "    params = {}\n",
        "    params['application'] = 'multiclass'\n",
        "    params['metric'] = 'multi_logloss'\n",
        "    params['num_class'] = num_class\n",
        "    params['class_weight'] = 'balanced'\n",
        "    params['num_leaves'] = np.random.randint(24, 48)\n",
        "    params['max_depth'] = np.random.randint(5, 8)\n",
        "    params['min_child_weight'] = np.random.randint(5, 50)\n",
        "    params['min_split_gain'] = np.random.rand() * 0.09\n",
        "    params['colsample_bytree'] = np.random.rand() * (0.9 - 0.1) + 0.1\n",
        "    params['subsample'] = np.random.rand() * (1 - 0.8) + 0.8\n",
        "    params['bagging_freq'] = np.random.randint(1, 5)\n",
        "    params['bagging_seed'] = np.random.randint(1, 5)\n",
        "    params['reg_alpha'] = np.random.rand() * 2\n",
        "    params['reg_lambda'] = np.random.rand() * 2\n",
        "    params['learning_rate'] = np.random.rand() * 0.02\n",
        "    params['seed']  =1989\n",
        "\n",
        "    d_train = lgb.Dataset(data=new_train, label=y.values-1, categorical_feature=new_categorical_feats, free_raw_data=False)\n",
        "    cv_results = lgb.cv(params=params, train_set=d_train, num_boost_round=10000, categorical_feature=new_categorical_feats,\n",
        "                        nfold=n_folds, stratified=True, shuffle=True, early_stopping_rounds=1, verbose_eval=1000)\n",
        "\n",
        "    min_cv_results = min(cv_results['multi_logloss-mean'])\n",
        "\n",
        "    if min_cv_results < lowest_cv:\n",
        "        lowest_cv = min_cv_results\n",
        "        optimized_param = params    "
      ],
      "metadata": {
        "id": "wTMBmtfA7I-0"
      },
      "execution_count": null,
      "outputs": []
    }
  ]
}