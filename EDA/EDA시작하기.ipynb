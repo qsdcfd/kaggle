{
  "nbformat": 4,
  "nbformat_minor": 0,
  "metadata": {
    "colab": {
      "name": "EDA시작하기",
      "provenance": [],
      "authorship_tag": "ABX9TyMouYqH0MRv6Y6r+CYLp2hU"
    },
    "kernelspec": {
      "name": "python3",
      "display_name": "Python 3"
    },
    "language_info": {
      "name": "python"
    }
  },
  "cells": [
    {
      "cell_type": "markdown",
      "source": [
        "#### 주요 내용\n",
        "\n",
        "- EDA이유 \n",
        "\n",
        "   - 왜 EDA가 필요한지 생각하기\n",
        "   \n",
        "- 데이터 보기\n",
        "\n",
        "   - 다양한 데이터 보기\n",
        "   \n",
        "   - 방법을 통해 데이터 개요 보기\n",
        "   \n",
        "- 트레인 및 테스트 Y축 보존\n",
        "\n",
        "   - 추후 사용을 위해 테스트 및 트레인 데이터 크기와 y축 저장\n",
        "   \n",
        "- 트레인 및 테스트 데이터 연결\n",
        "\n",
        "   - 트레인 및 테스트 데이터를 연결하여 data만들기\n",
        "   \n",
        "<br>\n",
        "\n",
        "#### Data 설명\n",
        "\n",
        "- 훈련용 데이터: train.csv\n",
        "\n",
        "   - 훈련용 데이터를 분석하여(EDA)\n",
        "\n",
        "- 최종 시험용 데이터: test.csv\n",
        "\n",
        "   - 테스트 데이터에 대한 예측 결과를 내어 이에 대한 판정 받기\n",
        "\n",
        "- train.csv + test.csv = data\n",
        "\n",
        "   - 항목 고칠 때 한꺼번에 고치려고 합침\n",
        "   \n",
        "   - 머신러닝을 만들어서 전체 데이터 대한 Feature Engineering\n",
        "\n",
        "- Gender Submission\n",
        "\n",
        "   - 남자는 모두 사망 여자는 모두 생존을 기록한 파일\n",
        "   \n",
        "   - 남자 생존과 여자 사망을 못 맞추는 좋은 결과 시스템은 아님\n",
        "   \n",
        "<br>\n",
        "\n",
        "#### EDA는 왜 필요한가?\n",
        "\n",
        "![](https://images.velog.io/images/qsdcfd/post/12954f66-60b2-4a47-8a52-58fcf1a567ff/image.png)\n",
        "\n",
        "<br>\n",
        "\n",
        "#### Column내용 파악\n",
        "\n",
        "챌린지에서 주어진 승객들에게 순서대로 번호 준 것 : passenger ID , 승객 연번\n",
        "\n",
        "Train파일에는 답이 있지만 Test파일에선 빈 값: Survived 생존 여부 0=NO, 1=YES\n",
        "\n",
        "Pclass 선실등급 1=1st, 2=2nd, 3= 3rd\n",
        "\n",
        "Sex = male Female\n",
        "\n",
        "Age 나이: 여기에 빈 값이 많아서 어떻게 처리하는지 중요\n",
        "\n",
        "Sibsp :형제 자매의 수/배우자 등이 승선한 경우의 수, 같이 탄 형제의 수 또는 배우자 또는 배우자+형제의 수\n",
        "\n",
        "Parch 부모나 자식과 같이 탄 경우 수, 부모+아이의 가족 탑승자 수\n",
        "\n",
        "Ticket 표 번호, 티켓에 주어진 표의 번호\n",
        "\n",
        "Fare 요금, 티켓 가격의 금액\n",
        "\n",
        "Cabin 선실 번호로 여기에도 빈 값이 많음\n",
        "\n",
        "embarked 승선한 항구, C= Cherbourg, Q = Queenstown, S= Southampton\n",
        "\n",
        "\n",
        "#### 데이터 병합\n",
        "\n",
        "![](https://images.velog.io/images/qsdcfd/post/f45688a8-eb24-4798-8891-2969c167f8d9/image.png)"
      ],
      "metadata": {
        "id": "PeHcCUtOdZtl"
      }
    },
    {
      "cell_type": "code",
      "source": [
        ""
      ],
      "metadata": {
        "id": "paRpqQNFdeqi"
      },
      "execution_count": null,
      "outputs": []
    }
  ]
}