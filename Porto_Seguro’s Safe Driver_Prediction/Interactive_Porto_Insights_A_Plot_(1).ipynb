{
  "nbformat": 4,
  "nbformat_minor": 0,
  "metadata": {
    "colab": {
      "name": "Interactive Porto Insights-A Plot (1)",
      "provenance": [],
      "authorship_tag": "ABX9TyPBvffmXyi9obcZeLvEtbBi"
    },
    "kernelspec": {
      "name": "python3",
      "display_name": "Python 3"
    },
    "language_info": {
      "name": "python"
    }
  },
  "cells": [
    {
      "cell_type": "markdown",
      "source": [
        "### Introduction\n",
        "\n",
        "직관적인 시각화 plots를 시도해 볼 것입니다.\n",
        "\n",
        "그래프적 시각화부터 통꼐적 시각화까지 API를 활용해 볼 것입니다.\n",
        "\n",
        "<br>\n",
        "\n",
        "**사용할 plots**\n",
        "\n",
        "Simple horizontal bar plot : Target variable distribution\n",
        "\n",
        "Correlation Heatmap plot\n",
        "\n",
        "Scatter plot\n",
        "\n",
        "Vertical bar plot\n",
        "\n",
        "3D Scatter plot\n",
        "\n",
        "<br>\n",
        "\n",
        "**순서**\n",
        "\n",
        "Data Quality Checks : visualising and evaluating all missing/Null values\n",
        "\n",
        "Feature inspection and filtering: Binary, categorical and othe variables\n",
        "\n",
        "Feature importance ranking via learning models: Random Forest and Gradient Boosted model"
      ],
      "metadata": {
        "id": "03enqS2n5_nS"
      }
    },
    {
      "cell_type": "code",
      "execution_count": 22,
      "metadata": {
        "colab": {
          "base_uri": "https://localhost:8080/",
          "height": 17
        },
        "id": "6OwbBdFZoO72",
        "outputId": "5af6d2e5-a320-4268-fd3e-c3fc8cb9c78c"
      },
      "outputs": [
        {
          "output_type": "display_data",
          "data": {
            "text/html": [
              "        <script type=\"text/javascript\">\n",
              "        window.PlotlyConfig = {MathJaxConfig: 'local'};\n",
              "        if (window.MathJax) {MathJax.Hub.Config({SVG: {font: \"STIX-Web\"}});}\n",
              "        if (typeof require !== 'undefined') {\n",
              "        require.undef(\"plotly\");\n",
              "        requirejs.config({\n",
              "            paths: {\n",
              "                'plotly': ['https://cdn.plot.ly/plotly-2.8.3.min']\n",
              "            }\n",
              "        });\n",
              "        require(['plotly'], function(Plotly) {\n",
              "            window._Plotly = Plotly;\n",
              "        });\n",
              "        }\n",
              "        </script>\n",
              "        "
            ]
          },
          "metadata": {}
        }
      ],
      "source": [
        "# Let us load in the relevant Python modules\n",
        "import pandas as pd\n",
        "import numpy as np\n",
        "import seaborn as sns\n",
        "import matplotlib.pyplot as plt\n",
        "%matplotlib inline\n",
        "import plotly.offline as py\n",
        "py.init_notebook_mode(connected=True)\n",
        "import plotly.graph_objs as go\n",
        "import plotly.tools as tls\n",
        "import warnings"
      ]
    },
    {
      "cell_type": "code",
      "source": [
        "from collections import Counter\n",
        "from sklearn.feature_selection import mutual_info_classif\n",
        "warnings.filterwarnings('ignore')"
      ],
      "metadata": {
        "id": "dJ39w8Kd8GK2"
      },
      "execution_count": 23,
      "outputs": []
    },
    {
      "cell_type": "code",
      "source": [
        "#load data\n",
        "\n",
        "train = pd.read_csv('./input/train.csv')\n",
        "train.head()"
      ],
      "metadata": {
        "colab": {
          "base_uri": "https://localhost:8080/",
          "height": 299
        },
        "id": "1TmW2SaQ8QUd",
        "outputId": "95a5be52-8cfb-49d6-eb0a-eb6d18d51f39"
      },
      "execution_count": 24,
      "outputs": [
        {
          "output_type": "execute_result",
          "data": {
            "text/plain": [
              "   id  target  ps_ind_01  ps_ind_02_cat  ps_ind_03  ps_ind_04_cat  \\\n",
              "0   7       0          2              2          5              1   \n",
              "1   9       0          1              1          7              0   \n",
              "2  13       0          5              4          9              1   \n",
              "3  16       0          0              1          2              0   \n",
              "4  17       0          0              2          0              1   \n",
              "\n",
              "   ps_ind_05_cat  ps_ind_06_bin  ps_ind_07_bin  ps_ind_08_bin  ...  \\\n",
              "0              0              0              1              0  ...   \n",
              "1              0              0              0              1  ...   \n",
              "2              0              0              0              1  ...   \n",
              "3              0              1              0              0  ...   \n",
              "4              0              1              0              0  ...   \n",
              "\n",
              "   ps_calc_11  ps_calc_12  ps_calc_13  ps_calc_14  ps_calc_15_bin  \\\n",
              "0           9           1           5           8               0   \n",
              "1           3           1           1           9               0   \n",
              "2           4           2           7           7               0   \n",
              "3           2           2           4           9               0   \n",
              "4           3           1           1           3               0   \n",
              "\n",
              "   ps_calc_16_bin  ps_calc_17_bin  ps_calc_18_bin  ps_calc_19_bin  \\\n",
              "0               1               1               0               0   \n",
              "1               1               1               0               1   \n",
              "2               1               1               0               1   \n",
              "3               0               0               0               0   \n",
              "4               0               0               1               1   \n",
              "\n",
              "   ps_calc_20_bin  \n",
              "0               1  \n",
              "1               0  \n",
              "2               0  \n",
              "3               0  \n",
              "4               0  \n",
              "\n",
              "[5 rows x 59 columns]"
            ],
            "text/html": [
              "\n",
              "  <div id=\"df-acaa11c0-2ca7-49c3-a1ec-1b4a20c6ee75\">\n",
              "    <div class=\"colab-df-container\">\n",
              "      <div>\n",
              "<style scoped>\n",
              "    .dataframe tbody tr th:only-of-type {\n",
              "        vertical-align: middle;\n",
              "    }\n",
              "\n",
              "    .dataframe tbody tr th {\n",
              "        vertical-align: top;\n",
              "    }\n",
              "\n",
              "    .dataframe thead th {\n",
              "        text-align: right;\n",
              "    }\n",
              "</style>\n",
              "<table border=\"1\" class=\"dataframe\">\n",
              "  <thead>\n",
              "    <tr style=\"text-align: right;\">\n",
              "      <th></th>\n",
              "      <th>id</th>\n",
              "      <th>target</th>\n",
              "      <th>ps_ind_01</th>\n",
              "      <th>ps_ind_02_cat</th>\n",
              "      <th>ps_ind_03</th>\n",
              "      <th>ps_ind_04_cat</th>\n",
              "      <th>ps_ind_05_cat</th>\n",
              "      <th>ps_ind_06_bin</th>\n",
              "      <th>ps_ind_07_bin</th>\n",
              "      <th>ps_ind_08_bin</th>\n",
              "      <th>...</th>\n",
              "      <th>ps_calc_11</th>\n",
              "      <th>ps_calc_12</th>\n",
              "      <th>ps_calc_13</th>\n",
              "      <th>ps_calc_14</th>\n",
              "      <th>ps_calc_15_bin</th>\n",
              "      <th>ps_calc_16_bin</th>\n",
              "      <th>ps_calc_17_bin</th>\n",
              "      <th>ps_calc_18_bin</th>\n",
              "      <th>ps_calc_19_bin</th>\n",
              "      <th>ps_calc_20_bin</th>\n",
              "    </tr>\n",
              "  </thead>\n",
              "  <tbody>\n",
              "    <tr>\n",
              "      <th>0</th>\n",
              "      <td>7</td>\n",
              "      <td>0</td>\n",
              "      <td>2</td>\n",
              "      <td>2</td>\n",
              "      <td>5</td>\n",
              "      <td>1</td>\n",
              "      <td>0</td>\n",
              "      <td>0</td>\n",
              "      <td>1</td>\n",
              "      <td>0</td>\n",
              "      <td>...</td>\n",
              "      <td>9</td>\n",
              "      <td>1</td>\n",
              "      <td>5</td>\n",
              "      <td>8</td>\n",
              "      <td>0</td>\n",
              "      <td>1</td>\n",
              "      <td>1</td>\n",
              "      <td>0</td>\n",
              "      <td>0</td>\n",
              "      <td>1</td>\n",
              "    </tr>\n",
              "    <tr>\n",
              "      <th>1</th>\n",
              "      <td>9</td>\n",
              "      <td>0</td>\n",
              "      <td>1</td>\n",
              "      <td>1</td>\n",
              "      <td>7</td>\n",
              "      <td>0</td>\n",
              "      <td>0</td>\n",
              "      <td>0</td>\n",
              "      <td>0</td>\n",
              "      <td>1</td>\n",
              "      <td>...</td>\n",
              "      <td>3</td>\n",
              "      <td>1</td>\n",
              "      <td>1</td>\n",
              "      <td>9</td>\n",
              "      <td>0</td>\n",
              "      <td>1</td>\n",
              "      <td>1</td>\n",
              "      <td>0</td>\n",
              "      <td>1</td>\n",
              "      <td>0</td>\n",
              "    </tr>\n",
              "    <tr>\n",
              "      <th>2</th>\n",
              "      <td>13</td>\n",
              "      <td>0</td>\n",
              "      <td>5</td>\n",
              "      <td>4</td>\n",
              "      <td>9</td>\n",
              "      <td>1</td>\n",
              "      <td>0</td>\n",
              "      <td>0</td>\n",
              "      <td>0</td>\n",
              "      <td>1</td>\n",
              "      <td>...</td>\n",
              "      <td>4</td>\n",
              "      <td>2</td>\n",
              "      <td>7</td>\n",
              "      <td>7</td>\n",
              "      <td>0</td>\n",
              "      <td>1</td>\n",
              "      <td>1</td>\n",
              "      <td>0</td>\n",
              "      <td>1</td>\n",
              "      <td>0</td>\n",
              "    </tr>\n",
              "    <tr>\n",
              "      <th>3</th>\n",
              "      <td>16</td>\n",
              "      <td>0</td>\n",
              "      <td>0</td>\n",
              "      <td>1</td>\n",
              "      <td>2</td>\n",
              "      <td>0</td>\n",
              "      <td>0</td>\n",
              "      <td>1</td>\n",
              "      <td>0</td>\n",
              "      <td>0</td>\n",
              "      <td>...</td>\n",
              "      <td>2</td>\n",
              "      <td>2</td>\n",
              "      <td>4</td>\n",
              "      <td>9</td>\n",
              "      <td>0</td>\n",
              "      <td>0</td>\n",
              "      <td>0</td>\n",
              "      <td>0</td>\n",
              "      <td>0</td>\n",
              "      <td>0</td>\n",
              "    </tr>\n",
              "    <tr>\n",
              "      <th>4</th>\n",
              "      <td>17</td>\n",
              "      <td>0</td>\n",
              "      <td>0</td>\n",
              "      <td>2</td>\n",
              "      <td>0</td>\n",
              "      <td>1</td>\n",
              "      <td>0</td>\n",
              "      <td>1</td>\n",
              "      <td>0</td>\n",
              "      <td>0</td>\n",
              "      <td>...</td>\n",
              "      <td>3</td>\n",
              "      <td>1</td>\n",
              "      <td>1</td>\n",
              "      <td>3</td>\n",
              "      <td>0</td>\n",
              "      <td>0</td>\n",
              "      <td>0</td>\n",
              "      <td>1</td>\n",
              "      <td>1</td>\n",
              "      <td>0</td>\n",
              "    </tr>\n",
              "  </tbody>\n",
              "</table>\n",
              "<p>5 rows × 59 columns</p>\n",
              "</div>\n",
              "      <button class=\"colab-df-convert\" onclick=\"convertToInteractive('df-acaa11c0-2ca7-49c3-a1ec-1b4a20c6ee75')\"\n",
              "              title=\"Convert this dataframe to an interactive table.\"\n",
              "              style=\"display:none;\">\n",
              "        \n",
              "  <svg xmlns=\"http://www.w3.org/2000/svg\" height=\"24px\"viewBox=\"0 0 24 24\"\n",
              "       width=\"24px\">\n",
              "    <path d=\"M0 0h24v24H0V0z\" fill=\"none\"/>\n",
              "    <path d=\"M18.56 5.44l.94 2.06.94-2.06 2.06-.94-2.06-.94-.94-2.06-.94 2.06-2.06.94zm-11 1L8.5 8.5l.94-2.06 2.06-.94-2.06-.94L8.5 2.5l-.94 2.06-2.06.94zm10 10l.94 2.06.94-2.06 2.06-.94-2.06-.94-.94-2.06-.94 2.06-2.06.94z\"/><path d=\"M17.41 7.96l-1.37-1.37c-.4-.4-.92-.59-1.43-.59-.52 0-1.04.2-1.43.59L10.3 9.45l-7.72 7.72c-.78.78-.78 2.05 0 2.83L4 21.41c.39.39.9.59 1.41.59.51 0 1.02-.2 1.41-.59l7.78-7.78 2.81-2.81c.8-.78.8-2.07 0-2.86zM5.41 20L4 18.59l7.72-7.72 1.47 1.35L5.41 20z\"/>\n",
              "  </svg>\n",
              "      </button>\n",
              "      \n",
              "  <style>\n",
              "    .colab-df-container {\n",
              "      display:flex;\n",
              "      flex-wrap:wrap;\n",
              "      gap: 12px;\n",
              "    }\n",
              "\n",
              "    .colab-df-convert {\n",
              "      background-color: #E8F0FE;\n",
              "      border: none;\n",
              "      border-radius: 50%;\n",
              "      cursor: pointer;\n",
              "      display: none;\n",
              "      fill: #1967D2;\n",
              "      height: 32px;\n",
              "      padding: 0 0 0 0;\n",
              "      width: 32px;\n",
              "    }\n",
              "\n",
              "    .colab-df-convert:hover {\n",
              "      background-color: #E2EBFA;\n",
              "      box-shadow: 0px 1px 2px rgba(60, 64, 67, 0.3), 0px 1px 3px 1px rgba(60, 64, 67, 0.15);\n",
              "      fill: #174EA6;\n",
              "    }\n",
              "\n",
              "    [theme=dark] .colab-df-convert {\n",
              "      background-color: #3B4455;\n",
              "      fill: #D2E3FC;\n",
              "    }\n",
              "\n",
              "    [theme=dark] .colab-df-convert:hover {\n",
              "      background-color: #434B5C;\n",
              "      box-shadow: 0px 1px 3px 1px rgba(0, 0, 0, 0.15);\n",
              "      filter: drop-shadow(0px 1px 2px rgba(0, 0, 0, 0.3));\n",
              "      fill: #FFFFFF;\n",
              "    }\n",
              "  </style>\n",
              "\n",
              "      <script>\n",
              "        const buttonEl =\n",
              "          document.querySelector('#df-acaa11c0-2ca7-49c3-a1ec-1b4a20c6ee75 button.colab-df-convert');\n",
              "        buttonEl.style.display =\n",
              "          google.colab.kernel.accessAllowed ? 'block' : 'none';\n",
              "\n",
              "        async function convertToInteractive(key) {\n",
              "          const element = document.querySelector('#df-acaa11c0-2ca7-49c3-a1ec-1b4a20c6ee75');\n",
              "          const dataTable =\n",
              "            await google.colab.kernel.invokeFunction('convertToInteractive',\n",
              "                                                     [key], {});\n",
              "          if (!dataTable) return;\n",
              "\n",
              "          const docLinkHtml = 'Like what you see? Visit the ' +\n",
              "            '<a target=\"_blank\" href=https://colab.research.google.com/notebooks/data_table.ipynb>data table notebook</a>'\n",
              "            + ' to learn more about interactive tables.';\n",
              "          element.innerHTML = '';\n",
              "          dataTable['output_type'] = 'display_data';\n",
              "          await google.colab.output.renderOutput(dataTable, element);\n",
              "          const docLink = document.createElement('div');\n",
              "          docLink.innerHTML = docLinkHtml;\n",
              "          element.appendChild(docLink);\n",
              "        }\n",
              "      </script>\n",
              "    </div>\n",
              "  </div>\n",
              "  "
            ]
          },
          "metadata": {},
          "execution_count": 24
        }
      ]
    },
    {
      "cell_type": "code",
      "source": [
        "#데이터 셋에 행과 열이 얼마나 있는지 보기\n",
        "\n",
        "rows = train.shape[0]\n",
        "columns = train.shape[1]\n",
        "print(\"The train dataset contains {0} rows and {1} columns\".format(rows, columns))"
      ],
      "metadata": {
        "colab": {
          "base_uri": "https://localhost:8080/"
        },
        "id": "IUv_BCti8XAh",
        "outputId": "85779c20-38ee-4b6d-8dc8-d5659dd9f10e"
      },
      "execution_count": 25,
      "outputs": [
        {
          "output_type": "stream",
          "name": "stdout",
          "text": [
            "The train dataset contains 595212 rows and 59 columns\n"
          ]
        }
      ]
    },
    {
      "cell_type": "markdown",
      "source": [
        "#### Data Quality Checks\n",
        "\n",
        "**Null or missing values check**"
      ],
      "metadata": {
        "id": "0Z1Hb4zO85h5"
      }
    },
    {
      "cell_type": "code",
      "source": [
        "#any()  applied twice to check run the isnull check acros all columns.\n",
        "train.isnull().any().any()\n",
        "#결과가 False가 나왔다고해서 무조건 missing 데이터에 대한 정확한 유무 판단이 힘들다. 그래서 아래 과정 시행"
      ],
      "metadata": {
        "colab": {
          "base_uri": "https://localhost:8080/"
        },
        "id": "CWVUbAjy8wJu",
        "outputId": "d3c40f1c-86b3-4d5d-be98-122b706f14d1"
      },
      "execution_count": 26,
      "outputs": [
        {
          "output_type": "execute_result",
          "data": {
            "text/plain": [
              "False"
            ]
          },
          "metadata": {},
          "execution_count": 26
        }
      ]
    },
    {
      "cell_type": "code",
      "source": [
        "#데이터를 하나 하나 뜯어보는 과정 시작\n",
        "train_copy = train # 복사를 하고 수정을 해야 원본 데이터에 문제가 안 생김\n",
        "train_copy = train_copy.replace(-1, np.NaN)"
      ],
      "metadata": {
        "id": "TZW0DTV79Io-"
      },
      "execution_count": 27,
      "outputs": []
    },
    {
      "cell_type": "code",
      "source": [
        "#missingno 라이브러리를 사용하여 결측치 부분 시각화하여 보기\n",
        "\n",
        "import missingno as msno\n",
        "#Nullity or missing values by columns\n",
        "\n",
        "msno.matrix(df=train_copy.iloc[:,2:39], figsize=(20,14), color =(0.42, 0.1, 0.05))"
      ],
      "metadata": {
        "colab": {
          "base_uri": "https://localhost:8080/",
          "height": 920
        },
        "id": "joCv1VyC9ngw",
        "outputId": "d379af5b-596d-4789-e35c-fbaa1285e63b"
      },
      "execution_count": 28,
      "outputs": [
        {
          "output_type": "execute_result",
          "data": {
            "text/plain": [
              "<matplotlib.axes._subplots.AxesSubplot at 0x7f8e3a94db50>"
            ]
          },
          "metadata": {},
          "execution_count": 28
        },
        {
          "output_type": "display_data",
          "data": {
            "text/plain": [
              "<Figure size 1440x1008 with 2 Axes>"
            ],
            "image/png": "[encoded data removed]"
          },
          "metadata": {
            "needs_background": "light"
          }
        }
      ]
    },
    {
      "cell_type": "markdown",
      "source": [
        "null columns\n",
        "\n",
        "ps_ind_05_cat | ps_reg_03 | ps_car_03_cat | ps_car_05_cat | ps_car_05_cat | ps_car_07_cat | ps_car_09_cat | ps_car_14\n",
        "\n",
        "<br>\n",
        "\n",
        "그래프를 보면 3개의 컬럼은 심각할 정도로 크기 때문에 단순히 -1로 대체해버리는 전략은 좋지 않다"
      ],
      "metadata": {
        "id": "8i14n4Qq-mdf"
      }
    },
    {
      "cell_type": "code",
      "source": [
        "### Target variable inspection\n",
        "\n",
        "##지도학습을 위해서 0과1로 나누기\n",
        "\n",
        "data = [go.Bar(\n",
        "            x = train[\"target\"].value_counts().index.values,\n",
        "            y = train[\"target\"].value_counts().values,\n",
        "            text='Distribution of target variable'\n",
        "    )]\n",
        "\n",
        "layout = go.Layout(\n",
        "    title='Target variable distribution'\n",
        ")\n",
        "\n",
        "fig = go.Figure(data=data, layout=layout)\n",
        "\n",
        "py.iplot(fig, filename='basic-bar')"
      ],
      "metadata": {
        "colab": {
          "base_uri": "https://localhost:8080/",
          "height": 542
        },
        "id": "IMOs34vA-HOW",
        "outputId": "b1e773ea-36c7-42bf-bd86-b53502c5313f"
      },
      "execution_count": 29,
      "outputs": [
        {
          "output_type": "display_data",
          "data": {
            "application/vnd.plotly.v1+json": {
              "data": [
                {
                  "text": "Distribution of target variable",
                  "x": [
                    0,
                    1
                  ],
                  "y": [
                    573518,
                    21694
                  ],
                  "type": "bar"
                }
              ],
              "layout": {
                "template": {
                  "data": {
                    "barpolar": [
                      {
                        "marker": {
                          "line": {
                            "color": "#E5ECF6",
                            "width": 0.5
                          },
                          "pattern": {
                            "fillmode": "overlay",
                            "size": 10,
                            "solidity": 0.2
                          }
                        },
                        "type": "barpolar"
                      }
                    ],
                    "bar": [
                      {
                        "error_x": {
                          "color": "#2a3f5f"
                        },
                        "error_y": {
                          "color": "#2a3f5f"
                        },
                        "marker": {
                          "line": {
                            "color": "#E5ECF6",
                            "width": 0.5
                          },
                          "pattern": {
                            "fillmode": "overlay",
                            "size": 10,
                            "solidity": 0.2
                          }
                        },
                        "type": "bar"
                      }
                    ],
                    "carpet": [
                      {
                        "aaxis": {
                          "endlinecolor": "#2a3f5f",
                          "gridcolor": "white",
                          "linecolor": "white",
                          "minorgridcolor": "white",
                          "startlinecolor": "#2a3f5f"
                        },
                        "baxis": {
                          "endlinecolor": "#2a3f5f",
                          "gridcolor": "white",
                          "linecolor": "white",
                          "minorgridcolor": "white",
                          "startlinecolor": "#2a3f5f"
                        },
                        "type": "carpet"
                      }
                    ],
                    "choropleth": [
                      {
                        "colorbar": {
                          "outlinewidth": 0,
                          "ticks": ""
                        },
                        "type": "choropleth"
                      }
                    ],
                    "contourcarpet": [
                      {
                        "colorbar": {
                          "outlinewidth": 0,
                          "ticks": ""
                        },
                        "type": "contourcarpet"
                      }
                    ],
                    "contour": [
                      {
                        "colorbar": {
                          "outlinewidth": 0,
                          "ticks": ""
                        },
                        "colorscale": [
                          [
                            0,
                            "#0d0887"
                          ],
                          [
                            0.1111111111111111,
                            "#46039f"
                          ],
                          [
                            0.2222222222222222,
                            "#7201a8"
                          ],
                          [
                            0.3333333333333333,
                            "#9c179e"
                          ],
                          [
                            0.4444444444444444,
                            "#bd3786"
                          ],
                          [
                            0.5555555555555556,
                            "#d8576b"
                          ],
                          [
                            0.6666666666666666,
                            "#ed7953"
                          ],
                          [
                            0.7777777777777778,
                            "#fb9f3a"
                          ],
                          [
                            0.8888888888888888,
                            "#fdca26"
                          ],
                          [
                            1,
                            "#f0f921"
                          ]
                        ],
                        "type": "contour"
                      }
                    ],
                    "heatmapgl": [
                      {
                        "colorbar": {
                          "outlinewidth": 0,
                          "ticks": ""
                        },
                        "colorscale": [
                          [
                            0,
                            "#0d0887"
                          ],
                          [
                            0.1111111111111111,
                            "#46039f"
                          ],
                          [
                            0.2222222222222222,
                            "#7201a8"
                          ],
                          [
                            0.3333333333333333,
                            "#9c179e"
                          ],
                          [
                            0.4444444444444444,
                            "#bd3786"
                          ],
                          [
                            0.5555555555555556,
                            "#d8576b"
                          ],
                          [
                            0.6666666666666666,
                            "#ed7953"
                          ],
                          [
                            0.7777777777777778,
                            "#fb9f3a"
                          ],
                          [
                            0.8888888888888888,
                            "#fdca26"
                          ],
                          [
                            1,
                            "#f0f921"
                          ]
                        ],
                        "type": "heatmapgl"
                      }
                    ],
                    "heatmap": [
                      {
                        "colorbar": {
                          "outlinewidth": 0,
                          "ticks": ""
                        },
                        "colorscale": [
                          [
                            0,
                            "#0d0887"
                          ],
                          [
                            0.1111111111111111,
                            "#46039f"
                          ],
                          [
                            0.2222222222222222,
                            "#7201a8"
                          ],
                          [
                            0.3333333333333333,
                            "#9c179e"
                          ],
                          [
                            0.4444444444444444,
                            "#bd3786"
                          ],
                          [
                            0.5555555555555556,
                            "#d8576b"
                          ],
                          [
                            0.6666666666666666,
                            "#ed7953"
                          ],
                          [
                            0.7777777777777778,
                            "#fb9f3a"
                          ],
                          [
                            0.8888888888888888,
                            "#fdca26"
                          ],
                          [
                            1,
                            "#f0f921"
                          ]
                        ],
                        "type": "heatmap"
                      }
                    ],
                    "histogram2dcontour": [
                      {
                        "colorbar": {
                          "outlinewidth": 0,
                          "ticks": ""
                        },
                        "colorscale": [
                          [
                            0,
                            "#0d0887"
                          ],
                          [
                            0.1111111111111111,
                            "#46039f"
                          ],
                          [
                            0.2222222222222222,
                            "#7201a8"
                          ],
                          [
                            0.3333333333333333,
                            "#9c179e"
                          ],
                          [
                            0.4444444444444444,
                            "#bd3786"
                          ],
                          [
                            0.5555555555555556,
                            "#d8576b"
                          ],
                          [
                            0.6666666666666666,
                            "#ed7953"
                          ],
                          [
                            0.7777777777777778,
                            "#fb9f3a"
                          ],
                          [
                            0.8888888888888888,
                            "#fdca26"
                          ],
                          [
                            1,
                            "#f0f921"
                          ]
                        ],
                        "type": "histogram2dcontour"
                      }
                    ],
                    "histogram2d": [
                      {
                        "colorbar": {
                          "outlinewidth": 0,
                          "ticks": ""
                        },
                        "colorscale": [
                          [
                            0,
                            "#0d0887"
                          ],
                          [
                            0.1111111111111111,
                            "#46039f"
                          ],
                          [
                            0.2222222222222222,
                            "#7201a8"
                          ],
                          [
                            0.3333333333333333,
                            "#9c179e"
                          ],
                          [
                            0.4444444444444444,
                            "#bd3786"
                          ],
                          [
                            0.5555555555555556,
                            "#d8576b"
                          ],
                          [
                            0.6666666666666666,
                            "#ed7953"
                          ],
                          [
                            0.7777777777777778,
                            "#fb9f3a"
                          ],
                          [
                            0.8888888888888888,
                            "#fdca26"
                          ],
                          [
                            1,
                            "#f0f921"
                          ]
                        ],
                        "type": "histogram2d"
                      }
                    ],
                    "histogram": [
                      {
                        "marker": {
                          "pattern": {
                            "fillmode": "overlay",
                            "size": 10,
                            "solidity": 0.2
                          }
                        },
                        "type": "histogram"
                      }
                    ],
                    "mesh3d": [
                      {
                        "colorbar": {
                          "outlinewidth": 0,
                          "ticks": ""
                        },
                        "type": "mesh3d"
                      }
                    ],
                    "parcoords": [
                      {
                        "line": {
                          "colorbar": {
                            "outlinewidth": 0,
                            "ticks": ""
                          }
                        },
                        "type": "parcoords"
                      }
                    ],
                    "pie": [
                      {
                        "automargin": true,
                        "type": "pie"
                      }
                    ],
                    "scatter3d": [
                      {
                        "line": {
                          "colorbar": {
                            "outlinewidth": 0,
                            "ticks": ""
                          }
                        },
                        "marker": {
                          "colorbar": {
                            "outlinewidth": 0,
                            "ticks": ""
                          }
                        },
                        "type": "scatter3d"
                      }
                    ],
                    "scattercarpet": [
                      {
                        "marker": {
                          "colorbar": {
                            "outlinewidth": 0,
                            "ticks": ""
                          }
                        },
                        "type": "scattercarpet"
                      }
                    ],
                    "scattergeo": [
                      {
                        "marker": {
                          "colorbar": {
                            "outlinewidth": 0,
                            "ticks": ""
                          }
                        },
                        "type": "scattergeo"
                      }
                    ],
                    "scattergl": [
                      {
                        "marker": {
                          "colorbar": {
                            "outlinewidth": 0,
                            "ticks": ""
                          }
                        },
                        "type": "scattergl"
                      }
                    ],
                    "scattermapbox": [
                      {
                        "marker": {
                          "colorbar": {
                            "outlinewidth": 0,
                            "ticks": ""
                          }
                        },
                        "type": "scattermapbox"
                      }
                    ],
                    "scatterpolargl": [
                      {
                        "marker": {
                          "colorbar": {
                            "outlinewidth": 0,
                            "ticks": ""
                          }
                        },
                        "type": "scatterpolargl"
                      }
                    ],
                    "scatterpolar": [
                      {
                        "marker": {
                          "colorbar": {
                            "outlinewidth": 0,
                            "ticks": ""
                          }
                        },
                        "type": "scatterpolar"
                      }
                    ],
                    "scatter": [
                      {
                        "marker": {
                          "colorbar": {
                            "outlinewidth": 0,
                            "ticks": ""
                          }
                        },
                        "type": "scatter"
                      }
                    ],
                    "scatterternary": [
                      {
                        "marker": {
                          "colorbar": {
                            "outlinewidth": 0,
                            "ticks": ""
                          }
                        },
                        "type": "scatterternary"
                      }
                    ],
                    "surface": [
                      {
                        "colorbar": {
                          "outlinewidth": 0,
                          "ticks": ""
                        },
                        "colorscale": [
                          [
                            0,
                            "#0d0887"
                          ],
                          [
                            0.1111111111111111,
                            "#46039f"
                          ],
                          [
                            0.2222222222222222,
                            "#7201a8"
                          ],
                          [
                            0.3333333333333333,
                            "#9c179e"
                          ],
                          [
                            0.4444444444444444,
                            "#bd3786"
                          ],
                          [
                            0.5555555555555556,
                            "#d8576b"
                          ],
                          [
                            0.6666666666666666,
                            "#ed7953"
                          ],
                          [
                            0.7777777777777778,
                            "#fb9f3a"
                          ],
                          [
                            0.8888888888888888,
                            "#fdca26"
                          ],
                          [
                            1,
                            "#f0f921"
                          ]
                        ],
                        "type": "surface"
                      }
                    ],
                    "table": [
                      {
                        "cells": {
                          "fill": {
                            "color": "#EBF0F8"
                          },
                          "line": {
                            "color": "white"
                          }
                        },
                        "header": {
                          "fill": {
                            "color": "#C8D4E3"
                          },
                          "line": {
                            "color": "white"
                          }
                        },
                        "type": "table"
                      }
                    ]
                  },
                  "layout": {
                    "annotationdefaults": {
                      "arrowcolor": "#2a3f5f",
                      "arrowhead": 0,
                      "arrowwidth": 1
                    },
                    "autotypenumbers": "strict",
                    "coloraxis": {
                      "colorbar": {
                        "outlinewidth": 0,
                        "ticks": ""
                      }
                    },
                    "colorscale": {
                      "diverging": [
                        [
                          0,
                          "#8e0152"
                        ],
                        [
                          0.1,
                          "#c51b7d"
                        ],
                        [
                          0.2,
                          "#de77ae"
                        ],
                        [
                          0.3,
                          "#f1b6da"
                        ],
                        [
                          0.4,
                          "#fde0ef"
                        ],
                        [
                          0.5,
                          "#f7f7f7"
                        ],
                        [
                          0.6,
                          "#e6f5d0"
                        ],
                        [
                          0.7,
                          "#b8e186"
                        ],
                        [
                          0.8,
                          "#7fbc41"
                        ],
                        [
                          0.9,
                          "#4d9221"
                        ],
                        [
                          1,
                          "#276419"
                        ]
                      ],
                      "sequential": [
                        [
                          0,
                          "#0d0887"
                        ],
                        [
                          0.1111111111111111,
                          "#46039f"
                        ],
                        [
                          0.2222222222222222,
                          "#7201a8"
                        ],
                        [
                          0.3333333333333333,
                          "#9c179e"
                        ],
                        [
                          0.4444444444444444,
                          "#bd3786"
                        ],
                        [
                          0.5555555555555556,
                          "#d8576b"
                        ],
                        [
                          0.6666666666666666,
                          "#ed7953"
                        ],
                        [
                          0.7777777777777778,
                          "#fb9f3a"
                        ],
                        [
                          0.8888888888888888,
                          "#fdca26"
                        ],
                        [
                          1,
                          "#f0f921"
                        ]
                      ],
                      "sequentialminus": [
                        [
                          0,
                          "#0d0887"
                        ],
                        [
                          0.1111111111111111,
                          "#46039f"
                        ],
                        [
                          0.2222222222222222,
                          "#7201a8"
                        ],
                        [
                          0.3333333333333333,
                          "#9c179e"
                        ],
                        [
                          0.4444444444444444,
                          "#bd3786"
                        ],
                        [
                          0.5555555555555556,
                          "#d8576b"
                        ],
                        [
                          0.6666666666666666,
                          "#ed7953"
                        ],
                        [
                          0.7777777777777778,
                          "#fb9f3a"
                        ],
                        [
                          0.8888888888888888,
                          "#fdca26"
                        ],
                        [
                          1,
                          "#f0f921"
                        ]
                      ]
                    },
                    "colorway": [
                      "#636efa",
                      "#EF553B",
                      "#00cc96",
                      "#ab63fa",
                      "#FFA15A",
                      "#19d3f3",
                      "#FF6692",
                      "#B6E880",
                      "#FF97FF",
                      "#FECB52"
                    ],
                    "font": {
                      "color": "#2a3f5f"
                    },
                    "geo": {
                      "bgcolor": "white",
                      "lakecolor": "white",
                      "landcolor": "#E5ECF6",
                      "showlakes": true,
                      "showland": true,
                      "subunitcolor": "white"
                    },
                    "hoverlabel": {
                      "align": "left"
                    },
                    "hovermode": "closest",
                    "mapbox": {
                      "style": "light"
                    },
                    "paper_bgcolor": "white",
                    "plot_bgcolor": "#E5ECF6",
                    "polar": {
                      "angularaxis": {
                        "gridcolor": "white",
                        "linecolor": "white",
                        "ticks": ""
                      },
                      "bgcolor": "#E5ECF6",
                      "radialaxis": {
                        "gridcolor": "white",
                        "linecolor": "white",
                        "ticks": ""
                      }
                    },
                    "scene": {
                      "xaxis": {
                        "backgroundcolor": "#E5ECF6",
                        "gridcolor": "white",
                        "gridwidth": 2,
                        "linecolor": "white",
                        "showbackground": true,
                        "ticks": "",
                        "zerolinecolor": "white"
                      },
                      "yaxis": {
                        "backgroundcolor": "#E5ECF6",
                        "gridcolor": "white",
                        "gridwidth": 2,
                        "linecolor": "white",
                        "showbackground": true,
                        "ticks": "",
                        "zerolinecolor": "white"
                      },
                      "zaxis": {
                        "backgroundcolor": "#E5ECF6",
                        "gridcolor": "white",
                        "gridwidth": 2,
                        "linecolor": "white",
                        "showbackground": true,
                        "ticks": "",
                        "zerolinecolor": "white"
                      }
                    },
                    "shapedefaults": {
                      "line": {
                        "color": "#2a3f5f"
                      }
                    },
                    "ternary": {
                      "aaxis": {
                        "gridcolor": "white",
                        "linecolor": "white",
                        "ticks": ""
                      },
                      "baxis": {
                        "gridcolor": "white",
                        "linecolor": "white",
                        "ticks": ""
                      },
                      "bgcolor": "#E5ECF6",
                      "caxis": {
                        "gridcolor": "white",
                        "linecolor": "white",
                        "ticks": ""
                      }
                    },
                    "title": {
                      "x": 0.05
                    },
                    "xaxis": {
                      "automargin": true,
                      "gridcolor": "white",
                      "linecolor": "white",
                      "ticks": "",
                      "title": {
                        "standoff": 15
                      },
                      "zerolinecolor": "white",
                      "zerolinewidth": 2
                    },
                    "yaxis": {
                      "automargin": true,
                      "gridcolor": "white",
                      "linecolor": "white",
                      "ticks": "",
                      "title": {
                        "standoff": 15
                      },
                      "zerolinecolor": "white",
                      "zerolinewidth": 2
                    }
                  }
                },
                "title": {
                  "text": "Target variable distribution"
                }
              },
              "config": {
                "showLink": false,
                "linkText": "Export to plot.ly",
                "plotlyServerURL": "https://plot.ly"
              }
            },
            "text/html": [
              "<div>                            <div id=\"869368aa-a4cc-48f6-8674-d4df460309d3\" class=\"plotly-graph-div\" style=\"height:525px; width:100%;\"></div>            <script type=\"text/javascript\">                require([\"plotly\"], function(Plotly) {                    window.PLOTLYENV=window.PLOTLYENV || {};                                    if (document.getElementById(\"869368aa-a4cc-48f6-8674-d4df460309d3\")) {                    Plotly.newPlot(                        \"869368aa-a4cc-48f6-8674-d4df460309d3\",                        [{\"text\":\"Distribution of target variable\",\"x\":[0,1],\"y\":[573518,21694],\"type\":\"bar\"}],                        {\"template\":{\"data\":{\"barpolar\":[{\"marker\":{\"line\":{\"color\":\"#E5ECF6\",\"width\":0.5},\"pattern\":{\"fillmode\":\"overlay\",\"size\":10,\"solidity\":0.2}},\"type\":\"barpolar\"}],\"bar\":[{\"error_x\":{\"color\":\"#2a3f5f\"},\"error_y\":{\"color\":\"#2a3f5f\"},\"marker\":{\"line\":{\"color\":\"#E5ECF6\",\"width\":0.5},\"pattern\":{\"fillmode\":\"overlay\",\"size\":10,\"solidity\":0.2}},\"type\":\"bar\"}],\"carpet\":[{\"aaxis\":{\"endlinecolor\":\"#2a3f5f\",\"gridcolor\":\"white\",\"linecolor\":\"white\",\"minorgridcolor\":\"white\",\"startlinecolor\":\"#2a3f5f\"},\"baxis\":{\"endlinecolor\":\"#2a3f5f\",\"gridcolor\":\"white\",\"linecolor\":\"white\",\"minorgridcolor\":\"white\",\"startlinecolor\":\"#2a3f5f\"},\"type\":\"carpet\"}],\"choropleth\":[{\"colorbar\":{\"outlinewidth\":0,\"ticks\":\"\"},\"type\":\"choropleth\"}],\"contourcarpet\":[{\"colorbar\":{\"outlinewidth\":0,\"ticks\":\"\"},\"type\":\"contourcarpet\"}],\"contour\":[{\"colorbar\":{\"outlinewidth\":0,\"ticks\":\"\"},\"colorscale\":[[0.0,\"#0d0887\"],[0.1111111111111111,\"#46039f\"],[0.2222222222222222,\"#7201a8\"],[0.3333333333333333,\"#9c179e\"],[0.4444444444444444,\"#bd3786\"],[0.5555555555555556,\"#d8576b\"],[0.6666666666666666,\"#ed7953\"],[0.7777777777777778,\"#fb9f3a\"],[0.8888888888888888,\"#fdca26\"],[1.0,\"#f0f921\"]],\"type\":\"contour\"}],\"heatmapgl\":[{\"colorbar\":{\"outlinewidth\":0,\"ticks\":\"\"},\"colorscale\":[[0.0,\"#0d0887\"],[0.1111111111111111,\"#46039f\"],[0.2222222222222222,\"#7201a8\"],[0.3333333333333333,\"#9c179e\"],[0.4444444444444444,\"#bd3786\"],[0.5555555555555556,\"#d8576b\"],[0.6666666666666666,\"#ed7953\"],[0.7777777777777778,\"#fb9f3a\"],[0.8888888888888888,\"#fdca26\"],[1.0,\"#f0f921\"]],\"type\":\"heatmapgl\"}],\"heatmap\":[{\"colorbar\":{\"outlinewidth\":0,\"ticks\":\"\"},\"colorscale\":[[0.0,\"#0d0887\"],[0.1111111111111111,\"#46039f\"],[0.2222222222222222,\"#7201a8\"],[0.3333333333333333,\"#9c179e\"],[0.4444444444444444,\"#bd3786\"],[0.5555555555555556,\"#d8576b\"],[0.6666666666666666,\"#ed7953\"],[0.7777777777777778,\"#fb9f3a\"],[0.8888888888888888,\"#fdca26\"],[1.0,\"#f0f921\"]],\"type\":\"heatmap\"}],\"histogram2dcontour\":[{\"colorbar\":{\"outlinewidth\":0,\"ticks\":\"\"},\"colorscale\":[[0.0,\"#0d0887\"],[0.1111111111111111,\"#46039f\"],[0.2222222222222222,\"#7201a8\"],[0.3333333333333333,\"#9c179e\"],[0.4444444444444444,\"#bd3786\"],[0.5555555555555556,\"#d8576b\"],[0.6666666666666666,\"#ed7953\"],[0.7777777777777778,\"#fb9f3a\"],[0.8888888888888888,\"#fdca26\"],[1.0,\"#f0f921\"]],\"type\":\"histogram2dcontour\"}],\"histogram2d\":[{\"colorbar\":{\"outlinewidth\":0,\"ticks\":\"\"},\"colorscale\":[[0.0,\"#0d0887\"],[0.1111111111111111,\"#46039f\"],[0.2222222222222222,\"#7201a8\"],[0.3333333333333333,\"#9c179e\"],[0.4444444444444444,\"#bd3786\"],[0.5555555555555556,\"#d8576b\"],[0.6666666666666666,\"#ed7953\"],[0.7777777777777778,\"#fb9f3a\"],[0.8888888888888888,\"#fdca26\"],[1.0,\"#f0f921\"]],\"type\":\"histogram2d\"}],\"histogram\":[{\"marker\":{\"pattern\":{\"fillmode\":\"overlay\",\"size\":10,\"solidity\":0.2}},\"type\":\"histogram\"}],\"mesh3d\":[{\"colorbar\":{\"outlinewidth\":0,\"ticks\":\"\"},\"type\":\"mesh3d\"}],\"parcoords\":[{\"line\":{\"colorbar\":{\"outlinewidth\":0,\"ticks\":\"\"}},\"type\":\"parcoords\"}],\"pie\":[{\"automargin\":true,\"type\":\"pie\"}],\"scatter3d\":[{\"line\":{\"colorbar\":{\"outlinewidth\":0,\"ticks\":\"\"}},\"marker\":{\"colorbar\":{\"outlinewidth\":0,\"ticks\":\"\"}},\"type\":\"scatter3d\"}],\"scattercarpet\":[{\"marker\":{\"colorbar\":{\"outlinewidth\":0,\"ticks\":\"\"}},\"type\":\"scattercarpet\"}],\"scattergeo\":[{\"marker\":{\"colorbar\":{\"outlinewidth\":0,\"ticks\":\"\"}},\"type\":\"scattergeo\"}],\"scattergl\":[{\"marker\":{\"colorbar\":{\"outlinewidth\":0,\"ticks\":\"\"}},\"type\":\"scattergl\"}],\"scattermapbox\":[{\"marker\":{\"colorbar\":{\"outlinewidth\":0,\"ticks\":\"\"}},\"type\":\"scattermapbox\"}],\"scatterpolargl\":[{\"marker\":{\"colorbar\":{\"outlinewidth\":0,\"ticks\":\"\"}},\"type\":\"scatterpolargl\"}],\"scatterpolar\":[{\"marker\":{\"colorbar\":{\"outlinewidth\":0,\"ticks\":\"\"}},\"type\":\"scatterpolar\"}],\"scatter\":[{\"marker\":{\"colorbar\":{\"outlinewidth\":0,\"ticks\":\"\"}},\"type\":\"scatter\"}],\"scatterternary\":[{\"marker\":{\"colorbar\":{\"outlinewidth\":0,\"ticks\":\"\"}},\"type\":\"scatterternary\"}],\"surface\":[{\"colorbar\":{\"outlinewidth\":0,\"ticks\":\"\"},\"colorscale\":[[0.0,\"#0d0887\"],[0.1111111111111111,\"#46039f\"],[0.2222222222222222,\"#7201a8\"],[0.3333333333333333,\"#9c179e\"],[0.4444444444444444,\"#bd3786\"],[0.5555555555555556,\"#d8576b\"],[0.6666666666666666,\"#ed7953\"],[0.7777777777777778,\"#fb9f3a\"],[0.8888888888888888,\"#fdca26\"],[1.0,\"#f0f921\"]],\"type\":\"surface\"}],\"table\":[{\"cells\":{\"fill\":{\"color\":\"#EBF0F8\"},\"line\":{\"color\":\"white\"}},\"header\":{\"fill\":{\"color\":\"#C8D4E3\"},\"line\":{\"color\":\"white\"}},\"type\":\"table\"}]},\"layout\":{\"annotationdefaults\":{\"arrowcolor\":\"#2a3f5f\",\"arrowhead\":0,\"arrowwidth\":1},\"autotypenumbers\":\"strict\",\"coloraxis\":{\"colorbar\":{\"outlinewidth\":0,\"ticks\":\"\"}},\"colorscale\":{\"diverging\":[[0,\"#8e0152\"],[0.1,\"#c51b7d\"],[0.2,\"#de77ae\"],[0.3,\"#f1b6da\"],[0.4,\"#fde0ef\"],[0.5,\"#f7f7f7\"],[0.6,\"#e6f5d0\"],[0.7,\"#b8e186\"],[0.8,\"#7fbc41\"],[0.9,\"#4d9221\"],[1,\"#276419\"]],\"sequential\":[[0.0,\"#0d0887\"],[0.1111111111111111,\"#46039f\"],[0.2222222222222222,\"#7201a8\"],[0.3333333333333333,\"#9c179e\"],[0.4444444444444444,\"#bd3786\"],[0.5555555555555556,\"#d8576b\"],[0.6666666666666666,\"#ed7953\"],[0.7777777777777778,\"#fb9f3a\"],[0.8888888888888888,\"#fdca26\"],[1.0,\"#f0f921\"]],\"sequentialminus\":[[0.0,\"#0d0887\"],[0.1111111111111111,\"#46039f\"],[0.2222222222222222,\"#7201a8\"],[0.3333333333333333,\"#9c179e\"],[0.4444444444444444,\"#bd3786\"],[0.5555555555555556,\"#d8576b\"],[0.6666666666666666,\"#ed7953\"],[0.7777777777777778,\"#fb9f3a\"],[0.8888888888888888,\"#fdca26\"],[1.0,\"#f0f921\"]]},\"colorway\":[\"#636efa\",\"#EF553B\",\"#00cc96\",\"#ab63fa\",\"#FFA15A\",\"#19d3f3\",\"#FF6692\",\"#B6E880\",\"#FF97FF\",\"#FECB52\"],\"font\":{\"color\":\"#2a3f5f\"},\"geo\":{\"bgcolor\":\"white\",\"lakecolor\":\"white\",\"landcolor\":\"#E5ECF6\",\"showlakes\":true,\"showland\":true,\"subunitcolor\":\"white\"},\"hoverlabel\":{\"align\":\"left\"},\"hovermode\":\"closest\",\"mapbox\":{\"style\":\"light\"},\"paper_bgcolor\":\"white\",\"plot_bgcolor\":\"#E5ECF6\",\"polar\":{\"angularaxis\":{\"gridcolor\":\"white\",\"linecolor\":\"white\",\"ticks\":\"\"},\"bgcolor\":\"#E5ECF6\",\"radialaxis\":{\"gridcolor\":\"white\",\"linecolor\":\"white\",\"ticks\":\"\"}},\"scene\":{\"xaxis\":{\"backgroundcolor\":\"#E5ECF6\",\"gridcolor\":\"white\",\"gridwidth\":2,\"linecolor\":\"white\",\"showbackground\":true,\"ticks\":\"\",\"zerolinecolor\":\"white\"},\"yaxis\":{\"backgroundcolor\":\"#E5ECF6\",\"gridcolor\":\"white\",\"gridwidth\":2,\"linecolor\":\"white\",\"showbackground\":true,\"ticks\":\"\",\"zerolinecolor\":\"white\"},\"zaxis\":{\"backgroundcolor\":\"#E5ECF6\",\"gridcolor\":\"white\",\"gridwidth\":2,\"linecolor\":\"white\",\"showbackground\":true,\"ticks\":\"\",\"zerolinecolor\":\"white\"}},\"shapedefaults\":{\"line\":{\"color\":\"#2a3f5f\"}},\"ternary\":{\"aaxis\":{\"gridcolor\":\"white\",\"linecolor\":\"white\",\"ticks\":\"\"},\"baxis\":{\"gridcolor\":\"white\",\"linecolor\":\"white\",\"ticks\":\"\"},\"bgcolor\":\"#E5ECF6\",\"caxis\":{\"gridcolor\":\"white\",\"linecolor\":\"white\",\"ticks\":\"\"}},\"title\":{\"x\":0.05},\"xaxis\":{\"automargin\":true,\"gridcolor\":\"white\",\"linecolor\":\"white\",\"ticks\":\"\",\"title\":{\"standoff\":15},\"zerolinecolor\":\"white\",\"zerolinewidth\":2},\"yaxis\":{\"automargin\":true,\"gridcolor\":\"white\",\"linecolor\":\"white\",\"ticks\":\"\",\"title\":{\"standoff\":15},\"zerolinecolor\":\"white\",\"zerolinewidth\":2}}},\"title\":{\"text\":\"Target variable distribution\"}},                        {\"responsive\": true}                    ).then(function(){\n",
              "                            \n",
              "var gd = document.getElementById('869368aa-a4cc-48f6-8674-d4df460309d3');\n",
              "var x = new MutationObserver(function (mutations, observer) {{\n",
              "        var display = window.getComputedStyle(gd).display;\n",
              "        if (!display || display === 'none') {{\n",
              "            console.log([gd, 'removed!']);\n",
              "            Plotly.purge(gd);\n",
              "            observer.disconnect();\n",
              "        }}\n",
              "}});\n",
              "\n",
              "// Listen for the removal of the full notebook cells\n",
              "var notebookContainer = gd.closest('#notebook-container');\n",
              "if (notebookContainer) {{\n",
              "    x.observe(notebookContainer, {childList: true});\n",
              "}}\n",
              "\n",
              "// Listen for the clearing of the current output cell\n",
              "var outputEl = gd.closest('.output');\n",
              "if (outputEl) {{\n",
              "    x.observe(outputEl, {childList: true});\n",
              "}}\n",
              "\n",
              "                        })                };                });            </script>        </div>"
            ]
          },
          "metadata": {}
        }
      ]
    },
    {
      "cell_type": "markdown",
      "source": [
        "![image.png](data:image/png;base64,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)"
      ],
      "metadata": {
        "id": "EQqu4zVMA7lb"
      }
    },
    {
      "cell_type": "markdown",
      "source": [
        " 타겟 변수를 보니 너무 밸런스가 맞지 않음으 확인 했습니다. \n",
        "\n",
        " Datatype체크 후에 collections module를 다시 점검해야할 것 같습니다."
      ],
      "metadata": {
        "id": "p-LA97IMBBjQ"
      }
    },
    {
      "cell_type": "code",
      "source": [
        "Counter(train.dtypes.values)"
      ],
      "metadata": {
        "colab": {
          "base_uri": "https://localhost:8080/"
        },
        "id": "GM77HFJ1AqF6",
        "outputId": "f4b9adf8-caa1-4822-859a-e9676ed4eed5"
      },
      "execution_count": 30,
      "outputs": [
        {
          "output_type": "execute_result",
          "data": {
            "text/plain": [
              "Counter({dtype('int64'): 49, dtype('float64'): 10})"
            ]
          },
          "metadata": {},
          "execution_count": 30
        }
      ]
    },
    {
      "cell_type": "code",
      "source": [
        "train_float = train.select_dtypes(include=[\"float64\"])\n",
        "train_int = train.select_dtypes(include = ['int64'])"
      ],
      "metadata": {
        "id": "6EDs7lauBWzI"
      },
      "execution_count": 31,
      "outputs": []
    },
    {
      "cell_type": "code",
      "source": [
        "#선형적으로 correlation plots 그리기 \n",
        "#seaborn일는 통계적 시각화 패키지를 활용하여 히트맵 그리기\n",
        "#person corrleation 계산\n",
        "\n",
        "#Correlation of float features\n",
        "\n",
        "colormap = plt.cm.magma\n",
        "plt.figure(figsize=(16,12))\n",
        "plt.title('Person correlation of continous features', y = 1.05, size=15)\n",
        "sns.heatmap(train_float.corr(), linewidths=0.1, vmax=1.0, square=True,\n",
        "            cmap = colormap, linecolor='white', annot=True)"
      ],
      "metadata": {
        "colab": {
          "base_uri": "https://localhost:8080/",
          "height": 770
        },
        "id": "OyOs6IrABgSl",
        "outputId": "5205fd15-ee24-4563-b4e4-18eec4143fe6"
      },
      "execution_count": 32,
      "outputs": [
        {
          "output_type": "execute_result",
          "data": {
            "text/plain": [
              "<matplotlib.axes._subplots.AxesSubplot at 0x7f8e36b1f210>"
            ]
          },
          "metadata": {},
          "execution_count": 32
        },
        {
          "output_type": "display_data",
          "data": {
            "text/plain": [
              "<Figure size 1152x864 with 2 Axes>"
            ],
            "image/png": "[encoded data removed]"
          },
          "metadata": {
            "needs_background": "light"
          }
        }
      ]
    },
    {
      "cell_type": "markdown",
      "source": [
        "##### 정리\n",
        "\n",
        "*Positive linear correlation\n",
        "\n",
        "(ps_reg_01,ps_reg_03)\n",
        "\n",
        "(ps_reg_02,ps_reg_03)\n",
        "\n",
        "(ps_car_12, ps_car_13)\n",
        "\n",
        "(ps_car_13, ps_car_15)"
      ],
      "metadata": {
        "id": "K8xyTxi6KuO_"
      }
    },
    {
      "cell_type": "code",
      "source": [
        "#train_int = train_int.drop([\"id\", \"target\"], axis=1)\n",
        "# colormap = plt.cm.bone\n",
        "# plt.figure(figsize=(21,16))\n",
        "# plt.title('Pearson correlation of categorical features', y=1.05, size=15)\n",
        "# sns.heatmap(train_cat.corr(),linewidths=0.1,vmax=1.0, square=True, cmap=colormap, linecolor='white', annot=False)\n",
        "data = [\n",
        "    go.Heatmap(\n",
        "        z= train_int.corr().values,\n",
        "        x=train_int.columns.values,\n",
        "        y=train_int.columns.values,\n",
        "        colorscale='Viridis',\n",
        "        reversescale = False,)\n",
        "       # text = True ,)\n",
        "       # opacity = 1.0 )\n",
        "]\n",
        "\n",
        "layout = go.Layout(\n",
        "    title='Pearson Correlation of Integer-type features',\n",
        "    xaxis = dict(ticks='', nticks=36),\n",
        "    yaxis = dict(ticks='' ),\n",
        "    width = 900, height = 700)\n",
        "\n",
        "fig = go.Figure(data=data, layout=layout)\n",
        "py.iplot(fig, filename='labelled-heatmap')"
      ],
      "metadata": {
        "colab": {
          "base_uri": "https://localhost:8080/",
          "height": 717
        },
        "id": "bWXQ51Z-CTyn",
        "outputId": "5083e5ff-4989-48e4-b854-cf87a25fe4f9"
      },
      "execution_count": 37,
      "outputs": [
        {
          "output_type": "display_data",
          "data": {
            "application/vnd.plotly.v1+json": {
              "data": [
                {
                  "colorscale": [
                    [
                      0,
                      "#440154"
                    ],
                    [
                      0.1111111111111111,
                      "#482878"
                    ],
                    [
                      0.2222222222222222,
                      "#3e4989"
                    ],
                    [
                      0.3333333333333333,
                      "#31688e"
                    ],
                    [
                      0.4444444444444444,
                      "#26828e"
                    ],
                    [
                      0.5555555555555556,
                      "#1f9e89"
                    ],
                    [
                      0.6666666666666666,
                      "#35b779"
                    ],
                    [
                      0.7777777777777778,
                      "#6ece58"
                    ],
                    [
                      0.8888888888888888,
                      "#b5de2b"
                    ],
                    [
                      1,
                      "#fde725"
                    ]
                  ],
                  "reversescale": false,
                  "x": [
                    "id",
                    "target",
                    "ps_ind_01",
                    "ps_ind_02_cat",
                    "ps_ind_03",
                    "ps_ind_04_cat",
                    "ps_ind_05_cat",
                    "ps_ind_06_bin",
                    "ps_ind_07_bin",
                    "ps_ind_08_bin",
                    "ps_ind_09_bin",
                    "ps_ind_10_bin",
                    "ps_ind_11_bin",
                    "ps_ind_12_bin",
                    "ps_ind_13_bin",
                    "ps_ind_14",
                    "ps_ind_15",
                    "ps_ind_16_bin",
                    "ps_ind_17_bin",
                    "ps_ind_18_bin",
                    "ps_car_01_cat",
                    "ps_car_02_cat",
                    "ps_car_03_cat",
                    "ps_car_04_cat",
                    "ps_car_05_cat",
                    "ps_car_06_cat",
                    "ps_car_07_cat",
                    "ps_car_08_cat",
                    "ps_car_09_cat",
                    "ps_car_10_cat",
                    "ps_car_11_cat",
                    "ps_car_11",
                    "ps_calc_04",
                    "ps_calc_05",
                    "ps_calc_06",
                    "ps_calc_07",
                    "ps_calc_08",
                    "ps_calc_09",
                    "ps_calc_10",
                    "ps_calc_11",
                    "ps_calc_12",
                    "ps_calc_13",
                    "ps_calc_14",
                    "ps_calc_15_bin",
                    "ps_calc_16_bin",
                    "ps_calc_17_bin",
                    "ps_calc_18_bin",
                    "ps_calc_19_bin",
                    "ps_calc_20_bin"
                  ],
                  "y": [
                    "id",
                    "target",
                    "ps_ind_01",
                    "ps_ind_02_cat",
                    "ps_ind_03",
                    "ps_ind_04_cat",
                    "ps_ind_05_cat",
                    "ps_ind_06_bin",
                    "ps_ind_07_bin",
                    "ps_ind_08_bin",
                    "ps_ind_09_bin",
                    "ps_ind_10_bin",
                    "ps_ind_11_bin",
                    "ps_ind_12_bin",
                    "ps_ind_13_bin",
                    "ps_ind_14",
                    "ps_ind_15",
                    "ps_ind_16_bin",
                    "ps_ind_17_bin",
                    "ps_ind_18_bin",
                    "ps_car_01_cat",
                    "ps_car_02_cat",
                    "ps_car_03_cat",
                    "ps_car_04_cat",
                    "ps_car_05_cat",
                    "ps_car_06_cat",
                    "ps_car_07_cat",
                    "ps_car_08_cat",
                    "ps_car_09_cat",
                    "ps_car_10_cat",
                    "ps_car_11_cat",
                    "ps_car_11",
                    "ps_calc_04",
                    "ps_calc_05",
                    "ps_calc_06",
                    "ps_calc_07",
                    "ps_calc_08",
                    "ps_calc_09",
                    "ps_calc_10",
                    "ps_calc_11",
                    "ps_calc_12",
                    "ps_calc_13",
                    "ps_calc_14",
                    "ps_calc_15_bin",
                    "ps_calc_16_bin",
                    "ps_calc_17_bin",
                    "ps_calc_18_bin",
                    "ps_calc_19_bin",
                    "ps_calc_20_bin"
                  ],
                  "z": [
                    [
                      1,
                      -0.0001884755338288617,
                      0.0008258854725725193,
                      0.0016461276514639531,
                      -0.0013074125556911606,
                      0.00016792048870333093,
                      0.000021710319687882825,
                      -0.00009329673377344849,
                      0.0024732074670059754,
                      -0.00047893199093797294,
                      -0.002207988997674901,
                      -0.0012612850576084315,
                      -0.0012098044261431328,
                      -0.00017701120228207589,
                      -0.0017178219451470902,
                      -0.0011293527970858794,
                      -0.001934992325309598,
                      -0.0005004384418482244,
                      0.0013438936799832733,
                      0.0008157280242293081,
                      -0.0010523840432399496,
                      -0.0004033449463715611,
                      0.0003544609372827726,
                      0.0023098896739933137,
                      -0.0008497364319568806,
                      -0.0010096893760928646,
                      -0.0029555818094072015,
                      0.0007475961383355612,
                      0.0004940853380072005,
                      -0.0009282837448050599,
                      0.0020474413080606444,
                      0.0026413932462155797,
                      0.0036383179612103017,
                      -0.0005915908500661377,
                      0.0009574769937878764,
                      0.0007882447910808956,
                      0.0008356128476278207,
                      0.0005176341988577643,
                      0.0009805335540469448,
                      -0.0012488250195915361,
                      -0.0010934546530963374,
                      -0.00015701023640565565,
                      0.001609423824807779,
                      -0.0012272973917304445,
                      -0.0014120059005200628,
                      -0.001266582915695949,
                      -0.001387012489514096,
                      0.00019422494950414269,
                      -0.0012665168671921183
                    ],
                    [
                      -0.0001884755338288617,
                      1,
                      0.018570258657506535,
                      0.00453383136849816,
                      0.008359590302657097,
                      0.009360445255589966,
                      0.029164946850886355,
                      -0.03401686970378876,
                      0.03421807451412262,
                      0.01314697843872615,
                      -0.00823681598558299,
                      0.0018147796965898109,
                      0.0020281711723569625,
                      0.007810308443393542,
                      0.00246029083193403,
                      0.007442830964742972,
                      -0.021506221687934316,
                      -0.027778075788542734,
                      0.037052606335855005,
                      0.004555455715152848,
                      0.016255693742637686,
                      -0.03153359612457287,
                      0.032400970694275104,
                      0.032899874940120546,
                      0.020754434132826776,
                      0.011536659955726385,
                      -0.03639522258780317,
                      -0.020341933485980065,
                      0.005322494909291872,
                      0.0010382993212007298,
                      0.006128798326757138,
                      -0.0012133568962176696,
                      0.000032720455100222405,
                      0.0007708801365326378,
                      0.00008182225978075785,
                      -0.00010347690485278524,
                      -0.0010058548384191393,
                      0.0007189675843641542,
                      0.0010608340444789083,
                      0.00037143739489093637,
                      -0.0011325853981362505,
                      -0.0004464645318087174,
                      0.0013622753431191557,
                      -0.0004904242506719329,
                      0.0006238280115020942,
                      -0.00017012817365768916,
                      0.0005524351996118682,
                      -0.0017438319546571681,
                      -0.0010722284275397982
                    ],
                    [
                      0.0008258854725725193,
                      0.018570258657506535,
                      1,
                      -0.0017931329140775944,
                      0.22340759382986847,
                      0.06664546508353122,
                      0.014822561201261034,
                      -0.27745768415808075,
                      0.00569969365795639,
                      0.18858311700154065,
                      0.16279998618735886,
                      0.0018472289098374266,
                      -0.01672658784345133,
                      -0.023405980337517524,
                      -0.008775500240628932,
                      -0.024971197063820172,
                      0.12213672531018317,
                      0.03689566374827914,
                      0.1012570941332376,
                      -0.11222626697683716,
                      -0.05612096023073561,
                      -0.1169866467920175,
                      0.04375596050029653,
                      0.0790415505477597,
                      0.21300928032912675,
                      0.07019202187337271,
                      -0.0006393452905868237,
                      0.13811162890080816,
                      -0.1025823298042105,
                      0.010793696829651062,
                      0.008187861301734246,
                      0.00825152755479824,
                      -0.0009430787753138474,
                      -0.0011711899555747148,
                      0.0001468321352008793,
                      -0.0006583998180255231,
                      0.002992806788917109,
                      -0.00008533923304090555,
                      -0.0013449818796920148,
                      -0.0012629092646128783,
                      0.0015206567146658348,
                      0.00019895341092257275,
                      -0.0008910685014910404,
                      -0.000396790212426193,
                      -0.000011545248111385099,
                      -0.0008675973201928163,
                      -0.0015035875469012964,
                      -0.00016221628124592368,
                      -0.0014640083176233343
                    ],
                    [
                      0.0016461276514639531,
                      0.00453383136849816,
                      -0.0017931329140775944,
                      1,
                      -0.06118914649577105,
                      0.14710969879178076,
                      -0.014859825528708296,
                      -0.12565283345802725,
                      0.016398444130573675,
                      0.030944960292278265,
                      0.1100758227176296,
                      -0.0007443279033836952,
                      0.0007716519259243583,
                      -0.004615510735839973,
                      -0.0011867308079089051,
                      -0.0036493908922690084,
                      -0.0038542040298691796,
                      0.012682148590420253,
                      -0.018727145555724953,
                      -0.0003739401590444408,
                      0.00214850245374989,
                      0.04523308396698348,
                      -0.0025317202816092376,
                      -0.07218977632989523,
                      -0.008406520927741008,
                      -0.01730091230637514,
                      -0.011780550385044154,
                      0.0015257604786327662,
                      0.009434534021788725,
                      0.011401456422615553,
                      0.014955195806606505,
                      0.019948833190253253,
                      -0.0021110487327914455,
                      -0.0015478301217311035,
                      0.00008548689230280353,
                      -0.00017173251468899272,
                      -0.0027117639544354424,
                      0.00035567580972401837,
                      -0.000025425203495046437,
                      0.00003793867444663322,
                      -0.0008836458794260957,
                      -0.0008928474834448281,
                      -0.0005185257387862071,
                      -0.0001091639435274442,
                      0.0009195635201452163,
                      0.0005472321892405295,
                      0.0008240709263778052,
                      0.0003668294896141741,
                      -0.0020700765230598026
                    ],
                    [
                      -0.0013074125556911606,
                      0.008359590302657097,
                      0.22340759382986847,
                      -0.06118914649577105,
                      1,
                      -0.09585556869304393,
                      0.05325005441445909,
                      -0.04515789199467836,
                      -0.060367903957314756,
                      0.014036610712041087,
                      0.11130640018521898,
                      0.006865123190642358,
                      -0.003986479232333661,
                      0.001697689177732781,
                      0.003928626513903295,
                      0.0019895460604955257,
                      0.17044861491667543,
                      -0.018251258015265386,
                      0.027691181225138046,
                      0.0013157749639168585,
                      -0.028519891228702923,
                      -0.04490674148712065,
                      0.09565776668522333,
                      0.07298961054229085,
                      0.14359654865840238,
                      0.008021293226146316,
                      0.056336933251669705,
                      0.003607155114376228,
                      -0.013205469282503664,
                      -0.008560954021639582,
                      -0.025965901728807413,
                      -0.059357784611531364,
                      0.0007029223319983066,
                      -0.001244839816125983,
                      0.0023614979575574675,
                      0.0015325306198597161,
                      0.001266664959910297,
                      -0.0015441777405826916,
                      0.000230287338373583,
                      -0.0027155418811399185,
                      -0.002352333366999052,
                      0.00013288787890949408,
                      0.00020474960687078366,
                      0.0001344327694191131,
                      -0.0007442327813944093,
                      0.000157731563274207,
                      -0.0002179273213074755,
                      -0.0008816797556198087,
                      -0.003709408579276534
                    ],
                    [
                      0.00016792048870333093,
                      0.009360445255589966,
                      0.06664546508353122,
                      0.14710969879178076,
                      -0.09585556869304393,
                      1,
                      0.013052691401692348,
                      -0.2977366046477001,
                      0.3049493783334564,
                      0.04497847332634309,
                      -0.01144165781525834,
                      0.0007887076973389001,
                      0.0010183114528574887,
                      -0.0012169376250814334,
                      -0.0008934939930098885,
                      -0.0006905936003553212,
                      0.07707144391312327,
                      0.01749705676812147,
                      0.007830396023881593,
                      -0.025797485873876425,
                      0.02937937195109524,
                      0.003162109877964889,
                      0.022744376399026083,
                      -0.04536129801832949,
                      0.06339932427116321,
                      0.025323615320999925,
                      0.06465523285480476,
                      -0.00814754846801753,
                      -0.04198301253597798,
                      0.02301043283394903,
                      -0.0006146254081094967,
                      0.07348633332430111,
                      0.0008255181087075699,
                      0.0010277988730797306,
                      0.0026258399586142943,
                      -0.00015073832344163923,
                      -0.0027755450296133074,
                      0.00048656988775536863,
                      0.00012727421795224745,
                      -0.0020008312385538024,
                      -0.0008139493139821727,
                      0.0002834052581409762,
                      0.0015645496382111165,
                      0.0027346762054245234,
                      0.002295346203964965,
                      0.0007734421027413762,
                      0.0009158792230724631,
                      -0.0019656334704160304,
                      0.001243938381928246
                    ],
                    [
                      0.000021710319687882825,
                      0.029164946850886355,
                      0.014822561201261034,
                      -0.014859825528708296,
                      0.05325005441445909,
                      0.013052691401692348,
                      1,
                      0.009618800838443482,
                      -0.010382188667300002,
                      0.004880747623598223,
                      -0.005068731202141701,
                      0.001742475414532642,
                      -0.0006363666372238363,
                      -0.001831240440546116,
                      0.0013128732605405674,
                      -0.0010128313488101447,
                      0.012326335746025272,
                      0.0043148996980541775,
                      0.007162777067762242,
                      -0.008252314414916537,
                      -0.036212853041022904,
                      0.012878919847941928,
                      -0.011398778782571815,
                      -0.01087319521611484,
                      -0.006561608550007696,
                      -0.0072299632053995895,
                      0.05377652521320651,
                      -0.002083953743338254,
                      -0.008333774284921073,
                      0.002168074446652444,
                      -0.002249565476062125,
                      0.00107554475707992,
                      0.0012916973382756894,
                      -0.0006420444921112528,
                      -0.00024941758434445855,
                      -0.0019023900274815755,
                      -0.0001449036161313121,
                      -0.0008217959389452798,
                      -0.0010698729509168899,
                      -0.0015247002980472058,
                      0.0009753755080751557,
                      0.001549156967187013,
                      0.002170835213002712,
                      0.0015480474512491566,
                      -0.0003682362393573745,
                      0.00015309117899007583,
                      0.00003168678414855202,
                      0.0002764781762418728,
                      0.00027869054705161115
                    ],
                    [
                      -0.00009329673377344849,
                      -0.03401686970378876,
                      -0.27745768415808075,
                      -0.12565283345802725,
                      -0.04515789199467836,
                      -0.2977366046477001,
                      0.009618800838443482,
                      1,
                      -0.47400904185590065,
                      -0.35683833274578663,
                      -0.3843451401407788,
                      -0.008977535013244928,
                      -0.005229382248971487,
                      -0.017498505238443797,
                      -0.008390064166738214,
                      -0.018333861999931117,
                      0.016406205154351216,
                      0.02835208353213777,
                      -0.03712107367499544,
                      -0.011750963576176823,
                      -0.07554574375145577,
                      0.13638274599348738,
                      -0.07572310218075869,
                      -0.18701667626422974,
                      -0.16489012332440905,
                      -0.059887308797517635,
                      0.03899368073100131,
                      0.03831307031695165,
                      0.09918393763824071,
                      -0.04105681120507276,
                      -0.031296227706447,
                      0.019617618116459623,
                      -0.0004089715175719974,
                      -0.0005006935696663839,
                      -0.0014131826801772216,
                      -0.0015526558607739192,
                      -0.0011636516201258254,
                      -0.001955110116004253,
                      -0.0011970978269563854,
                      0.000822002616531646,
                      0.0013465275777943119,
                      -0.0013011186998591806,
                      0.00030393290259254327,
                      0.002087860311907922,
                      -0.0003814511646830381,
                      -0.0000012555595091234793,
                      -0.0007593038072496054,
                      0.0027907331412144387,
                      0.00020310560100537925
                    ],
                    [
                      0.0024732074670059754,
                      0.03421807451412262,
                      0.00569969365795639,
                      0.016398444130573675,
                      -0.060367903957314756,
                      0.3049493783334564,
                      -0.010382188667300002,
                      -0.47400904185590065,
                      1,
                      -0.2604376422119483,
                      -0.28051342276950764,
                      0.010739652662842743,
                      0.010118980387019564,
                      0.03661915640731901,
                      0.012124758822770546,
                      0.03557264161494319,
                      -0.12072867940687827,
                      -0.07232059014992281,
                      0.02077615194714269,
                      0.07656187216203816,
                      0.06206386799788505,
                      -0.1626010123600336,
                      0.09648343943349459,
                      0.19970161209131007,
                      0.09210731694598842,
                      0.021012550690521433,
                      -0.06470797501921204,
                      -0.12382519653908655,
                      -0.0592293173221672,
                      0.03055616289712624,
                      0.047940110791918684,
                      0.06745692509835807,
                      0.0004704805518061534,
                      -0.00020263779193792028,
                      0.002257467971971457,
                      -0.0007715341800744943,
                      -0.001416721144687028,
                      0.0031034025355962443,
                      0.0027643720885982604,
                      -0.0004476413449922488,
                      -0.0010438535583305107,
                      0.0005412369024749237,
                      0.0016655249364763605,
                      0.0005749746503449937,
                      0.0012197619159721711,
                      -0.0005167363145836902,
                      0.00018148010907771236,
                      -0.0013611791678382662,
                      -0.0009608000950925157
                    ],
                    [
                      -0.00047893199093797294,
                      0.01314697843872615,
                      0.18858311700154065,
                      0.030944960292278265,
                      0.014036610712041087,
                      0.04497847332634309,
                      0.004880747623598223,
                      -0.35683833274578663,
                      -0.2604376422119483,
                      1,
                      -0.21117306476257283,
                      0.00648910678812291,
                      0.01004126116128275,
                      0.012254073500153414,
                      0.00789832266424952,
                      0.015413123032177485,
                      0.05277557417447597,
                      0.005854905555369783,
                      0.03603562289265076,
                      -0.033272544654311044,
                      0.0009741110543532989,
                      -0.02998861680480674,
                      0.038462429631775534,
                      0.08495716267080043,
                      0.06388874607199731,
                      0.0633731246240447,
                      -0.010976242373907905,
                      0.0427922674881171,
                      -0.01092006270648234,
                      0.025327537974384917,
                      0.04137147693429582,
                      -0.08219336872997224,
                      -0.000886292161431818,
                      0.0006032890364046535,
                      0.0012489817846111845,
                      0.0015137952726527234,
                      0.0008268945510473188,
                      -0.0011713719830285256,
                      -0.0010929434068361558,
                      -0.0006318117597186088,
                      -0.0012414424693482822,
                      -0.0004320285599226011,
                      -0.001959159535716181,
                      -0.0027823010069026946,
                      -0.002047724572754881,
                      -0.0005794594623613974,
                      -0.00006765604151575159,
                      -0.0009190393767006633,
                      0.0009953591808107968
                    ],
                    [
                      -0.002207988997674901,
                      -0.00823681598558299,
                      0.16279998618735886,
                      0.1100758227176296,
                      0.11130640018521898,
                      -0.01144165781525834,
                      -0.005068731202141701,
                      -0.3843451401407788,
                      -0.28051342276950764,
                      -0.21117306476257283,
                      1,
                      -0.006972868230142464,
                      -0.014372442368659335,
                      -0.03085777558224147,
                      -0.01061212790836212,
                      -0.03164026527129085,
                      0.0648696072412233,
                      0.04010922430466359,
                      -0.011023469836738858,
                      -0.039631180000228874,
                      0.024264102635430683,
                      0.03995547974899175,
                      -0.04994363372858587,
                      -0.07038654070759681,
                      0.042876133486040684,
                      -0.008708840542970362,
                      0.0342025767359246,
                      0.05031732944387525,
                      -0.04769976109596489,
                      -0.0068714152391403166,
                      -0.05398346478905472,
                      -0.022223839633944514,
                      0.0008295720883777965,
                      0.00028269745744931654,
                      -0.0019519948882590844,
                      0.001377811100217233,
                      0.0022687777239878753,
                      0.0000841415927831592,
                      -0.0005624466536854737,
                      0.00007181830788419638,
                      0.0006636678133101164,
                      0.0014390105937547816,
                      -0.0003887243838992524,
                      -0.000621106833525824,
                      0.0010588568857560125,
                      0.0011348640561092116,
                      0.0008151460825754955,
                      -0.0011026523735666283,
                      -0.00012315711435225912
                    ],
                    [
                      -0.0012612850576084315,
                      0.0018147796965898109,
                      0.0018472289098374266,
                      -0.0007443279033836952,
                      0.006865123190642358,
                      0.0007887076973389001,
                      0.001742475414532642,
                      -0.008977535013244928,
                      0.010739652662842743,
                      0.00648910678812291,
                      -0.006972868230142464,
                      1,
                      0.06483734787255138,
                      0.09799846252846069,
                      0.08141549712952234,
                      0.26621523092448607,
                      -0.022122320890722195,
                      -0.02402137565373142,
                      0.005366401619387072,
                      0.027264135678883677,
                      0.007989028500674941,
                      -0.015804418556358685,
                      0.024833271794445742,
                      0.016566215782234283,
                      0.015251836567305199,
                      0.004487183793875703,
                      -0.017804258593691946,
                      -0.00365962070244524,
                      0.00826644095651261,
                      0.0007083813828402774,
                      0.005909491658796863,
                      0.0025262371890389795,
                      0.000031000198017766065,
                      0.0013288695124036788,
                      -0.002677298661139917,
                      0.0012737060249414815,
                      0.0014216349339402805,
                      0.002842382982119299,
                      -0.00036716982018740517,
                      -0.0023492443946824377,
                      0.0013666102034255417,
                      0.001968875596117635,
                      0.00023239812553012024,
                      -0.0032329018832703716,
                      0.0010115230415514774,
                      0.00034511455870640405,
                      0.00023955239726456678,
                      0.0015546541592544052,
                      -0.003389818864850354
                    ],
                    [
                      -0.0012098044261431328,
                      0.0020281711723569625,
                      -0.01672658784345133,
                      0.0007716519259243583,
                      -0.003986479232333661,
                      0.0010183114528574887,
                      -0.0006363666372238363,
                      -0.005229382248971487,
                      0.010118980387019564,
                      0.01004126116128275,
                      -0.014372442368659335,
                      0.06483734787255138,
                      1,
                      0.25007638185970965,
                      0.1794321903326253,
                      0.5649029739333457,
                      -0.061251275473340375,
                      -0.0540074226643599,
                      0.0035177531682558942,
                      0.06901728994326506,
                      0.0042048920721662105,
                      -0.002474353574915442,
                      0.04610459759768675,
                      0.0085945059625506,
                      0.030782623751734642,
                      0.0022573006998290747,
                      -0.016299801093019185,
                      -0.0044735785340234025,
                      0.021168527983197474,
                      -0.0018207469445127144,
                      0.005671365912101772,
                      0.001154208305592368,
                      -0.0011960063936610893,
                      -0.00011120385630559379,
                      0.0009108295017515643,
                      -0.0017878545885293084,
                      0.0009946385801930036,
                      0.0006751295016578906,
                      0.0010608594409770634,
                      0.00018449154616455044,
                      -0.0006120933976261155,
                      0.00030406758932433335,
                      -0.0007858590549898202,
                      -0.0006590162500354598,
                      0.0014178496831878235,
                      0.0010641208942453434,
                      -0.0011015992238865807,
                      -0.001240728524270899,
                      0.0004094125500090158
                    ],
                    [
                      -0.00017701120228207589,
                      0.007810308443393542,
                      -0.023405980337517524,
                      -0.004615510735839973,
                      0.001697689177732781,
                      -0.0012169376250814334,
                      -0.001831240440546116,
                      -0.017498505238443797,
                      0.03661915640731901,
                      0.012254073500153414,
                      -0.03085777558224147,
                      0.09799846252846069,
                      0.25007638185970965,
                      1,
                      0.15172760153857986,
                      0.8901272526545638,
                      -0.11699521962411863,
                      -0.09944135106476579,
                      0.02518058116953121,
                      0.10928667412377306,
                      0.016351323808765986,
                      -0.01722907241506039,
                      0.12076679710050318,
                      0.027940354431978034,
                      0.07047807765090647,
                      0.004409331864014702,
                      -0.03441622646998587,
                      -0.013323354070164575,
                      0.044120564246909987,
                      -0.00508592585113693,
                      0.011473568431545473,
                      0.004440512322791722,
                      -0.0010630051163157137,
                      0.00018512789954192084,
                      0.0005169369254961482,
                      0.0017231519792362958,
                      0.0037837821118346824,
                      -0.0020161776675533686,
                      0.0019267518147431442,
                      0.00012896012169149823,
                      0.0008132382695526005,
                      0.0005585972004819212,
                      -0.0005013388256770008,
                      -0.0016324069179149605,
                      0.0017539182011456023,
                      0.0013843957989970695,
                      -0.0013589599814288781,
                      -0.001779382287807932,
                      0.0031663201946022547
                    ],
                    [
                      -0.0017178219451470902,
                      0.00246029083193403,
                      -0.008775500240628932,
                      -0.0011867308079089051,
                      0.003928626513903295,
                      -0.0008934939930098885,
                      0.0013128732605405674,
                      -0.008390064166738214,
                      0.012124758822770546,
                      0.00789832266424952,
                      -0.01061212790836212,
                      0.08141549712952234,
                      0.1794321903326253,
                      0.15172760153857986,
                      1,
                      0.4263998836255218,
                      -0.040485851127797366,
                      -0.04068044208739153,
                      0.0041361256641475955,
                      0.050823104091766845,
                      0.005814603173879321,
                      -0.008441249275001582,
                      0.0377182760422602,
                      0.014655985827389813,
                      0.02347110679423096,
                      0.0016058356563030697,
                      -0.015614273025673404,
                      -0.005009607474508767,
                      0.014756941996862139,
                      0.00025957963229845135,
                      0.004531083396472349,
                      0.0012340690299426076,
                      0.00034928436518941267,
                      -0.0004156835108901136,
                      -0.0021626888021852183,
                      0.0004136479843598627,
                      0.002790331203399629,
                      -0.002330326502165297,
                      0.0009485297239872661,
                      -0.00018583926200945724,
                      -0.0014181281398898933,
                      -0.002125385276738932,
                      0.0008745250585350082,
                      0.0004916403631589377,
                      0.0015699943019599183,
                      -0.0029176616014177973,
                      -0.00011712544370351973,
                      0.002079286759967088,
                      -0.0009808134646700517
                    ],
                    [
                      -0.0011293527970858794,
                      0.007442830964742972,
                      -0.024971197063820172,
                      -0.0036493908922690084,
                      0.0019895460604955257,
                      -0.0006905936003553212,
                      -0.0010128313488101447,
                      -0.018333861999931117,
                      0.03557264161494319,
                      0.015413123032177485,
                      -0.03164026527129085,
                      0.26621523092448607,
                      0.5649029739333457,
                      0.8901272526545638,
                      0.4263998836255218,
                      1,
                      -0.12154712140311677,
                      -0.106239689861127,
                      0.02203333701058792,
                      0.12147762405541038,
                      0.016363129867995888,
                      -0.01828775355074768,
                      0.11926866345761901,
                      0.029994631058182668,
                      0.07131983388437584,
                      0.005136795765281479,
                      -0.03780543277647762,
                      -0.013304549300039097,
                      0.04508043877617706,
                      -0.004272510572028673,
                      0.012513326139616473,
                      0.004418449708877969,
                      -0.0011022975070719497,
                      0.00020541688400003567,
                      -0.0002416453387590575,
                      0.0010228747040333251,
                      0.004077353989613895,
                      -0.0014427896242199597,
                      0.001975748285363052,
                      -0.0002432697006175229,
                      0.0002840910135919725,
                      0.00030681115008979426,
                      -0.0003871413338074719,
                      -0.001820720685571289,
                      0.002318386702039322,
                      0.0007408167748215124,
                      -0.0013771848219666489,
                      -0.0010118034751282255,
                      0.0017825538619420395
                    ],
                    [
                      -0.001934992325309598,
                      -0.021506221687934316,
                      0.12213672531018317,
                      -0.0038542040298691796,
                      0.17044861491667543,
                      0.07707144391312327,
                      0.012326335746025272,
                      0.016406205154351216,
                      -0.12072867940687827,
                      0.05277557417447597,
                      0.0648696072412233,
                      -0.022122320890722195,
                      -0.061251275473340375,
                      -0.11699521962411863,
                      -0.040485851127797366,
                      -0.12154712140311677,
                      1,
                      0.3124495031022657,
                      -0.02188413031183136,
                      -0.4516894099742072,
                      0.02569045128606022,
                      0.00899010637483375,
                      0.06539839780086634,
                      -0.047147427101064614,
                      0.05151699052704684,
                      0.0008576242267399711,
                      0.05970332843157361,
                      0.016783815050164748,
                      0.03787983280939092,
                      0.016128999534946106,
                      -0.014094740994885382,
                      0.02299969506196376,
                      0.001583612723436242,
                      0.0008742837980309493,
                      0.00003349415158363572,
                      0.0017213970445803973,
                      -0.0013086573803491668,
                      -0.0009849673818418103,
                      -0.0012787059555369506,
                      -0.0019515651504138044,
                      -0.0012626527588530665,
                      -0.000921686741159908,
                      0.0013483433788114031,
                      0.0007020649300867855,
                      -0.001915365956106812,
                      0.0011762611405260832,
                      -0.0013255253293403624,
                      0.0017437917830255083,
                      -0.0020395145220801205
                    ],
                    [
                      -0.0005004384418482244,
                      -0.027778075788542734,
                      0.03689566374827914,
                      0.012682148590420253,
                      -0.018251258015265386,
                      0.01749705676812147,
                      0.0043148996980541775,
                      0.02835208353213777,
                      -0.07232059014992281,
                      0.005854905555369783,
                      0.04010922430466359,
                      -0.02402137565373142,
                      -0.0540074226643599,
                      -0.09944135106476579,
                      -0.04068044208739153,
                      -0.106239689861127,
                      0.3124495031022657,
                      1,
                      -0.5180763597376604,
                      -0.5942654327422761,
                      0.00044932875105786117,
                      0.030264159750243883,
                      -0.04949269493946449,
                      -0.04443245801607432,
                      -0.058248842391420516,
                      -0.016400415460856074,
                      0.04383000428941703,
                      0.03026590825430404,
                      0.015873261962410123,
                      0.006596901955516886,
                      -0.009989048367143528,
                      0.021089277139603096,
                      -0.00015427566393725136,
                      0.0013615649246193945,
                      -0.0003549050683784064,
                      0.0010701810792920843,
                      -0.0019205651214934604,
                      -0.0004273838950783198,
                      -0.0009309516956551648,
                      -0.0005474330902515618,
                      0.00047885679021953564,
                      -0.0012057081347718506,
                      -0.00016701443375198525,
                      0.000928933859436279,
                      -0.0004946092252123201,
                      -0.000432323026064183,
                      0.0000926933091093104,
                      0.0003020462737220039,
                      0.001519207560397156
                    ],
                    [
                      0.0013438936799832733,
                      0.037052606335855005,
                      0.1012570941332376,
                      -0.018727145555724953,
                      0.027691181225138046,
                      0.007830396023881593,
                      0.007162777067762242,
                      -0.03712107367499544,
                      0.02077615194714269,
                      0.03603562289265076,
                      -0.011023469836738858,
                      0.005366401619387072,
                      0.0035177531682558942,
                      0.02518058116953121,
                      0.0041361256641475955,
                      0.02203333701058792,
                      -0.02188413031183136,
                      -0.5180763597376604,
                      1,
                      -0.15802098729292113,
                      0.058875653615432226,
                      -0.05625958463625057,
                      0.13732818747640027,
                      0.044550019804100456,
                      0.06773302596234079,
                      0.0340671326887404,
                      -0.04366212443161366,
                      -0.00820021619366301,
                      0.07609946186510466,
                      -0.008669005786247434,
                      0.007732623493302297,
                      0.008827122880141482,
                      0.0006707357574948884,
                      -0.002826707031906842,
                      -0.00033818799337827937,
                      -0.0007815553133850878,
                      -0.0006022847454017239,
                      0.000591321147031268,
                      -0.0006993075561928123,
                      -0.0010905132359761071,
                      -0.0008502466566824664,
                      0.00042878043890859477,
                      0.0007460892730811583,
                      -0.0015898973720920525,
                      -0.00021109233161472496,
                      -0.0002421374844425615,
                      0.000046684570862882744,
                      -0.0007755225209412626,
                      -0.001922700612824353
                    ],
                    [
                      0.0008157280242293081,
                      0.004555455715152848,
                      -0.11222626697683716,
                      -0.0003739401590444408,
                      0.0013157749639168585,
                      -0.025797485873876425,
                      -0.008252314414916537,
                      -0.011750963576176823,
                      0.07656187216203816,
                      -0.033272544654311044,
                      -0.039631180000228874,
                      0.027264135678883677,
                      0.06901728994326506,
                      0.10928667412377306,
                      0.050823104091766845,
                      0.12147762405541038,
                      -0.4516894099742072,
                      -0.5942654327422761,
                      -0.15802098729292113,
                      1,
                      -0.04596757669594359,
                      0.006388259993779028,
                      -0.041079456852142725,
                      0.018748038227366905,
                      -0.003212068860615737,
                      -0.007200395427363072,
                      -0.017357635513052336,
                      -0.027826551074893967,
                      -0.044733473917460624,
                      -0.003241940278548797,
                      0.004609844546416747,
                      -0.02613502452139039,
                      -0.0009732616497496337,
                      -0.0001956279446045222,
                      0.001124606656781667,
                      -0.000025850049554222618,
                      0.0018345907179115205,
                      0.00011597648018878906,
                      0.0013640036829747895,
                      0.002110541450555667,
                      0.0015743622718326646,
                      0.0019922297476804548,
                      -0.0012387502670017302,
                      -0.0003786053015244637,
                      -0.00008221784186824308,
                      0.00006434466221087021,
                      0.00007039774777351157,
                      -0.0007859433395340347,
                      0.0007240485980728472
                    ],
                    [
                      -0.0010523840432399496,
                      0.016255693742637686,
                      -0.05612096023073561,
                      0.00214850245374989,
                      -0.028519891228702923,
                      0.02937937195109524,
                      -0.036212853041022904,
                      -0.07554574375145577,
                      0.06206386799788505,
                      0.0009741110543532989,
                      0.024264102635430683,
                      0.007989028500674941,
                      0.0042048920721662105,
                      0.016351323808765986,
                      0.005814603173879321,
                      0.016363129867995888,
                      0.02569045128606022,
                      0.00044932875105786117,
                      0.058875653615432226,
                      -0.04596757669594359,
                      1,
                      -0.1527326305202657,
                      0.13805458898633027,
                      0.067732393302395,
                      -0.14725757311134435,
                      0.05332586747347315,
                      0.0010712044261129016,
                      -0.05954768418603375,
                      0.27290021926541275,
                      0.006355097797608369,
                      0.010497666747185217,
                      0.11092050571881658,
                      0.0003954303917060711,
                      -0.0012297197856098755,
                      -0.0012509298116333439,
                      -0.0006230035403697138,
                      -0.001207073641473125,
                      0.00004220234506755867,
                      0.0014431604443318454,
                      -0.0004247629899175609,
                      -0.0007933308500309729,
                      0.0008740417878425334,
                      0.0000695669943874719,
                      0.0009652394539101881,
                      -0.0010678795853459174,
                      0.0004024551616458192,
                      0.0003641136670927075,
                      0.0005198560815098639,
                      -0.0005613985985714569
                    ],
                    [
                      -0.0004033449463715611,
                      -0.03153359612457287,
                      -0.1169866467920175,
                      0.04523308396698348,
                      -0.04490674148712065,
                      0.003162109877964889,
                      0.012878919847941928,
                      0.13638274599348738,
                      -0.1626010123600336,
                      -0.02998861680480674,
                      0.03995547974899175,
                      -0.015804418556358685,
                      -0.002474353574915442,
                      -0.01722907241506039,
                      -0.008441249275001582,
                      -0.01828775355074768,
                      0.00899010637483375,
                      0.030264159750243883,
                      -0.05625958463625057,
                      0.006388259993779028,
                      -0.1527326305202657,
                      1,
                      -0.11109462485657533,
                      -0.27367236888619156,
                      -0.09208322478163421,
                      -0.25308889280600144,
                      0.10363238078759578,
                      0.03604366860466036,
                      -0.012977575535680831,
                      -0.019088186796559166,
                      -0.0009649638104166794,
                      -0.09014365639883624,
                      0.00028670069159318856,
                      0.00043965375966645417,
                      -0.0018349663534806147,
                      -0.000042806839795007884,
                      0.000685063371450163,
                      -0.0005509059261274756,
                      -0.0005988402310767637,
                      -0.0008341968657931889,
                      0.0020520906048643517,
                      0.0012427813649456252,
                      -0.00009926418773619016,
                      -0.000014807280235949815,
                      -0.0029475272140969564,
                      -0.001077583489975626,
                      -0.0011509779965209698,
                      -0.0014296408355096264,
                      0.0009304624944871983
                    ],
                    [
                      0.0003544609372827726,
                      0.032400970694275104,
                      0.04375596050029653,
                      -0.0025317202816092376,
                      0.09565776668522333,
                      0.022744376399026083,
                      -0.011398778782571815,
                      -0.07572310218075869,
                      0.09648343943349459,
                      0.038462429631775534,
                      -0.04994363372858587,
                      0.024833271794445742,
                      0.04610459759768675,
                      0.12076679710050318,
                      0.0377182760422602,
                      0.11926866345761901,
                      0.06539839780086634,
                      -0.04949269493946449,
                      0.13732818747640027,
                      -0.041079456852142725,
                      0.13805458898633027,
                      -0.11109462485657533,
                      1,
                      0.09719274174853969,
                      0.48978942740784726,
                      0.03305829220475693,
                      -0.1483385551523895,
                      -0.24866229809247814,
                      0.2724071564135307,
                      0.014220105244585708,
                      0.015778200128538252,
                      0.08254922005109025,
                      -0.0004509803278143931,
                      -0.0003693202386897241,
                      0.00043014794862627587,
                      0.003070667843488631,
                      0.0021179978533095375,
                      0.0003282253752557591,
                      0.0012104089806038827,
                      -0.0026947000599002163,
                      -0.002595880715245505,
                      0.0008592066483024779,
                      0.0012823032623227356,
                      -0.0004809622024844747,
                      -0.000900009112242032,
                      -0.0021900877080210674,
                      -0.0013022430575787994,
                      -0.00041450859584372094,
                      0.0014224541267771362
                    ],
                    [
                      0.0023098896739933137,
                      0.032899874940120546,
                      0.0790415505477597,
                      -0.07218977632989523,
                      0.07298961054229085,
                      -0.04536129801832949,
                      -0.01087319521611484,
                      -0.18701667626422974,
                      0.19970161209131007,
                      0.08495716267080043,
                      -0.07038654070759681,
                      0.016566215782234283,
                      0.0085945059625506,
                      0.027940354431978034,
                      0.014655985827389813,
                      0.029994631058182668,
                      -0.047147427101064614,
                      -0.04443245801607432,
                      0.044550019804100456,
                      0.018748038227366905,
                      0.067732393302395,
                      -0.27367236888619156,
                      0.09719274174853969,
                      1,
                      0.14100313376171197,
                      0.19401461615439022,
                      -0.18337425915248687,
                      -0.051065725258350535,
                      -0.039405291747578,
                      0.000720610959039244,
                      0.0704461484683812,
                      -0.0573260789818462,
                      0.0009314839836572797,
                      0.0015387904761009362,
                      0.000871700118205042,
                      0.0002434918758918964,
                      0.001215931309403626,
                      -0.0003188249939387811,
                      0.0014737778917998585,
                      0.001198066784985588,
                      0.0017213100009014935,
                      0.00042311633950088267,
                      -0.0023388274799040387,
                      0.0013882598831327169,
                      0.000579727172497131,
                      0.0006342039000327394,
                      0.00012764466563053707,
                      -0.0003200957840412163,
                      -0.0005301916337567397
                    ],
                    [
                      -0.0008497364319568806,
                      0.020754434132826776,
                      0.21300928032912675,
                      -0.008406520927741008,
                      0.14359654865840238,
                      0.06339932427116321,
                      -0.006561608550007696,
                      -0.16489012332440905,
                      0.09210731694598842,
                      0.06388874607199731,
                      0.042876133486040684,
                      0.015251836567305199,
                      0.030782623751734642,
                      0.07047807765090647,
                      0.02347110679423096,
                      0.07131983388437584,
                      0.05151699052704684,
                      -0.058248842391420516,
                      0.06773302596234079,
                      -0.003212068860615737,
                      -0.14725757311134435,
                      -0.09208322478163421,
                      0.48978942740784726,
                      0.14100313376171197,
                      1,
                      0.0610682766238693,
                      -0.08375675814605713,
                      -0.039809019414298305,
                      -0.3277505348268821,
                      0.02348969807689091,
                      0.038105414387586516,
                      -0.07678547179357709,
                      -0.0016589918561348144,
                      0.00045146382393345454,
                      0.0004128396727017668,
                      0.0004412278133604194,
                      0.0016640401043848303,
                      0.00004603530801216634,
                      -0.0016082481209460618,
                      -0.0017017001612186584,
                      -0.00035882930966854473,
                      0.0013216260013875014,
                      0.001863807293097441,
                      -0.0014997038236239928,
                      0.0013959473143630471,
                      -0.0028145541534887798,
                      -0.0008849150440565294,
                      -0.0024179401571196727,
                      0.0001499412738778608
                    ],
                    [
                      -0.0010096893760928646,
                      0.011536659955726385,
                      0.07019202187337271,
                      -0.01730091230637514,
                      0.008021293226146316,
                      0.025323615320999925,
                      -0.0072299632053995895,
                      -0.059887308797517635,
                      0.021012550690521433,
                      0.0633731246240447,
                      -0.008708840542970362,
                      0.004487183793875703,
                      0.0022573006998290747,
                      0.004409331864014702,
                      0.0016058356563030697,
                      0.005136795765281479,
                      0.0008576242267399711,
                      -0.016400415460856074,
                      0.0340671326887404,
                      -0.007200395427363072,
                      0.05332586747347315,
                      -0.25308889280600144,
                      0.03305829220475693,
                      0.19401461615439022,
                      0.0610682766238693,
                      1,
                      -0.02611622835411814,
                      -0.014611818480659572,
                      0.00332556907391343,
                      -0.0032214358762773622,
                      0.02538467026236855,
                      -0.030801632989563767,
                      0.0008598200601896396,
                      0.00157461285245382,
                      0.0011103477393886192,
                      -0.00004896531776827232,
                      0.0004921695588309738,
                      0.0025789004953305486,
                      -0.0008241917715071704,
                      0.0011949560411559218,
                      0.0004671486827777795,
                      -0.0020202515720043877,
                      0.0008061524226690235,
                      0.000689803382340044,
                      0.0012045255571496128,
                      0.0001356500415863611,
                      0.000034775541413476665,
                      -0.0023403993866281878,
                      -0.0005226832895863497
                    ],
                    [
                      -0.0029555818094072015,
                      -0.03639522258780317,
                      -0.0006393452905868237,
                      -0.011780550385044154,
                      0.056336933251669705,
                      0.06465523285480476,
                      0.05377652521320651,
                      0.03899368073100131,
                      -0.06470797501921204,
                      -0.010976242373907905,
                      0.0342025767359246,
                      -0.017804258593691946,
                      -0.016299801093019185,
                      -0.03441622646998587,
                      -0.015614273025673404,
                      -0.03780543277647762,
                      0.05970332843157361,
                      0.04383000428941703,
                      -0.04366212443161366,
                      -0.017357635513052336,
                      0.0010712044261129016,
                      0.10363238078759578,
                      -0.1483385551523895,
                      -0.18337425915248687,
                      -0.08375675814605713,
                      -0.02611622835411814,
                      1,
                      0.06452922604343284,
                      -0.03960711477269268,
                      0.0044291015579415146,
                      -0.07832725913625221,
                      0.05573757109188191,
                      0.00014317246993780027,
                      -0.001766245537550099,
                      0.0013053744161650508,
                      -0.00009291203883231048,
                      0.0005499792456161905,
                      -0.0014661881547167342,
                      -0.00126972104570452,
                      0.0005028118507514468,
                      0.0001369791532856534,
                      0.0014953290730697968,
                      0.00029514287044668617,
                      -0.0004381102787180161,
                      -0.0012544219062167932,
                      0.0005855222178469649,
                      0.00034706241877984433,
                      0.001779644692049721,
                      -0.0023689086360795504
                    ],
                    [
                      0.0007475961383355612,
                      -0.020341933485980065,
                      0.13811162890080816,
                      0.0015257604786327662,
                      0.003607155114376228,
                      -0.00814754846801753,
                      -0.002083953743338254,
                      0.03831307031695165,
                      -0.12382519653908655,
                      0.0427922674881171,
                      0.05031732944387525,
                      -0.00365962070244524,
                      -0.0044735785340234025,
                      -0.013323354070164575,
                      -0.005009607474508767,
                      -0.013304549300039097,
                      0.016783815050164748,
                      0.03026590825430404,
                      -0.00820021619366301,
                      -0.027826551074893967,
                      -0.05954768418603375,
                      0.03604366860466036,
                      -0.24866229809247814,
                      -0.051065725258350535,
                      -0.039809019414298305,
                      -0.014611818480659572,
                      0.06452922604343284,
                      1,
                      -0.01629853642416545,
                      -0.03125167998581104,
                      0.034364928649546336,
                      -0.03852390264179931,
                      -0.0013407294190590567,
                      -0.0005443907527122171,
                      -0.0014563424458635254,
                      -0.0014425071088963843,
                      0.000026762473594795134,
                      -0.0005307547879908729,
                      -0.002119260300436465,
                      0.0015842335640350936,
                      0.0006383022193048909,
                      0.0003935211621869506,
                      -0.0011690267707114414,
                      -0.0010101875324818037,
                      0.0020955546330995254,
                      0.0013782617362007408,
                      -0.0010009801233348515,
                      0.00037910847774122794,
                      0.0002479460755647001
                    ],
                    [
                      0.0004940853380072005,
                      0.005322494909291872,
                      -0.1025823298042105,
                      0.009434534021788725,
                      -0.013205469282503664,
                      -0.04198301253597798,
                      -0.008333774284921073,
                      0.09918393763824071,
                      -0.0592293173221672,
                      -0.01092006270648234,
                      -0.04769976109596489,
                      0.00826644095651261,
                      0.021168527983197474,
                      0.044120564246909987,
                      0.014756941996862139,
                      0.04508043877617706,
                      0.03787983280939092,
                      0.015873261962410123,
                      0.07609946186510466,
                      -0.044733473917460624,
                      0.27290021926541275,
                      -0.012977575535680831,
                      0.2724071564135307,
                      -0.039405291747578,
                      -0.3277505348268821,
                      0.00332556907391343,
                      -0.03960711477269268,
                      -0.01629853642416545,
                      1,
                      -0.023541068642756197,
                      -0.011188268526019807,
                      0.11896944421500298,
                      0.0010399053973847712,
                      0.0007423801429440459,
                      -0.0017702971365074723,
                      0.0020812179822101546,
                      -0.0016920322564635982,
                      -0.0012319557421361167,
                      0.0012705153842238798,
                      -0.0011916824704647467,
                      -0.0004672662506228167,
                      -0.0004903231499660531,
                      -0.0010919839975845078,
                      0.0009521778464269998,
                      -0.0010595306612710786,
                      -0.0005462931019553125,
                      0.0016412416111071387,
                      0.0012730291759389459,
                      0.000545645086234742
                    ],
                    [
                      -0.0009282837448050599,
                      0.0010382993212007298,
                      0.010793696829651062,
                      0.011401456422615553,
                      -0.008560954021639582,
                      0.02301043283394903,
                      0.002168074446652444,
                      -0.04105681120507276,
                      0.03055616289712624,
                      0.025327537974384917,
                      -0.0068714152391403166,
                      0.0007083813828402774,
                      -0.0018207469445127144,
                      -0.00508592585113693,
                      0.00025957963229845135,
                      -0.004272510572028673,
                      0.016128999534946106,
                      0.006596901955516886,
                      -0.008669005786247434,
                      -0.003241940278548797,
                      0.006355097797608369,
                      -0.019088186796559166,
                      0.014220105244585708,
                      0.000720610959039244,
                      0.02348969807689091,
                      -0.0032214358762773622,
                      0.0044291015579415146,
                      -0.03125167998581104,
                      -0.023541068642756197,
                      1,
                      0.0034926119778279107,
                      0.013412995647663671,
                      -0.0022041886801724966,
                      -0.00016428189498505667,
                      -0.0016314199086927635,
                      0.000003345833882899232,
                      0.002907789216375729,
                      -0.0014115273416177374,
                      -0.0015616995757234328,
                      0.001816659689651751,
                      0.0024027112854159804,
                      0.0029880880242695684,
                      -0.0003593050636786701,
                      -0.0008346704499100793,
                      0.001021239320656569,
                      -0.0005117859571024149,
                      0.0007416018344101211,
                      -0.0005855613681816042,
                      0.00023838942051957303
                    ],
                    [
                      0.0020474413080606444,
                      0.006128798326757138,
                      0.008187861301734246,
                      0.014955195806606505,
                      -0.025965901728807413,
                      -0.0006146254081094967,
                      -0.002249565476062125,
                      -0.031296227706447,
                      0.047940110791918684,
                      0.04137147693429582,
                      -0.05398346478905472,
                      0.005909491658796863,
                      0.005671365912101772,
                      0.011473568431545473,
                      0.004531083396472349,
                      0.012513326139616473,
                      -0.014094740994885382,
                      -0.009989048367143528,
                      0.007732623493302297,
                      0.004609844546416747,
                      0.010497666747185217,
                      -0.0009649638104166794,
                      0.015778200128538252,
                      0.0704461484683812,
                      0.038105414387586516,
                      0.02538467026236855,
                      -0.07832725913625221,
                      0.034364928649546336,
                      -0.011188268526019807,
                      0.0034926119778279107,
                      1,
                      -0.04976970779843196,
                      0.00021324227842177014,
                      -0.00018470178610373135,
                      -0.001030552732421399,
                      0.0016531383200807618,
                      -0.00007104884064442889,
                      0.0016651672130308952,
                      0.001661053471775787,
                      0.000011254065435811081,
                      -0.00035862222351401715,
                      -0.000578026659641811,
                      0.0002478062054979929,
                      -0.0011744468682769224,
                      0.0020541819917924507,
                      0.0029192141505096658,
                      -0.0004828954298308084,
                      -0.0003423887666784932,
                      0.0015132572839368853
                    ],
                    [
                      0.0026413932462155797,
                      -0.0012133568962176696,
                      0.00825152755479824,
                      0.019948833190253253,
                      -0.059357784611531364,
                      0.07348633332430111,
                      0.00107554475707992,
                      0.019617618116459623,
                      0.06745692509835807,
                      -0.08219336872997224,
                      -0.022223839633944514,
                      0.0025262371890389795,
                      0.001154208305592368,
                      0.004440512322791722,
                      0.0012340690299426076,
                      0.004418449708877969,
                      0.02299969506196376,
                      0.021089277139603096,
                      0.008827122880141482,
                      -0.02613502452139039,
                      0.11092050571881658,
                      -0.09014365639883624,
                      0.08254922005109025,
                      -0.0573260789818462,
                      -0.07678547179357709,
                      -0.030801632989563767,
                      0.05573757109188191,
                      -0.03852390264179931,
                      0.11896944421500298,
                      0.013412995647663671,
                      -0.04976970779843196,
                      1,
                      0.0002249694527866357,
                      0.002458872518486961,
                      -0.0002511156074101972,
                      -0.0003302318320871622,
                      -0.002458276048013527,
                      -0.0005101365289598746,
                      -0.0005672563408689047,
                      -0.001206330546667298,
                      -0.0011809019951366634,
                      0.0011334652327895202,
                      0.0009449124419320974,
                      -0.0007033351603276393,
                      0.0005081330268082903,
                      -0.00009260927347074229,
                      0.0009303397770717671,
                      0.002231261537685798,
                      0.0012800385583023688
                    ],
                    [
                      0.0036383179612103017,
                      0.000032720455100222405,
                      -0.0009430787753138474,
                      -0.0021110487327914455,
                      0.0007029223319983066,
                      0.0008255181087075699,
                      0.0012916973382756894,
                      -0.0004089715175719974,
                      0.0004704805518061534,
                      -0.000886292161431818,
                      0.0008295720883777965,
                      0.000031000198017766065,
                      -0.0011960063936610893,
                      -0.0010630051163157137,
                      0.00034928436518941267,
                      -0.0011022975070719497,
                      0.001583612723436242,
                      -0.00015427566393725136,
                      0.0006707357574948884,
                      -0.0009732616497496337,
                      0.0003954303917060711,
                      0.00028670069159318856,
                      -0.0004509803278143931,
                      0.0009314839836572797,
                      -0.0016589918561348144,
                      0.0008598200601896396,
                      0.00014317246993780027,
                      -0.0013407294190590567,
                      0.0010399053973847712,
                      -0.0022041886801724966,
                      0.00021324227842177014,
                      0.0002249694527866357,
                      1,
                      0.0006326671086388928,
                      -0.0018453210760898278,
                      0.0014451241140302868,
                      -0.001846554928669249,
                      -0.00003835483364152018,
                      5.835325109212987e-8,
                      0.00024456774542824333,
                      0.0009784493310665636,
                      -0.00021462815569388283,
                      0.0011795606084717045,
                      0.0001718927120025671,
                      -0.0008738127601136779,
                      0.0011856368490699145,
                      0.0011092144691557332,
                      0.0009016703557466313,
                      0.00014614969739931504
                    ],
                    [
                      -0.0005915908500661377,
                      0.0007708801365326378,
                      -0.0011711899555747148,
                      -0.0015478301217311035,
                      -0.001244839816125983,
                      0.0010277988730797306,
                      -0.0006420444921112528,
                      -0.0005006935696663839,
                      -0.00020263779193792028,
                      0.0006032890364046535,
                      0.00028269745744931654,
                      0.0013288695124036788,
                      -0.00011120385630559379,
                      0.00018512789954192084,
                      -0.0004156835108901136,
                      0.00020541688400003567,
                      0.0008742837980309493,
                      0.0013615649246193945,
                      -0.002826707031906842,
                      -0.0001956279446045222,
                      -0.0012297197856098755,
                      0.00043965375966645417,
                      -0.0003693202386897241,
                      0.0015387904761009362,
                      0.00045146382393345454,
                      0.00157461285245382,
                      -0.001766245537550099,
                      -0.0005443907527122171,
                      0.0007423801429440459,
                      -0.00016428189498505667,
                      -0.00018470178610373135,
                      0.002458872518486961,
                      0.0006326671086388928,
                      1,
                      -0.0013940213742289157,
                      -0.002211754327912519,
                      -0.0017921422616910185,
                      0.0011537560131772333,
                      -0.00023581508931643148,
                      0.00038680272386482404,
                      -0.0002117009452892736,
                      0.0002703331399211816,
                      -0.0009686463055697029,
                      0.00007896468850627976,
                      -0.0009427509379795304,
                      -0.0009852664395451243,
                      -0.0004058525742929777,
                      0.00026514988456800864,
                      0.0014943221390320992
                    ],
                    [
                      0.0009574769937878764,
                      0.00008182225978075785,
                      0.0001468321352008793,
                      0.00008548689230280353,
                      0.0023614979575574675,
                      0.0026258399586142943,
                      -0.00024941758434445855,
                      -0.0014131826801772216,
                      0.002257467971971457,
                      0.0012489817846111845,
                      -0.0019519948882590844,
                      -0.002677298661139917,
                      0.0009108295017515643,
                      0.0005169369254961482,
                      -0.0021626888021852183,
                      -0.0002416453387590575,
                      0.00003349415158363572,
                      -0.0003549050683784064,
                      -0.00033818799337827937,
                      0.001124606656781667,
                      -0.0012509298116333439,
                      -0.0018349663534806147,
                      0.00043014794862627587,
                      0.000871700118205042,
                      0.0004128396727017668,
                      0.0011103477393886192,
                      0.0013053744161650508,
                      -0.0014563424458635254,
                      -0.0017702971365074723,
                      -0.0016314199086927635,
                      -0.001030552732421399,
                      -0.0002511156074101972,
                      -0.0018453210760898278,
                      -0.0013940213742289157,
                      1,
                      -0.00007531912940689786,
                      -0.0006033795317028932,
                      0.0017095886432573152,
                      -0.0015344104636122683,
                      -0.0005749585705772388,
                      0.0006068798883348734,
                      0.0009738384019128626,
                      -0.0008696868262333401,
                      0.0006305110709911789,
                      0.00013999232688368619,
                      0.0003201823342854648,
                      0.0020048012309301956,
                      0.0011850203585599686,
                      0.0008642753852533274
                    ],
                    [
                      0.0007882447910808956,
                      -0.00010347690485278524,
                      -0.0006583998180255231,
                      -0.00017173251468899272,
                      0.0015325306198597161,
                      -0.00015073832344163923,
                      -0.0019023900274815755,
                      -0.0015526558607739192,
                      -0.0007715341800744943,
                      0.0015137952726527234,
                      0.001377811100217233,
                      0.0012737060249414815,
                      -0.0017878545885293084,
                      0.0017231519792362958,
                      0.0004136479843598627,
                      0.0010228747040333251,
                      0.0017213970445803973,
                      0.0010701810792920843,
                      -0.0007815553133850878,
                      -0.000025850049554222618,
                      -0.0006230035403697138,
                      -0.000042806839795007884,
                      0.003070667843488631,
                      0.0002434918758918964,
                      0.0004412278133604194,
                      -0.00004896531776827232,
                      -0.00009291203883231048,
                      -0.0014425071088963843,
                      0.0020812179822101546,
                      0.000003345833882899232,
                      0.0016531383200807618,
                      -0.0003302318320871622,
                      0.0014451241140302868,
                      -0.002211754327912519,
                      -0.00007531912940689786,
                      1,
                      -0.002084624044028694,
                      0.0007561854950545017,
                      -0.0005302751847781065,
                      -0.00010937354438558475,
                      -0.000388693249963843,
                      -0.0005993891804417921,
                      0.0019081420282568305,
                      0.00009663145891527551,
                      -0.001410586889796412,
                      -0.00032686988563327866,
                      -0.0003107324412774847,
                      -0.0011828498563552455,
                      0.00039425142162196534
                    ],
                    [
                      0.0008356128476278207,
                      -0.0010058548384191393,
                      0.002992806788917109,
                      -0.0027117639544354424,
                      0.001266664959910297,
                      -0.0027755450296133074,
                      -0.0001449036161313121,
                      -0.0011636516201258254,
                      -0.001416721144687028,
                      0.0008268945510473188,
                      0.0022687777239878753,
                      0.0014216349339402805,
                      0.0009946385801930036,
                      0.0037837821118346824,
                      0.002790331203399629,
                      0.004077353989613895,
                      -0.0013086573803491668,
                      -0.0019205651214934604,
                      -0.0006022847454017239,
                      0.0018345907179115205,
                      -0.001207073641473125,
                      0.000685063371450163,
                      0.0021179978533095375,
                      0.001215931309403626,
                      0.0016640401043848303,
                      0.0004921695588309738,
                      0.0005499792456161905,
                      0.000026762473594795134,
                      -0.0016920322564635982,
                      0.002907789216375729,
                      -0.00007104884064442889,
                      -0.002458276048013527,
                      -0.001846554928669249,
                      -0.0017921422616910185,
                      -0.0006033795317028932,
                      -0.002084624044028694,
                      1,
                      0.000013082467919241126,
                      -0.002665668626238483,
                      0.0020156141257340952,
                      0.00010930539163796438,
                      -0.00030400026811709164,
                      -0.00017056886242362965,
                      -0.000265653880402289,
                      0.002133458533910172,
                      -0.0005416628791602605,
                      0.00020163232378118568,
                      0.0007846466422613709,
                      -0.000767841727863593
                    ],
                    [
                      0.0005176341988577643,
                      0.0007189675843641542,
                      -0.00008533923304090555,
                      0.00035567580972401837,
                      -0.0015441777405826916,
                      0.00048656988775536863,
                      -0.0008217959389452798,
                      -0.001955110116004253,
                      0.0031034025355962443,
                      -0.0011713719830285256,
                      0.0000841415927831592,
                      0.002842382982119299,
                      0.0006751295016578906,
                      -0.0020161776675533686,
                      -0.002330326502165297,
                      -0.0014427896242199597,
                      -0.0009849673818418103,
                      -0.0004273838950783198,
                      0.000591321147031268,
                      0.00011597648018878906,
                      0.00004220234506755867,
                      -0.0005509059261274756,
                      0.0003282253752557591,
                      -0.0003188249939387811,
                      0.00004603530801216634,
                      0.0025789004953305486,
                      -0.0014661881547167342,
                      -0.0005307547879908729,
                      -0.0012319557421361167,
                      -0.0014115273416177374,
                      0.0016651672130308952,
                      -0.0005101365289598746,
                      -0.00003835483364152018,
                      0.0011537560131772333,
                      0.0017095886432573152,
                      0.0007561854950545017,
                      0.000013082467919241126,
                      1,
                      -0.00018191557849844383,
                      -0.0008978648417160443,
                      -0.0014087261304251072,
                      -0.000629603966515466,
                      -0.00006618237838926016,
                      0.0009232509440580107,
                      -0.0012912698712921724,
                      -0.0008141216438973746,
                      -0.0010941080196175384,
                      0.00044405455709718906,
                      0.00006652856730239221
                    ],
                    [
                      0.0009805335540469448,
                      0.0010608340444789083,
                      -0.0013449818796920148,
                      -0.000025425203495046437,
                      0.000230287338373583,
                      0.00012727421795224745,
                      -0.0010698729509168899,
                      -0.0011970978269563854,
                      0.0027643720885982604,
                      -0.0010929434068361558,
                      -0.0005624466536854737,
                      -0.00036716982018740517,
                      0.0010608594409770634,
                      0.0019267518147431442,
                      0.0009485297239872661,
                      0.001975748285363052,
                      -0.0012787059555369506,
                      -0.0009309516956551648,
                      -0.0006993075561928123,
                      0.0013640036829747895,
                      0.0014431604443318454,
                      -0.0005988402310767637,
                      0.0012104089806038827,
                      0.0014737778917998585,
                      -0.0016082481209460618,
                      -0.0008241917715071704,
                      -0.00126972104570452,
                      -0.002119260300436465,
                      0.0012705153842238798,
                      -0.0015616995757234328,
                      0.001661053471775787,
                      -0.0005672563408689047,
                      5.835325109212987e-8,
                      -0.00023581508931643148,
                      -0.0015344104636122683,
                      -0.0005302751847781065,
                      -0.002665668626238483,
                      -0.00018191557849844383,
                      1,
                      0.00039421911394115384,
                      0.0020861464734087494,
                      0.0012790179252293843,
                      0.0012524127188469519,
                      -0.0003206519285674346,
                      0.00042152585442363353,
                      0.0003662380118529723,
                      -0.0016175662068407665,
                      -0.001302425409365104,
                      -0.00033573429390100083
                    ],
                    [
                      -0.0012488250195915361,
                      0.00037143739489093637,
                      -0.0012629092646128783,
                      0.00003793867444663322,
                      -0.0027155418811399185,
                      -0.0020008312385538024,
                      -0.0015247002980472058,
                      0.000822002616531646,
                      -0.0004476413449922488,
                      -0.0006318117597186088,
                      0.00007181830788419638,
                      -0.0023492443946824377,
                      0.00018449154616455044,
                      0.00012896012169149823,
                      -0.00018583926200945724,
                      -0.0002432697006175229,
                      -0.0019515651504138044,
                      -0.0005474330902515618,
                      -0.0010905132359761071,
                      0.002110541450555667,
                      -0.0004247629899175609,
                      -0.0008341968657931889,
                      -0.0026947000599002163,
                      0.001198066784985588,
                      -0.0017017001612186584,
                      0.0011949560411559218,
                      0.0005028118507514468,
                      0.0015842335640350936,
                      -0.0011916824704647467,
                      0.001816659689651751,
                      0.000011254065435811081,
                      -0.001206330546667298,
                      0.00024456774542824333,
                      0.00038680272386482404,
                      -0.0005749585705772388,
                      -0.00010937354438558475,
                      0.0020156141257340952,
                      -0.0008978648417160443,
                      0.00039421911394115384,
                      1,
                      0.0010363096506184925,
                      0.003702293503296481,
                      0.0004796006799337871,
                      0.0008337638553276428,
                      0.0008795353242781085,
                      -0.0012352831533956282,
                      -0.0009601810727423088,
                      -0.00137650887645121,
                      -0.00016434196923967553
                    ],
                    [
                      -0.0010934546530963374,
                      -0.0011325853981362505,
                      0.0015206567146658348,
                      -0.0008836458794260957,
                      -0.002352333366999052,
                      -0.0008139493139821727,
                      0.0009753755080751557,
                      0.0013465275777943119,
                      -0.0010438535583305107,
                      -0.0012414424693482822,
                      0.0006636678133101164,
                      0.0013666102034255417,
                      -0.0006120933976261155,
                      0.0008132382695526005,
                      -0.0014181281398898933,
                      0.0002840910135919725,
                      -0.0012626527588530665,
                      0.00047885679021953564,
                      -0.0008502466566824664,
                      0.0015743622718326646,
                      -0.0007933308500309729,
                      0.0020520906048643517,
                      -0.002595880715245505,
                      0.0017213100009014935,
                      -0.00035882930966854473,
                      0.0004671486827777795,
                      0.0001369791532856534,
                      0.0006383022193048909,
                      -0.0004672662506228167,
                      0.0024027112854159804,
                      -0.00035862222351401715,
                      -0.0011809019951366634,
                      0.0009784493310665636,
                      -0.0002117009452892736,
                      0.0006068798883348734,
                      -0.000388693249963843,
                      0.00010930539163796438,
                      -0.0014087261304251072,
                      0.0020861464734087494,
                      0.0010363096506184925,
                      1,
                      -0.00030006427820138517,
                      0.000980441223865989,
                      0.0015570118184771945,
                      -0.0009128274758467554,
                      0.0035645904480776313,
                      0.00008383414231002459,
                      0.0010213745943391099,
                      -0.0005819389857347308
                    ],
                    [
                      -0.00015701023640565565,
                      -0.0004464645318087174,
                      0.00019895341092257275,
                      -0.0008928474834448281,
                      0.00013288787890949408,
                      0.0002834052581409762,
                      0.001549156967187013,
                      -0.0013011186998591806,
                      0.0005412369024749237,
                      -0.0004320285599226011,
                      0.0014390105937547816,
                      0.001968875596117635,
                      0.00030406758932433335,
                      0.0005585972004819212,
                      -0.002125385276738932,
                      0.00030681115008979426,
                      -0.000921686741159908,
                      -0.0012057081347718506,
                      0.00042878043890859477,
                      0.0019922297476804548,
                      0.0008740417878425334,
                      0.0012427813649456252,
                      0.0008592066483024779,
                      0.00042311633950088267,
                      0.0013216260013875014,
                      -0.0020202515720043877,
                      0.0014953290730697968,
                      0.0003935211621869506,
                      -0.0004903231499660531,
                      0.0029880880242695684,
                      -0.000578026659641811,
                      0.0011334652327895202,
                      -0.00021462815569388283,
                      0.0002703331399211816,
                      0.0009738384019128626,
                      -0.0005993891804417921,
                      -0.00030400026811709164,
                      -0.000629603966515466,
                      0.0012790179252293843,
                      0.003702293503296481,
                      -0.00030006427820138517,
                      1,
                      -0.0023253997103759288,
                      0.0007633285228823364,
                      0.0026328685607141223,
                      -0.000782295667836372,
                      0.0005639452300591455,
                      0.001945194513245508,
                      -0.0016489428988119895
                    ],
                    [
                      0.001609423824807779,
                      0.0013622753431191557,
                      -0.0008910685014910404,
                      -0.0005185257387862071,
                      0.00020474960687078366,
                      0.0015645496382111165,
                      0.002170835213002712,
                      0.00030393290259254327,
                      0.0016655249364763605,
                      -0.001959159535716181,
                      -0.0003887243838992524,
                      0.00023239812553012024,
                      -0.0007858590549898202,
                      -0.0005013388256770008,
                      0.0008745250585350082,
                      -0.0003871413338074719,
                      0.0013483433788114031,
                      -0.00016701443375198525,
                      0.0007460892730811583,
                      -0.0012387502670017302,
                      0.0000695669943874719,
                      -0.00009926418773619016,
                      0.0012823032623227356,
                      -0.0023388274799040387,
                      0.001863807293097441,
                      0.0008061524226690235,
                      0.00029514287044668617,
                      -0.0011690267707114414,
                      -0.0010919839975845078,
                      -0.0003593050636786701,
                      0.0002478062054979929,
                      0.0009449124419320974,
                      0.0011795606084717045,
                      -0.0009686463055697029,
                      -0.0008696868262333401,
                      0.0019081420282568305,
                      -0.00017056886242362965,
                      -0.00006618237838926016,
                      0.0012524127188469519,
                      0.0004796006799337871,
                      0.000980441223865989,
                      -0.0023253997103759288,
                      1,
                      0.001713387982008056,
                      0.00019854594292474138,
                      -0.001287343165201063,
                      -0.001062548766009112,
                      -0.00007567114607784398,
                      -0.00047695089701226727
                    ],
                    [
                      -0.0012272973917304445,
                      -0.0004904242506719329,
                      -0.000396790212426193,
                      -0.0001091639435274442,
                      0.0001344327694191131,
                      0.0027346762054245234,
                      0.0015480474512491566,
                      0.002087860311907922,
                      0.0005749746503449937,
                      -0.0027823010069026946,
                      -0.000621106833525824,
                      -0.0032329018832703716,
                      -0.0006590162500354598,
                      -0.0016324069179149605,
                      0.0004916403631589377,
                      -0.001820720685571289,
                      0.0007020649300867855,
                      0.000928933859436279,
                      -0.0015898973720920525,
                      -0.0003786053015244637,
                      0.0009652394539101881,
                      -0.000014807280235949815,
                      -0.0004809622024844747,
                      0.0013882598831327169,
                      -0.0014997038236239928,
                      0.000689803382340044,
                      -0.0004381102787180161,
                      -0.0010101875324818037,
                      0.0009521778464269998,
                      -0.0008346704499100793,
                      -0.0011744468682769224,
                      -0.0007033351603276393,
                      0.0001718927120025671,
                      0.00007896468850627976,
                      0.0006305110709911789,
                      0.00009663145891527551,
                      -0.000265653880402289,
                      0.0009232509440580107,
                      -0.0003206519285674346,
                      0.0008337638553276428,
                      0.0015570118184771945,
                      0.0007633285228823364,
                      0.001713387982008056,
                      1,
                      0.0003847799596326076,
                      0.0010284195630865856,
                      -0.0008488737176590117,
                      0.0008350357428591773,
                      0.0028691848832983202
                    ],
                    [
                      -0.0014120059005200628,
                      0.0006238280115020942,
                      -0.000011545248111385099,
                      0.0009195635201452163,
                      -0.0007442327813944093,
                      0.002295346203964965,
                      -0.0003682362393573745,
                      -0.0003814511646830381,
                      0.0012197619159721711,
                      -0.002047724572754881,
                      0.0010588568857560125,
                      0.0010115230415514774,
                      0.0014178496831878235,
                      0.0017539182011456023,
                      0.0015699943019599183,
                      0.002318386702039322,
                      -0.001915365956106812,
                      -0.0004946092252123201,
                      -0.00021109233161472496,
                      -0.00008221784186824308,
                      -0.0010678795853459174,
                      -0.0029475272140969564,
                      -0.000900009112242032,
                      0.000579727172497131,
                      0.0013959473143630471,
                      0.0012045255571496128,
                      -0.0012544219062167932,
                      0.0020955546330995254,
                      -0.0010595306612710786,
                      0.001021239320656569,
                      0.0020541819917924507,
                      0.0005081330268082903,
                      -0.0008738127601136779,
                      -0.0009427509379795304,
                      0.00013999232688368619,
                      -0.001410586889796412,
                      0.002133458533910172,
                      -0.0012912698712921724,
                      0.00042152585442363353,
                      0.0008795353242781085,
                      -0.0009128274758467554,
                      0.0026328685607141223,
                      0.00019854594292474138,
                      0.0003847799596326076,
                      1,
                      -0.0016701318625782552,
                      0.0007356946834426283,
                      0.00007729719133329158,
                      -0.00008498697276466257
                    ],
                    [
                      -0.001266582915695949,
                      -0.00017012817365768916,
                      -0.0008675973201928163,
                      0.0005472321892405295,
                      0.000157731563274207,
                      0.0007734421027413762,
                      0.00015309117899007583,
                      -0.0000012555595091234793,
                      -0.0005167363145836902,
                      -0.0005794594623613974,
                      0.0011348640561092116,
                      0.00034511455870640405,
                      0.0010641208942453434,
                      0.0013843957989970695,
                      -0.0029176616014177973,
                      0.0007408167748215124,
                      0.0011762611405260832,
                      -0.000432323026064183,
                      -0.0002421374844425615,
                      0.00006434466221087021,
                      0.0004024551616458192,
                      -0.001077583489975626,
                      -0.0021900877080210674,
                      0.0006342039000327394,
                      -0.0028145541534887798,
                      0.0001356500415863611,
                      0.0005855222178469649,
                      0.0013782617362007408,
                      -0.0005462931019553125,
                      -0.0005117859571024149,
                      0.0029192141505096658,
                      -0.00009260927347074229,
                      0.0011856368490699145,
                      -0.0009852664395451243,
                      0.0003201823342854648,
                      -0.00032686988563327866,
                      -0.0005416628791602605,
                      -0.0008141216438973746,
                      0.0003662380118529723,
                      -0.0012352831533956282,
                      0.0035645904480776313,
                      -0.000782295667836372,
                      -0.001287343165201063,
                      0.0010284195630865856,
                      -0.0016701318625782552,
                      1,
                      -0.0008263242941725543,
                      0.000450219315820858,
                      0.000966083374334477
                    ],
                    [
                      -0.001387012489514096,
                      0.0005524351996118682,
                      -0.0015035875469012964,
                      0.0008240709263778052,
                      -0.0002179273213074755,
                      0.0009158792230724631,
                      0.00003168678414855202,
                      -0.0007593038072496054,
                      0.00018148010907771236,
                      -0.00006765604151575159,
                      0.0008151460825754955,
                      0.00023955239726456678,
                      -0.0011015992238865807,
                      -0.0013589599814288781,
                      -0.00011712544370351973,
                      -0.0013771848219666489,
                      -0.0013255253293403624,
                      0.0000926933091093104,
                      0.000046684570862882744,
                      0.00007039774777351157,
                      0.0003641136670927075,
                      -0.0011509779965209698,
                      -0.0013022430575787994,
                      0.00012764466563053707,
                      -0.0008849150440565294,
                      0.000034775541413476665,
                      0.00034706241877984433,
                      -0.0010009801233348515,
                      0.0016412416111071387,
                      0.0007416018344101211,
                      -0.0004828954298308084,
                      0.0009303397770717671,
                      0.0011092144691557332,
                      -0.0004058525742929777,
                      0.0020048012309301956,
                      -0.0003107324412774847,
                      0.00020163232378118568,
                      -0.0010941080196175384,
                      -0.0016175662068407665,
                      -0.0009601810727423088,
                      0.00008383414231002459,
                      0.0005639452300591455,
                      -0.001062548766009112,
                      -0.0008488737176590117,
                      0.0007356946834426283,
                      -0.0008263242941725543,
                      1,
                      -0.000256999749001877,
                      0.0005221041491486967
                    ],
                    [
                      0.00019422494950414269,
                      -0.0017438319546571681,
                      -0.00016221628124592368,
                      0.0003668294896141741,
                      -0.0008816797556198087,
                      -0.0019656334704160304,
                      0.0002764781762418728,
                      0.0027907331412144387,
                      -0.0013611791678382662,
                      -0.0009190393767006633,
                      -0.0011026523735666283,
                      0.0015546541592544052,
                      -0.001240728524270899,
                      -0.001779382287807932,
                      0.002079286759967088,
                      -0.0010118034751282255,
                      0.0017437917830255083,
                      0.0003020462737220039,
                      -0.0007755225209412626,
                      -0.0007859433395340347,
                      0.0005198560815098639,
                      -0.0014296408355096264,
                      -0.00041450859584372094,
                      -0.0003200957840412163,
                      -0.0024179401571196727,
                      -0.0023403993866281878,
                      0.001779644692049721,
                      0.00037910847774122794,
                      0.0012730291759389459,
                      -0.0005855613681816042,
                      -0.0003423887666784932,
                      0.002231261537685798,
                      0.0009016703557466313,
                      0.00026514988456800864,
                      0.0011850203585599686,
                      -0.0011828498563552455,
                      0.0007846466422613709,
                      0.00044405455709718906,
                      -0.001302425409365104,
                      -0.00137650887645121,
                      0.0010213745943391099,
                      0.001945194513245508,
                      -0.00007567114607784398,
                      0.0008350357428591773,
                      0.00007729719133329158,
                      0.000450219315820858,
                      -0.000256999749001877,
                      1,
                      0.000030900791451786126
                    ],
                    [
                      -0.0012665168671921183,
                      -0.0010722284275397982,
                      -0.0014640083176233343,
                      -0.0020700765230598026,
                      -0.003709408579276534,
                      0.001243938381928246,
                      0.00027869054705161115,
                      0.00020310560100537925,
                      -0.0009608000950925157,
                      0.0009953591808107968,
                      -0.00012315711435225912,
                      -0.003389818864850354,
                      0.0004094125500090158,
                      0.0031663201946022547,
                      -0.0009808134646700517,
                      0.0017825538619420395,
                      -0.0020395145220801205,
                      0.001519207560397156,
                      -0.001922700612824353,
                      0.0007240485980728472,
                      -0.0005613985985714569,
                      0.0009304624944871983,
                      0.0014224541267771362,
                      -0.0005301916337567397,
                      0.0001499412738778608,
                      -0.0005226832895863497,
                      -0.0023689086360795504,
                      0.0002479460755647001,
                      0.000545645086234742,
                      0.00023838942051957303,
                      0.0015132572839368853,
                      0.0012800385583023688,
                      0.00014614969739931504,
                      0.0014943221390320992,
                      0.0008642753852533274,
                      0.00039425142162196534,
                      -0.000767841727863593,
                      0.00006652856730239221,
                      -0.00033573429390100083,
                      -0.00016434196923967553,
                      -0.0005819389857347308,
                      -0.0016489428988119895,
                      -0.00047695089701226727,
                      0.0028691848832983202,
                      -0.00008498697276466257,
                      0.000966083374334477,
                      0.0005221041491486967,
                      0.000030900791451786126,
                      1
                    ]
                  ],
                  "type": "heatmap"
                }
              ],
              "layout": {
                "height": 700,
                "template": {
                  "data": {
                    "barpolar": [
                      {
                        "marker": {
                          "line": {
                            "color": "#E5ECF6",
                            "width": 0.5
                          },
                          "pattern": {
                            "fillmode": "overlay",
                            "size": 10,
                            "solidity": 0.2
                          }
                        },
                        "type": "barpolar"
                      }
                    ],
                    "bar": [
                      {
                        "error_x": {
                          "color": "#2a3f5f"
                        },
                        "error_y": {
                          "color": "#2a3f5f"
                        },
                        "marker": {
                          "line": {
                            "color": "#E5ECF6",
                            "width": 0.5
                          },
                          "pattern": {
                            "fillmode": "overlay",
                            "size": 10,
                            "solidity": 0.2
                          }
                        },
                        "type": "bar"
                      }
                    ],
                    "carpet": [
                      {
                        "aaxis": {
                          "endlinecolor": "#2a3f5f",
                          "gridcolor": "white",
                          "linecolor": "white",
                          "minorgridcolor": "white",
                          "startlinecolor": "#2a3f5f"
                        },
                        "baxis": {
                          "endlinecolor": "#2a3f5f",
                          "gridcolor": "white",
                          "linecolor": "white",
                          "minorgridcolor": "white",
                          "startlinecolor": "#2a3f5f"
                        },
                        "type": "carpet"
                      }
                    ],
                    "choropleth": [
                      {
                        "colorbar": {
                          "outlinewidth": 0,
                          "ticks": ""
                        },
                        "type": "choropleth"
                      }
                    ],
                    "contourcarpet": [
                      {
                        "colorbar": {
                          "outlinewidth": 0,
                          "ticks": ""
                        },
                        "type": "contourcarpet"
                      }
                    ],
                    "contour": [
                      {
                        "colorbar": {
                          "outlinewidth": 0,
                          "ticks": ""
                        },
                        "colorscale": [
                          [
                            0,
                            "#0d0887"
                          ],
                          [
                            0.1111111111111111,
                            "#46039f"
                          ],
                          [
                            0.2222222222222222,
                            "#7201a8"
                          ],
                          [
                            0.3333333333333333,
                            "#9c179e"
                          ],
                          [
                            0.4444444444444444,
                            "#bd3786"
                          ],
                          [
                            0.5555555555555556,
                            "#d8576b"
                          ],
                          [
                            0.6666666666666666,
                            "#ed7953"
                          ],
                          [
                            0.7777777777777778,
                            "#fb9f3a"
                          ],
                          [
                            0.8888888888888888,
                            "#fdca26"
                          ],
                          [
                            1,
                            "#f0f921"
                          ]
                        ],
                        "type": "contour"
                      }
                    ],
                    "heatmapgl": [
                      {
                        "colorbar": {
                          "outlinewidth": 0,
                          "ticks": ""
                        },
                        "colorscale": [
                          [
                            0,
                            "#0d0887"
                          ],
                          [
                            0.1111111111111111,
                            "#46039f"
                          ],
                          [
                            0.2222222222222222,
                            "#7201a8"
                          ],
                          [
                            0.3333333333333333,
                            "#9c179e"
                          ],
                          [
                            0.4444444444444444,
                            "#bd3786"
                          ],
                          [
                            0.5555555555555556,
                            "#d8576b"
                          ],
                          [
                            0.6666666666666666,
                            "#ed7953"
                          ],
                          [
                            0.7777777777777778,
                            "#fb9f3a"
                          ],
                          [
                            0.8888888888888888,
                            "#fdca26"
                          ],
                          [
                            1,
                            "#f0f921"
                          ]
                        ],
                        "type": "heatmapgl"
                      }
                    ],
                    "heatmap": [
                      {
                        "colorbar": {
                          "outlinewidth": 0,
                          "ticks": ""
                        },
                        "colorscale": [
                          [
                            0,
                            "#0d0887"
                          ],
                          [
                            0.1111111111111111,
                            "#46039f"
                          ],
                          [
                            0.2222222222222222,
                            "#7201a8"
                          ],
                          [
                            0.3333333333333333,
                            "#9c179e"
                          ],
                          [
                            0.4444444444444444,
                            "#bd3786"
                          ],
                          [
                            0.5555555555555556,
                            "#d8576b"
                          ],
                          [
                            0.6666666666666666,
                            "#ed7953"
                          ],
                          [
                            0.7777777777777778,
                            "#fb9f3a"
                          ],
                          [
                            0.8888888888888888,
                            "#fdca26"
                          ],
                          [
                            1,
                            "#f0f921"
                          ]
                        ],
                        "type": "heatmap"
                      }
                    ],
                    "histogram2dcontour": [
                      {
                        "colorbar": {
                          "outlinewidth": 0,
                          "ticks": ""
                        },
                        "colorscale": [
                          [
                            0,
                            "#0d0887"
                          ],
                          [
                            0.1111111111111111,
                            "#46039f"
                          ],
                          [
                            0.2222222222222222,
                            "#7201a8"
                          ],
                          [
                            0.3333333333333333,
                            "#9c179e"
                          ],
                          [
                            0.4444444444444444,
                            "#bd3786"
                          ],
                          [
                            0.5555555555555556,
                            "#d8576b"
                          ],
                          [
                            0.6666666666666666,
                            "#ed7953"
                          ],
                          [
                            0.7777777777777778,
                            "#fb9f3a"
                          ],
                          [
                            0.8888888888888888,
                            "#fdca26"
                          ],
                          [
                            1,
                            "#f0f921"
                          ]
                        ],
                        "type": "histogram2dcontour"
                      }
                    ],
                    "histogram2d": [
                      {
                        "colorbar": {
                          "outlinewidth": 0,
                          "ticks": ""
                        },
                        "colorscale": [
                          [
                            0,
                            "#0d0887"
                          ],
                          [
                            0.1111111111111111,
                            "#46039f"
                          ],
                          [
                            0.2222222222222222,
                            "#7201a8"
                          ],
                          [
                            0.3333333333333333,
                            "#9c179e"
                          ],
                          [
                            0.4444444444444444,
                            "#bd3786"
                          ],
                          [
                            0.5555555555555556,
                            "#d8576b"
                          ],
                          [
                            0.6666666666666666,
                            "#ed7953"
                          ],
                          [
                            0.7777777777777778,
                            "#fb9f3a"
                          ],
                          [
                            0.8888888888888888,
                            "#fdca26"
                          ],
                          [
                            1,
                            "#f0f921"
                          ]
                        ],
                        "type": "histogram2d"
                      }
                    ],
                    "histogram": [
                      {
                        "marker": {
                          "pattern": {
                            "fillmode": "overlay",
                            "size": 10,
                            "solidity": 0.2
                          }
                        },
                        "type": "histogram"
                      }
                    ],
                    "mesh3d": [
                      {
                        "colorbar": {
                          "outlinewidth": 0,
                          "ticks": ""
                        },
                        "type": "mesh3d"
                      }
                    ],
                    "parcoords": [
                      {
                        "line": {
                          "colorbar": {
                            "outlinewidth": 0,
                            "ticks": ""
                          }
                        },
                        "type": "parcoords"
                      }
                    ],
                    "pie": [
                      {
                        "automargin": true,
                        "type": "pie"
                      }
                    ],
                    "scatter3d": [
                      {
                        "line": {
                          "colorbar": {
                            "outlinewidth": 0,
                            "ticks": ""
                          }
                        },
                        "marker": {
                          "colorbar": {
                            "outlinewidth": 0,
                            "ticks": ""
                          }
                        },
                        "type": "scatter3d"
                      }
                    ],
                    "scattercarpet": [
                      {
                        "marker": {
                          "colorbar": {
                            "outlinewidth": 0,
                            "ticks": ""
                          }
                        },
                        "type": "scattercarpet"
                      }
                    ],
                    "scattergeo": [
                      {
                        "marker": {
                          "colorbar": {
                            "outlinewidth": 0,
                            "ticks": ""
                          }
                        },
                        "type": "scattergeo"
                      }
                    ],
                    "scattergl": [
                      {
                        "marker": {
                          "colorbar": {
                            "outlinewidth": 0,
                            "ticks": ""
                          }
                        },
                        "type": "scattergl"
                      }
                    ],
                    "scattermapbox": [
                      {
                        "marker": {
                          "colorbar": {
                            "outlinewidth": 0,
                            "ticks": ""
                          }
                        },
                        "type": "scattermapbox"
                      }
                    ],
                    "scatterpolargl": [
                      {
                        "marker": {
                          "colorbar": {
                            "outlinewidth": 0,
                            "ticks": ""
                          }
                        },
                        "type": "scatterpolargl"
                      }
                    ],
                    "scatterpolar": [
                      {
                        "marker": {
                          "colorbar": {
                            "outlinewidth": 0,
                            "ticks": ""
                          }
                        },
                        "type": "scatterpolar"
                      }
                    ],
                    "scatter": [
                      {
                        "marker": {
                          "colorbar": {
                            "outlinewidth": 0,
                            "ticks": ""
                          }
                        },
                        "type": "scatter"
                      }
                    ],
                    "scatterternary": [
                      {
                        "marker": {
                          "colorbar": {
                            "outlinewidth": 0,
                            "ticks": ""
                          }
                        },
                        "type": "scatterternary"
                      }
                    ],
                    "surface": [
                      {
                        "colorbar": {
                          "outlinewidth": 0,
                          "ticks": ""
                        },
                        "colorscale": [
                          [
                            0,
                            "#0d0887"
                          ],
                          [
                            0.1111111111111111,
                            "#46039f"
                          ],
                          [
                            0.2222222222222222,
                            "#7201a8"
                          ],
                          [
                            0.3333333333333333,
                            "#9c179e"
                          ],
                          [
                            0.4444444444444444,
                            "#bd3786"
                          ],
                          [
                            0.5555555555555556,
                            "#d8576b"
                          ],
                          [
                            0.6666666666666666,
                            "#ed7953"
                          ],
                          [
                            0.7777777777777778,
                            "#fb9f3a"
                          ],
                          [
                            0.8888888888888888,
                            "#fdca26"
                          ],
                          [
                            1,
                            "#f0f921"
                          ]
                        ],
                        "type": "surface"
                      }
                    ],
                    "table": [
                      {
                        "cells": {
                          "fill": {
                            "color": "#EBF0F8"
                          },
                          "line": {
                            "color": "white"
                          }
                        },
                        "header": {
                          "fill": {
                            "color": "#C8D4E3"
                          },
                          "line": {
                            "color": "white"
                          }
                        },
                        "type": "table"
                      }
                    ]
                  },
                  "layout": {
                    "annotationdefaults": {
                      "arrowcolor": "#2a3f5f",
                      "arrowhead": 0,
                      "arrowwidth": 1
                    },
                    "autotypenumbers": "strict",
                    "coloraxis": {
                      "colorbar": {
                        "outlinewidth": 0,
                        "ticks": ""
                      }
                    },
                    "colorscale": {
                      "diverging": [
                        [
                          0,
                          "#8e0152"
                        ],
                        [
                          0.1,
                          "#c51b7d"
                        ],
                        [
                          0.2,
                          "#de77ae"
                        ],
                        [
                          0.3,
                          "#f1b6da"
                        ],
                        [
                          0.4,
                          "#fde0ef"
                        ],
                        [
                          0.5,
                          "#f7f7f7"
                        ],
                        [
                          0.6,
                          "#e6f5d0"
                        ],
                        [
                          0.7,
                          "#b8e186"
                        ],
                        [
                          0.8,
                          "#7fbc41"
                        ],
                        [
                          0.9,
                          "#4d9221"
                        ],
                        [
                          1,
                          "#276419"
                        ]
                      ],
                      "sequential": [
                        [
                          0,
                          "#0d0887"
                        ],
                        [
                          0.1111111111111111,
                          "#46039f"
                        ],
                        [
                          0.2222222222222222,
                          "#7201a8"
                        ],
                        [
                          0.3333333333333333,
                          "#9c179e"
                        ],
                        [
                          0.4444444444444444,
                          "#bd3786"
                        ],
                        [
                          0.5555555555555556,
                          "#d8576b"
                        ],
                        [
                          0.6666666666666666,
                          "#ed7953"
                        ],
                        [
                          0.7777777777777778,
                          "#fb9f3a"
                        ],
                        [
                          0.8888888888888888,
                          "#fdca26"
                        ],
                        [
                          1,
                          "#f0f921"
                        ]
                      ],
                      "sequentialminus": [
                        [
                          0,
                          "#0d0887"
                        ],
                        [
                          0.1111111111111111,
                          "#46039f"
                        ],
                        [
                          0.2222222222222222,
                          "#7201a8"
                        ],
                        [
                          0.3333333333333333,
                          "#9c179e"
                        ],
                        [
                          0.4444444444444444,
                          "#bd3786"
                        ],
                        [
                          0.5555555555555556,
                          "#d8576b"
                        ],
                        [
                          0.6666666666666666,
                          "#ed7953"
                        ],
                        [
                          0.7777777777777778,
                          "#fb9f3a"
                        ],
                        [
                          0.8888888888888888,
                          "#fdca26"
                        ],
                        [
                          1,
                          "#f0f921"
                        ]
                      ]
                    },
                    "colorway": [
                      "#636efa",
                      "#EF553B",
                      "#00cc96",
                      "#ab63fa",
                      "#FFA15A",
                      "#19d3f3",
                      "#FF6692",
                      "#B6E880",
                      "#FF97FF",
                      "#FECB52"
                    ],
                    "font": {
                      "color": "#2a3f5f"
                    },
                    "geo": {
                      "bgcolor": "white",
                      "lakecolor": "white",
                      "landcolor": "#E5ECF6",
                      "showlakes": true,
                      "showland": true,
                      "subunitcolor": "white"
                    },
                    "hoverlabel": {
                      "align": "left"
                    },
                    "hovermode": "closest",
                    "mapbox": {
                      "style": "light"
                    },
                    "paper_bgcolor": "white",
                    "plot_bgcolor": "#E5ECF6",
                    "polar": {
                      "angularaxis": {
                        "gridcolor": "white",
                        "linecolor": "white",
                        "ticks": ""
                      },
                      "bgcolor": "#E5ECF6",
                      "radialaxis": {
                        "gridcolor": "white",
                        "linecolor": "white",
                        "ticks": ""
                      }
                    },
                    "scene": {
                      "xaxis": {
                        "backgroundcolor": "#E5ECF6",
                        "gridcolor": "white",
                        "gridwidth": 2,
                        "linecolor": "white",
                        "showbackground": true,
                        "ticks": "",
                        "zerolinecolor": "white"
                      },
                      "yaxis": {
                        "backgroundcolor": "#E5ECF6",
                        "gridcolor": "white",
                        "gridwidth": 2,
                        "linecolor": "white",
                        "showbackground": true,
                        "ticks": "",
                        "zerolinecolor": "white"
                      },
                      "zaxis": {
                        "backgroundcolor": "#E5ECF6",
                        "gridcolor": "white",
                        "gridwidth": 2,
                        "linecolor": "white",
                        "showbackground": true,
                        "ticks": "",
                        "zerolinecolor": "white"
                      }
                    },
                    "shapedefaults": {
                      "line": {
                        "color": "#2a3f5f"
                      }
                    },
                    "ternary": {
                      "aaxis": {
                        "gridcolor": "white",
                        "linecolor": "white",
                        "ticks": ""
                      },
                      "baxis": {
                        "gridcolor": "white",
                        "linecolor": "white",
                        "ticks": ""
                      },
                      "bgcolor": "#E5ECF6",
                      "caxis": {
                        "gridcolor": "white",
                        "linecolor": "white",
                        "ticks": ""
                      }
                    },
                    "title": {
                      "x": 0.05
                    },
                    "xaxis": {
                      "automargin": true,
                      "gridcolor": "white",
                      "linecolor": "white",
                      "ticks": "",
                      "title": {
                        "standoff": 15
                      },
                      "zerolinecolor": "white",
                      "zerolinewidth": 2
                    },
                    "yaxis": {
                      "automargin": true,
                      "gridcolor": "white",
                      "linecolor": "white",
                      "ticks": "",
                      "title": {
                        "standoff": 15
                      },
                      "zerolinecolor": "white",
                      "zerolinewidth": 2
                    }
                  }
                },
                "title": {
                  "text": "Pearson Correlation of Integer-type features"
                },
                "width": 900,
                "xaxis": {
                  "nticks": 36,
                  "ticks": ""
                },
                "yaxis": {
                  "ticks": ""
                }
              },
              "config": {
                "showLink": false,
                "linkText": "Export to plot.ly",
                "plotlyServerURL": "https://plot.ly"
              }
            },
            "text/html": [
              "<div>                            <div id=\"6819d2ea-49a5-4e61-8123-b950886058b4\" class=\"plotly-graph-div\" style=\"height:700px; width:900px;\"></div>            <script type=\"text/javascript\">                require([\"plotly\"], function(Plotly) {                    window.PLOTLYENV=window.PLOTLYENV || {};                                    if (document.getElementById(\"6819d2ea-49a5-4e61-8123-b950886058b4\")) {                    Plotly.newPlot(                        \"6819d2ea-49a5-4e61-8123-b950886058b4\",                        [{\"colorscale\":[[0.0,\"#440154\"],[0.1111111111111111,\"#482878\"],[0.2222222222222222,\"#3e4989\"],[0.3333333333333333,\"#31688e\"],[0.4444444444444444,\"#26828e\"],[0.5555555555555556,\"#1f9e89\"],[0.6666666666666666,\"#35b779\"],[0.7777777777777778,\"#6ece58\"],[0.8888888888888888,\"#b5de2b\"],[1.0,\"#fde725\"]],\"reversescale\":false,\"x\":[\"id\",\"target\",\"ps_ind_01\",\"ps_ind_02_cat\",\"ps_ind_03\",\"ps_ind_04_cat\",\"ps_ind_05_cat\",\"ps_ind_06_bin\",\"ps_ind_07_bin\",\"ps_ind_08_bin\",\"ps_ind_09_bin\",\"ps_ind_10_bin\",\"ps_ind_11_bin\",\"ps_ind_12_bin\",\"ps_ind_13_bin\",\"ps_ind_14\",\"ps_ind_15\",\"ps_ind_16_bin\",\"ps_ind_17_bin\",\"ps_ind_18_bin\",\"ps_car_01_cat\",\"ps_car_02_cat\",\"ps_car_03_cat\",\"ps_car_04_cat\",\"ps_car_05_cat\",\"ps_car_06_cat\",\"ps_car_07_cat\",\"ps_car_08_cat\",\"ps_car_09_cat\",\"ps_car_10_cat\",\"ps_car_11_cat\",\"ps_car_11\",\"ps_calc_04\",\"ps_calc_05\",\"ps_calc_06\",\"ps_calc_07\",\"ps_calc_08\",\"ps_calc_09\",\"ps_calc_10\",\"ps_calc_11\",\"ps_calc_12\",\"ps_calc_13\",\"ps_calc_14\",\"ps_calc_15_bin\",\"ps_calc_16_bin\",\"ps_calc_17_bin\",\"ps_calc_18_bin\",\"ps_calc_19_bin\",\"ps_calc_20_bin\"],\"y\":[\"id\",\"target\",\"ps_ind_01\",\"ps_ind_02_cat\",\"ps_ind_03\",\"ps_ind_04_cat\",\"ps_ind_05_cat\",\"ps_ind_06_bin\",\"ps_ind_07_bin\",\"ps_ind_08_bin\",\"ps_ind_09_bin\",\"ps_ind_10_bin\",\"ps_ind_11_bin\",\"ps_ind_12_bin\",\"ps_ind_13_bin\",\"ps_ind_14\",\"ps_ind_15\",\"ps_ind_16_bin\",\"ps_ind_17_bin\",\"ps_ind_18_bin\",\"ps_car_01_cat\",\"ps_car_02_cat\",\"ps_car_03_cat\",\"ps_car_04_cat\",\"ps_car_05_cat\",\"ps_car_06_cat\",\"ps_car_07_cat\",\"ps_car_08_cat\",\"ps_car_09_cat\",\"ps_car_10_cat\",\"ps_car_11_cat\",\"ps_car_11\",\"ps_calc_04\",\"ps_calc_05\",\"ps_calc_06\",\"ps_calc_07\",\"ps_calc_08\",\"ps_calc_09\",\"ps_calc_10\",\"ps_calc_11\",\"ps_calc_12\",\"ps_calc_13\",\"ps_calc_14\",\"ps_calc_15_bin\",\"ps_calc_16_bin\",\"ps_calc_17_bin\",\"ps_calc_18_bin\",\"ps_calc_19_bin\",\"ps_calc_20_bin\"],\"z\":[[1.0,-0.0001884755338288617,0.0008258854725725193,0.0016461276514639531,-0.0013074125556911606,0.00016792048870333093,2.1710319687882825e-05,-9.329673377344849e-05,0.0024732074670059754,-0.00047893199093797294,-0.002207988997674901,-0.0012612850576084315,-0.0012098044261431328,-0.00017701120228207589,-0.0017178219451470902,-0.0011293527970858794,-0.001934992325309598,-0.0005004384418482244,0.0013438936799832733,0.0008157280242293081,-0.0010523840432399496,-0.0004033449463715611,0.0003544609372827726,0.0023098896739933137,-0.0008497364319568806,-0.0010096893760928646,-0.0029555818094072015,0.0007475961383355612,0.0004940853380072005,-0.0009282837448050599,0.0020474413080606444,0.0026413932462155797,0.0036383179612103017,-0.0005915908500661377,0.0009574769937878764,0.0007882447910808956,0.0008356128476278207,0.0005176341988577643,0.0009805335540469448,-0.0012488250195915361,-0.0010934546530963374,-0.00015701023640565565,0.001609423824807779,-0.0012272973917304445,-0.0014120059005200628,-0.001266582915695949,-0.001387012489514096,0.00019422494950414269,-0.0012665168671921183],[-0.0001884755338288617,1.0,0.018570258657506535,0.00453383136849816,0.008359590302657097,0.009360445255589966,0.029164946850886355,-0.03401686970378876,0.03421807451412262,0.01314697843872615,-0.00823681598558299,0.0018147796965898109,0.0020281711723569625,0.007810308443393542,0.00246029083193403,0.007442830964742972,-0.021506221687934316,-0.027778075788542734,0.037052606335855005,0.004555455715152848,0.016255693742637686,-0.03153359612457287,0.032400970694275104,0.032899874940120546,0.020754434132826776,0.011536659955726385,-0.03639522258780317,-0.020341933485980065,0.005322494909291872,0.0010382993212007298,0.006128798326757138,-0.0012133568962176696,3.2720455100222405e-05,0.0007708801365326378,8.182225978075785e-05,-0.00010347690485278524,-0.0010058548384191393,0.0007189675843641542,0.0010608340444789083,0.00037143739489093637,-0.0011325853981362505,-0.0004464645318087174,0.0013622753431191557,-0.0004904242506719329,0.0006238280115020942,-0.00017012817365768916,0.0005524351996118682,-0.0017438319546571681,-0.0010722284275397982],[0.0008258854725725193,0.018570258657506535,1.0,-0.0017931329140775944,0.22340759382986847,0.06664546508353122,0.014822561201261034,-0.27745768415808075,0.00569969365795639,0.18858311700154065,0.16279998618735886,0.0018472289098374266,-0.01672658784345133,-0.023405980337517524,-0.008775500240628932,-0.024971197063820172,0.12213672531018317,0.03689566374827914,0.1012570941332376,-0.11222626697683716,-0.05612096023073561,-0.1169866467920175,0.04375596050029653,0.0790415505477597,0.21300928032912675,0.07019202187337271,-0.0006393452905868237,0.13811162890080816,-0.1025823298042105,0.010793696829651062,0.008187861301734246,0.00825152755479824,-0.0009430787753138474,-0.0011711899555747148,0.0001468321352008793,-0.0006583998180255231,0.002992806788917109,-8.533923304090555e-05,-0.0013449818796920148,-0.0012629092646128783,0.0015206567146658348,0.00019895341092257275,-0.0008910685014910404,-0.000396790212426193,-1.1545248111385099e-05,-0.0008675973201928163,-0.0015035875469012964,-0.00016221628124592368,-0.0014640083176233343],[0.0016461276514639531,0.00453383136849816,-0.0017931329140775944,1.0,-0.06118914649577105,0.14710969879178076,-0.014859825528708296,-0.12565283345802725,0.016398444130573675,0.030944960292278265,0.1100758227176296,-0.0007443279033836952,0.0007716519259243583,-0.004615510735839973,-0.0011867308079089051,-0.0036493908922690084,-0.0038542040298691796,0.012682148590420253,-0.018727145555724953,-0.0003739401590444408,0.00214850245374989,0.04523308396698348,-0.0025317202816092376,-0.07218977632989523,-0.008406520927741008,-0.01730091230637514,-0.011780550385044154,0.0015257604786327662,0.009434534021788725,0.011401456422615553,0.014955195806606505,0.019948833190253253,-0.0021110487327914455,-0.0015478301217311035,8.548689230280353e-05,-0.00017173251468899272,-0.0027117639544354424,0.00035567580972401837,-2.5425203495046437e-05,3.793867444663322e-05,-0.0008836458794260957,-0.0008928474834448281,-0.0005185257387862071,-0.0001091639435274442,0.0009195635201452163,0.0005472321892405295,0.0008240709263778052,0.0003668294896141741,-0.0020700765230598026],[-0.0013074125556911606,0.008359590302657097,0.22340759382986847,-0.06118914649577105,1.0,-0.09585556869304393,0.05325005441445909,-0.04515789199467836,-0.060367903957314756,0.014036610712041087,0.11130640018521898,0.006865123190642358,-0.003986479232333661,0.001697689177732781,0.003928626513903295,0.0019895460604955257,0.17044861491667543,-0.018251258015265386,0.027691181225138046,0.0013157749639168585,-0.028519891228702923,-0.04490674148712065,0.09565776668522333,0.07298961054229085,0.14359654865840238,0.008021293226146316,0.056336933251669705,0.003607155114376228,-0.013205469282503664,-0.008560954021639582,-0.025965901728807413,-0.059357784611531364,0.0007029223319983066,-0.001244839816125983,0.0023614979575574675,0.0015325306198597161,0.001266664959910297,-0.0015441777405826916,0.000230287338373583,-0.0027155418811399185,-0.002352333366999052,0.00013288787890949408,0.00020474960687078366,0.0001344327694191131,-0.0007442327813944093,0.000157731563274207,-0.0002179273213074755,-0.0008816797556198087,-0.003709408579276534],[0.00016792048870333093,0.009360445255589966,0.06664546508353122,0.14710969879178076,-0.09585556869304393,1.0,0.013052691401692348,-0.2977366046477001,0.3049493783334564,0.04497847332634309,-0.01144165781525834,0.0007887076973389001,0.0010183114528574887,-0.0012169376250814334,-0.0008934939930098885,-0.0006905936003553212,0.07707144391312327,0.01749705676812147,0.007830396023881593,-0.025797485873876425,0.02937937195109524,0.003162109877964889,0.022744376399026083,-0.04536129801832949,0.06339932427116321,0.025323615320999925,0.06465523285480476,-0.00814754846801753,-0.04198301253597798,0.02301043283394903,-0.0006146254081094967,0.07348633332430111,0.0008255181087075699,0.0010277988730797306,0.0026258399586142943,-0.00015073832344163923,-0.0027755450296133074,0.00048656988775536863,0.00012727421795224745,-0.0020008312385538024,-0.0008139493139821727,0.0002834052581409762,0.0015645496382111165,0.0027346762054245234,0.002295346203964965,0.0007734421027413762,0.0009158792230724631,-0.0019656334704160304,0.001243938381928246],[2.1710319687882825e-05,0.029164946850886355,0.014822561201261034,-0.014859825528708296,0.05325005441445909,0.013052691401692348,1.0,0.009618800838443482,-0.010382188667300002,0.004880747623598223,-0.005068731202141701,0.001742475414532642,-0.0006363666372238363,-0.001831240440546116,0.0013128732605405674,-0.0010128313488101447,0.012326335746025272,0.0043148996980541775,0.007162777067762242,-0.008252314414916537,-0.036212853041022904,0.012878919847941928,-0.011398778782571815,-0.01087319521611484,-0.006561608550007696,-0.0072299632053995895,0.05377652521320651,-0.002083953743338254,-0.008333774284921073,0.002168074446652444,-0.002249565476062125,0.00107554475707992,0.0012916973382756894,-0.0006420444921112528,-0.00024941758434445855,-0.0019023900274815755,-0.0001449036161313121,-0.0008217959389452798,-0.0010698729509168899,-0.0015247002980472058,0.0009753755080751557,0.001549156967187013,0.002170835213002712,0.0015480474512491566,-0.0003682362393573745,0.00015309117899007583,3.168678414855202e-05,0.0002764781762418728,0.00027869054705161115],[-9.329673377344849e-05,-0.03401686970378876,-0.27745768415808075,-0.12565283345802725,-0.04515789199467836,-0.2977366046477001,0.009618800838443482,1.0,-0.47400904185590065,-0.35683833274578663,-0.3843451401407788,-0.008977535013244928,-0.005229382248971487,-0.017498505238443797,-0.008390064166738214,-0.018333861999931117,0.016406205154351216,0.02835208353213777,-0.03712107367499544,-0.011750963576176823,-0.07554574375145577,0.13638274599348738,-0.07572310218075869,-0.18701667626422974,-0.16489012332440905,-0.059887308797517635,0.03899368073100131,0.03831307031695165,0.09918393763824071,-0.04105681120507276,-0.031296227706447,0.019617618116459623,-0.0004089715175719974,-0.0005006935696663839,-0.0014131826801772216,-0.0015526558607739192,-0.0011636516201258254,-0.001955110116004253,-0.0011970978269563854,0.000822002616531646,0.0013465275777943119,-0.0013011186998591806,0.00030393290259254327,0.002087860311907922,-0.0003814511646830381,-1.2555595091234793e-06,-0.0007593038072496054,0.0027907331412144387,0.00020310560100537925],[0.0024732074670059754,0.03421807451412262,0.00569969365795639,0.016398444130573675,-0.060367903957314756,0.3049493783334564,-0.010382188667300002,-0.47400904185590065,1.0,-0.2604376422119483,-0.28051342276950764,0.010739652662842743,0.010118980387019564,0.03661915640731901,0.012124758822770546,0.03557264161494319,-0.12072867940687827,-0.07232059014992281,0.02077615194714269,0.07656187216203816,0.06206386799788505,-0.1626010123600336,0.09648343943349459,0.19970161209131007,0.09210731694598842,0.021012550690521433,-0.06470797501921204,-0.12382519653908655,-0.0592293173221672,0.03055616289712624,0.047940110791918684,0.06745692509835807,0.0004704805518061534,-0.00020263779193792028,0.002257467971971457,-0.0007715341800744943,-0.001416721144687028,0.0031034025355962443,0.0027643720885982604,-0.0004476413449922488,-0.0010438535583305107,0.0005412369024749237,0.0016655249364763605,0.0005749746503449937,0.0012197619159721711,-0.0005167363145836902,0.00018148010907771236,-0.0013611791678382662,-0.0009608000950925157],[-0.00047893199093797294,0.01314697843872615,0.18858311700154065,0.030944960292278265,0.014036610712041087,0.04497847332634309,0.004880747623598223,-0.35683833274578663,-0.2604376422119483,1.0,-0.21117306476257283,0.00648910678812291,0.01004126116128275,0.012254073500153414,0.00789832266424952,0.015413123032177485,0.05277557417447597,0.005854905555369783,0.03603562289265076,-0.033272544654311044,0.0009741110543532989,-0.02998861680480674,0.038462429631775534,0.08495716267080043,0.06388874607199731,0.0633731246240447,-0.010976242373907905,0.0427922674881171,-0.01092006270648234,0.025327537974384917,0.04137147693429582,-0.08219336872997224,-0.000886292161431818,0.0006032890364046535,0.0012489817846111845,0.0015137952726527234,0.0008268945510473188,-0.0011713719830285256,-0.0010929434068361558,-0.0006318117597186088,-0.0012414424693482822,-0.0004320285599226011,-0.001959159535716181,-0.0027823010069026946,-0.002047724572754881,-0.0005794594623613974,-6.765604151575159e-05,-0.0009190393767006633,0.0009953591808107968],[-0.002207988997674901,-0.00823681598558299,0.16279998618735886,0.1100758227176296,0.11130640018521898,-0.01144165781525834,-0.005068731202141701,-0.3843451401407788,-0.28051342276950764,-0.21117306476257283,1.0,-0.006972868230142464,-0.014372442368659335,-0.03085777558224147,-0.01061212790836212,-0.03164026527129085,0.0648696072412233,0.04010922430466359,-0.011023469836738858,-0.039631180000228874,0.024264102635430683,0.03995547974899175,-0.04994363372858587,-0.07038654070759681,0.042876133486040684,-0.008708840542970362,0.0342025767359246,0.05031732944387525,-0.04769976109596489,-0.0068714152391403166,-0.05398346478905472,-0.022223839633944514,0.0008295720883777965,0.00028269745744931654,-0.0019519948882590844,0.001377811100217233,0.0022687777239878753,8.41415927831592e-05,-0.0005624466536854737,7.181830788419638e-05,0.0006636678133101164,0.0014390105937547816,-0.0003887243838992524,-0.000621106833525824,0.0010588568857560125,0.0011348640561092116,0.0008151460825754955,-0.0011026523735666283,-0.00012315711435225912],[-0.0012612850576084315,0.0018147796965898109,0.0018472289098374266,-0.0007443279033836952,0.006865123190642358,0.0007887076973389001,0.001742475414532642,-0.008977535013244928,0.010739652662842743,0.00648910678812291,-0.006972868230142464,1.0,0.06483734787255138,0.09799846252846069,0.08141549712952234,0.26621523092448607,-0.022122320890722195,-0.02402137565373142,0.005366401619387072,0.027264135678883677,0.007989028500674941,-0.015804418556358685,0.024833271794445742,0.016566215782234283,0.015251836567305199,0.004487183793875703,-0.017804258593691946,-0.00365962070244524,0.00826644095651261,0.0007083813828402774,0.005909491658796863,0.0025262371890389795,3.1000198017766065e-05,0.0013288695124036788,-0.002677298661139917,0.0012737060249414815,0.0014216349339402805,0.002842382982119299,-0.00036716982018740517,-0.0023492443946824377,0.0013666102034255417,0.001968875596117635,0.00023239812553012024,-0.0032329018832703716,0.0010115230415514774,0.00034511455870640405,0.00023955239726456678,0.0015546541592544052,-0.003389818864850354],[-0.0012098044261431328,0.0020281711723569625,-0.01672658784345133,0.0007716519259243583,-0.003986479232333661,0.0010183114528574887,-0.0006363666372238363,-0.005229382248971487,0.010118980387019564,0.01004126116128275,-0.014372442368659335,0.06483734787255138,1.0,0.25007638185970965,0.1794321903326253,0.5649029739333457,-0.061251275473340375,-0.0540074226643599,0.0035177531682558942,0.06901728994326506,0.0042048920721662105,-0.002474353574915442,0.04610459759768675,0.0085945059625506,0.030782623751734642,0.0022573006998290747,-0.016299801093019185,-0.0044735785340234025,0.021168527983197474,-0.0018207469445127144,0.005671365912101772,0.001154208305592368,-0.0011960063936610893,-0.00011120385630559379,0.0009108295017515643,-0.0017878545885293084,0.0009946385801930036,0.0006751295016578906,0.0010608594409770634,0.00018449154616455044,-0.0006120933976261155,0.00030406758932433335,-0.0007858590549898202,-0.0006590162500354598,0.0014178496831878235,0.0010641208942453434,-0.0011015992238865807,-0.001240728524270899,0.0004094125500090158],[-0.00017701120228207589,0.007810308443393542,-0.023405980337517524,-0.004615510735839973,0.001697689177732781,-0.0012169376250814334,-0.001831240440546116,-0.017498505238443797,0.03661915640731901,0.012254073500153414,-0.03085777558224147,0.09799846252846069,0.25007638185970965,1.0,0.15172760153857986,0.8901272526545638,-0.11699521962411863,-0.09944135106476579,0.02518058116953121,0.10928667412377306,0.016351323808765986,-0.01722907241506039,0.12076679710050318,0.027940354431978034,0.07047807765090647,0.004409331864014702,-0.03441622646998587,-0.013323354070164575,0.044120564246909987,-0.00508592585113693,0.011473568431545473,0.004440512322791722,-0.0010630051163157137,0.00018512789954192084,0.0005169369254961482,0.0017231519792362958,0.0037837821118346824,-0.0020161776675533686,0.0019267518147431442,0.00012896012169149823,0.0008132382695526005,0.0005585972004819212,-0.0005013388256770008,-0.0016324069179149605,0.0017539182011456023,0.0013843957989970695,-0.0013589599814288781,-0.001779382287807932,0.0031663201946022547],[-0.0017178219451470902,0.00246029083193403,-0.008775500240628932,-0.0011867308079089051,0.003928626513903295,-0.0008934939930098885,0.0013128732605405674,-0.008390064166738214,0.012124758822770546,0.00789832266424952,-0.01061212790836212,0.08141549712952234,0.1794321903326253,0.15172760153857986,1.0,0.4263998836255218,-0.040485851127797366,-0.04068044208739153,0.0041361256641475955,0.050823104091766845,0.005814603173879321,-0.008441249275001582,0.0377182760422602,0.014655985827389813,0.02347110679423096,0.0016058356563030697,-0.015614273025673404,-0.005009607474508767,0.014756941996862139,0.00025957963229845135,0.004531083396472349,0.0012340690299426076,0.00034928436518941267,-0.0004156835108901136,-0.0021626888021852183,0.0004136479843598627,0.002790331203399629,-0.002330326502165297,0.0009485297239872661,-0.00018583926200945724,-0.0014181281398898933,-0.002125385276738932,0.0008745250585350082,0.0004916403631589377,0.0015699943019599183,-0.0029176616014177973,-0.00011712544370351973,0.002079286759967088,-0.0009808134646700517],[-0.0011293527970858794,0.007442830964742972,-0.024971197063820172,-0.0036493908922690084,0.0019895460604955257,-0.0006905936003553212,-0.0010128313488101447,-0.018333861999931117,0.03557264161494319,0.015413123032177485,-0.03164026527129085,0.26621523092448607,0.5649029739333457,0.8901272526545638,0.4263998836255218,1.0,-0.12154712140311677,-0.106239689861127,0.02203333701058792,0.12147762405541038,0.016363129867995888,-0.01828775355074768,0.11926866345761901,0.029994631058182668,0.07131983388437584,0.005136795765281479,-0.03780543277647762,-0.013304549300039097,0.04508043877617706,-0.004272510572028673,0.012513326139616473,0.004418449708877969,-0.0011022975070719497,0.00020541688400003567,-0.0002416453387590575,0.0010228747040333251,0.004077353989613895,-0.0014427896242199597,0.001975748285363052,-0.0002432697006175229,0.0002840910135919725,0.00030681115008979426,-0.0003871413338074719,-0.001820720685571289,0.002318386702039322,0.0007408167748215124,-0.0013771848219666489,-0.0010118034751282255,0.0017825538619420395],[-0.001934992325309598,-0.021506221687934316,0.12213672531018317,-0.0038542040298691796,0.17044861491667543,0.07707144391312327,0.012326335746025272,0.016406205154351216,-0.12072867940687827,0.05277557417447597,0.0648696072412233,-0.022122320890722195,-0.061251275473340375,-0.11699521962411863,-0.040485851127797366,-0.12154712140311677,1.0,0.3124495031022657,-0.02188413031183136,-0.4516894099742072,0.02569045128606022,0.00899010637483375,0.06539839780086634,-0.047147427101064614,0.05151699052704684,0.0008576242267399711,0.05970332843157361,0.016783815050164748,0.03787983280939092,0.016128999534946106,-0.014094740994885382,0.02299969506196376,0.001583612723436242,0.0008742837980309493,3.349415158363572e-05,0.0017213970445803973,-0.0013086573803491668,-0.0009849673818418103,-0.0012787059555369506,-0.0019515651504138044,-0.0012626527588530665,-0.000921686741159908,0.0013483433788114031,0.0007020649300867855,-0.001915365956106812,0.0011762611405260832,-0.0013255253293403624,0.0017437917830255083,-0.0020395145220801205],[-0.0005004384418482244,-0.027778075788542734,0.03689566374827914,0.012682148590420253,-0.018251258015265386,0.01749705676812147,0.0043148996980541775,0.02835208353213777,-0.07232059014992281,0.005854905555369783,0.04010922430466359,-0.02402137565373142,-0.0540074226643599,-0.09944135106476579,-0.04068044208739153,-0.106239689861127,0.3124495031022657,1.0,-0.5180763597376604,-0.5942654327422761,0.00044932875105786117,0.030264159750243883,-0.04949269493946449,-0.04443245801607432,-0.058248842391420516,-0.016400415460856074,0.04383000428941703,0.03026590825430404,0.015873261962410123,0.006596901955516886,-0.009989048367143528,0.021089277139603096,-0.00015427566393725136,0.0013615649246193945,-0.0003549050683784064,0.0010701810792920843,-0.0019205651214934604,-0.0004273838950783198,-0.0009309516956551648,-0.0005474330902515618,0.00047885679021953564,-0.0012057081347718506,-0.00016701443375198525,0.000928933859436279,-0.0004946092252123201,-0.000432323026064183,9.26933091093104e-05,0.0003020462737220039,0.001519207560397156],[0.0013438936799832733,0.037052606335855005,0.1012570941332376,-0.018727145555724953,0.027691181225138046,0.007830396023881593,0.007162777067762242,-0.03712107367499544,0.02077615194714269,0.03603562289265076,-0.011023469836738858,0.005366401619387072,0.0035177531682558942,0.02518058116953121,0.0041361256641475955,0.02203333701058792,-0.02188413031183136,-0.5180763597376604,1.0,-0.15802098729292113,0.058875653615432226,-0.05625958463625057,0.13732818747640027,0.044550019804100456,0.06773302596234079,0.0340671326887404,-0.04366212443161366,-0.00820021619366301,0.07609946186510466,-0.008669005786247434,0.007732623493302297,0.008827122880141482,0.0006707357574948884,-0.002826707031906842,-0.00033818799337827937,-0.0007815553133850878,-0.0006022847454017239,0.000591321147031268,-0.0006993075561928123,-0.0010905132359761071,-0.0008502466566824664,0.00042878043890859477,0.0007460892730811583,-0.0015898973720920525,-0.00021109233161472496,-0.0002421374844425615,4.6684570862882744e-05,-0.0007755225209412626,-0.001922700612824353],[0.0008157280242293081,0.004555455715152848,-0.11222626697683716,-0.0003739401590444408,0.0013157749639168585,-0.025797485873876425,-0.008252314414916537,-0.011750963576176823,0.07656187216203816,-0.033272544654311044,-0.039631180000228874,0.027264135678883677,0.06901728994326506,0.10928667412377306,0.050823104091766845,0.12147762405541038,-0.4516894099742072,-0.5942654327422761,-0.15802098729292113,1.0,-0.04596757669594359,0.006388259993779028,-0.041079456852142725,0.018748038227366905,-0.003212068860615737,-0.007200395427363072,-0.017357635513052336,-0.027826551074893967,-0.044733473917460624,-0.003241940278548797,0.004609844546416747,-0.02613502452139039,-0.0009732616497496337,-0.0001956279446045222,0.001124606656781667,-2.5850049554222618e-05,0.0018345907179115205,0.00011597648018878906,0.0013640036829747895,0.002110541450555667,0.0015743622718326646,0.0019922297476804548,-0.0012387502670017302,-0.0003786053015244637,-8.221784186824308e-05,6.434466221087021e-05,7.039774777351157e-05,-0.0007859433395340347,0.0007240485980728472],[-0.0010523840432399496,0.016255693742637686,-0.05612096023073561,0.00214850245374989,-0.028519891228702923,0.02937937195109524,-0.036212853041022904,-0.07554574375145577,0.06206386799788505,0.0009741110543532989,0.024264102635430683,0.007989028500674941,0.0042048920721662105,0.016351323808765986,0.005814603173879321,0.016363129867995888,0.02569045128606022,0.00044932875105786117,0.058875653615432226,-0.04596757669594359,1.0,-0.1527326305202657,0.13805458898633027,0.067732393302395,-0.14725757311134435,0.05332586747347315,0.0010712044261129016,-0.05954768418603375,0.27290021926541275,0.006355097797608369,0.010497666747185217,0.11092050571881658,0.0003954303917060711,-0.0012297197856098755,-0.0012509298116333439,-0.0006230035403697138,-0.001207073641473125,4.220234506755867e-05,0.0014431604443318454,-0.0004247629899175609,-0.0007933308500309729,0.0008740417878425334,6.95669943874719e-05,0.0009652394539101881,-0.0010678795853459174,0.0004024551616458192,0.0003641136670927075,0.0005198560815098639,-0.0005613985985714569],[-0.0004033449463715611,-0.03153359612457287,-0.1169866467920175,0.04523308396698348,-0.04490674148712065,0.003162109877964889,0.012878919847941928,0.13638274599348738,-0.1626010123600336,-0.02998861680480674,0.03995547974899175,-0.015804418556358685,-0.002474353574915442,-0.01722907241506039,-0.008441249275001582,-0.01828775355074768,0.00899010637483375,0.030264159750243883,-0.05625958463625057,0.006388259993779028,-0.1527326305202657,1.0,-0.11109462485657533,-0.27367236888619156,-0.09208322478163421,-0.25308889280600144,0.10363238078759578,0.03604366860466036,-0.012977575535680831,-0.019088186796559166,-0.0009649638104166794,-0.09014365639883624,0.00028670069159318856,0.00043965375966645417,-0.0018349663534806147,-4.2806839795007884e-05,0.000685063371450163,-0.0005509059261274756,-0.0005988402310767637,-0.0008341968657931889,0.0020520906048643517,0.0012427813649456252,-9.926418773619016e-05,-1.4807280235949815e-05,-0.0029475272140969564,-0.001077583489975626,-0.0011509779965209698,-0.0014296408355096264,0.0009304624944871983],[0.0003544609372827726,0.032400970694275104,0.04375596050029653,-0.0025317202816092376,0.09565776668522333,0.022744376399026083,-0.011398778782571815,-0.07572310218075869,0.09648343943349459,0.038462429631775534,-0.04994363372858587,0.024833271794445742,0.04610459759768675,0.12076679710050318,0.0377182760422602,0.11926866345761901,0.06539839780086634,-0.04949269493946449,0.13732818747640027,-0.041079456852142725,0.13805458898633027,-0.11109462485657533,1.0,0.09719274174853969,0.48978942740784726,0.03305829220475693,-0.1483385551523895,-0.24866229809247814,0.2724071564135307,0.014220105244585708,0.015778200128538252,0.08254922005109025,-0.0004509803278143931,-0.0003693202386897241,0.00043014794862627587,0.003070667843488631,0.0021179978533095375,0.0003282253752557591,0.0012104089806038827,-0.0026947000599002163,-0.002595880715245505,0.0008592066483024779,0.0012823032623227356,-0.0004809622024844747,-0.000900009112242032,-0.0021900877080210674,-0.0013022430575787994,-0.00041450859584372094,0.0014224541267771362],[0.0023098896739933137,0.032899874940120546,0.0790415505477597,-0.07218977632989523,0.07298961054229085,-0.04536129801832949,-0.01087319521611484,-0.18701667626422974,0.19970161209131007,0.08495716267080043,-0.07038654070759681,0.016566215782234283,0.0085945059625506,0.027940354431978034,0.014655985827389813,0.029994631058182668,-0.047147427101064614,-0.04443245801607432,0.044550019804100456,0.018748038227366905,0.067732393302395,-0.27367236888619156,0.09719274174853969,1.0,0.14100313376171197,0.19401461615439022,-0.18337425915248687,-0.051065725258350535,-0.039405291747578,0.000720610959039244,0.0704461484683812,-0.0573260789818462,0.0009314839836572797,0.0015387904761009362,0.000871700118205042,0.0002434918758918964,0.001215931309403626,-0.0003188249939387811,0.0014737778917998585,0.001198066784985588,0.0017213100009014935,0.00042311633950088267,-0.0023388274799040387,0.0013882598831327169,0.000579727172497131,0.0006342039000327394,0.00012764466563053707,-0.0003200957840412163,-0.0005301916337567397],[-0.0008497364319568806,0.020754434132826776,0.21300928032912675,-0.008406520927741008,0.14359654865840238,0.06339932427116321,-0.006561608550007696,-0.16489012332440905,0.09210731694598842,0.06388874607199731,0.042876133486040684,0.015251836567305199,0.030782623751734642,0.07047807765090647,0.02347110679423096,0.07131983388437584,0.05151699052704684,-0.058248842391420516,0.06773302596234079,-0.003212068860615737,-0.14725757311134435,-0.09208322478163421,0.48978942740784726,0.14100313376171197,1.0,0.0610682766238693,-0.08375675814605713,-0.039809019414298305,-0.3277505348268821,0.02348969807689091,0.038105414387586516,-0.07678547179357709,-0.0016589918561348144,0.00045146382393345454,0.0004128396727017668,0.0004412278133604194,0.0016640401043848303,4.603530801216634e-05,-0.0016082481209460618,-0.0017017001612186584,-0.00035882930966854473,0.0013216260013875014,0.001863807293097441,-0.0014997038236239928,0.0013959473143630471,-0.0028145541534887798,-0.0008849150440565294,-0.0024179401571196727,0.0001499412738778608],[-0.0010096893760928646,0.011536659955726385,0.07019202187337271,-0.01730091230637514,0.008021293226146316,0.025323615320999925,-0.0072299632053995895,-0.059887308797517635,0.021012550690521433,0.0633731246240447,-0.008708840542970362,0.004487183793875703,0.0022573006998290747,0.004409331864014702,0.0016058356563030697,0.005136795765281479,0.0008576242267399711,-0.016400415460856074,0.0340671326887404,-0.007200395427363072,0.05332586747347315,-0.25308889280600144,0.03305829220475693,0.19401461615439022,0.0610682766238693,1.0,-0.02611622835411814,-0.014611818480659572,0.00332556907391343,-0.0032214358762773622,0.02538467026236855,-0.030801632989563767,0.0008598200601896396,0.00157461285245382,0.0011103477393886192,-4.896531776827232e-05,0.0004921695588309738,0.0025789004953305486,-0.0008241917715071704,0.0011949560411559218,0.0004671486827777795,-0.0020202515720043877,0.0008061524226690235,0.000689803382340044,0.0012045255571496128,0.0001356500415863611,3.4775541413476665e-05,-0.0023403993866281878,-0.0005226832895863497],[-0.0029555818094072015,-0.03639522258780317,-0.0006393452905868237,-0.011780550385044154,0.056336933251669705,0.06465523285480476,0.05377652521320651,0.03899368073100131,-0.06470797501921204,-0.010976242373907905,0.0342025767359246,-0.017804258593691946,-0.016299801093019185,-0.03441622646998587,-0.015614273025673404,-0.03780543277647762,0.05970332843157361,0.04383000428941703,-0.04366212443161366,-0.017357635513052336,0.0010712044261129016,0.10363238078759578,-0.1483385551523895,-0.18337425915248687,-0.08375675814605713,-0.02611622835411814,1.0,0.06452922604343284,-0.03960711477269268,0.0044291015579415146,-0.07832725913625221,0.05573757109188191,0.00014317246993780027,-0.001766245537550099,0.0013053744161650508,-9.291203883231048e-05,0.0005499792456161905,-0.0014661881547167342,-0.00126972104570452,0.0005028118507514468,0.0001369791532856534,0.0014953290730697968,0.00029514287044668617,-0.0004381102787180161,-0.0012544219062167932,0.0005855222178469649,0.00034706241877984433,0.001779644692049721,-0.0023689086360795504],[0.0007475961383355612,-0.020341933485980065,0.13811162890080816,0.0015257604786327662,0.003607155114376228,-0.00814754846801753,-0.002083953743338254,0.03831307031695165,-0.12382519653908655,0.0427922674881171,0.05031732944387525,-0.00365962070244524,-0.0044735785340234025,-0.013323354070164575,-0.005009607474508767,-0.013304549300039097,0.016783815050164748,0.03026590825430404,-0.00820021619366301,-0.027826551074893967,-0.05954768418603375,0.03604366860466036,-0.24866229809247814,-0.051065725258350535,-0.039809019414298305,-0.014611818480659572,0.06452922604343284,1.0,-0.01629853642416545,-0.03125167998581104,0.034364928649546336,-0.03852390264179931,-0.0013407294190590567,-0.0005443907527122171,-0.0014563424458635254,-0.0014425071088963843,2.6762473594795134e-05,-0.0005307547879908729,-0.002119260300436465,0.0015842335640350936,0.0006383022193048909,0.0003935211621869506,-0.0011690267707114414,-0.0010101875324818037,0.0020955546330995254,0.0013782617362007408,-0.0010009801233348515,0.00037910847774122794,0.0002479460755647001],[0.0004940853380072005,0.005322494909291872,-0.1025823298042105,0.009434534021788725,-0.013205469282503664,-0.04198301253597798,-0.008333774284921073,0.09918393763824071,-0.0592293173221672,-0.01092006270648234,-0.04769976109596489,0.00826644095651261,0.021168527983197474,0.044120564246909987,0.014756941996862139,0.04508043877617706,0.03787983280939092,0.015873261962410123,0.07609946186510466,-0.044733473917460624,0.27290021926541275,-0.012977575535680831,0.2724071564135307,-0.039405291747578,-0.3277505348268821,0.00332556907391343,-0.03960711477269268,-0.01629853642416545,1.0,-0.023541068642756197,-0.011188268526019807,0.11896944421500298,0.0010399053973847712,0.0007423801429440459,-0.0017702971365074723,0.0020812179822101546,-0.0016920322564635982,-0.0012319557421361167,0.0012705153842238798,-0.0011916824704647467,-0.0004672662506228167,-0.0004903231499660531,-0.0010919839975845078,0.0009521778464269998,-0.0010595306612710786,-0.0005462931019553125,0.0016412416111071387,0.0012730291759389459,0.000545645086234742],[-0.0009282837448050599,0.0010382993212007298,0.010793696829651062,0.011401456422615553,-0.008560954021639582,0.02301043283394903,0.002168074446652444,-0.04105681120507276,0.03055616289712624,0.025327537974384917,-0.0068714152391403166,0.0007083813828402774,-0.0018207469445127144,-0.00508592585113693,0.00025957963229845135,-0.004272510572028673,0.016128999534946106,0.006596901955516886,-0.008669005786247434,-0.003241940278548797,0.006355097797608369,-0.019088186796559166,0.014220105244585708,0.000720610959039244,0.02348969807689091,-0.0032214358762773622,0.0044291015579415146,-0.03125167998581104,-0.023541068642756197,1.0,0.0034926119778279107,0.013412995647663671,-0.0022041886801724966,-0.00016428189498505667,-0.0016314199086927635,3.345833882899232e-06,0.002907789216375729,-0.0014115273416177374,-0.0015616995757234328,0.001816659689651751,0.0024027112854159804,0.0029880880242695684,-0.0003593050636786701,-0.0008346704499100793,0.001021239320656569,-0.0005117859571024149,0.0007416018344101211,-0.0005855613681816042,0.00023838942051957303],[0.0020474413080606444,0.006128798326757138,0.008187861301734246,0.014955195806606505,-0.025965901728807413,-0.0006146254081094967,-0.002249565476062125,-0.031296227706447,0.047940110791918684,0.04137147693429582,-0.05398346478905472,0.005909491658796863,0.005671365912101772,0.011473568431545473,0.004531083396472349,0.012513326139616473,-0.014094740994885382,-0.009989048367143528,0.007732623493302297,0.004609844546416747,0.010497666747185217,-0.0009649638104166794,0.015778200128538252,0.0704461484683812,0.038105414387586516,0.02538467026236855,-0.07832725913625221,0.034364928649546336,-0.011188268526019807,0.0034926119778279107,1.0,-0.04976970779843196,0.00021324227842177014,-0.00018470178610373135,-0.001030552732421399,0.0016531383200807618,-7.104884064442889e-05,0.0016651672130308952,0.001661053471775787,1.1254065435811081e-05,-0.00035862222351401715,-0.000578026659641811,0.0002478062054979929,-0.0011744468682769224,0.0020541819917924507,0.0029192141505096658,-0.0004828954298308084,-0.0003423887666784932,0.0015132572839368853],[0.0026413932462155797,-0.0012133568962176696,0.00825152755479824,0.019948833190253253,-0.059357784611531364,0.07348633332430111,0.00107554475707992,0.019617618116459623,0.06745692509835807,-0.08219336872997224,-0.022223839633944514,0.0025262371890389795,0.001154208305592368,0.004440512322791722,0.0012340690299426076,0.004418449708877969,0.02299969506196376,0.021089277139603096,0.008827122880141482,-0.02613502452139039,0.11092050571881658,-0.09014365639883624,0.08254922005109025,-0.0573260789818462,-0.07678547179357709,-0.030801632989563767,0.05573757109188191,-0.03852390264179931,0.11896944421500298,0.013412995647663671,-0.04976970779843196,1.0,0.0002249694527866357,0.002458872518486961,-0.0002511156074101972,-0.0003302318320871622,-0.002458276048013527,-0.0005101365289598746,-0.0005672563408689047,-0.001206330546667298,-0.0011809019951366634,0.0011334652327895202,0.0009449124419320974,-0.0007033351603276393,0.0005081330268082903,-9.260927347074229e-05,0.0009303397770717671,0.002231261537685798,0.0012800385583023688],[0.0036383179612103017,3.2720455100222405e-05,-0.0009430787753138474,-0.0021110487327914455,0.0007029223319983066,0.0008255181087075699,0.0012916973382756894,-0.0004089715175719974,0.0004704805518061534,-0.000886292161431818,0.0008295720883777965,3.1000198017766065e-05,-0.0011960063936610893,-0.0010630051163157137,0.00034928436518941267,-0.0011022975070719497,0.001583612723436242,-0.00015427566393725136,0.0006707357574948884,-0.0009732616497496337,0.0003954303917060711,0.00028670069159318856,-0.0004509803278143931,0.0009314839836572797,-0.0016589918561348144,0.0008598200601896396,0.00014317246993780027,-0.0013407294190590567,0.0010399053973847712,-0.0022041886801724966,0.00021324227842177014,0.0002249694527866357,1.0,0.0006326671086388928,-0.0018453210760898278,0.0014451241140302868,-0.001846554928669249,-3.835483364152018e-05,5.835325109212987e-08,0.00024456774542824333,0.0009784493310665636,-0.00021462815569388283,0.0011795606084717045,0.0001718927120025671,-0.0008738127601136779,0.0011856368490699145,0.0011092144691557332,0.0009016703557466313,0.00014614969739931504],[-0.0005915908500661377,0.0007708801365326378,-0.0011711899555747148,-0.0015478301217311035,-0.001244839816125983,0.0010277988730797306,-0.0006420444921112528,-0.0005006935696663839,-0.00020263779193792028,0.0006032890364046535,0.00028269745744931654,0.0013288695124036788,-0.00011120385630559379,0.00018512789954192084,-0.0004156835108901136,0.00020541688400003567,0.0008742837980309493,0.0013615649246193945,-0.002826707031906842,-0.0001956279446045222,-0.0012297197856098755,0.00043965375966645417,-0.0003693202386897241,0.0015387904761009362,0.00045146382393345454,0.00157461285245382,-0.001766245537550099,-0.0005443907527122171,0.0007423801429440459,-0.00016428189498505667,-0.00018470178610373135,0.002458872518486961,0.0006326671086388928,1.0,-0.0013940213742289157,-0.002211754327912519,-0.0017921422616910185,0.0011537560131772333,-0.00023581508931643148,0.00038680272386482404,-0.0002117009452892736,0.0002703331399211816,-0.0009686463055697029,7.896468850627976e-05,-0.0009427509379795304,-0.0009852664395451243,-0.0004058525742929777,0.00026514988456800864,0.0014943221390320992],[0.0009574769937878764,8.182225978075785e-05,0.0001468321352008793,8.548689230280353e-05,0.0023614979575574675,0.0026258399586142943,-0.00024941758434445855,-0.0014131826801772216,0.002257467971971457,0.0012489817846111845,-0.0019519948882590844,-0.002677298661139917,0.0009108295017515643,0.0005169369254961482,-0.0021626888021852183,-0.0002416453387590575,3.349415158363572e-05,-0.0003549050683784064,-0.00033818799337827937,0.001124606656781667,-0.0012509298116333439,-0.0018349663534806147,0.00043014794862627587,0.000871700118205042,0.0004128396727017668,0.0011103477393886192,0.0013053744161650508,-0.0014563424458635254,-0.0017702971365074723,-0.0016314199086927635,-0.001030552732421399,-0.0002511156074101972,-0.0018453210760898278,-0.0013940213742289157,1.0,-7.531912940689786e-05,-0.0006033795317028932,0.0017095886432573152,-0.0015344104636122683,-0.0005749585705772388,0.0006068798883348734,0.0009738384019128626,-0.0008696868262333401,0.0006305110709911789,0.00013999232688368619,0.0003201823342854648,0.0020048012309301956,0.0011850203585599686,0.0008642753852533274],[0.0007882447910808956,-0.00010347690485278524,-0.0006583998180255231,-0.00017173251468899272,0.0015325306198597161,-0.00015073832344163923,-0.0019023900274815755,-0.0015526558607739192,-0.0007715341800744943,0.0015137952726527234,0.001377811100217233,0.0012737060249414815,-0.0017878545885293084,0.0017231519792362958,0.0004136479843598627,0.0010228747040333251,0.0017213970445803973,0.0010701810792920843,-0.0007815553133850878,-2.5850049554222618e-05,-0.0006230035403697138,-4.2806839795007884e-05,0.003070667843488631,0.0002434918758918964,0.0004412278133604194,-4.896531776827232e-05,-9.291203883231048e-05,-0.0014425071088963843,0.0020812179822101546,3.345833882899232e-06,0.0016531383200807618,-0.0003302318320871622,0.0014451241140302868,-0.002211754327912519,-7.531912940689786e-05,1.0,-0.002084624044028694,0.0007561854950545017,-0.0005302751847781065,-0.00010937354438558475,-0.000388693249963843,-0.0005993891804417921,0.0019081420282568305,9.663145891527551e-05,-0.001410586889796412,-0.00032686988563327866,-0.0003107324412774847,-0.0011828498563552455,0.00039425142162196534],[0.0008356128476278207,-0.0010058548384191393,0.002992806788917109,-0.0027117639544354424,0.001266664959910297,-0.0027755450296133074,-0.0001449036161313121,-0.0011636516201258254,-0.001416721144687028,0.0008268945510473188,0.0022687777239878753,0.0014216349339402805,0.0009946385801930036,0.0037837821118346824,0.002790331203399629,0.004077353989613895,-0.0013086573803491668,-0.0019205651214934604,-0.0006022847454017239,0.0018345907179115205,-0.001207073641473125,0.000685063371450163,0.0021179978533095375,0.001215931309403626,0.0016640401043848303,0.0004921695588309738,0.0005499792456161905,2.6762473594795134e-05,-0.0016920322564635982,0.002907789216375729,-7.104884064442889e-05,-0.002458276048013527,-0.001846554928669249,-0.0017921422616910185,-0.0006033795317028932,-0.002084624044028694,1.0,1.3082467919241126e-05,-0.002665668626238483,0.0020156141257340952,0.00010930539163796438,-0.00030400026811709164,-0.00017056886242362965,-0.000265653880402289,0.002133458533910172,-0.0005416628791602605,0.00020163232378118568,0.0007846466422613709,-0.000767841727863593],[0.0005176341988577643,0.0007189675843641542,-8.533923304090555e-05,0.00035567580972401837,-0.0015441777405826916,0.00048656988775536863,-0.0008217959389452798,-0.001955110116004253,0.0031034025355962443,-0.0011713719830285256,8.41415927831592e-05,0.002842382982119299,0.0006751295016578906,-0.0020161776675533686,-0.002330326502165297,-0.0014427896242199597,-0.0009849673818418103,-0.0004273838950783198,0.000591321147031268,0.00011597648018878906,4.220234506755867e-05,-0.0005509059261274756,0.0003282253752557591,-0.0003188249939387811,4.603530801216634e-05,0.0025789004953305486,-0.0014661881547167342,-0.0005307547879908729,-0.0012319557421361167,-0.0014115273416177374,0.0016651672130308952,-0.0005101365289598746,-3.835483364152018e-05,0.0011537560131772333,0.0017095886432573152,0.0007561854950545017,1.3082467919241126e-05,1.0,-0.00018191557849844383,-0.0008978648417160443,-0.0014087261304251072,-0.000629603966515466,-6.618237838926016e-05,0.0009232509440580107,-0.0012912698712921724,-0.0008141216438973746,-0.0010941080196175384,0.00044405455709718906,6.652856730239221e-05],[0.0009805335540469448,0.0010608340444789083,-0.0013449818796920148,-2.5425203495046437e-05,0.000230287338373583,0.00012727421795224745,-0.0010698729509168899,-0.0011970978269563854,0.0027643720885982604,-0.0010929434068361558,-0.0005624466536854737,-0.00036716982018740517,0.0010608594409770634,0.0019267518147431442,0.0009485297239872661,0.001975748285363052,-0.0012787059555369506,-0.0009309516956551648,-0.0006993075561928123,0.0013640036829747895,0.0014431604443318454,-0.0005988402310767637,0.0012104089806038827,0.0014737778917998585,-0.0016082481209460618,-0.0008241917715071704,-0.00126972104570452,-0.002119260300436465,0.0012705153842238798,-0.0015616995757234328,0.001661053471775787,-0.0005672563408689047,5.835325109212987e-08,-0.00023581508931643148,-0.0015344104636122683,-0.0005302751847781065,-0.002665668626238483,-0.00018191557849844383,1.0,0.00039421911394115384,0.0020861464734087494,0.0012790179252293843,0.0012524127188469519,-0.0003206519285674346,0.00042152585442363353,0.0003662380118529723,-0.0016175662068407665,-0.001302425409365104,-0.00033573429390100083],[-0.0012488250195915361,0.00037143739489093637,-0.0012629092646128783,3.793867444663322e-05,-0.0027155418811399185,-0.0020008312385538024,-0.0015247002980472058,0.000822002616531646,-0.0004476413449922488,-0.0006318117597186088,7.181830788419638e-05,-0.0023492443946824377,0.00018449154616455044,0.00012896012169149823,-0.00018583926200945724,-0.0002432697006175229,-0.0019515651504138044,-0.0005474330902515618,-0.0010905132359761071,0.002110541450555667,-0.0004247629899175609,-0.0008341968657931889,-0.0026947000599002163,0.001198066784985588,-0.0017017001612186584,0.0011949560411559218,0.0005028118507514468,0.0015842335640350936,-0.0011916824704647467,0.001816659689651751,1.1254065435811081e-05,-0.001206330546667298,0.00024456774542824333,0.00038680272386482404,-0.0005749585705772388,-0.00010937354438558475,0.0020156141257340952,-0.0008978648417160443,0.00039421911394115384,1.0,0.0010363096506184925,0.003702293503296481,0.0004796006799337871,0.0008337638553276428,0.0008795353242781085,-0.0012352831533956282,-0.0009601810727423088,-0.00137650887645121,-0.00016434196923967553],[-0.0010934546530963374,-0.0011325853981362505,0.0015206567146658348,-0.0008836458794260957,-0.002352333366999052,-0.0008139493139821727,0.0009753755080751557,0.0013465275777943119,-0.0010438535583305107,-0.0012414424693482822,0.0006636678133101164,0.0013666102034255417,-0.0006120933976261155,0.0008132382695526005,-0.0014181281398898933,0.0002840910135919725,-0.0012626527588530665,0.00047885679021953564,-0.0008502466566824664,0.0015743622718326646,-0.0007933308500309729,0.0020520906048643517,-0.002595880715245505,0.0017213100009014935,-0.00035882930966854473,0.0004671486827777795,0.0001369791532856534,0.0006383022193048909,-0.0004672662506228167,0.0024027112854159804,-0.00035862222351401715,-0.0011809019951366634,0.0009784493310665636,-0.0002117009452892736,0.0006068798883348734,-0.000388693249963843,0.00010930539163796438,-0.0014087261304251072,0.0020861464734087494,0.0010363096506184925,1.0,-0.00030006427820138517,0.000980441223865989,0.0015570118184771945,-0.0009128274758467554,0.0035645904480776313,8.383414231002459e-05,0.0010213745943391099,-0.0005819389857347308],[-0.00015701023640565565,-0.0004464645318087174,0.00019895341092257275,-0.0008928474834448281,0.00013288787890949408,0.0002834052581409762,0.001549156967187013,-0.0013011186998591806,0.0005412369024749237,-0.0004320285599226011,0.0014390105937547816,0.001968875596117635,0.00030406758932433335,0.0005585972004819212,-0.002125385276738932,0.00030681115008979426,-0.000921686741159908,-0.0012057081347718506,0.00042878043890859477,0.0019922297476804548,0.0008740417878425334,0.0012427813649456252,0.0008592066483024779,0.00042311633950088267,0.0013216260013875014,-0.0020202515720043877,0.0014953290730697968,0.0003935211621869506,-0.0004903231499660531,0.0029880880242695684,-0.000578026659641811,0.0011334652327895202,-0.00021462815569388283,0.0002703331399211816,0.0009738384019128626,-0.0005993891804417921,-0.00030400026811709164,-0.000629603966515466,0.0012790179252293843,0.003702293503296481,-0.00030006427820138517,1.0,-0.0023253997103759288,0.0007633285228823364,0.0026328685607141223,-0.000782295667836372,0.0005639452300591455,0.001945194513245508,-0.0016489428988119895],[0.001609423824807779,0.0013622753431191557,-0.0008910685014910404,-0.0005185257387862071,0.00020474960687078366,0.0015645496382111165,0.002170835213002712,0.00030393290259254327,0.0016655249364763605,-0.001959159535716181,-0.0003887243838992524,0.00023239812553012024,-0.0007858590549898202,-0.0005013388256770008,0.0008745250585350082,-0.0003871413338074719,0.0013483433788114031,-0.00016701443375198525,0.0007460892730811583,-0.0012387502670017302,6.95669943874719e-05,-9.926418773619016e-05,0.0012823032623227356,-0.0023388274799040387,0.001863807293097441,0.0008061524226690235,0.00029514287044668617,-0.0011690267707114414,-0.0010919839975845078,-0.0003593050636786701,0.0002478062054979929,0.0009449124419320974,0.0011795606084717045,-0.0009686463055697029,-0.0008696868262333401,0.0019081420282568305,-0.00017056886242362965,-6.618237838926016e-05,0.0012524127188469519,0.0004796006799337871,0.000980441223865989,-0.0023253997103759288,1.0,0.001713387982008056,0.00019854594292474138,-0.001287343165201063,-0.001062548766009112,-7.567114607784398e-05,-0.00047695089701226727],[-0.0012272973917304445,-0.0004904242506719329,-0.000396790212426193,-0.0001091639435274442,0.0001344327694191131,0.0027346762054245234,0.0015480474512491566,0.002087860311907922,0.0005749746503449937,-0.0027823010069026946,-0.000621106833525824,-0.0032329018832703716,-0.0006590162500354598,-0.0016324069179149605,0.0004916403631589377,-0.001820720685571289,0.0007020649300867855,0.000928933859436279,-0.0015898973720920525,-0.0003786053015244637,0.0009652394539101881,-1.4807280235949815e-05,-0.0004809622024844747,0.0013882598831327169,-0.0014997038236239928,0.000689803382340044,-0.0004381102787180161,-0.0010101875324818037,0.0009521778464269998,-0.0008346704499100793,-0.0011744468682769224,-0.0007033351603276393,0.0001718927120025671,7.896468850627976e-05,0.0006305110709911789,9.663145891527551e-05,-0.000265653880402289,0.0009232509440580107,-0.0003206519285674346,0.0008337638553276428,0.0015570118184771945,0.0007633285228823364,0.001713387982008056,1.0,0.0003847799596326076,0.0010284195630865856,-0.0008488737176590117,0.0008350357428591773,0.0028691848832983202],[-0.0014120059005200628,0.0006238280115020942,-1.1545248111385099e-05,0.0009195635201452163,-0.0007442327813944093,0.002295346203964965,-0.0003682362393573745,-0.0003814511646830381,0.0012197619159721711,-0.002047724572754881,0.0010588568857560125,0.0010115230415514774,0.0014178496831878235,0.0017539182011456023,0.0015699943019599183,0.002318386702039322,-0.001915365956106812,-0.0004946092252123201,-0.00021109233161472496,-8.221784186824308e-05,-0.0010678795853459174,-0.0029475272140969564,-0.000900009112242032,0.000579727172497131,0.0013959473143630471,0.0012045255571496128,-0.0012544219062167932,0.0020955546330995254,-0.0010595306612710786,0.001021239320656569,0.0020541819917924507,0.0005081330268082903,-0.0008738127601136779,-0.0009427509379795304,0.00013999232688368619,-0.001410586889796412,0.002133458533910172,-0.0012912698712921724,0.00042152585442363353,0.0008795353242781085,-0.0009128274758467554,0.0026328685607141223,0.00019854594292474138,0.0003847799596326076,1.0,-0.0016701318625782552,0.0007356946834426283,7.729719133329158e-05,-8.498697276466257e-05],[-0.001266582915695949,-0.00017012817365768916,-0.0008675973201928163,0.0005472321892405295,0.000157731563274207,0.0007734421027413762,0.00015309117899007583,-1.2555595091234793e-06,-0.0005167363145836902,-0.0005794594623613974,0.0011348640561092116,0.00034511455870640405,0.0010641208942453434,0.0013843957989970695,-0.0029176616014177973,0.0007408167748215124,0.0011762611405260832,-0.000432323026064183,-0.0002421374844425615,6.434466221087021e-05,0.0004024551616458192,-0.001077583489975626,-0.0021900877080210674,0.0006342039000327394,-0.0028145541534887798,0.0001356500415863611,0.0005855222178469649,0.0013782617362007408,-0.0005462931019553125,-0.0005117859571024149,0.0029192141505096658,-9.260927347074229e-05,0.0011856368490699145,-0.0009852664395451243,0.0003201823342854648,-0.00032686988563327866,-0.0005416628791602605,-0.0008141216438973746,0.0003662380118529723,-0.0012352831533956282,0.0035645904480776313,-0.000782295667836372,-0.001287343165201063,0.0010284195630865856,-0.0016701318625782552,1.0,-0.0008263242941725543,0.000450219315820858,0.000966083374334477],[-0.001387012489514096,0.0005524351996118682,-0.0015035875469012964,0.0008240709263778052,-0.0002179273213074755,0.0009158792230724631,3.168678414855202e-05,-0.0007593038072496054,0.00018148010907771236,-6.765604151575159e-05,0.0008151460825754955,0.00023955239726456678,-0.0011015992238865807,-0.0013589599814288781,-0.00011712544370351973,-0.0013771848219666489,-0.0013255253293403624,9.26933091093104e-05,4.6684570862882744e-05,7.039774777351157e-05,0.0003641136670927075,-0.0011509779965209698,-0.0013022430575787994,0.00012764466563053707,-0.0008849150440565294,3.4775541413476665e-05,0.00034706241877984433,-0.0010009801233348515,0.0016412416111071387,0.0007416018344101211,-0.0004828954298308084,0.0009303397770717671,0.0011092144691557332,-0.0004058525742929777,0.0020048012309301956,-0.0003107324412774847,0.00020163232378118568,-0.0010941080196175384,-0.0016175662068407665,-0.0009601810727423088,8.383414231002459e-05,0.0005639452300591455,-0.001062548766009112,-0.0008488737176590117,0.0007356946834426283,-0.0008263242941725543,1.0,-0.000256999749001877,0.0005221041491486967],[0.00019422494950414269,-0.0017438319546571681,-0.00016221628124592368,0.0003668294896141741,-0.0008816797556198087,-0.0019656334704160304,0.0002764781762418728,0.0027907331412144387,-0.0013611791678382662,-0.0009190393767006633,-0.0011026523735666283,0.0015546541592544052,-0.001240728524270899,-0.001779382287807932,0.002079286759967088,-0.0010118034751282255,0.0017437917830255083,0.0003020462737220039,-0.0007755225209412626,-0.0007859433395340347,0.0005198560815098639,-0.0014296408355096264,-0.00041450859584372094,-0.0003200957840412163,-0.0024179401571196727,-0.0023403993866281878,0.001779644692049721,0.00037910847774122794,0.0012730291759389459,-0.0005855613681816042,-0.0003423887666784932,0.002231261537685798,0.0009016703557466313,0.00026514988456800864,0.0011850203585599686,-0.0011828498563552455,0.0007846466422613709,0.00044405455709718906,-0.001302425409365104,-0.00137650887645121,0.0010213745943391099,0.001945194513245508,-7.567114607784398e-05,0.0008350357428591773,7.729719133329158e-05,0.000450219315820858,-0.000256999749001877,1.0,3.0900791451786126e-05],[-0.0012665168671921183,-0.0010722284275397982,-0.0014640083176233343,-0.0020700765230598026,-0.003709408579276534,0.001243938381928246,0.00027869054705161115,0.00020310560100537925,-0.0009608000950925157,0.0009953591808107968,-0.00012315711435225912,-0.003389818864850354,0.0004094125500090158,0.0031663201946022547,-0.0009808134646700517,0.0017825538619420395,-0.0020395145220801205,0.001519207560397156,-0.001922700612824353,0.0007240485980728472,-0.0005613985985714569,0.0009304624944871983,0.0014224541267771362,-0.0005301916337567397,0.0001499412738778608,-0.0005226832895863497,-0.0023689086360795504,0.0002479460755647001,0.000545645086234742,0.00023838942051957303,0.0015132572839368853,0.0012800385583023688,0.00014614969739931504,0.0014943221390320992,0.0008642753852533274,0.00039425142162196534,-0.000767841727863593,6.652856730239221e-05,-0.00033573429390100083,-0.00016434196923967553,-0.0005819389857347308,-0.0016489428988119895,-0.00047695089701226727,0.0028691848832983202,-8.498697276466257e-05,0.000966083374334477,0.0005221041491486967,3.0900791451786126e-05,1.0]],\"type\":\"heatmap\"}],                        {\"height\":700,\"template\":{\"data\":{\"barpolar\":[{\"marker\":{\"line\":{\"color\":\"#E5ECF6\",\"width\":0.5},\"pattern\":{\"fillmode\":\"overlay\",\"size\":10,\"solidity\":0.2}},\"type\":\"barpolar\"}],\"bar\":[{\"error_x\":{\"color\":\"#2a3f5f\"},\"error_y\":{\"color\":\"#2a3f5f\"},\"marker\":{\"line\":{\"color\":\"#E5ECF6\",\"width\":0.5},\"pattern\":{\"fillmode\":\"overlay\",\"size\":10,\"solidity\":0.2}},\"type\":\"bar\"}],\"carpet\":[{\"aaxis\":{\"endlinecolor\":\"#2a3f5f\",\"gridcolor\":\"white\",\"linecolor\":\"white\",\"minorgridcolor\":\"white\",\"startlinecolor\":\"#2a3f5f\"},\"baxis\":{\"endlinecolor\":\"#2a3f5f\",\"gridcolor\":\"white\",\"linecolor\":\"white\",\"minorgridcolor\":\"white\",\"startlinecolor\":\"#2a3f5f\"},\"type\":\"carpet\"}],\"choropleth\":[{\"colorbar\":{\"outlinewidth\":0,\"ticks\":\"\"},\"type\":\"choropleth\"}],\"contourcarpet\":[{\"colorbar\":{\"outlinewidth\":0,\"ticks\":\"\"},\"type\":\"contourcarpet\"}],\"contour\":[{\"colorbar\":{\"outlinewidth\":0,\"ticks\":\"\"},\"colorscale\":[[0.0,\"#0d0887\"],[0.1111111111111111,\"#46039f\"],[0.2222222222222222,\"#7201a8\"],[0.3333333333333333,\"#9c179e\"],[0.4444444444444444,\"#bd3786\"],[0.5555555555555556,\"#d8576b\"],[0.6666666666666666,\"#ed7953\"],[0.7777777777777778,\"#fb9f3a\"],[0.8888888888888888,\"#fdca26\"],[1.0,\"#f0f921\"]],\"type\":\"contour\"}],\"heatmapgl\":[{\"colorbar\":{\"outlinewidth\":0,\"ticks\":\"\"},\"colorscale\":[[0.0,\"#0d0887\"],[0.1111111111111111,\"#46039f\"],[0.2222222222222222,\"#7201a8\"],[0.3333333333333333,\"#9c179e\"],[0.4444444444444444,\"#bd3786\"],[0.5555555555555556,\"#d8576b\"],[0.6666666666666666,\"#ed7953\"],[0.7777777777777778,\"#fb9f3a\"],[0.8888888888888888,\"#fdca26\"],[1.0,\"#f0f921\"]],\"type\":\"heatmapgl\"}],\"heatmap\":[{\"colorbar\":{\"outlinewidth\":0,\"ticks\":\"\"},\"colorscale\":[[0.0,\"#0d0887\"],[0.1111111111111111,\"#46039f\"],[0.2222222222222222,\"#7201a8\"],[0.3333333333333333,\"#9c179e\"],[0.4444444444444444,\"#bd3786\"],[0.5555555555555556,\"#d8576b\"],[0.6666666666666666,\"#ed7953\"],[0.7777777777777778,\"#fb9f3a\"],[0.8888888888888888,\"#fdca26\"],[1.0,\"#f0f921\"]],\"type\":\"heatmap\"}],\"histogram2dcontour\":[{\"colorbar\":{\"outlinewidth\":0,\"ticks\":\"\"},\"colorscale\":[[0.0,\"#0d0887\"],[0.1111111111111111,\"#46039f\"],[0.2222222222222222,\"#7201a8\"],[0.3333333333333333,\"#9c179e\"],[0.4444444444444444,\"#bd3786\"],[0.5555555555555556,\"#d8576b\"],[0.6666666666666666,\"#ed7953\"],[0.7777777777777778,\"#fb9f3a\"],[0.8888888888888888,\"#fdca26\"],[1.0,\"#f0f921\"]],\"type\":\"histogram2dcontour\"}],\"histogram2d\":[{\"colorbar\":{\"outlinewidth\":0,\"ticks\":\"\"},\"colorscale\":[[0.0,\"#0d0887\"],[0.1111111111111111,\"#46039f\"],[0.2222222222222222,\"#7201a8\"],[0.3333333333333333,\"#9c179e\"],[0.4444444444444444,\"#bd3786\"],[0.5555555555555556,\"#d8576b\"],[0.6666666666666666,\"#ed7953\"],[0.7777777777777778,\"#fb9f3a\"],[0.8888888888888888,\"#fdca26\"],[1.0,\"#f0f921\"]],\"type\":\"histogram2d\"}],\"histogram\":[{\"marker\":{\"pattern\":{\"fillmode\":\"overlay\",\"size\":10,\"solidity\":0.2}},\"type\":\"histogram\"}],\"mesh3d\":[{\"colorbar\":{\"outlinewidth\":0,\"ticks\":\"\"},\"type\":\"mesh3d\"}],\"parcoords\":[{\"line\":{\"colorbar\":{\"outlinewidth\":0,\"ticks\":\"\"}},\"type\":\"parcoords\"}],\"pie\":[{\"automargin\":true,\"type\":\"pie\"}],\"scatter3d\":[{\"line\":{\"colorbar\":{\"outlinewidth\":0,\"ticks\":\"\"}},\"marker\":{\"colorbar\":{\"outlinewidth\":0,\"ticks\":\"\"}},\"type\":\"scatter3d\"}],\"scattercarpet\":[{\"marker\":{\"colorbar\":{\"outlinewidth\":0,\"ticks\":\"\"}},\"type\":\"scattercarpet\"}],\"scattergeo\":[{\"marker\":{\"colorbar\":{\"outlinewidth\":0,\"ticks\":\"\"}},\"type\":\"scattergeo\"}],\"scattergl\":[{\"marker\":{\"colorbar\":{\"outlinewidth\":0,\"ticks\":\"\"}},\"type\":\"scattergl\"}],\"scattermapbox\":[{\"marker\":{\"colorbar\":{\"outlinewidth\":0,\"ticks\":\"\"}},\"type\":\"scattermapbox\"}],\"scatterpolargl\":[{\"marker\":{\"colorbar\":{\"outlinewidth\":0,\"ticks\":\"\"}},\"type\":\"scatterpolargl\"}],\"scatterpolar\":[{\"marker\":{\"colorbar\":{\"outlinewidth\":0,\"ticks\":\"\"}},\"type\":\"scatterpolar\"}],\"scatter\":[{\"marker\":{\"colorbar\":{\"outlinewidth\":0,\"ticks\":\"\"}},\"type\":\"scatter\"}],\"scatterternary\":[{\"marker\":{\"colorbar\":{\"outlinewidth\":0,\"ticks\":\"\"}},\"type\":\"scatterternary\"}],\"surface\":[{\"colorbar\":{\"outlinewidth\":0,\"ticks\":\"\"},\"colorscale\":[[0.0,\"#0d0887\"],[0.1111111111111111,\"#46039f\"],[0.2222222222222222,\"#7201a8\"],[0.3333333333333333,\"#9c179e\"],[0.4444444444444444,\"#bd3786\"],[0.5555555555555556,\"#d8576b\"],[0.6666666666666666,\"#ed7953\"],[0.7777777777777778,\"#fb9f3a\"],[0.8888888888888888,\"#fdca26\"],[1.0,\"#f0f921\"]],\"type\":\"surface\"}],\"table\":[{\"cells\":{\"fill\":{\"color\":\"#EBF0F8\"},\"line\":{\"color\":\"white\"}},\"header\":{\"fill\":{\"color\":\"#C8D4E3\"},\"line\":{\"color\":\"white\"}},\"type\":\"table\"}]},\"layout\":{\"annotationdefaults\":{\"arrowcolor\":\"#2a3f5f\",\"arrowhead\":0,\"arrowwidth\":1},\"autotypenumbers\":\"strict\",\"coloraxis\":{\"colorbar\":{\"outlinewidth\":0,\"ticks\":\"\"}},\"colorscale\":{\"diverging\":[[0,\"#8e0152\"],[0.1,\"#c51b7d\"],[0.2,\"#de77ae\"],[0.3,\"#f1b6da\"],[0.4,\"#fde0ef\"],[0.5,\"#f7f7f7\"],[0.6,\"#e6f5d0\"],[0.7,\"#b8e186\"],[0.8,\"#7fbc41\"],[0.9,\"#4d9221\"],[1,\"#276419\"]],\"sequential\":[[0.0,\"#0d0887\"],[0.1111111111111111,\"#46039f\"],[0.2222222222222222,\"#7201a8\"],[0.3333333333333333,\"#9c179e\"],[0.4444444444444444,\"#bd3786\"],[0.5555555555555556,\"#d8576b\"],[0.6666666666666666,\"#ed7953\"],[0.7777777777777778,\"#fb9f3a\"],[0.8888888888888888,\"#fdca26\"],[1.0,\"#f0f921\"]],\"sequentialminus\":[[0.0,\"#0d0887\"],[0.1111111111111111,\"#46039f\"],[0.2222222222222222,\"#7201a8\"],[0.3333333333333333,\"#9c179e\"],[0.4444444444444444,\"#bd3786\"],[0.5555555555555556,\"#d8576b\"],[0.6666666666666666,\"#ed7953\"],[0.7777777777777778,\"#fb9f3a\"],[0.8888888888888888,\"#fdca26\"],[1.0,\"#f0f921\"]]},\"colorway\":[\"#636efa\",\"#EF553B\",\"#00cc96\",\"#ab63fa\",\"#FFA15A\",\"#19d3f3\",\"#FF6692\",\"#B6E880\",\"#FF97FF\",\"#FECB52\"],\"font\":{\"color\":\"#2a3f5f\"},\"geo\":{\"bgcolor\":\"white\",\"lakecolor\":\"white\",\"landcolor\":\"#E5ECF6\",\"showlakes\":true,\"showland\":true,\"subunitcolor\":\"white\"},\"hoverlabel\":{\"align\":\"left\"},\"hovermode\":\"closest\",\"mapbox\":{\"style\":\"light\"},\"paper_bgcolor\":\"white\",\"plot_bgcolor\":\"#E5ECF6\",\"polar\":{\"angularaxis\":{\"gridcolor\":\"white\",\"linecolor\":\"white\",\"ticks\":\"\"},\"bgcolor\":\"#E5ECF6\",\"radialaxis\":{\"gridcolor\":\"white\",\"linecolor\":\"white\",\"ticks\":\"\"}},\"scene\":{\"xaxis\":{\"backgroundcolor\":\"#E5ECF6\",\"gridcolor\":\"white\",\"gridwidth\":2,\"linecolor\":\"white\",\"showbackground\":true,\"ticks\":\"\",\"zerolinecolor\":\"white\"},\"yaxis\":{\"backgroundcolor\":\"#E5ECF6\",\"gridcolor\":\"white\",\"gridwidth\":2,\"linecolor\":\"white\",\"showbackground\":true,\"ticks\":\"\",\"zerolinecolor\":\"white\"},\"zaxis\":{\"backgroundcolor\":\"#E5ECF6\",\"gridcolor\":\"white\",\"gridwidth\":2,\"linecolor\":\"white\",\"showbackground\":true,\"ticks\":\"\",\"zerolinecolor\":\"white\"}},\"shapedefaults\":{\"line\":{\"color\":\"#2a3f5f\"}},\"ternary\":{\"aaxis\":{\"gridcolor\":\"white\",\"linecolor\":\"white\",\"ticks\":\"\"},\"baxis\":{\"gridcolor\":\"white\",\"linecolor\":\"white\",\"ticks\":\"\"},\"bgcolor\":\"#E5ECF6\",\"caxis\":{\"gridcolor\":\"white\",\"linecolor\":\"white\",\"ticks\":\"\"}},\"title\":{\"x\":0.05},\"xaxis\":{\"automargin\":true,\"gridcolor\":\"white\",\"linecolor\":\"white\",\"ticks\":\"\",\"title\":{\"standoff\":15},\"zerolinecolor\":\"white\",\"zerolinewidth\":2},\"yaxis\":{\"automargin\":true,\"gridcolor\":\"white\",\"linecolor\":\"white\",\"ticks\":\"\",\"title\":{\"standoff\":15},\"zerolinecolor\":\"white\",\"zerolinewidth\":2}}},\"title\":{\"text\":\"Pearson Correlation of Integer-type features\"},\"width\":900,\"xaxis\":{\"nticks\":36,\"ticks\":\"\"},\"yaxis\":{\"ticks\":\"\"}},                        {\"responsive\": true}                    ).then(function(){\n",
              "                            \n",
              "var gd = document.getElementById('6819d2ea-49a5-4e61-8123-b950886058b4');\n",
              "var x = new MutationObserver(function (mutations, observer) {{\n",
              "        var display = window.getComputedStyle(gd).display;\n",
              "        if (!display || display === 'none') {{\n",
              "            console.log([gd, 'removed!']);\n",
              "            Plotly.purge(gd);\n",
              "            observer.disconnect();\n",
              "        }}\n",
              "}});\n",
              "\n",
              "// Listen for the removal of the full notebook cells\n",
              "var notebookContainer = gd.closest('#notebook-container');\n",
              "if (notebookContainer) {{\n",
              "    x.observe(notebookContainer, {childList: true});\n",
              "}}\n",
              "\n",
              "// Listen for the clearing of the current output cell\n",
              "var outputEl = gd.closest('.output');\n",
              "if (outputEl) {{\n",
              "    x.observe(outputEl, {childList: true});\n",
              "}}\n",
              "\n",
              "                        })                };                });            </script>        </div>"
            ]
          },
          "metadata": {}
        }
      ]
    },
    {
      "cell_type": "markdown",
      "source": [
        "![image.png](data:image/png;base64,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)"
      ],
      "metadata": {
        "id": "pMxW_WHEp6Rf"
      }
    },
    {
      "cell_type": "code",
      "source": [
        ""
      ],
      "metadata": {
        "id": "Xm8s8uGGOgBX"
      },
      "execution_count": null,
      "outputs": []
    }
  ]
}